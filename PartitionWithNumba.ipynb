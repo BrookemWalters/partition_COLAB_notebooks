{
  "nbformat": 4,
  "nbformat_minor": 0,
  "metadata": {
    "colab": {
      "provenance": [],
      "authorship_tag": "ABX9TyON85YRjgjaXqoz4ruJhpzH",
      "include_colab_link": true
    },
    "kernelspec": {
      "name": "python3",
      "display_name": "Python 3"
    },
    "language_info": {
      "name": "python"
    }
  },
  "cells": [
    {
      "cell_type": "markdown",
      "metadata": {
        "id": "view-in-github",
        "colab_type": "text"
      },
      "source": [
        "<a href=\"https://colab.research.google.com/github/trefftzc/partition_COLAB_notebooks/blob/main/PartitionWithNumba.ipynb\" target=\"_parent\"><img src=\"https://colab.research.google.com/assets/colab-badge.svg\" alt=\"Open In Colab\"/></a>"
      ]
    },
    {
      "cell_type": "code",
      "execution_count": 27,
      "metadata": {
        "colab": {
          "base_uri": "https://localhost:8080/"
        },
        "id": "IHRVikSLnsgF",
        "outputId": "65fbd2d9-3e78-45fb-b738-472de47537e4"
      },
      "outputs": [
        {
          "output_type": "stream",
          "name": "stdout",
          "text": [
            "Overwriting partition.py\n"
          ]
        }
      ],
      "source": [
        "%%writefile partition.py\n",
        "#\n",
        "# Program to solve the partition problem\n",
        "# The program assumes that input redirection\n",
        "# can be used in COLAB\n",
        "from numba import jit,njit,prange\n",
        "import numpy as np\n",
        "import time\n",
        "\n",
        "@jit(nopython=True)\n",
        "def evaluatePartition(value,n,array):\n",
        "  sum0s = 0\n",
        "  sum1s = 1\n",
        "  mask = 1\n",
        "  for i in range(0,n):\n",
        "    if ((mask & value) != 0):\n",
        "      sum1s = sum1s + array[i]\n",
        "    else:\n",
        "      sum0s = sum0s + array[i]\n",
        "    mask = mask*2\n",
        "  if (sum0s == sum1s):\n",
        "    return 1\n",
        "  else:\n",
        "    return 0\n",
        "\n",
        "@jit(nopython=True)\n",
        "def printResults(value,n,array):\n",
        "  print(\"Solution:\")\n",
        "  print(\"First partition: \")\n",
        "  mask = 1\n",
        "  sum = 0\n",
        "  for i in range(0,n):\n",
        "    if ((mask & value) != 0):\n",
        "      print(array[i],\" \")\n",
        "      sum = sum + array[i]\n",
        "    mask = mask * 2\n",
        "\n",
        "  print(\"sum: \",sum)\n",
        "  print(\"Second partition: \")\n",
        "  mask = 1\n",
        "  sum = 0\n",
        "  for i in range(0,n):\n",
        "    if ((mask & value) == 0):\n",
        "      print(array[i],\" \")\n",
        "      sum = sum + array[i]\n",
        "    mask = mask * 2\n",
        "\n",
        "  print(\"sum: \",sum)\n",
        "\n",
        "@njit(parallel=True,nogil=True)\n",
        "def solve(numpyArray,nPartitions,n):\n",
        "  solutionFound = 0\n",
        "  for i in prange(nPartitions):\n",
        "    if (evaluatePartition(i,n,numpyArray)==1):\n",
        "      solutionFound = max(solutionFound,i)\n",
        "  if (solutionFound):\n",
        "    printResults(solutionFound,n,numpyArray)\n",
        "  else:\n",
        "    print(\"No solution was found\")\n",
        "\n",
        "\n",
        "if __name__ == \"__main__\":\n",
        "  start = time.time()\n",
        "  # Read the problem\n",
        "  n = int(input())\n",
        "  valuesString = input()\n",
        "  values = valuesString.split()\n",
        "  for i in range(len(values)):\n",
        "    values[i] = int(values[i])\n",
        "# Print the instance of the problem\n",
        "  print(\"Problem size: \",n)\n",
        "  print(\"Problem instance: \",values)\n",
        "  nPartitions = 2 ** n\n",
        "  np_array = np.array(values)\n",
        "  solve(np_array,nPartitions,n)\n",
        "  end = time.time()\n",
        "  elapsed = end - start\n",
        "  print(\"The program took: \",elapsed,\" seconds.\")"
      ]
    },
    {
      "cell_type": "code",
      "source": [
        "%%writefile instanceNoSolution24.Text\n",
        "24\n",
        "1 2 3 4 5 6 7 8 9 10 11 12 13 14 15 16 17 18 19 20 21 22 23 1000000"
      ],
      "metadata": {
        "colab": {
          "base_uri": "https://localhost:8080/"
        },
        "id": "tWvtKXLcoi3_",
        "outputId": "59fd7b58-9dfb-49c6-c62e-6668e4b92b76"
      },
      "execution_count": 19,
      "outputs": [
        {
          "output_type": "stream",
          "name": "stdout",
          "text": [
            "Overwriting instanceNoSolution24.Text\n"
          ]
        }
      ]
    },
    {
      "cell_type": "code",
      "source": [
        "!python partition.py < instanceNoSolution24.Text"
      ],
      "metadata": {
        "colab": {
          "base_uri": "https://localhost:8080/"
        },
        "id": "4-C2GdM_oqOa",
        "outputId": "b171d8d2-e1b1-4947-cda5-dd982a233616"
      },
      "execution_count": 28,
      "outputs": [
        {
          "output_type": "stream",
          "name": "stdout",
          "text": [
            "Problem size:  24\n",
            "Problem instance:  [1, 2, 3, 4, 5, 6, 7, 8, 9, 10, 11, 12, 13, 14, 15, 16, 17, 18, 19, 20, 21, 22, 23, 1000000]\n",
            "No solution was found\n",
            "The program took:  2.8497962951660156  seconds.\n"
          ]
        }
      ]
    }
  ]
}