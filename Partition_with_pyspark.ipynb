{
  "nbformat": 4,
  "nbformat_minor": 0,
  "metadata": {
    "colab": {
      "provenance": [],
      "authorship_tag": "ABX9TyOnebeo62m+LLUDa2R9ER4P",
      "include_colab_link": true
    },
    "kernelspec": {
      "name": "python3",
      "display_name": "Python 3"
    },
    "language_info": {
      "name": "python"
    }
  },
  "cells": [
    {
      "cell_type": "markdown",
      "metadata": {
        "id": "view-in-github",
        "colab_type": "text"
      },
      "source": [
        "<a href=\"https://colab.research.google.com/github/trefftzc/partition_COLAB_notebooks/blob/main/Partition_with_pyspark.ipynb\" target=\"_parent\"><img src=\"https://colab.research.google.com/assets/colab-badge.svg\" alt=\"Open In Colab\"/></a>"
      ]
    },
    {
      "cell_type": "markdown",
      "source": [
        "# Solving a small instance of the partition problem with PySpark\n",
        "\n",
        "The multiset will be hardcoded.\n",
        "The size of the problem is 10.\n",
        "2^10 is 1024"
      ],
      "metadata": {
        "id": "ykP-2C4STM0S"
      }
    },
    {
      "cell_type": "markdown",
      "source": [
        "Create a SparkContext to be able to execute."
      ],
      "metadata": {
        "id": "YDZBbM8lSmQ0"
      }
    },
    {
      "cell_type": "code",
      "source": [
        "!apt-get update -qq > /dev/null\n",
        "!apt-get install openjdk-8-jdk-headless -qq > /dev/null\n",
        "!wget -q https://dlcdn.apache.org/spark/spark-3.5.0/spark-3.5.0-bin-hadoop3.tgz\n",
        "!tar xf spark-3.5.0-bin-hadoop3.tgz\n",
        "!pip install -q findspark\n",
        "\n",
        "import os\n",
        "os.environ[\"JAVA_HOME\"] = \"/usr/lib/jvm/java-8-openjdk-amd64\"\n",
        "os.environ[\"SPARK_HOME\"] = \"/content/spark-3.5.0-bin-hadoop3\"\n",
        "\n",
        "import findspark\n",
        "findspark.init()\n",
        "\n",
        "from pyspark import SparkContext, SparkConf\n",
        "\n",
        "spark_conf = SparkConf()\\\n",
        "  .setAppName(\"YourTest\")\\\n",
        "  .setMaster(\"local[2]\")\n",
        "\n",
        "sc = SparkContext.getOrCreate(spark_conf)"
      ],
      "metadata": {
        "id": "gH3t4ZpnSnZh"
      },
      "execution_count": 1,
      "outputs": []
    },
    {
      "cell_type": "markdown",
      "source": [],
      "metadata": {
        "id": "HfgQ-FJdTJi0"
      }
    },
    {
      "cell_type": "code",
      "source": [
        "sc"
      ],
      "metadata": {
        "colab": {
          "base_uri": "https://localhost:8080/",
          "height": 196
        },
        "id": "pQ8SvSkwSuWi",
        "outputId": "a3ee398b-82d7-4efc-f85c-fa2ee67edda5"
      },
      "execution_count": 2,
      "outputs": [
        {
          "output_type": "execute_result",
          "data": {
            "text/plain": [
              "<SparkContext master=local[2] appName=YourTest>"
            ],
            "text/html": [
              "\n",
              "        <div>\n",
              "            <p><b>SparkContext</b></p>\n",
              "\n",
              "            <p><a href=\"http://554bffa30cb7:4040\">Spark UI</a></p>\n",
              "\n",
              "            <dl>\n",
              "              <dt>Version</dt>\n",
              "                <dd><code>v3.5.0</code></dd>\n",
              "              <dt>Master</dt>\n",
              "                <dd><code>local[2]</code></dd>\n",
              "              <dt>AppName</dt>\n",
              "                <dd><code>YourTest</code></dd>\n",
              "            </dl>\n",
              "        </div>\n",
              "        "
            ]
          },
          "metadata": {},
          "execution_count": 2
        }
      ]
    },
    {
      "cell_type": "markdown",
      "source": [
        "Start by creating a list that contains the numbers between 1 and 1024"
      ],
      "metadata": {
        "id": "GQc5rpkuSxyc"
      }
    },
    {
      "cell_type": "code",
      "source": [
        "nums = list(range(1, 1024))\n",
        "len(nums)"
      ],
      "metadata": {
        "colab": {
          "base_uri": "https://localhost:8080/"
        },
        "id": "EIcA76hESzan",
        "outputId": "063c3c6c-b321-4a33-c7a2-8989822c1878"
      },
      "execution_count": 3,
      "outputs": [
        {
          "output_type": "execute_result",
          "data": {
            "text/plain": [
              "1023"
            ]
          },
          "metadata": {},
          "execution_count": 3
        }
      ]
    },
    {
      "cell_type": "markdown",
      "source": [
        "Now create an RDD (Resilient Distributed Dataset)"
      ],
      "metadata": {
        "id": "hRGoU6H2UGwq"
      }
    },
    {
      "cell_type": "code",
      "source": [
        "nums_rdd = sc.parallelize(nums)"
      ],
      "metadata": {
        "id": "gUYqyfPcUKHi"
      },
      "execution_count": 4,
      "outputs": []
    },
    {
      "cell_type": "code",
      "source": [
        "nums_rdd.take(5)"
      ],
      "metadata": {
        "colab": {
          "base_uri": "https://localhost:8080/"
        },
        "id": "aRSMTHEuUNDi",
        "outputId": "ab8d7ae8-8482-45c1-9ca0-cd4ead1821db"
      },
      "execution_count": 5,
      "outputs": [
        {
          "output_type": "execute_result",
          "data": {
            "text/plain": [
              "[1, 2, 3, 4, 5]"
            ]
          },
          "metadata": {},
          "execution_count": 5
        }
      ]
    },
    {
      "cell_type": "markdown",
      "source": [
        "Define the function that determines if a number encodes a partition that is a solution to the problem or not.\n",
        "The array for the instance of the problem is hardcoded here."
      ],
      "metadata": {
        "id": "mtNux3ugS2w_"
      }
    },
    {
      "cell_type": "code",
      "source": [
        "def evaluatePartition(  value ) :\n",
        "   array = [1,1,1,1,1,1,1,1,1,9]\n",
        "   n = 10\n",
        "   sum0s = 0\n",
        "   sum1s = 0\n",
        "   mask = 1\n",
        "   for i in range(0,n):\n",
        "     if ((mask & value) != 0):\n",
        "       sum1s = sum1s + array[i]\n",
        "     else:\n",
        "       sum0s = sum0s + array[i]\n",
        "     mask = mask * 2\n",
        "\n",
        "   if (sum0s == sum1s):\n",
        "     return 1\n",
        "   else:\n",
        "     return 0"
      ],
      "metadata": {
        "id": "96TcgL-FS8d-"
      },
      "execution_count": 6,
      "outputs": []
    },
    {
      "cell_type": "code",
      "source": [
        "print(evaluatePartition(1))"
      ],
      "metadata": {
        "colab": {
          "base_uri": "https://localhost:8080/"
        },
        "id": "6reaBQu-T3dC",
        "outputId": "2ae2fb73-c908-419c-cd08-7fe40f295043"
      },
      "execution_count": 7,
      "outputs": [
        {
          "output_type": "stream",
          "name": "stdout",
          "text": [
            "0\n"
          ]
        }
      ]
    },
    {
      "cell_type": "markdown",
      "source": [
        "Now apply the function evaluatePartition to the nums_rdd and store the results in a different rdd:"
      ],
      "metadata": {
        "id": "IaGrDG40UAN8"
      }
    },
    {
      "cell_type": "code",
      "source": [
        "result_rdd = nums_rdd.map(evaluatePartition)"
      ],
      "metadata": {
        "id": "KF8NKDhGUScJ"
      },
      "execution_count": 8,
      "outputs": []
    },
    {
      "cell_type": "markdown",
      "source": [
        "Finally, find if any entry turned to be 1, a solution"
      ],
      "metadata": {
        "id": "21AoW-VpUZFF"
      }
    },
    {
      "cell_type": "code",
      "source": [
        "from operator import add\n",
        "total = result_rdd.reduce(add)\n",
        "if total == 0:\n",
        "  print(\"This instance of the partition problem does not have a solution\")\n",
        "else:\n",
        "  print(\"This instance of the partition problem does have a solution.\")\n",
        "print(total)"
      ],
      "metadata": {
        "colab": {
          "base_uri": "https://localhost:8080/"
        },
        "id": "uO2eMZhoUg9a",
        "outputId": "f006ebc9-656e-4117-8ba9-154dba9e9c86"
      },
      "execution_count": 9,
      "outputs": [
        {
          "output_type": "stream",
          "name": "stdout",
          "text": [
            "This instance of the partition problem does have a solution.\n",
            "2\n"
          ]
        }
      ]
    }
  ]
}