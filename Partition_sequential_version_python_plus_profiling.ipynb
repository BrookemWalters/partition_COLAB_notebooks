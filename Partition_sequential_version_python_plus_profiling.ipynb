{
  "nbformat": 4,
  "nbformat_minor": 0,
  "metadata": {
    "colab": {
      "provenance": [],
      "authorship_tag": "ABX9TyOwM3tr+oNIhaPGF96IhpbN",
      "include_colab_link": true
    },
    "kernelspec": {
      "name": "python3",
      "display_name": "Python 3"
    },
    "language_info": {
      "name": "python"
    }
  },
  "cells": [
    {
      "cell_type": "markdown",
      "metadata": {
        "id": "view-in-github",
        "colab_type": "text"
      },
      "source": [
        "<a href=\"https://colab.research.google.com/github/trefftzc/partition_COLAB_notebooks/blob/main/Partition_sequential_version_python_plus_profiling.ipynb\" target=\"_parent\"><img src=\"https://colab.research.google.com/assets/colab-badge.svg\" alt=\"Open In Colab\"/></a>"
      ]
    },
    {
      "cell_type": "code",
      "execution_count": null,
      "metadata": {
        "id": "y0Pf6HUgpEZM"
      },
      "outputs": [],
      "source": []
    },
    {
      "cell_type": "markdown",
      "source": [
        "# The partition problem\n",
        "\n",
        "The partition problem is intuitive: Given a collection of n objects, can we place part of those objects in the left hand of a balance and the remaining objects in the right hand side of a balance so that they weigh the same? In other (more mathematical) words, if we have a multiset of integers s, can we partition that multiset into two separate multisets q and r so that the sum of the elements in q is the same as the sum of the elements in r. A more formal statement of the problem can be found on mathworld.wolfram [here](https://mathworld.wolfram.com/NumberPartitioningProblem.html).\n",
        "\n",
        "This simple problem belongs to a very unique kind of problems called NP-complete problems that are very hard to solve.\n",
        "Given an instance of the partition problem with n positive integer values, one way to find if there is a solution to that instance is to examine each and every one of the $2^n$ subsets and to check for every one of those subsets if that subset and its complement are a solution to this instance of the partition problem. One adds up the elements in the subset, adds up the elements in the complement and if the two sums are the same, this is a solution to this instance of the partition problem.\n",
        "\n",
        "The set of all the subsets of a set is called the power set.\n",
        "\n",
        "Consider the following example: {2,3,5}. In this case n, the number of elements in the instance of the partition problem, is 3. If one calculates all the possible subsets, there are $2^3$ = 8 possible distinct subsets. The following table shows the eight subsets, their complements and indicates which of those subsets are solutions for this instance of the partition problem.\n",
        "\n",
        "| Index | Binary Encoding | Elements | Elements in the Complement | Solution |\n",
        "|:-------|:-----------------|:----------|:------------------------|:--------------|\n",
        "| 0 |\t000\t| {}\t| {2,3,5}\t| No |\n",
        "|1 |\t001\t|{2}\t|{3,5}\t|No\n",
        "|2 |\t010\t|{3}\t|{2,5}\t|No\n",
        "|3 |\t011\t|{2,3}\t|{5}\t|Yes\n",
        "|4 |\t100\t|{5}\t|{2,3}\t|Yes\n",
        "|5 |\t101\t|{2,5}\t|{3}\t|No\n",
        "|6 |\t110\t|{3,5}\t|{2}\t|No\n",
        "|7 |\t111\t|{2,3,5}\t|{}\t|No\n",
        "\n",
        "Notice that the first half of the table is symmetrical to the second half of the table. Hence, one only needs to go through the first half of all the elements in the Power Set.\n",
        "\n"
      ],
      "metadata": {
        "id": "5Go73l1OUrdt"
      }
    },
    {
      "cell_type": "markdown",
      "source": [
        "# The Power Set\n",
        "The power set can be defined as:\n",
        "\"Given a set S, the power set of S, sometimes also called the powerset, is the set of all subsets of S. The order of a power set of a set of order n is 2^n. Power sets are larger than the sets associated with them. The power set of S is variously denoted 2^S or P(S).\"\n",
        "\n",
        "https://www.wolframalpha.com/input?i=POWER+SET\n",
        "\n",
        "The partition problem can be solved by\n",
        "calculating the power set of the multiset of integers\n",
        "and then checking each and every one of the\n",
        "possible subsets to see if it and its complement\n",
        "are a solution to the instance of the partition problem."
      ],
      "metadata": {
        "id": "h3rf8WSYpWrE"
      }
    },
    {
      "cell_type": "code",
      "source": [
        "#\n",
        "# I learned about these libraries from Ian Curtis, a student in one of the sections\n",
        "# of the HPC course during the fall of 2023\n",
        "#\n",
        "# Using itertools to calculate the PowerSet\n",
        "#\n",
        "\n",
        "from itertools import chain, combinations\n",
        "\n",
        "\n",
        "def powerset(iterable):\n",
        "    \"powerset([1,2,3]) --> () (1,) (2,) (3,) (1,2) (1,3) (2,3) (1,2,3)\"\n",
        "    s = list(iterable)\n",
        "    return chain.from_iterable(combinations(s, r) for r in range(len(s)+1))\n",
        "\n",
        "\n",
        "example_list = [0,1,2]\n",
        "powerset_of_example_list = powerset(example_list)\n",
        "print(\"This is the power set of the set of [0,1,2]\")\n",
        "for s in powerset_of_example_list:\n",
        "    print(s)"
      ],
      "metadata": {
        "colab": {
          "base_uri": "https://localhost:8080/"
        },
        "id": "gYlbUz1Up4qz",
        "outputId": "54bcfad8-924a-4564-e54a-0c9aed4aacb8"
      },
      "execution_count": null,
      "outputs": [
        {
          "output_type": "stream",
          "name": "stdout",
          "text": [
            "This is the power set of the set of [0,1,2]\n",
            "()\n",
            "(0,)\n",
            "(1,)\n",
            "(2,)\n",
            "(0, 1)\n",
            "(0, 2)\n",
            "(1, 2)\n",
            "(0, 1, 2)\n"
          ]
        }
      ]
    },
    {
      "cell_type": "code",
      "source": [],
      "metadata": {
        "id": "_Vw7uooxrdYR"
      },
      "execution_count": null,
      "outputs": []
    },
    {
      "cell_type": "markdown",
      "source": [
        "Let's create a couple of test files to be used later."
      ],
      "metadata": {
        "id": "2JAadcWpraGM"
      }
    },
    {
      "cell_type": "code",
      "source": [
        "%%writefile test20.Text\n",
        "20\n",
        "1 1 1 1 1 1 1 1 1 1 1 1 1 1 1 1 1 1 1 19"
      ],
      "metadata": {
        "colab": {
          "base_uri": "https://localhost:8080/"
        },
        "id": "K66C2BX0reIs",
        "outputId": "12f868e5-796b-444d-aefa-828a10b7afa3"
      },
      "execution_count": null,
      "outputs": [
        {
          "output_type": "stream",
          "name": "stdout",
          "text": [
            "Writing test20.Text\n"
          ]
        }
      ]
    },
    {
      "cell_type": "code",
      "source": [
        "%%writefile test21.Text\n",
        "21\n",
        "1 1 1 1 1 1 1 1 1 1 1 1 1 1 1 1 1 1 1 1 20"
      ],
      "metadata": {
        "colab": {
          "base_uri": "https://localhost:8080/"
        },
        "id": "2YpQKCkJrwz8",
        "outputId": "b9c938ce-3cbc-4f7a-f910-55476cecaecf"
      },
      "execution_count": null,
      "outputs": [
        {
          "output_type": "stream",
          "name": "stdout",
          "text": [
            "Writing test21.Text\n"
          ]
        }
      ]
    },
    {
      "cell_type": "code",
      "source": [
        "%%writefile test22.Text\n",
        "22\n",
        "1 1 1 1 1 1 1 1 1 1 1 1 1 1 1 1 1 1 1 1 1 21"
      ],
      "metadata": {
        "colab": {
          "base_uri": "https://localhost:8080/"
        },
        "id": "RCHDxitur2yw",
        "outputId": "7e62c139-2347-4981-a48a-f6940e679fa9"
      },
      "execution_count": null,
      "outputs": [
        {
          "output_type": "stream",
          "name": "stdout",
          "text": [
            "Writing test22.Text\n"
          ]
        }
      ]
    },
    {
      "cell_type": "code",
      "source": [
        "%%writefile test23.Text\n",
        "23\n",
        "1 1 1 1 1 1 1 1 1 1 1 1 1 1 1 1 1 1 1 1 1 1 22"
      ],
      "metadata": {
        "colab": {
          "base_uri": "https://localhost:8080/"
        },
        "id": "sX8jkZulr7go",
        "outputId": "0a7d7610-525f-4f54-e006-d6bd710b3ce3"
      },
      "execution_count": null,
      "outputs": [
        {
          "output_type": "stream",
          "name": "stdout",
          "text": [
            "Writing test23.Text\n"
          ]
        }
      ]
    },
    {
      "cell_type": "markdown",
      "source": [
        "Now the actual program.\n",
        "We write the program to a file called partition.py\n",
        "so that it can later be executed using input\n",
        "redirection with the test files."
      ],
      "metadata": {
        "id": "I_V5RipPsbbk"
      }
    },
    {
      "cell_type": "code",
      "source": [
        "%%writefile partition.py\n",
        "#\n",
        "# Program to solve the partition problem\n",
        "# The program assumes that input redirection\n",
        "# can be used in COLAB\n",
        "from itertools import chain, combinations\n",
        "import time\n",
        "\n",
        "def powerset(iterable):\n",
        "    \"powerset([1,2,3]) --> () (1,) (2,) (3,) (1,2) (1,3) (2,3) (1,2,3)\"\n",
        "    s = list(iterable)\n",
        "    return chain.from_iterable(combinations(s, r) for r in range(len(s)+1))\n",
        "\n",
        "#\n",
        "# The assumed format of the test file is:\n",
        "# - one line with a positive integer that contains the number of positive integers\n",
        "# in the instance\n",
        "# - A line with the list of values\n",
        "#\n",
        "\n",
        "start = time.time()\n",
        "# Read the problem\n",
        "n = int(input())\n",
        "valuesString = input()\n",
        "values = valuesString.split()\n",
        "for i in range(len(values)):\n",
        "  values[i] = int(values[i])\n",
        "# Print the instance of the problem\n",
        "print(\"Problem size: \",n)\n",
        "print(\"Problem instance: \",values)\n",
        "\n",
        "sum_of_numbers = sum(values)\n",
        "if sum_of_numbers % 2 == 1:\n",
        "  print(\"This instance does not have a solution\")\n",
        "else:\n",
        "  power_set = powerset(values)\n",
        "  solution_found = False\n",
        "  for set in power_set:\n",
        "    if sum(set) == (sum_of_numbers//2):\n",
        "      print(\"Solution found!\")\n",
        "      print(\"One partition contains: \",set)\n",
        "      solution_found = True\n",
        "      break\n",
        "  if solution_found == False:\n",
        "    print(\"This instance does not have a solution\")\n",
        "\n",
        "end = time.time()\n",
        "elapsed = end - start\n",
        "print(\"The program took: \",elapsed,\" seconds.\")\n",
        "\n",
        "\n",
        "\n"
      ],
      "metadata": {
        "colab": {
          "base_uri": "https://localhost:8080/"
        },
        "id": "01HXmjXlsqJT",
        "outputId": "49df743b-e2dc-4139-b1ba-19d46d74a995"
      },
      "execution_count": null,
      "outputs": [
        {
          "output_type": "stream",
          "name": "stdout",
          "text": [
            "Writing partition.py\n"
          ]
        }
      ]
    },
    {
      "cell_type": "markdown",
      "source": [
        "Now let's execute the program:"
      ],
      "metadata": {
        "id": "aoYMwgI_tkhe"
      }
    },
    {
      "cell_type": "code",
      "source": [
        "!python partition.py < test20.Text"
      ],
      "metadata": {
        "colab": {
          "base_uri": "https://localhost:8080/"
        },
        "id": "mn3odmFYtmj9",
        "outputId": "54f2fe96-b6ae-406d-947e-f051791e7610"
      },
      "execution_count": null,
      "outputs": [
        {
          "output_type": "stream",
          "name": "stdout",
          "text": [
            "Problem size:  20\n",
            "Problem instance:  [1, 1, 1, 1, 1, 1, 1, 1, 1, 1, 1, 1, 1, 1, 1, 1, 1, 1, 1, 19]\n",
            "Solution found!\n",
            "One partition contains:  (19,)\n",
            "The program took:  0.0002288818359375  seconds.\n"
          ]
        }
      ]
    },
    {
      "cell_type": "code",
      "source": [
        "!python partition.py < test21.Text"
      ],
      "metadata": {
        "colab": {
          "base_uri": "https://localhost:8080/"
        },
        "id": "quTiCB9gwLu1",
        "outputId": "d03baa20-f9f6-440f-bf54-11190448b2af"
      },
      "execution_count": null,
      "outputs": [
        {
          "output_type": "stream",
          "name": "stdout",
          "text": [
            "Problem size:  21\n",
            "Problem instance:  [1, 1, 1, 1, 1, 1, 1, 1, 1, 1, 1, 1, 1, 1, 1, 1, 1, 1, 1, 1, 20]\n",
            "Solution found!\n",
            "One partition contains:  (20,)\n",
            "The program took:  0.004491567611694336  seconds.\n"
          ]
        }
      ]
    },
    {
      "cell_type": "code",
      "source": [
        "!python partition.py < test22.Text"
      ],
      "metadata": {
        "colab": {
          "base_uri": "https://localhost:8080/"
        },
        "id": "-em0uWwXwP6F",
        "outputId": "ac63a2f7-4e05-4a1b-b213-2188eeac0792"
      },
      "execution_count": null,
      "outputs": [
        {
          "output_type": "stream",
          "name": "stdout",
          "text": [
            "Problem size:  22\n",
            "Problem instance:  [1, 1, 1, 1, 1, 1, 1, 1, 1, 1, 1, 1, 1, 1, 1, 1, 1, 1, 1, 1, 1, 21]\n",
            "Solution found!\n",
            "One partition contains:  (21,)\n",
            "The program took:  0.0002288818359375  seconds.\n"
          ]
        }
      ]
    },
    {
      "cell_type": "code",
      "source": [
        "!python partition.py < test23.Text"
      ],
      "metadata": {
        "colab": {
          "base_uri": "https://localhost:8080/"
        },
        "id": "fucaaXWfwTSk",
        "outputId": "d70a95a3-75e0-4443-a26f-99db702214c2"
      },
      "execution_count": null,
      "outputs": [
        {
          "output_type": "stream",
          "name": "stdout",
          "text": [
            "Problem size:  23\n",
            "Problem instance:  [1, 1, 1, 1, 1, 1, 1, 1, 1, 1, 1, 1, 1, 1, 1, 1, 1, 1, 1, 1, 1, 1, 22]\n",
            "Solution found!\n",
            "One partition contains:  (22,)\n",
            "The program took:  0.0001494884490966797  seconds.\n"
          ]
        }
      ]
    },
    {
      "cell_type": "code",
      "source": [
        "%%writefile test24.Text\n",
        "24\n",
        "1 2 3 4 5 6 7 8 9 10 11 12 13 14 15 16 17 18 19 20 21 22 23 24"
      ],
      "metadata": {
        "colab": {
          "base_uri": "https://localhost:8080/"
        },
        "id": "w1f0z0iaw4Xd",
        "outputId": "68fdd80e-88fb-4a76-832a-b3b967065291"
      },
      "execution_count": null,
      "outputs": [
        {
          "output_type": "stream",
          "name": "stdout",
          "text": [
            "Writing test24.Text\n"
          ]
        }
      ]
    },
    {
      "cell_type": "code",
      "source": [
        "!python partition.py < test24.Text"
      ],
      "metadata": {
        "colab": {
          "base_uri": "https://localhost:8080/"
        },
        "id": "AHuF532-xALU",
        "outputId": "f31b5845-584b-4ce8-c2a6-48436743ca8f"
      },
      "execution_count": null,
      "outputs": [
        {
          "output_type": "stream",
          "name": "stdout",
          "text": [
            "Problem size:  24\n",
            "Problem instance:  [1, 2, 3, 4, 5, 6, 7, 8, 9, 10, 11, 12, 13, 14, 15, 16, 17, 18, 19, 20, 21, 22, 23, 24]\n",
            "Solution found!\n",
            "One partition contains:  (3, 18, 19, 20, 21, 22, 23, 24)\n",
            "The program took:  0.7933058738708496  seconds.\n"
          ]
        }
      ]
    },
    {
      "cell_type": "code",
      "source": [
        "%%writefile instanceNoSolution24.Text\n",
        "24\n",
        "1 2 3 4 5 6 7 8 9 10 11 12 13 14 15 16 17 18 19 20 21 22 23 1000000"
      ],
      "metadata": {
        "colab": {
          "base_uri": "https://localhost:8080/"
        },
        "id": "a25G4T_Xx8-9",
        "outputId": "372888f2-6893-4a1f-fb2e-74dc8dd70ea3"
      },
      "execution_count": null,
      "outputs": [
        {
          "output_type": "stream",
          "name": "stdout",
          "text": [
            "Writing instanceNoSolution24.Text\n"
          ]
        }
      ]
    },
    {
      "cell_type": "code",
      "source": [
        "!python partition.py < instanceNoSolution24.Text"
      ],
      "metadata": {
        "colab": {
          "base_uri": "https://localhost:8080/"
        },
        "id": "zOvnanvfyGmM",
        "outputId": "be6041d5-89fe-4d30-c07d-d95bb8ebfb22"
      },
      "execution_count": null,
      "outputs": [
        {
          "output_type": "stream",
          "name": "stdout",
          "text": [
            "Problem size:  24\n",
            "Problem instance:  [1, 2, 3, 4, 5, 6, 7, 8, 9, 10, 11, 12, 13, 14, 15, 16, 17, 18, 19, 20, 21, 22, 23, 1000000]\n",
            "This instance does not have a solution\n",
            "The program took:  12.846152305603027  seconds.\n"
          ]
        }
      ]
    },
    {
      "cell_type": "markdown",
      "source": [
        "A larger test file..."
      ],
      "metadata": {
        "id": "iFb9wUfo0gFt"
      }
    },
    {
      "cell_type": "code",
      "source": [
        "%%writefile test30.Text\n",
        "30\n",
        "1 2 3 4 5 6 7 8 9 10 11 12 13 14 15 16 17 18 19 20 21 22 23 24 25 26 27 28 29 30"
      ],
      "metadata": {
        "colab": {
          "base_uri": "https://localhost:8080/"
        },
        "id": "oENdfJvO0iWm",
        "outputId": "f7063ee7-65d9-49db-8424-b8480f2a3a18"
      },
      "execution_count": null,
      "outputs": [
        {
          "output_type": "stream",
          "name": "stdout",
          "text": [
            "Writing test30.Text\n"
          ]
        }
      ]
    },
    {
      "cell_type": "code",
      "source": [
        "!python partition.py < test30.Text"
      ],
      "metadata": {
        "colab": {
          "base_uri": "https://localhost:8080/"
        },
        "id": "Xo8ZMaKD0qZN",
        "outputId": "c983eabb-2008-4de9-c6f4-85791da9d24e"
      },
      "execution_count": null,
      "outputs": [
        {
          "output_type": "stream",
          "name": "stdout",
          "text": [
            "Problem size:  30\n",
            "Problem instance:  [1, 2, 3, 4, 5, 6, 7, 8, 9, 10, 11, 12, 13, 14, 15, 16, 17, 18, 19, 20, 21, 22, 23, 24, 25, 26, 27, 28, 29, 30]\n",
            "This instance does not have a solution\n",
            "The program took:  0.00010776519775390625  seconds.\n"
          ]
        }
      ]
    },
    {
      "cell_type": "code",
      "source": [
        "%%writefile test31.Text\n",
        "31\n",
        "1 2 3 4 5 6 7 8 9 10 11 12 13 14 15 16 17 18 19 20 21 22 23 24 25 26 27 28 29 30 31"
      ],
      "metadata": {
        "colab": {
          "base_uri": "https://localhost:8080/"
        },
        "id": "zJNYNnvo00P8",
        "outputId": "92594505-a13d-4e99-bed2-e31100046bad"
      },
      "execution_count": null,
      "outputs": [
        {
          "output_type": "stream",
          "name": "stdout",
          "text": [
            "Writing test31.Text\n"
          ]
        }
      ]
    },
    {
      "cell_type": "code",
      "source": [
        "!python partition.py < test31.Text"
      ],
      "metadata": {
        "id": "BuJmXqre04mc",
        "outputId": "2777c618-c902-4b11-d3cc-0b967b69ad5c",
        "colab": {
          "base_uri": "https://localhost:8080/"
        }
      },
      "execution_count": null,
      "outputs": [
        {
          "output_type": "stream",
          "name": "stdout",
          "text": [
            "Problem size:  31\n",
            "Problem instance:  [1, 2, 3, 4, 5, 6, 7, 8, 9, 10, 11, 12, 13, 14, 15, 16, 17, 18, 19, 20, 21, 22, 23, 24, 25, 26, 27, 28, 29, 30, 31]\n",
            "Solution found!\n",
            "One partition contains:  (5, 23, 24, 25, 26, 27, 28, 29, 30, 31)\n",
            "The program took:  30.297966718673706  seconds.\n"
          ]
        }
      ]
    },
    {
      "cell_type": "markdown",
      "source": [
        "# Profiling\n",
        "It is useful to profile the program to understand where most of the time is being spent during its execution."
      ],
      "metadata": {
        "id": "CMp8BoeM8v8K"
      }
    },
    {
      "cell_type": "code",
      "source": [
        "!python -m cProfile partition.py < instanceNoSolution24.Text"
      ],
      "metadata": {
        "id": "Vof91uMD82vS",
        "outputId": "0f41848a-f56b-4c7b-9309-1b8089d80779",
        "colab": {
          "base_uri": "https://localhost:8080/"
        }
      },
      "execution_count": null,
      "outputs": [
        {
          "output_type": "stream",
          "name": "stdout",
          "text": [
            "Problem size:  24\n",
            "Problem instance:  [1, 2, 3, 4, 5, 6, 7, 8, 9, 10, 11, 12, 13, 14, 15, 16, 17, 18, 19, 20, 21, 22, 23, 1000000]\n",
            "This instance does not have a solution\n",
            "The program took:  10.91493535041809  seconds.\n",
            "         16777262 function calls in 10.915 seconds\n",
            "\n",
            "   Ordered by: standard name\n",
            "\n",
            "   ncalls  tottime  percall  cumtime  percall filename:lineno(function)\n",
            "        1    0.000    0.000    0.000    0.000 codecs.py:319(decode)\n",
            "        1    0.000    0.000    0.000    0.000 codecs.py:331(getstate)\n",
            "        1    7.117    7.117   10.915   10.915 partition.py:1(<module>)\n",
            "       26    0.000    0.000    0.000    0.000 partition.py:11(<genexpr>)\n",
            "        1    0.000    0.000    0.000    0.000 partition.py:8(powerset)\n",
            "        1    0.000    0.000    0.000    0.000 {built-in method _codecs.utf_8_decode}\n",
            "        1    0.000    0.000   10.915   10.915 {built-in method builtins.exec}\n",
            "        2    0.000    0.000    0.000    0.000 {built-in method builtins.input}\n",
            "        2    0.000    0.000    0.000    0.000 {built-in method builtins.len}\n",
            "        4    0.000    0.000    0.000    0.000 {built-in method builtins.print}\n",
            " 16777217    3.797    0.000    3.797    0.000 {built-in method builtins.sum}\n",
            "        1    0.000    0.000    0.000    0.000 {built-in method from_iterable}\n",
            "        2    0.000    0.000    0.000    0.000 {built-in method time.time}\n",
            "        1    0.000    0.000    0.000    0.000 {method 'disable' of '_lsprof.Profiler' objects}\n",
            "        1    0.000    0.000    0.000    0.000 {method 'split' of 'str' objects}\n",
            "\n",
            "\n"
          ]
        }
      ]
    },
    {
      "cell_type": "markdown",
      "source": [
        "There is a line profiler called kernprof"
      ],
      "metadata": {
        "id": "ZtXOxJvZ-aJL"
      }
    },
    {
      "cell_type": "code",
      "source": [
        "!pip install line_profiler"
      ],
      "metadata": {
        "id": "_aLWv6hx-xlj",
        "outputId": "e1a92fde-1709-4a0a-aac0-800cd47c9668",
        "colab": {
          "base_uri": "https://localhost:8080/"
        }
      },
      "execution_count": null,
      "outputs": [
        {
          "output_type": "stream",
          "name": "stdout",
          "text": [
            "Collecting line_profiler\n",
            "  Downloading line_profiler-4.1.2-cp310-cp310-manylinux_2_17_x86_64.manylinux2014_x86_64.whl (714 kB)\n",
            "\u001b[2K     \u001b[90m━━━━━━━━━━━━━━━━━━━━━━━━━━━━━━━━━━━━━━━━\u001b[0m \u001b[32m714.8/714.8 kB\u001b[0m \u001b[31m8.3 MB/s\u001b[0m eta \u001b[36m0:00:00\u001b[0m\n",
            "\u001b[?25hInstalling collected packages: line_profiler\n",
            "Successfully installed line_profiler-4.1.2\n"
          ]
        }
      ]
    },
    {
      "cell_type": "markdown",
      "source": [
        "We need to add a decorator to the source code:"
      ],
      "metadata": {
        "id": "Vwjzw2ty-9Qz"
      }
    },
    {
      "cell_type": "code",
      "source": [
        "%%writefile partition_profile.py\n",
        "#\n",
        "# Program to solve the partition problem\n",
        "# The program assumes that input redirection\n",
        "# can be used in COLAB\n",
        "from itertools import chain, combinations\n",
        "import time\n",
        "\n",
        "def powerset(iterable):\n",
        "    \"powerset([1,2,3]) --> () (1,) (2,) (3,) (1,2) (1,3) (2,3) (1,2,3)\"\n",
        "    s = list(iterable)\n",
        "    return chain.from_iterable(combinations(s, r) for r in range(len(s)+1))\n",
        "\n",
        "#\n",
        "# The assumed format of the test file is:\n",
        "# - one line with a positive integer that contains the number of positive integers\n",
        "# in the instance\n",
        "# - A line with the list of values\n",
        "#\n",
        "\n",
        "@profile\n",
        "def partition():\n",
        "  start_time = time.time()\n",
        "  # Read the problem\n",
        "  n = int(input())\n",
        "  valuesString = input()\n",
        "  values = valuesString.split()\n",
        "  for i in range(len(values)):\n",
        "    values[i] = int(values[i])\n",
        "  # Print the instance of the problem\n",
        "  print(\"Problem size: \",n)\n",
        "  print(\"Problem instance: \",values)\n",
        "\n",
        "  sum_of_numbers = sum(values)\n",
        "  if sum_of_numbers % 2 == 1:\n",
        "    print(\"This instance does not have a solution\")\n",
        "  else:\n",
        "    power_set = powerset(values)\n",
        "    solution_found = False\n",
        "    for set in power_set:\n",
        "      if sum(set) == (sum_of_numbers//2):\n",
        "        print(\"Solution found!\")\n",
        "        print(\"One partition contains: \",set)\n",
        "        solution_found = True\n",
        "        break\n",
        "    if solution_found == False:\n",
        "      print(\"This instance does not have a solution\")\n",
        "\n",
        "  end_time = time.time()\n",
        "  elapsed_time = end_time - start_time\n",
        "  print(\"The program took: \",elapsed_time,\" seconds.\")\n",
        "\n",
        "if __name__ == \"__main__\":\n",
        "  partition()"
      ],
      "metadata": {
        "id": "zYZGui_T_ANs",
        "outputId": "5e7c3050-20fe-49e1-a10b-65e904b8e229",
        "colab": {
          "base_uri": "https://localhost:8080/"
        }
      },
      "execution_count": null,
      "outputs": [
        {
          "output_type": "stream",
          "name": "stdout",
          "text": [
            "Overwriting partition_profile.py\n"
          ]
        }
      ]
    },
    {
      "cell_type": "code",
      "source": [
        "!kernprof -l partition_profile.py < instanceNoSolution24.Text"
      ],
      "metadata": {
        "id": "HQMwWjoq_S0c",
        "outputId": "2f93449e-e6ce-4fe4-a7c8-c638a6d8ff6f",
        "colab": {
          "base_uri": "https://localhost:8080/"
        }
      },
      "execution_count": null,
      "outputs": [
        {
          "output_type": "stream",
          "name": "stdout",
          "text": [
            "Problem size:  24\n",
            "Problem instance:  [1, 2, 3, 4, 5, 6, 7, 8, 9, 10, 11, 12, 13, 14, 15, 16, 17, 18, 19, 20, 21, 22, 23, 1000000]\n",
            "This instance does not have a solution\n",
            "The program took:  29.100034475326538  seconds.\n",
            "Wrote profile results to partition_profile.py.lprof\n",
            "Inspect results with:\n",
            "python3 -m line_profiler -rmt \"partition_profile.py.lprof\"\n"
          ]
        }
      ]
    },
    {
      "cell_type": "code",
      "source": [
        "!python3 -m line_profiler -rmt \"partition_profile.py.lprof\""
      ],
      "metadata": {
        "id": "i91shxJEJ3Be",
        "outputId": "04812d97-ebb3-48f6-c46d-ba55eb060185",
        "colab": {
          "base_uri": "https://localhost:8080/"
        }
      },
      "execution_count": null,
      "outputs": [
        {
          "output_type": "stream",
          "name": "stdout",
          "text": [
            "Timer unit: 1e-06 s\n",
            "\n",
            "Total time: 16.4856 s\n",
            "File: partition_profile.py\n",
            "Function: partition at line 20\n",
            "\n",
            "Line #      Hits         Time  Per Hit   % Time  Line Contents\n",
            "==============================================================\n",
            "    \u001b[1;36m20\u001b[0m                                           \u001b[92;49m@profile\u001b[0m                                           \n",
            "    \u001b[1;36m21\u001b[0m                                           \u001b[96;49mdef\u001b[0m\u001b[97;49m \u001b[0m\u001b[92;49mpartition\u001b[0m\u001b[97;49m(\u001b[0m\u001b[97;49m)\u001b[0m\u001b[97;49m:\u001b[0m                                   \n",
            "    \u001b[1;36m22\u001b[0m         \u001b[1;36m1\u001b[0m         \u001b[1;36m12.8\u001b[0m     \u001b[1;36m12.8\u001b[0m      \u001b[1;36m0.0\u001b[0m  \u001b[97;49m  \u001b[0m\u001b[97;49mstart_time\u001b[0m\u001b[97;49m \u001b[0m\u001b[91;49m=\u001b[0m\u001b[97;49m \u001b[0m\u001b[97;49mtime\u001b[0m\u001b[91;49m.\u001b[0m\u001b[97;49mtime\u001b[0m\u001b[97;49m(\u001b[0m\u001b[97;49m)\u001b[0m                         \n",
            "    \u001b[1;36m23\u001b[0m                                           \u001b[97;49m  \u001b[0m\u001b[37;49m# Read the problem\u001b[0m                               \n",
            "    \u001b[1;36m24\u001b[0m         \u001b[1;36m1\u001b[0m         \u001b[1;36m43.1\u001b[0m     \u001b[1;36m43.1\u001b[0m      \u001b[1;36m0.0\u001b[0m  \u001b[97;49m  \u001b[0m\u001b[97;49mn\u001b[0m\u001b[97;49m \u001b[0m\u001b[91;49m=\u001b[0m\u001b[97;49m \u001b[0m\u001b[97;49mint\u001b[0m\u001b[97;49m(\u001b[0m\u001b[97;49minput\u001b[0m\u001b[97;49m(\u001b[0m\u001b[97;49m)\u001b[0m\u001b[97;49m)\u001b[0m                                 \n",
            "    \u001b[1;36m25\u001b[0m         \u001b[1;36m1\u001b[0m          \u001b[1;36m3.3\u001b[0m      \u001b[1;36m3.3\u001b[0m      \u001b[1;36m0.0\u001b[0m  \u001b[97;49m  \u001b[0m\u001b[97;49mvaluesString\u001b[0m\u001b[97;49m \u001b[0m\u001b[91;49m=\u001b[0m\u001b[97;49m \u001b[0m\u001b[97;49minput\u001b[0m\u001b[97;49m(\u001b[0m\u001b[97;49m)\u001b[0m                           \n",
            "    \u001b[1;36m26\u001b[0m         \u001b[1;36m1\u001b[0m          \u001b[1;36m3.9\u001b[0m      \u001b[1;36m3.9\u001b[0m      \u001b[1;36m0.0\u001b[0m  \u001b[97;49m  \u001b[0m\u001b[97;49mvalues\u001b[0m\u001b[97;49m \u001b[0m\u001b[91;49m=\u001b[0m\u001b[97;49m \u001b[0m\u001b[97;49mvaluesString\u001b[0m\u001b[91;49m.\u001b[0m\u001b[97;49msplit\u001b[0m\u001b[97;49m(\u001b[0m\u001b[97;49m)\u001b[0m                    \n",
            "    \u001b[1;36m27\u001b[0m        \u001b[1;36m25\u001b[0m         \u001b[1;36m11.5\u001b[0m      \u001b[1;36m0.5\u001b[0m      \u001b[1;36m0.0\u001b[0m  \u001b[97;49m  \u001b[0m\u001b[96;49mfor\u001b[0m\u001b[97;49m \u001b[0m\u001b[97;49mi\u001b[0m\u001b[97;49m \u001b[0m\u001b[91;49min\u001b[0m\u001b[97;49m \u001b[0m\u001b[97;49mrange\u001b[0m\u001b[97;49m(\u001b[0m\u001b[97;49mlen\u001b[0m\u001b[97;49m(\u001b[0m\u001b[97;49mvalues\u001b[0m\u001b[97;49m)\u001b[0m\u001b[97;49m)\u001b[0m\u001b[97;49m:\u001b[0m                     \n",
            "    \u001b[1;36m28\u001b[0m        \u001b[1;36m24\u001b[0m         \u001b[1;36m22.6\u001b[0m      \u001b[1;36m0.9\u001b[0m      \u001b[1;36m0.0\u001b[0m  \u001b[97;49m    \u001b[0m\u001b[97;49mvalues\u001b[0m\u001b[97;49m[\u001b[0m\u001b[97;49mi\u001b[0m\u001b[97;49m]\u001b[0m\u001b[97;49m \u001b[0m\u001b[91;49m=\u001b[0m\u001b[97;49m \u001b[0m\u001b[97;49mint\u001b[0m\u001b[97;49m(\u001b[0m\u001b[97;49mvalues\u001b[0m\u001b[97;49m[\u001b[0m\u001b[97;49mi\u001b[0m\u001b[97;49m]\u001b[0m\u001b[97;49m)\u001b[0m                     \n",
            "    \u001b[1;36m29\u001b[0m                                           \u001b[97;49m  \u001b[0m\u001b[37;49m# Print the instance of the problem\u001b[0m              \n",
            "    \u001b[1;36m30\u001b[0m         \u001b[1;36m1\u001b[0m         \u001b[1;36m28.3\u001b[0m     \u001b[1;36m28.3\u001b[0m      \u001b[1;36m0.0\u001b[0m  \u001b[97;49m  \u001b[0m\u001b[97;49mprint\u001b[0m\u001b[97;49m(\u001b[0m\u001b[93;49m\"\u001b[0m\u001b[93;49mProblem size: \u001b[0m\u001b[93;49m\"\u001b[0m\u001b[97;49m,\u001b[0m\u001b[97;49mn\u001b[0m\u001b[97;49m)\u001b[0m                        \n",
            "    \u001b[1;36m31\u001b[0m         \u001b[1;36m1\u001b[0m         \u001b[1;36m17.9\u001b[0m     \u001b[1;36m17.9\u001b[0m      \u001b[1;36m0.0\u001b[0m  \u001b[97;49m  \u001b[0m\u001b[97;49mprint\u001b[0m\u001b[97;49m(\u001b[0m\u001b[93;49m\"\u001b[0m\u001b[93;49mProblem instance: \u001b[0m\u001b[93;49m\"\u001b[0m\u001b[97;49m,\u001b[0m\u001b[97;49mvalues\u001b[0m\u001b[97;49m)\u001b[0m               \n",
            "    \u001b[1;36m32\u001b[0m                                                                                              \n",
            "    \u001b[1;36m33\u001b[0m         \u001b[1;36m1\u001b[0m          \u001b[1;36m2.0\u001b[0m      \u001b[1;36m2.0\u001b[0m      \u001b[1;36m0.0\u001b[0m  \u001b[97;49m  \u001b[0m\u001b[97;49msum_of_numbers\u001b[0m\u001b[97;49m \u001b[0m\u001b[91;49m=\u001b[0m\u001b[97;49m \u001b[0m\u001b[97;49msum\u001b[0m\u001b[97;49m(\u001b[0m\u001b[97;49mvalues\u001b[0m\u001b[97;49m)\u001b[0m                     \n",
            "    \u001b[1;36m34\u001b[0m         \u001b[1;36m1\u001b[0m          \u001b[1;36m1.3\u001b[0m      \u001b[1;36m1.3\u001b[0m      \u001b[1;36m0.0\u001b[0m  \u001b[97;49m  \u001b[0m\u001b[96;49mif\u001b[0m\u001b[97;49m \u001b[0m\u001b[97;49msum_of_numbers\u001b[0m\u001b[97;49m \u001b[0m\u001b[91;49m%\u001b[0m\u001b[97;49m \u001b[0m\u001b[37;49m2\u001b[0m\u001b[97;49m \u001b[0m\u001b[91;49m==\u001b[0m\u001b[97;49m \u001b[0m\u001b[37;49m1\u001b[0m\u001b[97;49m:\u001b[0m                      \n",
            "    \u001b[1;36m35\u001b[0m                                           \u001b[97;49m    \u001b[0m\u001b[97;49mprint\u001b[0m\u001b[97;49m(\u001b[0m\u001b[93;49m\"\u001b[0m\u001b[93;49mThis instance does not have a solution\u001b[0m\u001b[93;49m\"\u001b[0m\u001b[97;49m)\u001b[0m\n",
            "    \u001b[1;36m36\u001b[0m                                           \u001b[97;49m  \u001b[0m\u001b[96;49melse\u001b[0m\u001b[97;49m:\u001b[0m                                            \n",
            "    \u001b[1;36m37\u001b[0m         \u001b[1;36m1\u001b[0m          \u001b[1;36m9.0\u001b[0m      \u001b[1;36m9.0\u001b[0m      \u001b[1;36m0.0\u001b[0m  \u001b[97;49m    \u001b[0m\u001b[97;49mpower_set\u001b[0m\u001b[97;49m \u001b[0m\u001b[91;49m=\u001b[0m\u001b[97;49m \u001b[0m\u001b[97;49mpowerset\u001b[0m\u001b[97;49m(\u001b[0m\u001b[97;49mvalues\u001b[0m\u001b[97;49m)\u001b[0m                   \n",
            "    \u001b[1;36m38\u001b[0m         \u001b[1;36m1\u001b[0m          \u001b[1;36m0.3\u001b[0m      \u001b[1;36m0.3\u001b[0m      \u001b[1;36m0.0\u001b[0m  \u001b[97;49m    \u001b[0m\u001b[97;49msolution_found\u001b[0m\u001b[97;49m \u001b[0m\u001b[91;49m=\u001b[0m\u001b[97;49m \u001b[0m\u001b[96;49mFalse\u001b[0m                         \n",
            "    \u001b[1;36m39\u001b[0m  \u001b[1;36m16777217\u001b[0m    \u001b[1;36m5589441.4\u001b[0m      \u001b[1;36m0.3\u001b[0m     \u001b[1;36m33.9\u001b[0m  \u001b[97;49m    \u001b[0m\u001b[96;49mfor\u001b[0m\u001b[97;49m \u001b[0m\u001b[97;49mset\u001b[0m\u001b[97;49m \u001b[0m\u001b[91;49min\u001b[0m\u001b[97;49m \u001b[0m\u001b[97;49mpower_set\u001b[0m\u001b[97;49m:\u001b[0m                          \n",
            "    \u001b[1;36m40\u001b[0m  \u001b[1;36m16777216\u001b[0m   \u001b[1;36m10895897.3\u001b[0m      \u001b[1;36m0.6\u001b[0m     \u001b[1;36m66.1\u001b[0m  \u001b[97;49m      \u001b[0m\u001b[96;49mif\u001b[0m\u001b[97;49m \u001b[0m\u001b[97;49msum\u001b[0m\u001b[97;49m(\u001b[0m\u001b[97;49mset\u001b[0m\u001b[97;49m)\u001b[0m\u001b[97;49m \u001b[0m\u001b[91;49m==\u001b[0m\u001b[97;49m \u001b[0m\u001b[97;49m(\u001b[0m\u001b[97;49msum_of_numbers\u001b[0m\u001b[91;49m/\u001b[0m\u001b[91;49m/\u001b[0m\u001b[37;49m2\u001b[0m\u001b[97;49m)\u001b[0m\u001b[97;49m:\u001b[0m          \n",
            "    \u001b[1;36m41\u001b[0m                                           \u001b[97;49m        \u001b[0m\u001b[97;49mprint\u001b[0m\u001b[97;49m(\u001b[0m\u001b[93;49m\"\u001b[0m\u001b[93;49mSolution found!\u001b[0m\u001b[93;49m\"\u001b[0m\u001b[97;49m)\u001b[0m                   \n",
            "    \u001b[1;36m42\u001b[0m                                           \u001b[97;49m        \u001b[0m\u001b[97;49mprint\u001b[0m\u001b[97;49m(\u001b[0m\u001b[93;49m\"\u001b[0m\u001b[93;49mOne partition contains: \u001b[0m\u001b[93;49m\"\u001b[0m\u001b[97;49m,\u001b[0m\u001b[97;49mset\u001b[0m\u001b[97;49m)\u001b[0m      \n",
            "    \u001b[1;36m43\u001b[0m                                           \u001b[97;49m        \u001b[0m\u001b[97;49msolution_found\u001b[0m\u001b[97;49m \u001b[0m\u001b[91;49m=\u001b[0m\u001b[97;49m \u001b[0m\u001b[96;49mTrue\u001b[0m                      \n",
            "    \u001b[1;36m44\u001b[0m                                           \u001b[97;49m        \u001b[0m\u001b[96;49mbreak\u001b[0m                                      \n",
            "    \u001b[1;36m45\u001b[0m         \u001b[1;36m1\u001b[0m          \u001b[1;36m0.5\u001b[0m      \u001b[1;36m0.5\u001b[0m      \u001b[1;36m0.0\u001b[0m  \u001b[97;49m    \u001b[0m\u001b[96;49mif\u001b[0m\u001b[97;49m \u001b[0m\u001b[97;49msolution_found\u001b[0m\u001b[97;49m \u001b[0m\u001b[91;49m==\u001b[0m\u001b[97;49m \u001b[0m\u001b[96;49mFalse\u001b[0m\u001b[97;49m:\u001b[0m                    \n",
            "    \u001b[1;36m46\u001b[0m         \u001b[1;36m1\u001b[0m         \u001b[1;36m45.2\u001b[0m     \u001b[1;36m45.2\u001b[0m      \u001b[1;36m0.0\u001b[0m  \u001b[97;49m      \u001b[0m\u001b[97;49mprint\u001b[0m\u001b[97;49m(\u001b[0m\u001b[93;49m\"\u001b[0m\u001b[93;49mThis instance does not have a solutio…\u001b[0m\n",
            "    \u001b[1;36m47\u001b[0m                                                                                              \n",
            "    \u001b[1;36m48\u001b[0m         \u001b[1;36m1\u001b[0m          \u001b[1;36m4.3\u001b[0m      \u001b[1;36m4.3\u001b[0m      \u001b[1;36m0.0\u001b[0m  \u001b[97;49m  \u001b[0m\u001b[97;49mend_time\u001b[0m\u001b[97;49m \u001b[0m\u001b[91;49m=\u001b[0m\u001b[97;49m \u001b[0m\u001b[97;49mtime\u001b[0m\u001b[91;49m.\u001b[0m\u001b[97;49mtime\u001b[0m\u001b[97;49m(\u001b[0m\u001b[97;49m)\u001b[0m                           \n",
            "    \u001b[1;36m49\u001b[0m         \u001b[1;36m1\u001b[0m          \u001b[1;36m0.8\u001b[0m      \u001b[1;36m0.8\u001b[0m      \u001b[1;36m0.0\u001b[0m  \u001b[97;49m  \u001b[0m\u001b[97;49melapsed_time\u001b[0m\u001b[97;49m \u001b[0m\u001b[91;49m=\u001b[0m\u001b[97;49m \u001b[0m\u001b[97;49mend_time\u001b[0m\u001b[97;49m \u001b[0m\u001b[91;49m-\u001b[0m\u001b[97;49m \u001b[0m\u001b[97;49mstart_time\u001b[0m             \n",
            "    \u001b[1;36m50\u001b[0m         \u001b[1;36m1\u001b[0m         \u001b[1;36m31.0\u001b[0m     \u001b[1;36m31.0\u001b[0m      \u001b[1;36m0.0\u001b[0m  \u001b[97;49m  \u001b[0m\u001b[97;49mprint\u001b[0m\u001b[97;49m(\u001b[0m\u001b[93;49m\"\u001b[0m\u001b[93;49mThe program took: \u001b[0m\u001b[93;49m\"\u001b[0m\u001b[97;49m,\u001b[0m\u001b[97;49melapsed_time\u001b[0m\u001b[97;49m,\u001b[0m\u001b[93;49m\"\u001b[0m\u001b[93;49m second…\u001b[0m\n",
            "\n",
            "\n",
            " 16.49 seconds - partition_profile.py:20 - partition\n"
          ]
        }
      ]
    }
  ]
}