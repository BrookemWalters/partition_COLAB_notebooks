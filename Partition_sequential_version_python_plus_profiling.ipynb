{
  "nbformat": 4,
  "nbformat_minor": 0,
  "metadata": {
    "colab": {
      "provenance": [],
      "authorship_tag": "ABX9TyNNJqqtdsV1EfpcX2S249on",
      "include_colab_link": true
    },
    "kernelspec": {
      "name": "python3",
      "display_name": "Python 3"
    },
    "language_info": {
      "name": "python"
    }
  },
  "cells": [
    {
      "cell_type": "markdown",
      "metadata": {
        "id": "view-in-github",
        "colab_type": "text"
      },
      "source": [
        "<a href=\"https://colab.research.google.com/github/trefftzc/partition_COLAB_notebooks/blob/main/Partition_sequential_version_python_plus_profiling.ipynb\" target=\"_parent\"><img src=\"https://colab.research.google.com/assets/colab-badge.svg\" alt=\"Open In Colab\"/></a>"
      ]
    },
    {
      "cell_type": "code",
      "execution_count": 1,
      "metadata": {
        "id": "y0Pf6HUgpEZM"
      },
      "outputs": [],
      "source": []
    },
    {
      "cell_type": "markdown",
      "source": [
        "# The partition problem\n",
        "\n",
        "The partition problem is intuitive: Given a collection of n objects, can we place part of those objects in the left hand of a balance and the remaining objects in the right hand side of a balance so that they weigh the same? In other (more mathematical) words, if we have a multiset of integers s, can we partition that multiset into two separate multisets q and r so that the sum of the elements in q is the same as the sum of the elements in r. A more formal statement of the problem can be found on mathworld.wolfram [here](https://mathworld.wolfram.com/NumberPartitioningProblem.html).\n",
        "\n",
        "This simple problem belongs to a very unique kind of problems called NP-complete problems that are very hard to solve.\n",
        "Given an instance of the partition problem with n positive integer values, one way to find if there is a solution to that instance is to examine each and every one of the $2^n$ subsets and to check for every one of those subsets if that subset and its complement are a solution to this instance of the partition problem. One adds up the elements in the subset, adds up the elements in the complement and if the two sums are the same, this is a solution to this instance of the partition problem.\n",
        "\n",
        "The set of all the subsets of a set is called the power set.\n",
        "\n",
        "Consider the following example: {2,3,5}. In this case n, the number of elements in the instance of the partition problem, is 3. If one calculates all the possible subsets, there are $2^3$ = 8 possible distinct subsets. The following table shows the eight subsets, their complements and indicates which of those subsets are solutions for this instance of the partition problem.\n",
        "\n",
        "| Index | Binary Encoding | Elements | Elements in the Complement | Solution |\n",
        "|:-------|:-----------------|:----------|:------------------------|:--------------|\n",
        "| 0 |\t000\t| {}\t| {2,3,5}\t| No |\n",
        "|1 |\t001\t|{2}\t|{3,5}\t|No\n",
        "|2 |\t010\t|{3}\t|{2,5}\t|No\n",
        "|3 |\t011\t|{2,3}\t|{5}\t|Yes\n",
        "|4 |\t100\t|{5}\t|{2,3}\t|Yes\n",
        "|5 |\t101\t|{2,5}\t|{3}\t|No\n",
        "|6 |\t110\t|{3,5}\t|{2}\t|No\n",
        "|7 |\t111\t|{2,3,5}\t|{}\t|No\n",
        "\n",
        "Notice that the first half of the table is symmetrical to the second half of the table. Hence, one only needs to go through the first half of all the elements in the Power Set.\n",
        "\n"
      ],
      "metadata": {
        "id": "5Go73l1OUrdt"
      }
    },
    {
      "cell_type": "markdown",
      "source": [
        "# The Power Set\n",
        "The power set can be defined as:\n",
        "\"Given a set S, the power set of S, sometimes also called the powerset, is the set of all subsets of S. The order of a power set of a set of order n is 2^n. Power sets are larger than the sets associated with them. The power set of S is variously denoted 2^S or P(S).\"\n",
        "\n",
        "https://www.wolframalpha.com/input?i=POWER+SET\n",
        "\n",
        "The partition problem can be solved by\n",
        "calculating the power set of the multiset of integers\n",
        "and then checking each and every one of the\n",
        "possible subsets to see if it and its complement\n",
        "are a solution to the instance of the partition problem."
      ],
      "metadata": {
        "id": "h3rf8WSYpWrE"
      }
    },
    {
      "cell_type": "code",
      "source": [
        "#\n",
        "# I learned about these libraries from Ian Curtis, a student in one of the sections\n",
        "# of the HPC course during the fall of 2023\n",
        "#\n",
        "# Using itertools to calculate the PowerSet\n",
        "#\n",
        "\n",
        "from itertools import chain, combinations\n",
        "\n",
        "\n",
        "def powerset(iterable):\n",
        "    \"powerset([1,2,3]) --> () (1,) (2,) (3,) (1,2) (1,3) (2,3) (1,2,3)\"\n",
        "    s = list(iterable)\n",
        "    return chain.from_iterable(combinations(s, r) for r in range(len(s)+1))\n",
        "\n",
        "\n",
        "example_list = [0,1,2]\n",
        "powerset_of_example_list = powerset(example_list)\n",
        "print(\"This is the power set of the set of [0,1,2]\")\n",
        "for s in powerset_of_example_list:\n",
        "    print(s)"
      ],
      "metadata": {
        "colab": {
          "base_uri": "https://localhost:8080/"
        },
        "id": "gYlbUz1Up4qz",
        "outputId": "184e4cff-3692-4607-ea0b-ba50c8243e32"
      },
      "execution_count": 2,
      "outputs": [
        {
          "output_type": "stream",
          "name": "stdout",
          "text": [
            "This is the power set of the set of [0,1,2]\n",
            "()\n",
            "(0,)\n",
            "(1,)\n",
            "(2,)\n",
            "(0, 1)\n",
            "(0, 2)\n",
            "(1, 2)\n",
            "(0, 1, 2)\n"
          ]
        }
      ]
    },
    {
      "cell_type": "code",
      "source": [],
      "metadata": {
        "id": "_Vw7uooxrdYR"
      },
      "execution_count": 2,
      "outputs": []
    },
    {
      "cell_type": "markdown",
      "source": [
        "Let's create a couple of test files to be used later."
      ],
      "metadata": {
        "id": "2JAadcWpraGM"
      }
    },
    {
      "cell_type": "code",
      "source": [
        "%%writefile test20.Text\n",
        "20\n",
        "1 1 1 1 1 1 1 1 1 1 1 1 1 1 1 1 1 1 1 19"
      ],
      "metadata": {
        "colab": {
          "base_uri": "https://localhost:8080/"
        },
        "id": "K66C2BX0reIs",
        "outputId": "bfb4bfca-41b3-4b15-891b-a24d5faf9eb6"
      },
      "execution_count": 3,
      "outputs": [
        {
          "output_type": "stream",
          "name": "stdout",
          "text": [
            "Writing test20.Text\n"
          ]
        }
      ]
    },
    {
      "cell_type": "code",
      "source": [
        "%%writefile test21.Text\n",
        "21\n",
        "1 1 1 1 1 1 1 1 1 1 1 1 1 1 1 1 1 1 1 1 20"
      ],
      "metadata": {
        "colab": {
          "base_uri": "https://localhost:8080/"
        },
        "id": "2YpQKCkJrwz8",
        "outputId": "2f4b5cfa-01f8-485e-f25d-01880ca5af85"
      },
      "execution_count": 4,
      "outputs": [
        {
          "output_type": "stream",
          "name": "stdout",
          "text": [
            "Writing test21.Text\n"
          ]
        }
      ]
    },
    {
      "cell_type": "code",
      "source": [
        "%%writefile test22.Text\n",
        "22\n",
        "1 1 1 1 1 1 1 1 1 1 1 1 1 1 1 1 1 1 1 1 1 21"
      ],
      "metadata": {
        "colab": {
          "base_uri": "https://localhost:8080/"
        },
        "id": "RCHDxitur2yw",
        "outputId": "2ad03570-d36a-4bdc-ccd9-463e3ca633d4"
      },
      "execution_count": 5,
      "outputs": [
        {
          "output_type": "stream",
          "name": "stdout",
          "text": [
            "Writing test22.Text\n"
          ]
        }
      ]
    },
    {
      "cell_type": "code",
      "source": [
        "%%writefile test23.Text\n",
        "23\n",
        "1 1 1 1 1 1 1 1 1 1 1 1 1 1 1 1 1 1 1 1 1 1 22"
      ],
      "metadata": {
        "colab": {
          "base_uri": "https://localhost:8080/"
        },
        "id": "sX8jkZulr7go",
        "outputId": "76959141-522b-4c6e-fc93-a62d2568b0c6"
      },
      "execution_count": 6,
      "outputs": [
        {
          "output_type": "stream",
          "name": "stdout",
          "text": [
            "Writing test23.Text\n"
          ]
        }
      ]
    },
    {
      "cell_type": "markdown",
      "source": [
        "Now the actual program.\n",
        "We write the program to a file called partition.py\n",
        "so that it can later be executed using input\n",
        "redirection with the test files."
      ],
      "metadata": {
        "id": "I_V5RipPsbbk"
      }
    },
    {
      "cell_type": "code",
      "source": [
        "%%writefile partition.py\n",
        "#\n",
        "# Program to solve the partition problem\n",
        "# The program assumes that input redirection\n",
        "# can be used in COLAB\n",
        "from itertools import chain, combinations\n",
        "import time\n",
        "\n",
        "def powerset(iterable):\n",
        "    \"powerset([1,2,3]) --> () (1,) (2,) (3,) (1,2) (1,3) (2,3) (1,2,3)\"\n",
        "    s = list(iterable)\n",
        "    return chain.from_iterable(combinations(s, r) for r in range(len(s)+1))\n",
        "\n",
        "#\n",
        "# The assumed format of the test file is:\n",
        "# - one line with a positive integer that contains the number of positive integers\n",
        "# in the instance\n",
        "# - A line with the list of values\n",
        "#\n",
        "\n",
        "start = time.time()\n",
        "# Read the problem\n",
        "n = int(input())\n",
        "valuesString = input()\n",
        "values = valuesString.split()\n",
        "for i in range(len(values)):\n",
        "  values[i] = int(values[i])\n",
        "# Print the instance of the problem\n",
        "print(\"Problem size: \",n)\n",
        "print(\"Problem instance: \",values)\n",
        "\n",
        "sum_of_numbers = sum(values)\n",
        "if sum_of_numbers % 2 == 1:\n",
        "  print(\"This instance does not have a solution\")\n",
        "else:\n",
        "  power_set = powerset(values)\n",
        "  solution_found = False\n",
        "  for set in power_set:\n",
        "    if sum(set) == (sum_of_numbers//2):\n",
        "      print(\"Solution found!\")\n",
        "      print(\"One partition contains: \",set)\n",
        "      solution_found = True\n",
        "      break\n",
        "  if solution_found == False:\n",
        "    print(\"This instance does not have a solution\")\n",
        "\n",
        "end = time.time()\n",
        "elapsed = end - start\n",
        "print(\"The program took: \",elapsed,\" seconds.\")\n",
        "\n",
        "\n",
        "\n"
      ],
      "metadata": {
        "colab": {
          "base_uri": "https://localhost:8080/"
        },
        "id": "01HXmjXlsqJT",
        "outputId": "9259a8be-d21a-477f-853b-b4b0b7dc8cea"
      },
      "execution_count": 7,
      "outputs": [
        {
          "output_type": "stream",
          "name": "stdout",
          "text": [
            "Writing partition.py\n"
          ]
        }
      ]
    },
    {
      "cell_type": "markdown",
      "source": [
        "Now let's execute the program:"
      ],
      "metadata": {
        "id": "aoYMwgI_tkhe"
      }
    },
    {
      "cell_type": "code",
      "source": [
        "!python partition.py < test20.Text"
      ],
      "metadata": {
        "colab": {
          "base_uri": "https://localhost:8080/"
        },
        "id": "mn3odmFYtmj9",
        "outputId": "4bf2ccc2-2447-492f-9f20-ed6d2dc144fb"
      },
      "execution_count": 8,
      "outputs": [
        {
          "output_type": "stream",
          "name": "stdout",
          "text": [
            "Problem size:  20\n",
            "Problem instance:  [1, 1, 1, 1, 1, 1, 1, 1, 1, 1, 1, 1, 1, 1, 1, 1, 1, 1, 1, 19]\n",
            "Solution found!\n",
            "One partition contains:  (19,)\n",
            "The program took:  0.00022268295288085938  seconds.\n"
          ]
        }
      ]
    },
    {
      "cell_type": "code",
      "source": [
        "!python partition.py < test21.Text"
      ],
      "metadata": {
        "colab": {
          "base_uri": "https://localhost:8080/"
        },
        "id": "quTiCB9gwLu1",
        "outputId": "14c371d1-6fad-4e33-d054-2b8f018e30c0"
      },
      "execution_count": 9,
      "outputs": [
        {
          "output_type": "stream",
          "name": "stdout",
          "text": [
            "Problem size:  21\n",
            "Problem instance:  [1, 1, 1, 1, 1, 1, 1, 1, 1, 1, 1, 1, 1, 1, 1, 1, 1, 1, 1, 1, 20]\n",
            "Solution found!\n",
            "One partition contains:  (20,)\n",
            "The program took:  0.0003590583801269531  seconds.\n"
          ]
        }
      ]
    },
    {
      "cell_type": "code",
      "source": [
        "!python partition.py < test22.Text"
      ],
      "metadata": {
        "colab": {
          "base_uri": "https://localhost:8080/"
        },
        "id": "-em0uWwXwP6F",
        "outputId": "511b6724-3ab2-40b6-e2c6-c3634b87e3c7"
      },
      "execution_count": 10,
      "outputs": [
        {
          "output_type": "stream",
          "name": "stdout",
          "text": [
            "Problem size:  22\n",
            "Problem instance:  [1, 1, 1, 1, 1, 1, 1, 1, 1, 1, 1, 1, 1, 1, 1, 1, 1, 1, 1, 1, 1, 21]\n",
            "Solution found!\n",
            "One partition contains:  (21,)\n",
            "The program took:  0.0005693435668945312  seconds.\n"
          ]
        }
      ]
    },
    {
      "cell_type": "code",
      "source": [
        "!python partition.py < test23.Text"
      ],
      "metadata": {
        "colab": {
          "base_uri": "https://localhost:8080/"
        },
        "id": "fucaaXWfwTSk",
        "outputId": "4bcfa0fc-b7d3-4464-bd65-b3ce2770fd5f"
      },
      "execution_count": 11,
      "outputs": [
        {
          "output_type": "stream",
          "name": "stdout",
          "text": [
            "Problem size:  23\n",
            "Problem instance:  [1, 1, 1, 1, 1, 1, 1, 1, 1, 1, 1, 1, 1, 1, 1, 1, 1, 1, 1, 1, 1, 1, 22]\n",
            "Solution found!\n",
            "One partition contains:  (22,)\n",
            "The program took:  0.00022649765014648438  seconds.\n"
          ]
        }
      ]
    },
    {
      "cell_type": "code",
      "source": [
        "%%writefile test24.Text\n",
        "24\n",
        "1 2 3 4 5 6 7 8 9 10 11 12 13 14 15 16 17 18 19 20 21 22 23 24"
      ],
      "metadata": {
        "colab": {
          "base_uri": "https://localhost:8080/"
        },
        "id": "w1f0z0iaw4Xd",
        "outputId": "a3536c23-53ba-4cf6-81da-101a0fe4e994"
      },
      "execution_count": 12,
      "outputs": [
        {
          "output_type": "stream",
          "name": "stdout",
          "text": [
            "Writing test24.Text\n"
          ]
        }
      ]
    },
    {
      "cell_type": "code",
      "source": [
        "!python partition.py < test24.Text"
      ],
      "metadata": {
        "colab": {
          "base_uri": "https://localhost:8080/"
        },
        "id": "AHuF532-xALU",
        "outputId": "9551ac14-d2a2-43dd-a411-6306f3a95fb8"
      },
      "execution_count": 13,
      "outputs": [
        {
          "output_type": "stream",
          "name": "stdout",
          "text": [
            "Problem size:  24\n",
            "Problem instance:  [1, 2, 3, 4, 5, 6, 7, 8, 9, 10, 11, 12, 13, 14, 15, 16, 17, 18, 19, 20, 21, 22, 23, 24]\n",
            "Solution found!\n",
            "One partition contains:  (3, 18, 19, 20, 21, 22, 23, 24)\n",
            "The program took:  0.5485150814056396  seconds.\n"
          ]
        }
      ]
    },
    {
      "cell_type": "code",
      "source": [
        "%%writefile instanceNoSolution24.Text\n",
        "24\n",
        "1 2 3 4 5 6 7 8 9 10 11 12 13 14 15 16 17 18 19 20 21 22 23 1000000"
      ],
      "metadata": {
        "colab": {
          "base_uri": "https://localhost:8080/"
        },
        "id": "a25G4T_Xx8-9",
        "outputId": "e0de54f2-7515-41de-e7db-78b5ae80e71c"
      },
      "execution_count": 14,
      "outputs": [
        {
          "output_type": "stream",
          "name": "stdout",
          "text": [
            "Writing instanceNoSolution24.Text\n"
          ]
        }
      ]
    },
    {
      "cell_type": "code",
      "source": [
        "!python partition.py < instanceNoSolution24.Text"
      ],
      "metadata": {
        "colab": {
          "base_uri": "https://localhost:8080/"
        },
        "id": "zOvnanvfyGmM",
        "outputId": "fcda1f55-31a1-4c74-b017-79057bfed653"
      },
      "execution_count": 15,
      "outputs": [
        {
          "output_type": "stream",
          "name": "stdout",
          "text": [
            "Problem size:  24\n",
            "Problem instance:  [1, 2, 3, 4, 5, 6, 7, 8, 9, 10, 11, 12, 13, 14, 15, 16, 17, 18, 19, 20, 21, 22, 23, 1000000]\n",
            "This instance does not have a solution\n",
            "The program took:  8.99092149734497  seconds.\n"
          ]
        }
      ]
    },
    {
      "cell_type": "markdown",
      "source": [
        "A larger test file..."
      ],
      "metadata": {
        "id": "iFb9wUfo0gFt"
      }
    },
    {
      "cell_type": "code",
      "source": [
        "%%writefile test30.Text\n",
        "30\n",
        "1 2 3 4 5 6 7 8 9 10 11 12 13 14 15 16 17 18 19 20 21 22 23 24 25 26 27 28 29 30"
      ],
      "metadata": {
        "colab": {
          "base_uri": "https://localhost:8080/"
        },
        "id": "oENdfJvO0iWm",
        "outputId": "03394966-8f73-4123-e2df-a0af57c19cf0"
      },
      "execution_count": 16,
      "outputs": [
        {
          "output_type": "stream",
          "name": "stdout",
          "text": [
            "Writing test30.Text\n"
          ]
        }
      ]
    },
    {
      "cell_type": "code",
      "source": [
        "!python partition.py < test30.Text"
      ],
      "metadata": {
        "colab": {
          "base_uri": "https://localhost:8080/"
        },
        "id": "Xo8ZMaKD0qZN",
        "outputId": "ebeb8a61-f9f8-4c10-95cc-d5a5951ba136"
      },
      "execution_count": 17,
      "outputs": [
        {
          "output_type": "stream",
          "name": "stdout",
          "text": [
            "Problem size:  30\n",
            "Problem instance:  [1, 2, 3, 4, 5, 6, 7, 8, 9, 10, 11, 12, 13, 14, 15, 16, 17, 18, 19, 20, 21, 22, 23, 24, 25, 26, 27, 28, 29, 30]\n",
            "This instance does not have a solution\n",
            "The program took:  0.00018167495727539062  seconds.\n"
          ]
        }
      ]
    },
    {
      "cell_type": "code",
      "source": [
        "%%writefile test31.Text\n",
        "31\n",
        "1 2 3 4 5 6 7 8 9 10 11 12 13 14 15 16 17 18 19 20 21 22 23 24 25 26 27 28 29 30 31"
      ],
      "metadata": {
        "colab": {
          "base_uri": "https://localhost:8080/"
        },
        "id": "zJNYNnvo00P8",
        "outputId": "bff1eea7-8663-421d-cc41-3eb1f90f141b"
      },
      "execution_count": 18,
      "outputs": [
        {
          "output_type": "stream",
          "name": "stdout",
          "text": [
            "Writing test31.Text\n"
          ]
        }
      ]
    },
    {
      "cell_type": "code",
      "source": [
        "!python partition.py < test31.Text"
      ],
      "metadata": {
        "id": "BuJmXqre04mc",
        "outputId": "e6b134d2-946d-4f75-8c18-32d8a9ee75ab",
        "colab": {
          "base_uri": "https://localhost:8080/"
        }
      },
      "execution_count": 19,
      "outputs": [
        {
          "output_type": "stream",
          "name": "stdout",
          "text": [
            "Problem size:  31\n",
            "Problem instance:  [1, 2, 3, 4, 5, 6, 7, 8, 9, 10, 11, 12, 13, 14, 15, 16, 17, 18, 19, 20, 21, 22, 23, 24, 25, 26, 27, 28, 29, 30, 31]\n",
            "Solution found!\n",
            "One partition contains:  (5, 23, 24, 25, 26, 27, 28, 29, 30, 31)\n",
            "The program took:  27.315409898757935  seconds.\n"
          ]
        }
      ]
    },
    {
      "cell_type": "markdown",
      "source": [
        "# Profiling\n",
        "It is useful to profile the program to understand where most of the time is being spent during its execution."
      ],
      "metadata": {
        "id": "CMp8BoeM8v8K"
      }
    },
    {
      "cell_type": "code",
      "source": [
        "!python -m cProfile partition.py < instanceNoSolution24.Text"
      ],
      "metadata": {
        "id": "Vof91uMD82vS",
        "outputId": "b3015595-d66a-43ce-b521-0df0184fb9d0",
        "colab": {
          "base_uri": "https://localhost:8080/"
        }
      },
      "execution_count": 20,
      "outputs": [
        {
          "output_type": "stream",
          "name": "stdout",
          "text": [
            "Problem size:  24\n",
            "Problem instance:  [1, 2, 3, 4, 5, 6, 7, 8, 9, 10, 11, 12, 13, 14, 15, 16, 17, 18, 19, 20, 21, 22, 23, 1000000]\n",
            "This instance does not have a solution\n",
            "The program took:  11.226442575454712  seconds.\n",
            "         16777262 function calls in 11.227 seconds\n",
            "\n",
            "   Ordered by: standard name\n",
            "\n",
            "   ncalls  tottime  percall  cumtime  percall filename:lineno(function)\n",
            "        1    0.000    0.000    0.000    0.000 codecs.py:319(decode)\n",
            "        1    0.000    0.000    0.000    0.000 codecs.py:331(getstate)\n",
            "        1    7.282    7.282   11.227   11.227 partition.py:1(<module>)\n",
            "       26    0.000    0.000    0.000    0.000 partition.py:11(<genexpr>)\n",
            "        1    0.000    0.000    0.000    0.000 partition.py:8(powerset)\n",
            "        1    0.000    0.000    0.000    0.000 {built-in method _codecs.utf_8_decode}\n",
            "        1    0.000    0.000   11.227   11.227 {built-in method builtins.exec}\n",
            "        2    0.000    0.000    0.000    0.000 {built-in method builtins.input}\n",
            "        2    0.000    0.000    0.000    0.000 {built-in method builtins.len}\n",
            "        4    0.000    0.000    0.000    0.000 {built-in method builtins.print}\n",
            " 16777217    3.944    0.000    3.944    0.000 {built-in method builtins.sum}\n",
            "        1    0.000    0.000    0.000    0.000 {built-in method from_iterable}\n",
            "        2    0.000    0.000    0.000    0.000 {built-in method time.time}\n",
            "        1    0.000    0.000    0.000    0.000 {method 'disable' of '_lsprof.Profiler' objects}\n",
            "        1    0.000    0.000    0.000    0.000 {method 'split' of 'str' objects}\n",
            "\n",
            "\n"
          ]
        }
      ]
    },
    {
      "cell_type": "markdown",
      "source": [
        "There is a line profiler called kernprof"
      ],
      "metadata": {
        "id": "ZtXOxJvZ-aJL"
      }
    },
    {
      "cell_type": "code",
      "source": [
        "!pip install line_profiler"
      ],
      "metadata": {
        "id": "_aLWv6hx-xlj",
        "outputId": "9b9d9d38-d942-4d4a-e03e-1866036c92f7",
        "colab": {
          "base_uri": "https://localhost:8080/"
        }
      },
      "execution_count": 21,
      "outputs": [
        {
          "output_type": "stream",
          "name": "stdout",
          "text": [
            "Collecting line_profiler\n",
            "  Downloading line_profiler-4.1.2-cp310-cp310-manylinux_2_17_x86_64.manylinux2014_x86_64.whl (714 kB)\n",
            "\u001b[2K     \u001b[90m━━━━━━━━━━━━━━━━━━━━━━━━━━━━━━━━━━━━━━━━\u001b[0m \u001b[32m714.8/714.8 kB\u001b[0m \u001b[31m4.2 MB/s\u001b[0m eta \u001b[36m0:00:00\u001b[0m\n",
            "\u001b[?25hInstalling collected packages: line_profiler\n",
            "Successfully installed line_profiler-4.1.2\n"
          ]
        }
      ]
    },
    {
      "cell_type": "markdown",
      "source": [
        "We need to add a decorator to the source code:"
      ],
      "metadata": {
        "id": "Vwjzw2ty-9Qz"
      }
    },
    {
      "cell_type": "code",
      "source": [
        "%%writefile partition_profile.py\n",
        "#\n",
        "# Program to solve the partition problem\n",
        "# The program assumes that input redirection\n",
        "# can be used in COLAB\n",
        "from itertools import chain, combinations\n",
        "import time\n",
        "\n",
        "def powerset(iterable):\n",
        "    \"powerset([1,2,3]) --> () (1,) (2,) (3,) (1,2) (1,3) (2,3) (1,2,3)\"\n",
        "    s = list(iterable)\n",
        "    return chain.from_iterable(combinations(s, r) for r in range(len(s)+1))\n",
        "\n",
        "#\n",
        "# The assumed format of the test file is:\n",
        "# - one line with a positive integer that contains the number of positive integers\n",
        "# in the instance\n",
        "# - A line with the list of values\n",
        "#\n",
        "\n",
        "@profile\n",
        "def partition():\n",
        "  start_time = time.time()\n",
        "  # Read the problem\n",
        "  n = int(input())\n",
        "  valuesString = input()\n",
        "  values = valuesString.split()\n",
        "  for i in range(len(values)):\n",
        "    values[i] = int(values[i])\n",
        "  # Print the instance of the problem\n",
        "  print(\"Problem size: \",n)\n",
        "  print(\"Problem instance: \",values)\n",
        "\n",
        "  sum_of_numbers = sum(values)\n",
        "  if sum_of_numbers % 2 == 1:\n",
        "    print(\"This instance does not have a solution\")\n",
        "  else:\n",
        "    power_set = powerset(values)\n",
        "    solution_found = False\n",
        "    for set in power_set:\n",
        "      if sum(set) == (sum_of_numbers//2):\n",
        "        print(\"Solution found!\")\n",
        "        print(\"One partition contains: \",set)\n",
        "        solution_found = True\n",
        "        break\n",
        "    if solution_found == False:\n",
        "      print(\"This instance does not have a solution\")\n",
        "\n",
        "  end_time = time.time()\n",
        "  elapsed_time = end_time - start_time\n",
        "  print(\"The program took: \",elapsed_time,\" seconds.\")\n",
        "\n",
        "if __name__ == \"__main__\":\n",
        "  partition()"
      ],
      "metadata": {
        "id": "zYZGui_T_ANs",
        "outputId": "ab7edd5f-713b-4713-8825-c705d6a0c4f0",
        "colab": {
          "base_uri": "https://localhost:8080/"
        }
      },
      "execution_count": 22,
      "outputs": [
        {
          "output_type": "stream",
          "name": "stdout",
          "text": [
            "Writing partition_profile.py\n"
          ]
        }
      ]
    },
    {
      "cell_type": "code",
      "source": [
        "!kernprof -l partition_profile.py < instanceNoSolution24.Text"
      ],
      "metadata": {
        "id": "HQMwWjoq_S0c",
        "outputId": "98d886b2-1d6c-4e67-a496-439dc66ecbd7",
        "colab": {
          "base_uri": "https://localhost:8080/"
        }
      },
      "execution_count": 23,
      "outputs": [
        {
          "output_type": "stream",
          "name": "stdout",
          "text": [
            "Problem size:  24\n",
            "Problem instance:  [1, 2, 3, 4, 5, 6, 7, 8, 9, 10, 11, 12, 13, 14, 15, 16, 17, 18, 19, 20, 21, 22, 23, 1000000]\n",
            "This instance does not have a solution\n",
            "The program took:  31.516949892044067  seconds.\n",
            "Wrote profile results to partition_profile.py.lprof\n",
            "Inspect results with:\n",
            "python3 -m line_profiler -rmt \"partition_profile.py.lprof\"\n"
          ]
        }
      ]
    },
    {
      "cell_type": "code",
      "source": [
        "!python3 -m line_profiler -rmt \"partition_profile.py.lprof\""
      ],
      "metadata": {
        "id": "i91shxJEJ3Be",
        "outputId": "7b701f6b-fec4-4bf3-a7d0-dd0a860738dc",
        "colab": {
          "base_uri": "https://localhost:8080/"
        }
      },
      "execution_count": 24,
      "outputs": [
        {
          "output_type": "stream",
          "name": "stdout",
          "text": [
            "Timer unit: 1e-06 s\n",
            "\n",
            "Total time: 17.9392 s\n",
            "File: partition_profile.py\n",
            "Function: partition at line 20\n",
            "\n",
            "Line #      Hits         Time  Per Hit   % Time  Line Contents\n",
            "==============================================================\n",
            "    \u001b[1;36m20\u001b[0m                                           \u001b[92;49m@profile\u001b[0m                                           \n",
            "    \u001b[1;36m21\u001b[0m                                           \u001b[96;49mdef\u001b[0m\u001b[97;49m \u001b[0m\u001b[92;49mpartition\u001b[0m\u001b[97;49m(\u001b[0m\u001b[97;49m)\u001b[0m\u001b[97;49m:\u001b[0m                                   \n",
            "    \u001b[1;36m22\u001b[0m         \u001b[1;36m1\u001b[0m          \u001b[1;36m2.9\u001b[0m      \u001b[1;36m2.9\u001b[0m      \u001b[1;36m0.0\u001b[0m  \u001b[97;49m  \u001b[0m\u001b[97;49mstart_time\u001b[0m\u001b[97;49m \u001b[0m\u001b[91;49m=\u001b[0m\u001b[97;49m \u001b[0m\u001b[97;49mtime\u001b[0m\u001b[91;49m.\u001b[0m\u001b[97;49mtime\u001b[0m\u001b[97;49m(\u001b[0m\u001b[97;49m)\u001b[0m                         \n",
            "    \u001b[1;36m23\u001b[0m                                           \u001b[97;49m  \u001b[0m\u001b[37;49m# Read the problem\u001b[0m                               \n",
            "    \u001b[1;36m24\u001b[0m         \u001b[1;36m1\u001b[0m         \u001b[1;36m43.5\u001b[0m     \u001b[1;36m43.5\u001b[0m      \u001b[1;36m0.0\u001b[0m  \u001b[97;49m  \u001b[0m\u001b[97;49mn\u001b[0m\u001b[97;49m \u001b[0m\u001b[91;49m=\u001b[0m\u001b[97;49m \u001b[0m\u001b[97;49mint\u001b[0m\u001b[97;49m(\u001b[0m\u001b[97;49minput\u001b[0m\u001b[97;49m(\u001b[0m\u001b[97;49m)\u001b[0m\u001b[97;49m)\u001b[0m                                 \n",
            "    \u001b[1;36m25\u001b[0m         \u001b[1;36m1\u001b[0m          \u001b[1;36m2.2\u001b[0m      \u001b[1;36m2.2\u001b[0m      \u001b[1;36m0.0\u001b[0m  \u001b[97;49m  \u001b[0m\u001b[97;49mvaluesString\u001b[0m\u001b[97;49m \u001b[0m\u001b[91;49m=\u001b[0m\u001b[97;49m \u001b[0m\u001b[97;49minput\u001b[0m\u001b[97;49m(\u001b[0m\u001b[97;49m)\u001b[0m                           \n",
            "    \u001b[1;36m26\u001b[0m         \u001b[1;36m1\u001b[0m          \u001b[1;36m3.7\u001b[0m      \u001b[1;36m3.7\u001b[0m      \u001b[1;36m0.0\u001b[0m  \u001b[97;49m  \u001b[0m\u001b[97;49mvalues\u001b[0m\u001b[97;49m \u001b[0m\u001b[91;49m=\u001b[0m\u001b[97;49m \u001b[0m\u001b[97;49mvaluesString\u001b[0m\u001b[91;49m.\u001b[0m\u001b[97;49msplit\u001b[0m\u001b[97;49m(\u001b[0m\u001b[97;49m)\u001b[0m                    \n",
            "    \u001b[1;36m27\u001b[0m        \u001b[1;36m25\u001b[0m          \u001b[1;36m7.7\u001b[0m      \u001b[1;36m0.3\u001b[0m      \u001b[1;36m0.0\u001b[0m  \u001b[97;49m  \u001b[0m\u001b[96;49mfor\u001b[0m\u001b[97;49m \u001b[0m\u001b[97;49mi\u001b[0m\u001b[97;49m \u001b[0m\u001b[91;49min\u001b[0m\u001b[97;49m \u001b[0m\u001b[97;49mrange\u001b[0m\u001b[97;49m(\u001b[0m\u001b[97;49mlen\u001b[0m\u001b[97;49m(\u001b[0m\u001b[97;49mvalues\u001b[0m\u001b[97;49m)\u001b[0m\u001b[97;49m)\u001b[0m\u001b[97;49m:\u001b[0m                     \n",
            "    \u001b[1;36m28\u001b[0m        \u001b[1;36m24\u001b[0m         \u001b[1;36m13.6\u001b[0m      \u001b[1;36m0.6\u001b[0m      \u001b[1;36m0.0\u001b[0m  \u001b[97;49m    \u001b[0m\u001b[97;49mvalues\u001b[0m\u001b[97;49m[\u001b[0m\u001b[97;49mi\u001b[0m\u001b[97;49m]\u001b[0m\u001b[97;49m \u001b[0m\u001b[91;49m=\u001b[0m\u001b[97;49m \u001b[0m\u001b[97;49mint\u001b[0m\u001b[97;49m(\u001b[0m\u001b[97;49mvalues\u001b[0m\u001b[97;49m[\u001b[0m\u001b[97;49mi\u001b[0m\u001b[97;49m]\u001b[0m\u001b[97;49m)\u001b[0m                     \n",
            "    \u001b[1;36m29\u001b[0m                                           \u001b[97;49m  \u001b[0m\u001b[37;49m# Print the instance of the problem\u001b[0m              \n",
            "    \u001b[1;36m30\u001b[0m         \u001b[1;36m1\u001b[0m         \u001b[1;36m26.7\u001b[0m     \u001b[1;36m26.7\u001b[0m      \u001b[1;36m0.0\u001b[0m  \u001b[97;49m  \u001b[0m\u001b[97;49mprint\u001b[0m\u001b[97;49m(\u001b[0m\u001b[93;49m\"\u001b[0m\u001b[93;49mProblem size: \u001b[0m\u001b[93;49m\"\u001b[0m\u001b[97;49m,\u001b[0m\u001b[97;49mn\u001b[0m\u001b[97;49m)\u001b[0m                        \n",
            "    \u001b[1;36m31\u001b[0m         \u001b[1;36m1\u001b[0m         \u001b[1;36m13.4\u001b[0m     \u001b[1;36m13.4\u001b[0m      \u001b[1;36m0.0\u001b[0m  \u001b[97;49m  \u001b[0m\u001b[97;49mprint\u001b[0m\u001b[97;49m(\u001b[0m\u001b[93;49m\"\u001b[0m\u001b[93;49mProblem instance: \u001b[0m\u001b[93;49m\"\u001b[0m\u001b[97;49m,\u001b[0m\u001b[97;49mvalues\u001b[0m\u001b[97;49m)\u001b[0m               \n",
            "    \u001b[1;36m32\u001b[0m                                                                                              \n",
            "    \u001b[1;36m33\u001b[0m         \u001b[1;36m1\u001b[0m          \u001b[1;36m1.7\u001b[0m      \u001b[1;36m1.7\u001b[0m      \u001b[1;36m0.0\u001b[0m  \u001b[97;49m  \u001b[0m\u001b[97;49msum_of_numbers\u001b[0m\u001b[97;49m \u001b[0m\u001b[91;49m=\u001b[0m\u001b[97;49m \u001b[0m\u001b[97;49msum\u001b[0m\u001b[97;49m(\u001b[0m\u001b[97;49mvalues\u001b[0m\u001b[97;49m)\u001b[0m                     \n",
            "    \u001b[1;36m34\u001b[0m         \u001b[1;36m1\u001b[0m          \u001b[1;36m1.0\u001b[0m      \u001b[1;36m1.0\u001b[0m      \u001b[1;36m0.0\u001b[0m  \u001b[97;49m  \u001b[0m\u001b[96;49mif\u001b[0m\u001b[97;49m \u001b[0m\u001b[97;49msum_of_numbers\u001b[0m\u001b[97;49m \u001b[0m\u001b[91;49m%\u001b[0m\u001b[97;49m \u001b[0m\u001b[37;49m2\u001b[0m\u001b[97;49m \u001b[0m\u001b[91;49m==\u001b[0m\u001b[97;49m \u001b[0m\u001b[37;49m1\u001b[0m\u001b[97;49m:\u001b[0m                      \n",
            "    \u001b[1;36m35\u001b[0m                                           \u001b[97;49m    \u001b[0m\u001b[97;49mprint\u001b[0m\u001b[97;49m(\u001b[0m\u001b[93;49m\"\u001b[0m\u001b[93;49mThis instance does not have a solution\u001b[0m\u001b[93;49m\"\u001b[0m\u001b[97;49m)\u001b[0m\n",
            "    \u001b[1;36m36\u001b[0m                                           \u001b[97;49m  \u001b[0m\u001b[96;49melse\u001b[0m\u001b[97;49m:\u001b[0m                                            \n",
            "    \u001b[1;36m37\u001b[0m         \u001b[1;36m1\u001b[0m          \u001b[1;36m8.1\u001b[0m      \u001b[1;36m8.1\u001b[0m      \u001b[1;36m0.0\u001b[0m  \u001b[97;49m    \u001b[0m\u001b[97;49mpower_set\u001b[0m\u001b[97;49m \u001b[0m\u001b[91;49m=\u001b[0m\u001b[97;49m \u001b[0m\u001b[97;49mpowerset\u001b[0m\u001b[97;49m(\u001b[0m\u001b[97;49mvalues\u001b[0m\u001b[97;49m)\u001b[0m                   \n",
            "    \u001b[1;36m38\u001b[0m         \u001b[1;36m1\u001b[0m          \u001b[1;36m0.3\u001b[0m      \u001b[1;36m0.3\u001b[0m      \u001b[1;36m0.0\u001b[0m  \u001b[97;49m    \u001b[0m\u001b[97;49msolution_found\u001b[0m\u001b[97;49m \u001b[0m\u001b[91;49m=\u001b[0m\u001b[97;49m \u001b[0m\u001b[96;49mFalse\u001b[0m                         \n",
            "    \u001b[1;36m39\u001b[0m  \u001b[1;36m16777217\u001b[0m    \u001b[1;36m6037465.5\u001b[0m      \u001b[1;36m0.4\u001b[0m     \u001b[1;36m33.7\u001b[0m  \u001b[97;49m    \u001b[0m\u001b[96;49mfor\u001b[0m\u001b[97;49m \u001b[0m\u001b[97;49mset\u001b[0m\u001b[97;49m \u001b[0m\u001b[91;49min\u001b[0m\u001b[97;49m \u001b[0m\u001b[97;49mpower_set\u001b[0m\u001b[97;49m:\u001b[0m                          \n",
            "    \u001b[1;36m40\u001b[0m  \u001b[1;36m16777216\u001b[0m   \u001b[1;36m11901503.5\u001b[0m      \u001b[1;36m0.7\u001b[0m     \u001b[1;36m66.3\u001b[0m  \u001b[97;49m      \u001b[0m\u001b[96;49mif\u001b[0m\u001b[97;49m \u001b[0m\u001b[97;49msum\u001b[0m\u001b[97;49m(\u001b[0m\u001b[97;49mset\u001b[0m\u001b[97;49m)\u001b[0m\u001b[97;49m \u001b[0m\u001b[91;49m==\u001b[0m\u001b[97;49m \u001b[0m\u001b[97;49m(\u001b[0m\u001b[97;49msum_of_numbers\u001b[0m\u001b[91;49m/\u001b[0m\u001b[91;49m/\u001b[0m\u001b[37;49m2\u001b[0m\u001b[97;49m)\u001b[0m\u001b[97;49m:\u001b[0m          \n",
            "    \u001b[1;36m41\u001b[0m                                           \u001b[97;49m        \u001b[0m\u001b[97;49mprint\u001b[0m\u001b[97;49m(\u001b[0m\u001b[93;49m\"\u001b[0m\u001b[93;49mSolution found!\u001b[0m\u001b[93;49m\"\u001b[0m\u001b[97;49m)\u001b[0m                   \n",
            "    \u001b[1;36m42\u001b[0m                                           \u001b[97;49m        \u001b[0m\u001b[97;49mprint\u001b[0m\u001b[97;49m(\u001b[0m\u001b[93;49m\"\u001b[0m\u001b[93;49mOne partition contains: \u001b[0m\u001b[93;49m\"\u001b[0m\u001b[97;49m,\u001b[0m\u001b[97;49mset\u001b[0m\u001b[97;49m)\u001b[0m      \n",
            "    \u001b[1;36m43\u001b[0m                                           \u001b[97;49m        \u001b[0m\u001b[97;49msolution_found\u001b[0m\u001b[97;49m \u001b[0m\u001b[91;49m=\u001b[0m\u001b[97;49m \u001b[0m\u001b[96;49mTrue\u001b[0m                      \n",
            "    \u001b[1;36m44\u001b[0m                                           \u001b[97;49m        \u001b[0m\u001b[96;49mbreak\u001b[0m                                      \n",
            "    \u001b[1;36m45\u001b[0m         \u001b[1;36m1\u001b[0m          \u001b[1;36m0.6\u001b[0m      \u001b[1;36m0.6\u001b[0m      \u001b[1;36m0.0\u001b[0m  \u001b[97;49m    \u001b[0m\u001b[96;49mif\u001b[0m\u001b[97;49m \u001b[0m\u001b[97;49msolution_found\u001b[0m\u001b[97;49m \u001b[0m\u001b[91;49m==\u001b[0m\u001b[97;49m \u001b[0m\u001b[96;49mFalse\u001b[0m\u001b[97;49m:\u001b[0m                    \n",
            "    \u001b[1;36m46\u001b[0m         \u001b[1;36m1\u001b[0m         \u001b[1;36m89.9\u001b[0m     \u001b[1;36m89.9\u001b[0m      \u001b[1;36m0.0\u001b[0m  \u001b[97;49m      \u001b[0m\u001b[97;49mprint\u001b[0m\u001b[97;49m(\u001b[0m\u001b[93;49m\"\u001b[0m\u001b[93;49mThis instance does not have a solutio…\u001b[0m\n",
            "    \u001b[1;36m47\u001b[0m                                                                                              \n",
            "    \u001b[1;36m48\u001b[0m         \u001b[1;36m1\u001b[0m          \u001b[1;36m7.6\u001b[0m      \u001b[1;36m7.6\u001b[0m      \u001b[1;36m0.0\u001b[0m  \u001b[97;49m  \u001b[0m\u001b[97;49mend_time\u001b[0m\u001b[97;49m \u001b[0m\u001b[91;49m=\u001b[0m\u001b[97;49m \u001b[0m\u001b[97;49mtime\u001b[0m\u001b[91;49m.\u001b[0m\u001b[97;49mtime\u001b[0m\u001b[97;49m(\u001b[0m\u001b[97;49m)\u001b[0m                           \n",
            "    \u001b[1;36m49\u001b[0m         \u001b[1;36m1\u001b[0m          \u001b[1;36m1.2\u001b[0m      \u001b[1;36m1.2\u001b[0m      \u001b[1;36m0.0\u001b[0m  \u001b[97;49m  \u001b[0m\u001b[97;49melapsed_time\u001b[0m\u001b[97;49m \u001b[0m\u001b[91;49m=\u001b[0m\u001b[97;49m \u001b[0m\u001b[97;49mend_time\u001b[0m\u001b[97;49m \u001b[0m\u001b[91;49m-\u001b[0m\u001b[97;49m \u001b[0m\u001b[97;49mstart_time\u001b[0m             \n",
            "    \u001b[1;36m50\u001b[0m         \u001b[1;36m1\u001b[0m         \u001b[1;36m26.9\u001b[0m     \u001b[1;36m26.9\u001b[0m      \u001b[1;36m0.0\u001b[0m  \u001b[97;49m  \u001b[0m\u001b[97;49mprint\u001b[0m\u001b[97;49m(\u001b[0m\u001b[93;49m\"\u001b[0m\u001b[93;49mThe program took: \u001b[0m\u001b[93;49m\"\u001b[0m\u001b[97;49m,\u001b[0m\u001b[97;49melapsed_time\u001b[0m\u001b[97;49m,\u001b[0m\u001b[93;49m\"\u001b[0m\u001b[93;49m second…\u001b[0m\n",
            "\n",
            "\n",
            " 17.94 seconds - partition_profile.py:20 - partition\n"
          ]
        }
      ]
    },
    {
      "cell_type": "code",
      "source": [
        "!kernprof -l partition_profile.py < test20.Text"
      ],
      "metadata": {
        "colab": {
          "base_uri": "https://localhost:8080/"
        },
        "id": "sa2mHiKodbWe",
        "outputId": "a48bb1b9-d2ee-433e-a6d8-2c34cea50679"
      },
      "execution_count": 26,
      "outputs": [
        {
          "output_type": "stream",
          "name": "stdout",
          "text": [
            "Problem size:  20\n",
            "Problem instance:  [1, 1, 1, 1, 1, 1, 1, 1, 1, 1, 1, 1, 1, 1, 1, 1, 1, 1, 1, 19]\n",
            "Solution found!\n",
            "One partition contains:  (19,)\n",
            "The program took:  0.00019550323486328125  seconds.\n",
            "Wrote profile results to partition_profile.py.lprof\n",
            "Inspect results with:\n",
            "python3 -m line_profiler -rmt \"partition_profile.py.lprof\"\n"
          ]
        }
      ]
    },
    {
      "cell_type": "code",
      "source": [
        "!python3 -m line_profiler -rmt \"partition_profile.py.lprof\"\n"
      ],
      "metadata": {
        "colab": {
          "base_uri": "https://localhost:8080/"
        },
        "id": "Zris8FL6eCUq",
        "outputId": "23f06c0c-8e70-45d1-e363-637f808fc7b0"
      },
      "execution_count": 27,
      "outputs": [
        {
          "output_type": "stream",
          "name": "stdout",
          "text": [
            "Timer unit: 1e-06 s\n",
            "\n",
            "Total time: 0.000167682 s\n",
            "File: partition_profile.py\n",
            "Function: partition at line 20\n",
            "\n",
            "Line #      Hits         Time  Per Hit   % Time  Line Contents\n",
            "==============================================================\n",
            "    \u001b[1;36m20\u001b[0m                                           \u001b[92;49m@profile\u001b[0m                                           \n",
            "    \u001b[1;36m21\u001b[0m                                           \u001b[96;49mdef\u001b[0m\u001b[97;49m \u001b[0m\u001b[92;49mpartition\u001b[0m\u001b[97;49m(\u001b[0m\u001b[97;49m)\u001b[0m\u001b[97;49m:\u001b[0m                                   \n",
            "    \u001b[1;36m22\u001b[0m         \u001b[1;36m1\u001b[0m          \u001b[1;36m2.8\u001b[0m      \u001b[1;36m2.8\u001b[0m      \u001b[1;36m1.7\u001b[0m  \u001b[97;49m  \u001b[0m\u001b[97;49mstart_time\u001b[0m\u001b[97;49m \u001b[0m\u001b[91;49m=\u001b[0m\u001b[97;49m \u001b[0m\u001b[97;49mtime\u001b[0m\u001b[91;49m.\u001b[0m\u001b[97;49mtime\u001b[0m\u001b[97;49m(\u001b[0m\u001b[97;49m)\u001b[0m                         \n",
            "    \u001b[1;36m23\u001b[0m                                           \u001b[97;49m  \u001b[0m\u001b[37;49m# Read the problem\u001b[0m                               \n",
            "    \u001b[1;36m24\u001b[0m         \u001b[1;36m1\u001b[0m         \u001b[1;36m36.9\u001b[0m     \u001b[1;36m36.9\u001b[0m     \u001b[1;36m22.0\u001b[0m  \u001b[97;49m  \u001b[0m\u001b[97;49mn\u001b[0m\u001b[97;49m \u001b[0m\u001b[91;49m=\u001b[0m\u001b[97;49m \u001b[0m\u001b[97;49mint\u001b[0m\u001b[97;49m(\u001b[0m\u001b[97;49minput\u001b[0m\u001b[97;49m(\u001b[0m\u001b[97;49m)\u001b[0m\u001b[97;49m)\u001b[0m                                 \n",
            "    \u001b[1;36m25\u001b[0m         \u001b[1;36m1\u001b[0m          \u001b[1;36m2.0\u001b[0m      \u001b[1;36m2.0\u001b[0m      \u001b[1;36m1.2\u001b[0m  \u001b[97;49m  \u001b[0m\u001b[97;49mvaluesString\u001b[0m\u001b[97;49m \u001b[0m\u001b[91;49m=\u001b[0m\u001b[97;49m \u001b[0m\u001b[97;49minput\u001b[0m\u001b[97;49m(\u001b[0m\u001b[97;49m)\u001b[0m                           \n",
            "    \u001b[1;36m26\u001b[0m         \u001b[1;36m1\u001b[0m          \u001b[1;36m2.2\u001b[0m      \u001b[1;36m2.2\u001b[0m      \u001b[1;36m1.3\u001b[0m  \u001b[97;49m  \u001b[0m\u001b[97;49mvalues\u001b[0m\u001b[97;49m \u001b[0m\u001b[91;49m=\u001b[0m\u001b[97;49m \u001b[0m\u001b[97;49mvaluesString\u001b[0m\u001b[91;49m.\u001b[0m\u001b[97;49msplit\u001b[0m\u001b[97;49m(\u001b[0m\u001b[97;49m)\u001b[0m                    \n",
            "    \u001b[1;36m27\u001b[0m        \u001b[1;36m21\u001b[0m          \u001b[1;36m6.9\u001b[0m      \u001b[1;36m0.3\u001b[0m      \u001b[1;36m4.1\u001b[0m  \u001b[97;49m  \u001b[0m\u001b[96;49mfor\u001b[0m\u001b[97;49m \u001b[0m\u001b[97;49mi\u001b[0m\u001b[97;49m \u001b[0m\u001b[91;49min\u001b[0m\u001b[97;49m \u001b[0m\u001b[97;49mrange\u001b[0m\u001b[97;49m(\u001b[0m\u001b[97;49mlen\u001b[0m\u001b[97;49m(\u001b[0m\u001b[97;49mvalues\u001b[0m\u001b[97;49m)\u001b[0m\u001b[97;49m)\u001b[0m\u001b[97;49m:\u001b[0m                     \n",
            "    \u001b[1;36m28\u001b[0m        \u001b[1;36m20\u001b[0m         \u001b[1;36m10.7\u001b[0m      \u001b[1;36m0.5\u001b[0m      \u001b[1;36m6.4\u001b[0m  \u001b[97;49m    \u001b[0m\u001b[97;49mvalues\u001b[0m\u001b[97;49m[\u001b[0m\u001b[97;49mi\u001b[0m\u001b[97;49m]\u001b[0m\u001b[97;49m \u001b[0m\u001b[91;49m=\u001b[0m\u001b[97;49m \u001b[0m\u001b[97;49mint\u001b[0m\u001b[97;49m(\u001b[0m\u001b[97;49mvalues\u001b[0m\u001b[97;49m[\u001b[0m\u001b[97;49mi\u001b[0m\u001b[97;49m]\u001b[0m\u001b[97;49m)\u001b[0m                     \n",
            "    \u001b[1;36m29\u001b[0m                                           \u001b[97;49m  \u001b[0m\u001b[37;49m# Print the instance of the problem\u001b[0m              \n",
            "    \u001b[1;36m30\u001b[0m         \u001b[1;36m1\u001b[0m         \u001b[1;36m35.0\u001b[0m     \u001b[1;36m35.0\u001b[0m     \u001b[1;36m20.9\u001b[0m  \u001b[97;49m  \u001b[0m\u001b[97;49mprint\u001b[0m\u001b[97;49m(\u001b[0m\u001b[93;49m\"\u001b[0m\u001b[93;49mProblem size: \u001b[0m\u001b[93;49m\"\u001b[0m\u001b[97;49m,\u001b[0m\u001b[97;49mn\u001b[0m\u001b[97;49m)\u001b[0m                        \n",
            "    \u001b[1;36m31\u001b[0m         \u001b[1;36m1\u001b[0m         \u001b[1;36m12.2\u001b[0m     \u001b[1;36m12.2\u001b[0m      \u001b[1;36m7.3\u001b[0m  \u001b[97;49m  \u001b[0m\u001b[97;49mprint\u001b[0m\u001b[97;49m(\u001b[0m\u001b[93;49m\"\u001b[0m\u001b[93;49mProblem instance: \u001b[0m\u001b[93;49m\"\u001b[0m\u001b[97;49m,\u001b[0m\u001b[97;49mvalues\u001b[0m\u001b[97;49m)\u001b[0m               \n",
            "    \u001b[1;36m32\u001b[0m                                                                                              \n",
            "    \u001b[1;36m33\u001b[0m         \u001b[1;36m1\u001b[0m          \u001b[1;36m1.2\u001b[0m      \u001b[1;36m1.2\u001b[0m      \u001b[1;36m0.7\u001b[0m  \u001b[97;49m  \u001b[0m\u001b[97;49msum_of_numbers\u001b[0m\u001b[97;49m \u001b[0m\u001b[91;49m=\u001b[0m\u001b[97;49m \u001b[0m\u001b[97;49msum\u001b[0m\u001b[97;49m(\u001b[0m\u001b[97;49mvalues\u001b[0m\u001b[97;49m)\u001b[0m                     \n",
            "    \u001b[1;36m34\u001b[0m         \u001b[1;36m1\u001b[0m          \u001b[1;36m0.8\u001b[0m      \u001b[1;36m0.8\u001b[0m      \u001b[1;36m0.5\u001b[0m  \u001b[97;49m  \u001b[0m\u001b[96;49mif\u001b[0m\u001b[97;49m \u001b[0m\u001b[97;49msum_of_numbers\u001b[0m\u001b[97;49m \u001b[0m\u001b[91;49m%\u001b[0m\u001b[97;49m \u001b[0m\u001b[37;49m2\u001b[0m\u001b[97;49m \u001b[0m\u001b[91;49m==\u001b[0m\u001b[97;49m \u001b[0m\u001b[37;49m1\u001b[0m\u001b[97;49m:\u001b[0m                      \n",
            "    \u001b[1;36m35\u001b[0m                                           \u001b[97;49m    \u001b[0m\u001b[97;49mprint\u001b[0m\u001b[97;49m(\u001b[0m\u001b[93;49m\"\u001b[0m\u001b[93;49mThis instance does not have a solution\u001b[0m\u001b[93;49m\"\u001b[0m\u001b[97;49m)\u001b[0m\n",
            "    \u001b[1;36m36\u001b[0m                                           \u001b[97;49m  \u001b[0m\u001b[96;49melse\u001b[0m\u001b[97;49m:\u001b[0m                                            \n",
            "    \u001b[1;36m37\u001b[0m         \u001b[1;36m1\u001b[0m          \u001b[1;36m6.3\u001b[0m      \u001b[1;36m6.3\u001b[0m      \u001b[1;36m3.7\u001b[0m  \u001b[97;49m    \u001b[0m\u001b[97;49mpower_set\u001b[0m\u001b[97;49m \u001b[0m\u001b[91;49m=\u001b[0m\u001b[97;49m \u001b[0m\u001b[97;49mpowerset\u001b[0m\u001b[97;49m(\u001b[0m\u001b[97;49mvalues\u001b[0m\u001b[97;49m)\u001b[0m                   \n",
            "    \u001b[1;36m38\u001b[0m         \u001b[1;36m1\u001b[0m          \u001b[1;36m0.2\u001b[0m      \u001b[1;36m0.2\u001b[0m      \u001b[1;36m0.1\u001b[0m  \u001b[97;49m    \u001b[0m\u001b[97;49msolution_found\u001b[0m\u001b[97;49m \u001b[0m\u001b[91;49m=\u001b[0m\u001b[97;49m \u001b[0m\u001b[96;49mFalse\u001b[0m                         \n",
            "    \u001b[1;36m39\u001b[0m        \u001b[1;36m21\u001b[0m         \u001b[1;36m14.3\u001b[0m      \u001b[1;36m0.7\u001b[0m      \u001b[1;36m8.5\u001b[0m  \u001b[97;49m    \u001b[0m\u001b[96;49mfor\u001b[0m\u001b[97;49m \u001b[0m\u001b[97;49mset\u001b[0m\u001b[97;49m \u001b[0m\u001b[91;49min\u001b[0m\u001b[97;49m \u001b[0m\u001b[97;49mpower_set\u001b[0m\u001b[97;49m:\u001b[0m                          \n",
            "    \u001b[1;36m40\u001b[0m        \u001b[1;36m21\u001b[0m         \u001b[1;36m10.5\u001b[0m      \u001b[1;36m0.5\u001b[0m      \u001b[1;36m6.2\u001b[0m  \u001b[97;49m      \u001b[0m\u001b[96;49mif\u001b[0m\u001b[97;49m \u001b[0m\u001b[97;49msum\u001b[0m\u001b[97;49m(\u001b[0m\u001b[97;49mset\u001b[0m\u001b[97;49m)\u001b[0m\u001b[97;49m \u001b[0m\u001b[91;49m==\u001b[0m\u001b[97;49m \u001b[0m\u001b[97;49m(\u001b[0m\u001b[97;49msum_of_numbers\u001b[0m\u001b[91;49m/\u001b[0m\u001b[91;49m/\u001b[0m\u001b[37;49m2\u001b[0m\u001b[97;49m)\u001b[0m\u001b[97;49m:\u001b[0m          \n",
            "    \u001b[1;36m41\u001b[0m         \u001b[1;36m1\u001b[0m          \u001b[1;36m6.0\u001b[0m      \u001b[1;36m6.0\u001b[0m      \u001b[1;36m3.6\u001b[0m  \u001b[97;49m        \u001b[0m\u001b[97;49mprint\u001b[0m\u001b[97;49m(\u001b[0m\u001b[93;49m\"\u001b[0m\u001b[93;49mSolution found!\u001b[0m\u001b[93;49m\"\u001b[0m\u001b[97;49m)\u001b[0m                   \n",
            "    \u001b[1;36m42\u001b[0m         \u001b[1;36m1\u001b[0m          \u001b[1;36m6.3\u001b[0m      \u001b[1;36m6.3\u001b[0m      \u001b[1;36m3.7\u001b[0m  \u001b[97;49m        \u001b[0m\u001b[97;49mprint\u001b[0m\u001b[97;49m(\u001b[0m\u001b[93;49m\"\u001b[0m\u001b[93;49mOne partition contains: \u001b[0m\u001b[93;49m\"\u001b[0m\u001b[97;49m,\u001b[0m\u001b[97;49mset\u001b[0m\u001b[97;49m)\u001b[0m      \n",
            "    \u001b[1;36m43\u001b[0m         \u001b[1;36m1\u001b[0m          \u001b[1;36m0.2\u001b[0m      \u001b[1;36m0.2\u001b[0m      \u001b[1;36m0.1\u001b[0m  \u001b[97;49m        \u001b[0m\u001b[97;49msolution_found\u001b[0m\u001b[97;49m \u001b[0m\u001b[91;49m=\u001b[0m\u001b[97;49m \u001b[0m\u001b[96;49mTrue\u001b[0m                      \n",
            "    \u001b[1;36m44\u001b[0m         \u001b[1;36m1\u001b[0m          \u001b[1;36m0.3\u001b[0m      \u001b[1;36m0.3\u001b[0m      \u001b[1;36m0.2\u001b[0m  \u001b[97;49m        \u001b[0m\u001b[96;49mbreak\u001b[0m                                      \n",
            "    \u001b[1;36m45\u001b[0m         \u001b[1;36m1\u001b[0m          \u001b[1;36m0.3\u001b[0m      \u001b[1;36m0.3\u001b[0m      \u001b[1;36m0.2\u001b[0m  \u001b[97;49m    \u001b[0m\u001b[96;49mif\u001b[0m\u001b[97;49m \u001b[0m\u001b[97;49msolution_found\u001b[0m\u001b[97;49m \u001b[0m\u001b[91;49m==\u001b[0m\u001b[97;49m \u001b[0m\u001b[96;49mFalse\u001b[0m\u001b[97;49m:\u001b[0m                    \n",
            "    \u001b[1;36m46\u001b[0m                                           \u001b[97;49m      \u001b[0m\u001b[97;49mprint\u001b[0m\u001b[97;49m(\u001b[0m\u001b[93;49m\"\u001b[0m\u001b[93;49mThis instance does not have a solutio…\u001b[0m\n",
            "    \u001b[1;36m47\u001b[0m                                                                                              \n",
            "    \u001b[1;36m48\u001b[0m         \u001b[1;36m1\u001b[0m          \u001b[1;36m0.8\u001b[0m      \u001b[1;36m0.8\u001b[0m      \u001b[1;36m0.5\u001b[0m  \u001b[97;49m  \u001b[0m\u001b[97;49mend_time\u001b[0m\u001b[97;49m \u001b[0m\u001b[91;49m=\u001b[0m\u001b[97;49m \u001b[0m\u001b[97;49mtime\u001b[0m\u001b[91;49m.\u001b[0m\u001b[97;49mtime\u001b[0m\u001b[97;49m(\u001b[0m\u001b[97;49m)\u001b[0m                           \n",
            "    \u001b[1;36m49\u001b[0m         \u001b[1;36m1\u001b[0m          \u001b[1;36m0.6\u001b[0m      \u001b[1;36m0.6\u001b[0m      \u001b[1;36m0.4\u001b[0m  \u001b[97;49m  \u001b[0m\u001b[97;49melapsed_time\u001b[0m\u001b[97;49m \u001b[0m\u001b[91;49m=\u001b[0m\u001b[97;49m \u001b[0m\u001b[97;49mend_time\u001b[0m\u001b[97;49m \u001b[0m\u001b[91;49m-\u001b[0m\u001b[97;49m \u001b[0m\u001b[97;49mstart_time\u001b[0m             \n",
            "    \u001b[1;36m50\u001b[0m         \u001b[1;36m1\u001b[0m         \u001b[1;36m11.1\u001b[0m     \u001b[1;36m11.1\u001b[0m      \u001b[1;36m6.6\u001b[0m  \u001b[97;49m  \u001b[0m\u001b[97;49mprint\u001b[0m\u001b[97;49m(\u001b[0m\u001b[93;49m\"\u001b[0m\u001b[93;49mThe program took: \u001b[0m\u001b[93;49m\"\u001b[0m\u001b[97;49m,\u001b[0m\u001b[97;49melapsed_time\u001b[0m\u001b[97;49m,\u001b[0m\u001b[93;49m\"\u001b[0m\u001b[93;49m second…\u001b[0m\n",
            "\n",
            "\n",
            "  0.00 seconds - partition_profile.py:20 - partition\n"
          ]
        }
      ]
    },
    {
      "cell_type": "code",
      "source": [
        "%%writefile instanceNoSolution20.Text\n",
        "20\n",
        "1 2 3 4 5 6 7 8 9 10 11 12 13 14 15 16 17 18 19 1000000"
      ],
      "metadata": {
        "colab": {
          "base_uri": "https://localhost:8080/"
        },
        "id": "7vose6WKfBeO",
        "outputId": "ba2dc341-1b5d-4214-9978-503df5c9486a"
      },
      "execution_count": 40,
      "outputs": [
        {
          "output_type": "stream",
          "name": "stdout",
          "text": [
            "Overwriting instanceNoSolution20.Text\n"
          ]
        }
      ]
    },
    {
      "cell_type": "code",
      "source": [
        "%%writefile instanceNoSolution21.Text\n",
        "21\n",
        "1 2 3 4 5 6 7 8 9 10 11 12 13 14 15 16 17 18 19 20 1000000"
      ],
      "metadata": {
        "colab": {
          "base_uri": "https://localhost:8080/"
        },
        "id": "tV618rGdfJzO",
        "outputId": "dd66c872-62b7-4095-a660-f301251af8ea"
      },
      "execution_count": 41,
      "outputs": [
        {
          "output_type": "stream",
          "name": "stdout",
          "text": [
            "Overwriting instanceNoSolution21.Text\n"
          ]
        }
      ]
    },
    {
      "cell_type": "code",
      "source": [
        "%%writefile instanceNoSolution22.Text\n",
        "22\n",
        "1 2 3 4 5 6 7 8 9 10 11 12 13 14 15 16 17 18 19 20 21 1000000"
      ],
      "metadata": {
        "colab": {
          "base_uri": "https://localhost:8080/"
        },
        "id": "8tsGIwfQfPvK",
        "outputId": "66a4ba46-8c31-4896-b426-26a6f8ce8a8c"
      },
      "execution_count": 42,
      "outputs": [
        {
          "output_type": "stream",
          "name": "stdout",
          "text": [
            "Overwriting instanceNoSolution22.Text\n"
          ]
        }
      ]
    },
    {
      "cell_type": "code",
      "source": [
        "%%writefile instanceNoSolution23.Text\n",
        "23\n",
        "1 2 3 4 5 6 7 8 9 10 11 12 13 14 15 16 17 18 19 20 21 22 1000000"
      ],
      "metadata": {
        "colab": {
          "base_uri": "https://localhost:8080/"
        },
        "id": "fIU_oUmqfWni",
        "outputId": "37d19ba4-de44-4e65-889f-1b7ccca04969"
      },
      "execution_count": 43,
      "outputs": [
        {
          "output_type": "stream",
          "name": "stdout",
          "text": [
            "Overwriting instanceNoSolution23.Text\n"
          ]
        }
      ]
    },
    {
      "cell_type": "code",
      "source": [
        "%%writefile instanceNoSolution24.Text\n",
        "24\n",
        "1 2 3 4 5 6 7 8 9 10 11 12 13 14 15 16 17 18 19 20 21 22 23 1000000"
      ],
      "metadata": {
        "colab": {
          "base_uri": "https://localhost:8080/"
        },
        "id": "7lKejrTNfdRp",
        "outputId": "1d1cdb94-484f-4b3c-e57d-cfa60552d3a2"
      },
      "execution_count": 44,
      "outputs": [
        {
          "output_type": "stream",
          "name": "stdout",
          "text": [
            "Overwriting instanceNoSolution24.Text\n"
          ]
        }
      ]
    },
    {
      "cell_type": "code",
      "source": [
        "!kernprof -l partition_profile.py < instanceNoSolution24.Text"
      ],
      "metadata": {
        "colab": {
          "base_uri": "https://localhost:8080/"
        },
        "id": "1uB2sb6pfl42",
        "outputId": "f93f0aca-becd-40ee-8b0a-2a848b7e0714"
      },
      "execution_count": 45,
      "outputs": [
        {
          "output_type": "stream",
          "name": "stdout",
          "text": [
            "Problem size:  24\n",
            "Problem instance:  [1, 2, 3, 4, 5, 6, 7, 8, 9, 10, 11, 12, 13, 14, 15, 16, 17, 18, 19, 20, 21, 22, 23, 1000000]\n",
            "This instance does not have a solution\n",
            "The program took:  31.380380868911743  seconds.\n",
            "Wrote profile results to partition_profile.py.lprof\n",
            "Inspect results with:\n",
            "python3 -m line_profiler -rmt \"partition_profile.py.lprof\"\n"
          ]
        }
      ]
    },
    {
      "cell_type": "code",
      "source": [
        "!python3 -m line_profiler -rmt \"partition_profile.py.lprof\""
      ],
      "metadata": {
        "colab": {
          "base_uri": "https://localhost:8080/"
        },
        "id": "HTbhcOqUfwJc",
        "outputId": "3f326b9e-689f-4535-9a66-0dfdd8b365b2"
      },
      "execution_count": 46,
      "outputs": [
        {
          "output_type": "stream",
          "name": "stdout",
          "text": [
            "Timer unit: 1e-06 s\n",
            "\n",
            "Total time: 17.9228 s\n",
            "File: partition_profile.py\n",
            "Function: partition at line 20\n",
            "\n",
            "Line #      Hits         Time  Per Hit   % Time  Line Contents\n",
            "==============================================================\n",
            "    \u001b[1;36m20\u001b[0m                                           \u001b[92;49m@profile\u001b[0m                                           \n",
            "    \u001b[1;36m21\u001b[0m                                           \u001b[96;49mdef\u001b[0m\u001b[97;49m \u001b[0m\u001b[92;49mpartition\u001b[0m\u001b[97;49m(\u001b[0m\u001b[97;49m)\u001b[0m\u001b[97;49m:\u001b[0m                                   \n",
            "    \u001b[1;36m22\u001b[0m         \u001b[1;36m1\u001b[0m          \u001b[1;36m3.5\u001b[0m      \u001b[1;36m3.5\u001b[0m      \u001b[1;36m0.0\u001b[0m  \u001b[97;49m  \u001b[0m\u001b[97;49mstart_time\u001b[0m\u001b[97;49m \u001b[0m\u001b[91;49m=\u001b[0m\u001b[97;49m \u001b[0m\u001b[97;49mtime\u001b[0m\u001b[91;49m.\u001b[0m\u001b[97;49mtime\u001b[0m\u001b[97;49m(\u001b[0m\u001b[97;49m)\u001b[0m                         \n",
            "    \u001b[1;36m23\u001b[0m                                           \u001b[97;49m  \u001b[0m\u001b[37;49m# Read the problem\u001b[0m                               \n",
            "    \u001b[1;36m24\u001b[0m         \u001b[1;36m1\u001b[0m         \u001b[1;36m71.2\u001b[0m     \u001b[1;36m71.2\u001b[0m      \u001b[1;36m0.0\u001b[0m  \u001b[97;49m  \u001b[0m\u001b[97;49mn\u001b[0m\u001b[97;49m \u001b[0m\u001b[91;49m=\u001b[0m\u001b[97;49m \u001b[0m\u001b[97;49mint\u001b[0m\u001b[97;49m(\u001b[0m\u001b[97;49minput\u001b[0m\u001b[97;49m(\u001b[0m\u001b[97;49m)\u001b[0m\u001b[97;49m)\u001b[0m                                 \n",
            "    \u001b[1;36m25\u001b[0m         \u001b[1;36m1\u001b[0m          \u001b[1;36m2.2\u001b[0m      \u001b[1;36m2.2\u001b[0m      \u001b[1;36m0.0\u001b[0m  \u001b[97;49m  \u001b[0m\u001b[97;49mvaluesString\u001b[0m\u001b[97;49m \u001b[0m\u001b[91;49m=\u001b[0m\u001b[97;49m \u001b[0m\u001b[97;49minput\u001b[0m\u001b[97;49m(\u001b[0m\u001b[97;49m)\u001b[0m                           \n",
            "    \u001b[1;36m26\u001b[0m         \u001b[1;36m1\u001b[0m          \u001b[1;36m4.3\u001b[0m      \u001b[1;36m4.3\u001b[0m      \u001b[1;36m0.0\u001b[0m  \u001b[97;49m  \u001b[0m\u001b[97;49mvalues\u001b[0m\u001b[97;49m \u001b[0m\u001b[91;49m=\u001b[0m\u001b[97;49m \u001b[0m\u001b[97;49mvaluesString\u001b[0m\u001b[91;49m.\u001b[0m\u001b[97;49msplit\u001b[0m\u001b[97;49m(\u001b[0m\u001b[97;49m)\u001b[0m                    \n",
            "    \u001b[1;36m27\u001b[0m        \u001b[1;36m25\u001b[0m          \u001b[1;36m8.7\u001b[0m      \u001b[1;36m0.3\u001b[0m      \u001b[1;36m0.0\u001b[0m  \u001b[97;49m  \u001b[0m\u001b[96;49mfor\u001b[0m\u001b[97;49m \u001b[0m\u001b[97;49mi\u001b[0m\u001b[97;49m \u001b[0m\u001b[91;49min\u001b[0m\u001b[97;49m \u001b[0m\u001b[97;49mrange\u001b[0m\u001b[97;49m(\u001b[0m\u001b[97;49mlen\u001b[0m\u001b[97;49m(\u001b[0m\u001b[97;49mvalues\u001b[0m\u001b[97;49m)\u001b[0m\u001b[97;49m)\u001b[0m\u001b[97;49m:\u001b[0m                     \n",
            "    \u001b[1;36m28\u001b[0m        \u001b[1;36m24\u001b[0m         \u001b[1;36m13.9\u001b[0m      \u001b[1;36m0.6\u001b[0m      \u001b[1;36m0.0\u001b[0m  \u001b[97;49m    \u001b[0m\u001b[97;49mvalues\u001b[0m\u001b[97;49m[\u001b[0m\u001b[97;49mi\u001b[0m\u001b[97;49m]\u001b[0m\u001b[97;49m \u001b[0m\u001b[91;49m=\u001b[0m\u001b[97;49m \u001b[0m\u001b[97;49mint\u001b[0m\u001b[97;49m(\u001b[0m\u001b[97;49mvalues\u001b[0m\u001b[97;49m[\u001b[0m\u001b[97;49mi\u001b[0m\u001b[97;49m]\u001b[0m\u001b[97;49m)\u001b[0m                     \n",
            "    \u001b[1;36m29\u001b[0m                                           \u001b[97;49m  \u001b[0m\u001b[37;49m# Print the instance of the problem\u001b[0m              \n",
            "    \u001b[1;36m30\u001b[0m         \u001b[1;36m1\u001b[0m         \u001b[1;36m34.3\u001b[0m     \u001b[1;36m34.3\u001b[0m      \u001b[1;36m0.0\u001b[0m  \u001b[97;49m  \u001b[0m\u001b[97;49mprint\u001b[0m\u001b[97;49m(\u001b[0m\u001b[93;49m\"\u001b[0m\u001b[93;49mProblem size: \u001b[0m\u001b[93;49m\"\u001b[0m\u001b[97;49m,\u001b[0m\u001b[97;49mn\u001b[0m\u001b[97;49m)\u001b[0m                        \n",
            "    \u001b[1;36m31\u001b[0m         \u001b[1;36m1\u001b[0m         \u001b[1;36m14.5\u001b[0m     \u001b[1;36m14.5\u001b[0m      \u001b[1;36m0.0\u001b[0m  \u001b[97;49m  \u001b[0m\u001b[97;49mprint\u001b[0m\u001b[97;49m(\u001b[0m\u001b[93;49m\"\u001b[0m\u001b[93;49mProblem instance: \u001b[0m\u001b[93;49m\"\u001b[0m\u001b[97;49m,\u001b[0m\u001b[97;49mvalues\u001b[0m\u001b[97;49m)\u001b[0m               \n",
            "    \u001b[1;36m32\u001b[0m                                                                                              \n",
            "    \u001b[1;36m33\u001b[0m         \u001b[1;36m1\u001b[0m          \u001b[1;36m2.3\u001b[0m      \u001b[1;36m2.3\u001b[0m      \u001b[1;36m0.0\u001b[0m  \u001b[97;49m  \u001b[0m\u001b[97;49msum_of_numbers\u001b[0m\u001b[97;49m \u001b[0m\u001b[91;49m=\u001b[0m\u001b[97;49m \u001b[0m\u001b[97;49msum\u001b[0m\u001b[97;49m(\u001b[0m\u001b[97;49mvalues\u001b[0m\u001b[97;49m)\u001b[0m                     \n",
            "    \u001b[1;36m34\u001b[0m         \u001b[1;36m1\u001b[0m          \u001b[1;36m0.9\u001b[0m      \u001b[1;36m0.9\u001b[0m      \u001b[1;36m0.0\u001b[0m  \u001b[97;49m  \u001b[0m\u001b[96;49mif\u001b[0m\u001b[97;49m \u001b[0m\u001b[97;49msum_of_numbers\u001b[0m\u001b[97;49m \u001b[0m\u001b[91;49m%\u001b[0m\u001b[97;49m \u001b[0m\u001b[37;49m2\u001b[0m\u001b[97;49m \u001b[0m\u001b[91;49m==\u001b[0m\u001b[97;49m \u001b[0m\u001b[37;49m1\u001b[0m\u001b[97;49m:\u001b[0m                      \n",
            "    \u001b[1;36m35\u001b[0m                                           \u001b[97;49m    \u001b[0m\u001b[97;49mprint\u001b[0m\u001b[97;49m(\u001b[0m\u001b[93;49m\"\u001b[0m\u001b[93;49mThis instance does not have a solution\u001b[0m\u001b[93;49m\"\u001b[0m\u001b[97;49m)\u001b[0m\n",
            "    \u001b[1;36m36\u001b[0m                                           \u001b[97;49m  \u001b[0m\u001b[96;49melse\u001b[0m\u001b[97;49m:\u001b[0m                                            \n",
            "    \u001b[1;36m37\u001b[0m         \u001b[1;36m1\u001b[0m         \u001b[1;36m12.5\u001b[0m     \u001b[1;36m12.5\u001b[0m      \u001b[1;36m0.0\u001b[0m  \u001b[97;49m    \u001b[0m\u001b[97;49mpower_set\u001b[0m\u001b[97;49m \u001b[0m\u001b[91;49m=\u001b[0m\u001b[97;49m \u001b[0m\u001b[97;49mpowerset\u001b[0m\u001b[97;49m(\u001b[0m\u001b[97;49mvalues\u001b[0m\u001b[97;49m)\u001b[0m                   \n",
            "    \u001b[1;36m38\u001b[0m         \u001b[1;36m1\u001b[0m          \u001b[1;36m0.3\u001b[0m      \u001b[1;36m0.3\u001b[0m      \u001b[1;36m0.0\u001b[0m  \u001b[97;49m    \u001b[0m\u001b[97;49msolution_found\u001b[0m\u001b[97;49m \u001b[0m\u001b[91;49m=\u001b[0m\u001b[97;49m \u001b[0m\u001b[96;49mFalse\u001b[0m                         \n",
            "    \u001b[1;36m39\u001b[0m  \u001b[1;36m16777217\u001b[0m    \u001b[1;36m6086159.0\u001b[0m      \u001b[1;36m0.4\u001b[0m     \u001b[1;36m34.0\u001b[0m  \u001b[97;49m    \u001b[0m\u001b[96;49mfor\u001b[0m\u001b[97;49m \u001b[0m\u001b[97;49mset\u001b[0m\u001b[97;49m \u001b[0m\u001b[91;49min\u001b[0m\u001b[97;49m \u001b[0m\u001b[97;49mpower_set\u001b[0m\u001b[97;49m:\u001b[0m                          \n",
            "    \u001b[1;36m40\u001b[0m  \u001b[1;36m16777216\u001b[0m   \u001b[1;36m11836400.9\u001b[0m      \u001b[1;36m0.7\u001b[0m     \u001b[1;36m66.0\u001b[0m  \u001b[97;49m      \u001b[0m\u001b[96;49mif\u001b[0m\u001b[97;49m \u001b[0m\u001b[97;49msum\u001b[0m\u001b[97;49m(\u001b[0m\u001b[97;49mset\u001b[0m\u001b[97;49m)\u001b[0m\u001b[97;49m \u001b[0m\u001b[91;49m==\u001b[0m\u001b[97;49m \u001b[0m\u001b[97;49m(\u001b[0m\u001b[97;49msum_of_numbers\u001b[0m\u001b[91;49m/\u001b[0m\u001b[91;49m/\u001b[0m\u001b[37;49m2\u001b[0m\u001b[97;49m)\u001b[0m\u001b[97;49m:\u001b[0m          \n",
            "    \u001b[1;36m41\u001b[0m                                           \u001b[97;49m        \u001b[0m\u001b[97;49mprint\u001b[0m\u001b[97;49m(\u001b[0m\u001b[93;49m\"\u001b[0m\u001b[93;49mSolution found!\u001b[0m\u001b[93;49m\"\u001b[0m\u001b[97;49m)\u001b[0m                   \n",
            "    \u001b[1;36m42\u001b[0m                                           \u001b[97;49m        \u001b[0m\u001b[97;49mprint\u001b[0m\u001b[97;49m(\u001b[0m\u001b[93;49m\"\u001b[0m\u001b[93;49mOne partition contains: \u001b[0m\u001b[93;49m\"\u001b[0m\u001b[97;49m,\u001b[0m\u001b[97;49mset\u001b[0m\u001b[97;49m)\u001b[0m      \n",
            "    \u001b[1;36m43\u001b[0m                                           \u001b[97;49m        \u001b[0m\u001b[97;49msolution_found\u001b[0m\u001b[97;49m \u001b[0m\u001b[91;49m=\u001b[0m\u001b[97;49m \u001b[0m\u001b[96;49mTrue\u001b[0m                      \n",
            "    \u001b[1;36m44\u001b[0m                                           \u001b[97;49m        \u001b[0m\u001b[96;49mbreak\u001b[0m                                      \n",
            "    \u001b[1;36m45\u001b[0m         \u001b[1;36m1\u001b[0m          \u001b[1;36m0.6\u001b[0m      \u001b[1;36m0.6\u001b[0m      \u001b[1;36m0.0\u001b[0m  \u001b[97;49m    \u001b[0m\u001b[96;49mif\u001b[0m\u001b[97;49m \u001b[0m\u001b[97;49msolution_found\u001b[0m\u001b[97;49m \u001b[0m\u001b[91;49m==\u001b[0m\u001b[97;49m \u001b[0m\u001b[96;49mFalse\u001b[0m\u001b[97;49m:\u001b[0m                    \n",
            "    \u001b[1;36m46\u001b[0m         \u001b[1;36m1\u001b[0m         \u001b[1;36m62.5\u001b[0m     \u001b[1;36m62.5\u001b[0m      \u001b[1;36m0.0\u001b[0m  \u001b[97;49m      \u001b[0m\u001b[97;49mprint\u001b[0m\u001b[97;49m(\u001b[0m\u001b[93;49m\"\u001b[0m\u001b[93;49mThis instance does not have a solutio…\u001b[0m\n",
            "    \u001b[1;36m47\u001b[0m                                                                                              \n",
            "    \u001b[1;36m48\u001b[0m         \u001b[1;36m1\u001b[0m          \u001b[1;36m4.8\u001b[0m      \u001b[1;36m4.8\u001b[0m      \u001b[1;36m0.0\u001b[0m  \u001b[97;49m  \u001b[0m\u001b[97;49mend_time\u001b[0m\u001b[97;49m \u001b[0m\u001b[91;49m=\u001b[0m\u001b[97;49m \u001b[0m\u001b[97;49mtime\u001b[0m\u001b[91;49m.\u001b[0m\u001b[97;49mtime\u001b[0m\u001b[97;49m(\u001b[0m\u001b[97;49m)\u001b[0m                           \n",
            "    \u001b[1;36m49\u001b[0m         \u001b[1;36m1\u001b[0m          \u001b[1;36m1.4\u001b[0m      \u001b[1;36m1.4\u001b[0m      \u001b[1;36m0.0\u001b[0m  \u001b[97;49m  \u001b[0m\u001b[97;49melapsed_time\u001b[0m\u001b[97;49m \u001b[0m\u001b[91;49m=\u001b[0m\u001b[97;49m \u001b[0m\u001b[97;49mend_time\u001b[0m\u001b[97;49m \u001b[0m\u001b[91;49m-\u001b[0m\u001b[97;49m \u001b[0m\u001b[97;49mstart_time\u001b[0m             \n",
            "    \u001b[1;36m50\u001b[0m         \u001b[1;36m1\u001b[0m         \u001b[1;36m24.8\u001b[0m     \u001b[1;36m24.8\u001b[0m      \u001b[1;36m0.0\u001b[0m  \u001b[97;49m  \u001b[0m\u001b[97;49mprint\u001b[0m\u001b[97;49m(\u001b[0m\u001b[93;49m\"\u001b[0m\u001b[93;49mThe program took: \u001b[0m\u001b[93;49m\"\u001b[0m\u001b[97;49m,\u001b[0m\u001b[97;49melapsed_time\u001b[0m\u001b[97;49m,\u001b[0m\u001b[93;49m\"\u001b[0m\u001b[93;49m second…\u001b[0m\n",
            "\n",
            "\n",
            " 17.92 seconds - partition_profile.py:20 - partition\n"
          ]
        }
      ]
    }
  ]
}