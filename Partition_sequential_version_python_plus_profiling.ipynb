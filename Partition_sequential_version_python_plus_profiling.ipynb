{
  "nbformat": 4,
  "nbformat_minor": 0,
  "metadata": {
    "colab": {
      "provenance": [],
      "authorship_tag": "ABX9TyN1+bVujeSbu+jvs8duXDcl",
      "include_colab_link": true
    },
    "kernelspec": {
      "name": "python3",
      "display_name": "Python 3"
    },
    "language_info": {
      "name": "python"
    }
  },
  "cells": [
    {
      "cell_type": "markdown",
      "metadata": {
        "id": "view-in-github",
        "colab_type": "text"
      },
      "source": [
        "<a href=\"https://colab.research.google.com/github/trefftzc/partition_COLAB_notebooks/blob/main/Partition_sequential_version_python_plus_profiling.ipynb\" target=\"_parent\"><img src=\"https://colab.research.google.com/assets/colab-badge.svg\" alt=\"Open In Colab\"/></a>"
      ]
    },
    {
      "cell_type": "code",
      "execution_count": 31,
      "metadata": {
        "id": "y0Pf6HUgpEZM"
      },
      "outputs": [],
      "source": []
    },
    {
      "cell_type": "markdown",
      "source": [
        "# The partition problem\n",
        "\n",
        "The partition problem is intuitive: Given a collection of n objects, can we place part of those objects in the left hand of a balance and the remaining objects in the right hand side of a balance so that they weigh the same? In other (more mathematical) words, if we have a multiset of integers s, can we partition that multiset into two separate multisets q and r so that the sum of the elements in q is the same as the sum of the elements in r. A more formal statement of the problem can be found on mathworld.wolfram [here](https://mathworld.wolfram.com/NumberPartitioningProblem.html).\n",
        "\n",
        "This simple problem belongs to a very unique kind of problems called NP-complete problems that are very hard to solve.\n",
        "Given an instance of the partition problem with n positive integer values, one way to find if there is a solution to that instance is to examine each and every one of the $2^n$ subsets and to check for every one of those subsets if that subset and its complement are a solution to this instance of the partition problem. One adds up the elements in the subset, adds up the elements in the complement and if the two sums are the same, this is a solution to this instance of the partition problem.\n",
        "\n",
        "The set of all the subsets of a set is called the power set.\n",
        "\n",
        "Consider the following example: {2,3,5}. In this case n, the number of elements in the instance of the partition problem, is 3. If one calculates all the possible subsets, there are $2^3$ = 8 possible distinct subsets. The following table shows the eight subsets, their complements and indicates which of those subsets are solutions for this instance of the partition problem.\n",
        "\n",
        "| Index | Binary Encoding | Elements | Elements in the Complement | Solution |\n",
        "|:-------|:-----------------|:----------|:------------------------|:--------------|\n",
        "| 0 |\t000\t| {}\t| {2,3,5}\t| No |\n",
        "|1 |\t001\t|{2}\t|{3,5}\t|No\n",
        "|2 |\t010\t|{3}\t|{2,5}\t|No\n",
        "|3 |\t011\t|{2,3}\t|{5}\t|Yes\n",
        "|4 |\t100\t|{5}\t|{2,3}\t|Yes\n",
        "|5 |\t101\t|{2,5}\t|{3}\t|No\n",
        "|6 |\t110\t|{3,5}\t|{2}\t|No\n",
        "|7 |\t111\t|{2,3,5}\t|{}\t|No\n",
        "\n",
        "Notice that the first half of the table is symmetrical to the second half of the table. Hence, one only needs to go through the first half of all the elements in the Power Set.\n",
        "\n"
      ],
      "metadata": {
        "id": "5Go73l1OUrdt"
      }
    },
    {
      "cell_type": "markdown",
      "source": [
        "# The Power Set\n",
        "The power set can be defined as:\n",
        "\"Given a set S, the power set of S, sometimes also called the powerset, is the set of all subsets of S. The order of a power set of a set of order n is 2^n. Power sets are larger than the sets associated with them. The power set of S is variously denoted 2^S or P(S).\"\n",
        "\n",
        "https://www.wolframalpha.com/input?i=POWER+SET\n",
        "\n",
        "The partition problem can be solved by\n",
        "calculating the power set of the multiset of integers\n",
        "and then checking each and every one of the\n",
        "possible subsets to see if it and its complement\n",
        "are a solution to the instance of the partition problem."
      ],
      "metadata": {
        "id": "h3rf8WSYpWrE"
      }
    },
    {
      "cell_type": "code",
      "source": [
        "#\n",
        "# I learned about these libraries from Ian Curtis, a student in one of the sections\n",
        "# of the HPC course during the fall of 2023\n",
        "#\n",
        "# Using itertools to calculate the PowerSet\n",
        "#\n",
        "\n",
        "from itertools import chain, combinations\n",
        "\n",
        "\n",
        "def powerset(iterable):\n",
        "    \"powerset([1,2,3]) --> () (1,) (2,) (3,) (1,2) (1,3) (2,3) (1,2,3)\"\n",
        "    s = list(iterable)\n",
        "    return chain.from_iterable(combinations(s, r) for r in range(len(s)+1))\n",
        "\n",
        "\n",
        "example_list = [0,1,2]\n",
        "powerset_of_example_list = powerset(example_list)\n",
        "print(\"This is the power set of the set of [0,1,2]\")\n",
        "for s in powerset_of_example_list:\n",
        "    print(s)"
      ],
      "metadata": {
        "colab": {
          "base_uri": "https://localhost:8080/"
        },
        "id": "gYlbUz1Up4qz",
        "outputId": "54e63800-f417-41ab-f418-83e2517f8832"
      },
      "execution_count": 32,
      "outputs": [
        {
          "output_type": "stream",
          "name": "stdout",
          "text": [
            "This is the power set of the set of [0,1,2]\n",
            "()\n",
            "(0,)\n",
            "(1,)\n",
            "(2,)\n",
            "(0, 1)\n",
            "(0, 2)\n",
            "(1, 2)\n",
            "(0, 1, 2)\n"
          ]
        }
      ]
    },
    {
      "cell_type": "code",
      "source": [],
      "metadata": {
        "id": "_Vw7uooxrdYR"
      },
      "execution_count": 32,
      "outputs": []
    },
    {
      "cell_type": "markdown",
      "source": [
        "Let's create a couple of test files to be used later."
      ],
      "metadata": {
        "id": "2JAadcWpraGM"
      }
    },
    {
      "cell_type": "code",
      "source": [
        "%%writefile test20.Text\n",
        "20\n",
        "1 1 1 1 1 1 1 1 1 1 1 1 1 1 1 1 1 1 1 19"
      ],
      "metadata": {
        "colab": {
          "base_uri": "https://localhost:8080/"
        },
        "id": "K66C2BX0reIs",
        "outputId": "891cd428-8492-4d79-e422-9091be912b3b"
      },
      "execution_count": 33,
      "outputs": [
        {
          "output_type": "stream",
          "name": "stdout",
          "text": [
            "Writing test20.Text\n"
          ]
        }
      ]
    },
    {
      "cell_type": "code",
      "source": [
        "%%writefile test21.Text\n",
        "21\n",
        "1 1 1 1 1 1 1 1 1 1 1 1 1 1 1 1 1 1 1 1 20"
      ],
      "metadata": {
        "colab": {
          "base_uri": "https://localhost:8080/"
        },
        "id": "2YpQKCkJrwz8",
        "outputId": "74eeea03-4e2e-437a-8fd3-df4f1fd8e9d0"
      },
      "execution_count": 34,
      "outputs": [
        {
          "output_type": "stream",
          "name": "stdout",
          "text": [
            "Writing test21.Text\n"
          ]
        }
      ]
    },
    {
      "cell_type": "code",
      "source": [
        "%%writefile test22.Text\n",
        "22\n",
        "1 1 1 1 1 1 1 1 1 1 1 1 1 1 1 1 1 1 1 1 1 21"
      ],
      "metadata": {
        "colab": {
          "base_uri": "https://localhost:8080/"
        },
        "id": "RCHDxitur2yw",
        "outputId": "10ecd4df-7e4d-48d2-86ff-e003f59d4912"
      },
      "execution_count": 35,
      "outputs": [
        {
          "output_type": "stream",
          "name": "stdout",
          "text": [
            "Writing test22.Text\n"
          ]
        }
      ]
    },
    {
      "cell_type": "code",
      "source": [
        "%%writefile test23.Text\n",
        "23\n",
        "1 1 1 1 1 1 1 1 1 1 1 1 1 1 1 1 1 1 1 1 1 1 22"
      ],
      "metadata": {
        "colab": {
          "base_uri": "https://localhost:8080/"
        },
        "id": "sX8jkZulr7go",
        "outputId": "8e49ce43-7bb9-4d0d-b120-eec8f43a7881"
      },
      "execution_count": 36,
      "outputs": [
        {
          "output_type": "stream",
          "name": "stdout",
          "text": [
            "Writing test23.Text\n"
          ]
        }
      ]
    },
    {
      "cell_type": "markdown",
      "source": [
        "Now the actual program.\n",
        "We write the program to a file called partition.py\n",
        "so that it can later be executed using input\n",
        "redirection with the test files."
      ],
      "metadata": {
        "id": "I_V5RipPsbbk"
      }
    },
    {
      "cell_type": "code",
      "source": [
        "%%writefile partition.py\n",
        "#\n",
        "# Program to solve the partition problem\n",
        "# The program assumes that input redirection\n",
        "# can be used in COLAB\n",
        "from itertools import chain, combinations\n",
        "import time\n",
        "\n",
        "def powerset(iterable):\n",
        "    \"powerset([1,2,3]) --> () (1,) (2,) (3,) (1,2) (1,3) (2,3) (1,2,3)\"\n",
        "    s = list(iterable)\n",
        "    return chain.from_iterable(combinations(s, r) for r in range(len(s)+1))\n",
        "\n",
        "#\n",
        "# The assumed format of the test file is:\n",
        "# - one line with a positive integer that contains the number of positive integers\n",
        "# in the instance\n",
        "# - A line with the list of values\n",
        "#\n",
        "\n",
        "start = time.time()\n",
        "# Read the problem\n",
        "n = int(input())\n",
        "valuesString = input()\n",
        "values = valuesString.split()\n",
        "for i in range(len(values)):\n",
        "  values[i] = int(values[i])\n",
        "# Print the instance of the problem\n",
        "print(\"Problem size: \",n)\n",
        "print(\"Problem instance: \",values)\n",
        "\n",
        "sum_of_numbers = sum(values)\n",
        "if sum_of_numbers % 2 == 1:\n",
        "  print(\"This instance does not have a solution\")\n",
        "else:\n",
        "  power_set = powerset(values)\n",
        "  solution_found = False\n",
        "  for set in power_set:\n",
        "    if sum(set) == (sum_of_numbers//2):\n",
        "      print(\"Solution found!\")\n",
        "      print(\"One partition contains: \",set)\n",
        "      solution_found = True\n",
        "      break\n",
        "  if solution_found == False:\n",
        "    print(\"This instance does not have a solution\")\n",
        "\n",
        "end = time.time()\n",
        "elapsed = end - start\n",
        "print(\"The program took: \",elapsed,\" seconds.\")\n",
        "\n",
        "\n",
        "\n"
      ],
      "metadata": {
        "colab": {
          "base_uri": "https://localhost:8080/"
        },
        "id": "01HXmjXlsqJT",
        "outputId": "3487965a-8968-41f3-e187-f1f8df734000"
      },
      "execution_count": 37,
      "outputs": [
        {
          "output_type": "stream",
          "name": "stdout",
          "text": [
            "Overwriting partition.py\n"
          ]
        }
      ]
    },
    {
      "cell_type": "markdown",
      "source": [
        "Now let's execute the program:"
      ],
      "metadata": {
        "id": "aoYMwgI_tkhe"
      }
    },
    {
      "cell_type": "code",
      "source": [
        "!python partition.py < test20.Text"
      ],
      "metadata": {
        "colab": {
          "base_uri": "https://localhost:8080/"
        },
        "id": "mn3odmFYtmj9",
        "outputId": "b4109a96-6497-4db6-adb3-b288713d2cd7"
      },
      "execution_count": 38,
      "outputs": [
        {
          "output_type": "stream",
          "name": "stdout",
          "text": [
            "Problem size:  20\n",
            "Problem instance:  [1, 1, 1, 1, 1, 1, 1, 1, 1, 1, 1, 1, 1, 1, 1, 1, 1, 1, 1, 19]\n",
            "Solution found!\n",
            "One partition contains:  (19,)\n",
            "The program took:  0.00021386146545410156  seconds.\n"
          ]
        }
      ]
    },
    {
      "cell_type": "code",
      "source": [
        "!python partition.py < test21.Text"
      ],
      "metadata": {
        "colab": {
          "base_uri": "https://localhost:8080/"
        },
        "id": "quTiCB9gwLu1",
        "outputId": "4daf7850-d2cc-41a8-f0fb-7469ad75e366"
      },
      "execution_count": 39,
      "outputs": [
        {
          "output_type": "stream",
          "name": "stdout",
          "text": [
            "Problem size:  21\n",
            "Problem instance:  [1, 1, 1, 1, 1, 1, 1, 1, 1, 1, 1, 1, 1, 1, 1, 1, 1, 1, 1, 1, 20]\n",
            "Solution found!\n",
            "One partition contains:  (20,)\n",
            "The program took:  0.00021982192993164062  seconds.\n"
          ]
        }
      ]
    },
    {
      "cell_type": "code",
      "source": [
        "!python partition.py < test22.Text"
      ],
      "metadata": {
        "colab": {
          "base_uri": "https://localhost:8080/"
        },
        "id": "-em0uWwXwP6F",
        "outputId": "ff560e09-b8c3-48c0-cb56-2d21fd2044d8"
      },
      "execution_count": 40,
      "outputs": [
        {
          "output_type": "stream",
          "name": "stdout",
          "text": [
            "Problem size:  22\n",
            "Problem instance:  [1, 1, 1, 1, 1, 1, 1, 1, 1, 1, 1, 1, 1, 1, 1, 1, 1, 1, 1, 1, 1, 21]\n",
            "Solution found!\n",
            "One partition contains:  (21,)\n",
            "The program took:  0.00020837783813476562  seconds.\n"
          ]
        }
      ]
    },
    {
      "cell_type": "code",
      "source": [
        "!python partition.py < test23.Text"
      ],
      "metadata": {
        "colab": {
          "base_uri": "https://localhost:8080/"
        },
        "id": "fucaaXWfwTSk",
        "outputId": "6f0253ad-fe71-4e77-c4a2-51ef98ccea3d"
      },
      "execution_count": 41,
      "outputs": [
        {
          "output_type": "stream",
          "name": "stdout",
          "text": [
            "Problem size:  23\n",
            "Problem instance:  [1, 1, 1, 1, 1, 1, 1, 1, 1, 1, 1, 1, 1, 1, 1, 1, 1, 1, 1, 1, 1, 1, 22]\n",
            "Solution found!\n",
            "One partition contains:  (22,)\n",
            "The program took:  0.00021600723266601562  seconds.\n"
          ]
        }
      ]
    },
    {
      "cell_type": "code",
      "source": [
        "%%writefile test24.Text\n",
        "24\n",
        "1 1 1 1 1 1 1 1 1 1 1 1 1 1 1 1 1 1 1 1 1 1 1 23"
      ],
      "metadata": {
        "colab": {
          "base_uri": "https://localhost:8080/"
        },
        "id": "w1f0z0iaw4Xd",
        "outputId": "77644ce2-e843-47ec-af75-2551deb99f6f"
      },
      "execution_count": 42,
      "outputs": [
        {
          "output_type": "stream",
          "name": "stdout",
          "text": [
            "Overwriting test24.Text\n"
          ]
        }
      ]
    },
    {
      "cell_type": "code",
      "source": [
        "!python partition.py < test24.Text"
      ],
      "metadata": {
        "colab": {
          "base_uri": "https://localhost:8080/"
        },
        "id": "AHuF532-xALU",
        "outputId": "25c04784-caca-49b9-a190-a24192496453"
      },
      "execution_count": 43,
      "outputs": [
        {
          "output_type": "stream",
          "name": "stdout",
          "text": [
            "Problem size:  24\n",
            "Problem instance:  [1, 1, 1, 1, 1, 1, 1, 1, 1, 1, 1, 1, 1, 1, 1, 1, 1, 1, 1, 1, 1, 1, 1, 23]\n",
            "Solution found!\n",
            "One partition contains:  (23,)\n",
            "The program took:  0.00021696090698242188  seconds.\n"
          ]
        }
      ]
    },
    {
      "cell_type": "code",
      "source": [
        "%%writefile instanceNoSolution24.Text\n",
        "24\n",
        "1 1 1 1 1 1 1 1 1 1 1 1 1 1 1 1 1 1 1 1 1 1 1 25"
      ],
      "metadata": {
        "colab": {
          "base_uri": "https://localhost:8080/"
        },
        "id": "a25G4T_Xx8-9",
        "outputId": "9c5b8adb-0c6b-46d6-d1d3-deb73b0a1606"
      },
      "execution_count": 44,
      "outputs": [
        {
          "output_type": "stream",
          "name": "stdout",
          "text": [
            "Overwriting instanceNoSolution24.Text\n"
          ]
        }
      ]
    },
    {
      "cell_type": "code",
      "source": [
        "!python partition.py < instanceNoSolution24.Text"
      ],
      "metadata": {
        "colab": {
          "base_uri": "https://localhost:8080/"
        },
        "id": "zOvnanvfyGmM",
        "outputId": "76d8e75f-4cfc-4c91-9f53-1176003006b0"
      },
      "execution_count": 45,
      "outputs": [
        {
          "output_type": "stream",
          "name": "stdout",
          "text": [
            "Problem size:  24\n",
            "Problem instance:  [1, 1, 1, 1, 1, 1, 1, 1, 1, 1, 1, 1, 1, 1, 1, 1, 1, 1, 1, 1, 1, 1, 1, 25]\n",
            "This instance does not have a solution\n",
            "The program took:  6.805052995681763  seconds.\n"
          ]
        }
      ]
    },
    {
      "cell_type": "markdown",
      "source": [
        "A larger test file..."
      ],
      "metadata": {
        "id": "iFb9wUfo0gFt"
      }
    },
    {
      "cell_type": "code",
      "source": [
        "%%writefile test30.Text\n",
        "30\n",
        "1 2 3 4 5 6 7 8 9 10 11 12 13 14 15 16 17 18 19 20 21 22 23 24 25 26 27 28 29 30"
      ],
      "metadata": {
        "colab": {
          "base_uri": "https://localhost:8080/"
        },
        "id": "oENdfJvO0iWm",
        "outputId": "c6ce2db0-bf62-45b3-f034-bdb72e62c192"
      },
      "execution_count": 46,
      "outputs": [
        {
          "output_type": "stream",
          "name": "stdout",
          "text": [
            "Writing test30.Text\n"
          ]
        }
      ]
    },
    {
      "cell_type": "code",
      "source": [
        "!python partition.py < test30.Text"
      ],
      "metadata": {
        "colab": {
          "base_uri": "https://localhost:8080/"
        },
        "id": "Xo8ZMaKD0qZN",
        "outputId": "cd119a20-b65f-4147-a993-696c5f943596"
      },
      "execution_count": 47,
      "outputs": [
        {
          "output_type": "stream",
          "name": "stdout",
          "text": [
            "Problem size:  30\n",
            "Problem instance:  [1, 2, 3, 4, 5, 6, 7, 8, 9, 10, 11, 12, 13, 14, 15, 16, 17, 18, 19, 20, 21, 22, 23, 24, 25, 26, 27, 28, 29, 30]\n",
            "This instance does not have a solution\n",
            "The program took:  0.000141143798828125  seconds.\n"
          ]
        }
      ]
    },
    {
      "cell_type": "code",
      "source": [
        "%%writefile test31.Text\n",
        "31\n",
        "1 2 3 4 5 6 7 8 9 10 11 12 13 14 15 16 17 18 19 20 21 22 23 24 25 26 27 28 29 30 31"
      ],
      "metadata": {
        "colab": {
          "base_uri": "https://localhost:8080/"
        },
        "id": "zJNYNnvo00P8",
        "outputId": "435b3fb5-6fc5-49e8-ce3f-921c1291ac23"
      },
      "execution_count": 48,
      "outputs": [
        {
          "output_type": "stream",
          "name": "stdout",
          "text": [
            "Writing test31.Text\n"
          ]
        }
      ]
    },
    {
      "cell_type": "code",
      "source": [
        "!python partition.py < test31.Text"
      ],
      "metadata": {
        "id": "BuJmXqre04mc",
        "outputId": "9be5c14a-8400-4150-ab84-c956fb6db42f",
        "colab": {
          "base_uri": "https://localhost:8080/"
        }
      },
      "execution_count": 49,
      "outputs": [
        {
          "output_type": "stream",
          "name": "stdout",
          "text": [
            "Problem size:  31\n",
            "Problem instance:  [1, 2, 3, 4, 5, 6, 7, 8, 9, 10, 11, 12, 13, 14, 15, 16, 17, 18, 19, 20, 21, 22, 23, 24, 25, 26, 27, 28, 29, 30, 31]\n",
            "Solution found!\n",
            "One partition contains:  (5, 23, 24, 25, 26, 27, 28, 29, 30, 31)\n",
            "The program took:  25.926358461380005  seconds.\n"
          ]
        }
      ]
    },
    {
      "cell_type": "markdown",
      "source": [
        "# Profiling\n",
        "It is useful to profile the program to understand where most of the time is being spent during its execution."
      ],
      "metadata": {
        "id": "CMp8BoeM8v8K"
      }
    },
    {
      "cell_type": "code",
      "source": [
        "!python -m cProfile partition.py < instanceNoSolution24.Text"
      ],
      "metadata": {
        "id": "Vof91uMD82vS",
        "outputId": "84d9e674-e5de-4782-e850-559c99c775cd",
        "colab": {
          "base_uri": "https://localhost:8080/"
        }
      },
      "execution_count": 50,
      "outputs": [
        {
          "output_type": "stream",
          "name": "stdout",
          "text": [
            "Problem size:  24\n",
            "Problem instance:  [1, 1, 1, 1, 1, 1, 1, 1, 1, 1, 1, 1, 1, 1, 1, 1, 1, 1, 1, 1, 1, 1, 1, 25]\n",
            "This instance does not have a solution\n",
            "The program took:  10.672067880630493  seconds.\n",
            "         16777262 function calls in 10.672 seconds\n",
            "\n",
            "   Ordered by: standard name\n",
            "\n",
            "   ncalls  tottime  percall  cumtime  percall filename:lineno(function)\n",
            "        1    0.000    0.000    0.000    0.000 codecs.py:319(decode)\n",
            "        1    0.000    0.000    0.000    0.000 codecs.py:331(getstate)\n",
            "        1    6.866    6.866   10.672   10.672 partition.py:1(<module>)\n",
            "       26    0.000    0.000    0.000    0.000 partition.py:11(<genexpr>)\n",
            "        1    0.000    0.000    0.000    0.000 partition.py:8(powerset)\n",
            "        1    0.000    0.000    0.000    0.000 {built-in method _codecs.utf_8_decode}\n",
            "        1    0.000    0.000   10.672   10.672 {built-in method builtins.exec}\n",
            "        2    0.000    0.000    0.000    0.000 {built-in method builtins.input}\n",
            "        2    0.000    0.000    0.000    0.000 {built-in method builtins.len}\n",
            "        4    0.000    0.000    0.000    0.000 {built-in method builtins.print}\n",
            " 16777217    3.806    0.000    3.806    0.000 {built-in method builtins.sum}\n",
            "        1    0.000    0.000    0.000    0.000 {built-in method from_iterable}\n",
            "        2    0.000    0.000    0.000    0.000 {built-in method time.time}\n",
            "        1    0.000    0.000    0.000    0.000 {method 'disable' of '_lsprof.Profiler' objects}\n",
            "        1    0.000    0.000    0.000    0.000 {method 'split' of 'str' objects}\n",
            "\n",
            "\n"
          ]
        }
      ]
    },
    {
      "cell_type": "markdown",
      "source": [
        "There is a line profiler called kernprof"
      ],
      "metadata": {
        "id": "ZtXOxJvZ-aJL"
      }
    },
    {
      "cell_type": "code",
      "source": [
        "!pip install line_profiler"
      ],
      "metadata": {
        "id": "_aLWv6hx-xlj",
        "outputId": "3b291df1-583e-4131-8c52-f74bdca02800",
        "colab": {
          "base_uri": "https://localhost:8080/"
        }
      },
      "execution_count": 51,
      "outputs": [
        {
          "output_type": "stream",
          "name": "stdout",
          "text": [
            "Requirement already satisfied: line_profiler in /usr/local/lib/python3.10/dist-packages (4.1.2)\n"
          ]
        }
      ]
    },
    {
      "cell_type": "markdown",
      "source": [
        "We need to add a decorator to the source code:"
      ],
      "metadata": {
        "id": "Vwjzw2ty-9Qz"
      }
    },
    {
      "cell_type": "code",
      "source": [
        "%%writefile partition_profile.py\n",
        "#\n",
        "# Program to solve the partition problem\n",
        "# The program assumes that input redirection\n",
        "# can be used in COLAB\n",
        "from itertools import chain, combinations\n",
        "import time\n",
        "\n",
        "def powerset(iterable):\n",
        "    \"powerset([1,2,3]) --> () (1,) (2,) (3,) (1,2) (1,3) (2,3) (1,2,3)\"\n",
        "    s = list(iterable)\n",
        "    return chain.from_iterable(combinations(s, r) for r in range(len(s)+1))\n",
        "\n",
        "#\n",
        "# The assumed format of the test file is:\n",
        "# - one line with a positive integer that contains the number of positive integers\n",
        "# in the instance\n",
        "# - A line with the list of values\n",
        "#\n",
        "\n",
        "@profile\n",
        "def partition():\n",
        "  start_time = time.time()\n",
        "  # Read the problem\n",
        "  n = int(input())\n",
        "  valuesString = input()\n",
        "  values = valuesString.split()\n",
        "  for i in range(len(values)):\n",
        "    values[i] = int(values[i])\n",
        "  # Print the instance of the problem\n",
        "  print(\"Problem size: \",n)\n",
        "  print(\"Problem instance: \",values)\n",
        "\n",
        "  sum_of_numbers = sum(values)\n",
        "  if sum_of_numbers % 2 == 1:\n",
        "    print(\"This instance does not have a solution\")\n",
        "  else:\n",
        "    power_set = powerset(values)\n",
        "    solution_found = False\n",
        "    for set in power_set:\n",
        "      if sum(set) == (sum_of_numbers//2):\n",
        "        print(\"Solution found!\")\n",
        "        print(\"One partition contains: \",set)\n",
        "        solution_found = True\n",
        "        break\n",
        "    if solution_found == False:\n",
        "      print(\"This instance does not have a solution\")\n",
        "\n",
        "  end_time = time.time()\n",
        "  elapsed_time = end_time - start_time\n",
        "  print(\"The program took: \",elapsed_time,\" seconds.\")\n",
        "\n",
        "if __name__ == \"__main__\":\n",
        "  partition()"
      ],
      "metadata": {
        "id": "zYZGui_T_ANs",
        "outputId": "3b034435-b5ba-4477-c133-b5ba4e746b73",
        "colab": {
          "base_uri": "https://localhost:8080/"
        }
      },
      "execution_count": 52,
      "outputs": [
        {
          "output_type": "stream",
          "name": "stdout",
          "text": [
            "Overwriting partition_profile.py\n"
          ]
        }
      ]
    },
    {
      "cell_type": "code",
      "source": [
        "!kernprof -l partition_profile.py < instanceNoSolution24.Text"
      ],
      "metadata": {
        "id": "HQMwWjoq_S0c",
        "outputId": "21cc3e2a-a71f-4e2b-a268-e67dbb2d04e1",
        "colab": {
          "base_uri": "https://localhost:8080/"
        }
      },
      "execution_count": 53,
      "outputs": [
        {
          "output_type": "stream",
          "name": "stdout",
          "text": [
            "Problem size:  24\n",
            "Problem instance:  [1, 1, 1, 1, 1, 1, 1, 1, 1, 1, 1, 1, 1, 1, 1, 1, 1, 1, 1, 1, 1, 1, 1, 25]\n",
            "This instance does not have a solution\n",
            "The program took:  28.158763647079468  seconds.\n",
            "Wrote profile results to partition_profile.py.lprof\n",
            "Inspect results with:\n",
            "python3 -m line_profiler -rmt \"partition_profile.py.lprof\"\n"
          ]
        }
      ]
    },
    {
      "cell_type": "code",
      "source": [
        "!python3 -m line_profiler -rmt \"partition_profile.py.lprof\""
      ],
      "metadata": {
        "id": "i91shxJEJ3Be",
        "outputId": "bb0adc6d-7088-467c-9e00-e491f20b41a6",
        "colab": {
          "base_uri": "https://localhost:8080/"
        }
      },
      "execution_count": 54,
      "outputs": [
        {
          "output_type": "stream",
          "name": "stdout",
          "text": [
            "Timer unit: 1e-06 s\n",
            "\n",
            "Total time: 15.8534 s\n",
            "File: partition_profile.py\n",
            "Function: partition at line 20\n",
            "\n",
            "Line #      Hits         Time  Per Hit   % Time  Line Contents\n",
            "==============================================================\n",
            "    \u001b[1;36m20\u001b[0m                                           \u001b[92;49m@profile\u001b[0m                                           \n",
            "    \u001b[1;36m21\u001b[0m                                           \u001b[96;49mdef\u001b[0m\u001b[97;49m \u001b[0m\u001b[92;49mpartition\u001b[0m\u001b[97;49m(\u001b[0m\u001b[97;49m)\u001b[0m\u001b[97;49m:\u001b[0m                                   \n",
            "    \u001b[1;36m22\u001b[0m         \u001b[1;36m1\u001b[0m          \u001b[1;36m3.0\u001b[0m      \u001b[1;36m3.0\u001b[0m      \u001b[1;36m0.0\u001b[0m  \u001b[97;49m  \u001b[0m\u001b[97;49mstart_time\u001b[0m\u001b[97;49m \u001b[0m\u001b[91;49m=\u001b[0m\u001b[97;49m \u001b[0m\u001b[97;49mtime\u001b[0m\u001b[91;49m.\u001b[0m\u001b[97;49mtime\u001b[0m\u001b[97;49m(\u001b[0m\u001b[97;49m)\u001b[0m                         \n",
            "    \u001b[1;36m23\u001b[0m                                           \u001b[97;49m  \u001b[0m\u001b[37;49m# Read the problem\u001b[0m                               \n",
            "    \u001b[1;36m24\u001b[0m         \u001b[1;36m1\u001b[0m         \u001b[1;36m42.4\u001b[0m     \u001b[1;36m42.4\u001b[0m      \u001b[1;36m0.0\u001b[0m  \u001b[97;49m  \u001b[0m\u001b[97;49mn\u001b[0m\u001b[97;49m \u001b[0m\u001b[91;49m=\u001b[0m\u001b[97;49m \u001b[0m\u001b[97;49mint\u001b[0m\u001b[97;49m(\u001b[0m\u001b[97;49minput\u001b[0m\u001b[97;49m(\u001b[0m\u001b[97;49m)\u001b[0m\u001b[97;49m)\u001b[0m                                 \n",
            "    \u001b[1;36m25\u001b[0m         \u001b[1;36m1\u001b[0m          \u001b[1;36m2.1\u001b[0m      \u001b[1;36m2.1\u001b[0m      \u001b[1;36m0.0\u001b[0m  \u001b[97;49m  \u001b[0m\u001b[97;49mvaluesString\u001b[0m\u001b[97;49m \u001b[0m\u001b[91;49m=\u001b[0m\u001b[97;49m \u001b[0m\u001b[97;49minput\u001b[0m\u001b[97;49m(\u001b[0m\u001b[97;49m)\u001b[0m                           \n",
            "    \u001b[1;36m26\u001b[0m         \u001b[1;36m1\u001b[0m          \u001b[1;36m2.6\u001b[0m      \u001b[1;36m2.6\u001b[0m      \u001b[1;36m0.0\u001b[0m  \u001b[97;49m  \u001b[0m\u001b[97;49mvalues\u001b[0m\u001b[97;49m \u001b[0m\u001b[91;49m=\u001b[0m\u001b[97;49m \u001b[0m\u001b[97;49mvaluesString\u001b[0m\u001b[91;49m.\u001b[0m\u001b[97;49msplit\u001b[0m\u001b[97;49m(\u001b[0m\u001b[97;49m)\u001b[0m                    \n",
            "    \u001b[1;36m27\u001b[0m        \u001b[1;36m25\u001b[0m          \u001b[1;36m8.0\u001b[0m      \u001b[1;36m0.3\u001b[0m      \u001b[1;36m0.0\u001b[0m  \u001b[97;49m  \u001b[0m\u001b[96;49mfor\u001b[0m\u001b[97;49m \u001b[0m\u001b[97;49mi\u001b[0m\u001b[97;49m \u001b[0m\u001b[91;49min\u001b[0m\u001b[97;49m \u001b[0m\u001b[97;49mrange\u001b[0m\u001b[97;49m(\u001b[0m\u001b[97;49mlen\u001b[0m\u001b[97;49m(\u001b[0m\u001b[97;49mvalues\u001b[0m\u001b[97;49m)\u001b[0m\u001b[97;49m)\u001b[0m\u001b[97;49m:\u001b[0m                     \n",
            "    \u001b[1;36m28\u001b[0m        \u001b[1;36m24\u001b[0m         \u001b[1;36m12.9\u001b[0m      \u001b[1;36m0.5\u001b[0m      \u001b[1;36m0.0\u001b[0m  \u001b[97;49m    \u001b[0m\u001b[97;49mvalues\u001b[0m\u001b[97;49m[\u001b[0m\u001b[97;49mi\u001b[0m\u001b[97;49m]\u001b[0m\u001b[97;49m \u001b[0m\u001b[91;49m=\u001b[0m\u001b[97;49m \u001b[0m\u001b[97;49mint\u001b[0m\u001b[97;49m(\u001b[0m\u001b[97;49mvalues\u001b[0m\u001b[97;49m[\u001b[0m\u001b[97;49mi\u001b[0m\u001b[97;49m]\u001b[0m\u001b[97;49m)\u001b[0m                     \n",
            "    \u001b[1;36m29\u001b[0m                                           \u001b[97;49m  \u001b[0m\u001b[37;49m# Print the instance of the problem\u001b[0m              \n",
            "    \u001b[1;36m30\u001b[0m         \u001b[1;36m1\u001b[0m         \u001b[1;36m47.6\u001b[0m     \u001b[1;36m47.6\u001b[0m      \u001b[1;36m0.0\u001b[0m  \u001b[97;49m  \u001b[0m\u001b[97;49mprint\u001b[0m\u001b[97;49m(\u001b[0m\u001b[93;49m\"\u001b[0m\u001b[93;49mProblem size: \u001b[0m\u001b[93;49m\"\u001b[0m\u001b[97;49m,\u001b[0m\u001b[97;49mn\u001b[0m\u001b[97;49m)\u001b[0m                        \n",
            "    \u001b[1;36m31\u001b[0m         \u001b[1;36m1\u001b[0m         \u001b[1;36m14.9\u001b[0m     \u001b[1;36m14.9\u001b[0m      \u001b[1;36m0.0\u001b[0m  \u001b[97;49m  \u001b[0m\u001b[97;49mprint\u001b[0m\u001b[97;49m(\u001b[0m\u001b[93;49m\"\u001b[0m\u001b[93;49mProblem instance: \u001b[0m\u001b[93;49m\"\u001b[0m\u001b[97;49m,\u001b[0m\u001b[97;49mvalues\u001b[0m\u001b[97;49m)\u001b[0m               \n",
            "    \u001b[1;36m32\u001b[0m                                                                                              \n",
            "    \u001b[1;36m33\u001b[0m         \u001b[1;36m1\u001b[0m          \u001b[1;36m1.5\u001b[0m      \u001b[1;36m1.5\u001b[0m      \u001b[1;36m0.0\u001b[0m  \u001b[97;49m  \u001b[0m\u001b[97;49msum_of_numbers\u001b[0m\u001b[97;49m \u001b[0m\u001b[91;49m=\u001b[0m\u001b[97;49m \u001b[0m\u001b[97;49msum\u001b[0m\u001b[97;49m(\u001b[0m\u001b[97;49mvalues\u001b[0m\u001b[97;49m)\u001b[0m                     \n",
            "    \u001b[1;36m34\u001b[0m         \u001b[1;36m1\u001b[0m          \u001b[1;36m0.7\u001b[0m      \u001b[1;36m0.7\u001b[0m      \u001b[1;36m0.0\u001b[0m  \u001b[97;49m  \u001b[0m\u001b[96;49mif\u001b[0m\u001b[97;49m \u001b[0m\u001b[97;49msum_of_numbers\u001b[0m\u001b[97;49m \u001b[0m\u001b[91;49m%\u001b[0m\u001b[97;49m \u001b[0m\u001b[37;49m2\u001b[0m\u001b[97;49m \u001b[0m\u001b[91;49m==\u001b[0m\u001b[97;49m \u001b[0m\u001b[37;49m1\u001b[0m\u001b[97;49m:\u001b[0m                      \n",
            "    \u001b[1;36m35\u001b[0m                                           \u001b[97;49m    \u001b[0m\u001b[97;49mprint\u001b[0m\u001b[97;49m(\u001b[0m\u001b[93;49m\"\u001b[0m\u001b[93;49mThis instance does not have a solution\u001b[0m\u001b[93;49m\"\u001b[0m\u001b[97;49m)\u001b[0m\n",
            "    \u001b[1;36m36\u001b[0m                                           \u001b[97;49m  \u001b[0m\u001b[96;49melse\u001b[0m\u001b[97;49m:\u001b[0m                                            \n",
            "    \u001b[1;36m37\u001b[0m         \u001b[1;36m1\u001b[0m          \u001b[1;36m8.5\u001b[0m      \u001b[1;36m8.5\u001b[0m      \u001b[1;36m0.0\u001b[0m  \u001b[97;49m    \u001b[0m\u001b[97;49mpower_set\u001b[0m\u001b[97;49m \u001b[0m\u001b[91;49m=\u001b[0m\u001b[97;49m \u001b[0m\u001b[97;49mpowerset\u001b[0m\u001b[97;49m(\u001b[0m\u001b[97;49mvalues\u001b[0m\u001b[97;49m)\u001b[0m                   \n",
            "    \u001b[1;36m38\u001b[0m         \u001b[1;36m1\u001b[0m          \u001b[1;36m0.2\u001b[0m      \u001b[1;36m0.2\u001b[0m      \u001b[1;36m0.0\u001b[0m  \u001b[97;49m    \u001b[0m\u001b[97;49msolution_found\u001b[0m\u001b[97;49m \u001b[0m\u001b[91;49m=\u001b[0m\u001b[97;49m \u001b[0m\u001b[96;49mFalse\u001b[0m                         \n",
            "    \u001b[1;36m39\u001b[0m  \u001b[1;36m16777217\u001b[0m    \u001b[1;36m5831369.0\u001b[0m      \u001b[1;36m0.3\u001b[0m     \u001b[1;36m36.8\u001b[0m  \u001b[97;49m    \u001b[0m\u001b[96;49mfor\u001b[0m\u001b[97;49m \u001b[0m\u001b[97;49mset\u001b[0m\u001b[97;49m \u001b[0m\u001b[91;49min\u001b[0m\u001b[97;49m \u001b[0m\u001b[97;49mpower_set\u001b[0m\u001b[97;49m:\u001b[0m                          \n",
            "    \u001b[1;36m40\u001b[0m  \u001b[1;36m16777216\u001b[0m   \u001b[1;36m10021810.6\u001b[0m      \u001b[1;36m0.6\u001b[0m     \u001b[1;36m63.2\u001b[0m  \u001b[97;49m      \u001b[0m\u001b[96;49mif\u001b[0m\u001b[97;49m \u001b[0m\u001b[97;49msum\u001b[0m\u001b[97;49m(\u001b[0m\u001b[97;49mset\u001b[0m\u001b[97;49m)\u001b[0m\u001b[97;49m \u001b[0m\u001b[91;49m==\u001b[0m\u001b[97;49m \u001b[0m\u001b[97;49m(\u001b[0m\u001b[97;49msum_of_numbers\u001b[0m\u001b[91;49m/\u001b[0m\u001b[91;49m/\u001b[0m\u001b[37;49m2\u001b[0m\u001b[97;49m)\u001b[0m\u001b[97;49m:\u001b[0m          \n",
            "    \u001b[1;36m41\u001b[0m                                           \u001b[97;49m        \u001b[0m\u001b[97;49mprint\u001b[0m\u001b[97;49m(\u001b[0m\u001b[93;49m\"\u001b[0m\u001b[93;49mSolution found!\u001b[0m\u001b[93;49m\"\u001b[0m\u001b[97;49m)\u001b[0m                   \n",
            "    \u001b[1;36m42\u001b[0m                                           \u001b[97;49m        \u001b[0m\u001b[97;49mprint\u001b[0m\u001b[97;49m(\u001b[0m\u001b[93;49m\"\u001b[0m\u001b[93;49mOne partition contains: \u001b[0m\u001b[93;49m\"\u001b[0m\u001b[97;49m,\u001b[0m\u001b[97;49mset\u001b[0m\u001b[97;49m)\u001b[0m      \n",
            "    \u001b[1;36m43\u001b[0m                                           \u001b[97;49m        \u001b[0m\u001b[97;49msolution_found\u001b[0m\u001b[97;49m \u001b[0m\u001b[91;49m=\u001b[0m\u001b[97;49m \u001b[0m\u001b[96;49mTrue\u001b[0m                      \n",
            "    \u001b[1;36m44\u001b[0m                                           \u001b[97;49m        \u001b[0m\u001b[96;49mbreak\u001b[0m                                      \n",
            "    \u001b[1;36m45\u001b[0m         \u001b[1;36m1\u001b[0m          \u001b[1;36m0.7\u001b[0m      \u001b[1;36m0.7\u001b[0m      \u001b[1;36m0.0\u001b[0m  \u001b[97;49m    \u001b[0m\u001b[96;49mif\u001b[0m\u001b[97;49m \u001b[0m\u001b[97;49msolution_found\u001b[0m\u001b[97;49m \u001b[0m\u001b[91;49m==\u001b[0m\u001b[97;49m \u001b[0m\u001b[96;49mFalse\u001b[0m\u001b[97;49m:\u001b[0m                    \n",
            "    \u001b[1;36m46\u001b[0m         \u001b[1;36m1\u001b[0m         \u001b[1;36m51.0\u001b[0m     \u001b[1;36m51.0\u001b[0m      \u001b[1;36m0.0\u001b[0m  \u001b[97;49m      \u001b[0m\u001b[97;49mprint\u001b[0m\u001b[97;49m(\u001b[0m\u001b[93;49m\"\u001b[0m\u001b[93;49mThis instance does not have a solutio…\u001b[0m\n",
            "    \u001b[1;36m47\u001b[0m                                                                                              \n",
            "    \u001b[1;36m48\u001b[0m         \u001b[1;36m1\u001b[0m          \u001b[1;36m4.8\u001b[0m      \u001b[1;36m4.8\u001b[0m      \u001b[1;36m0.0\u001b[0m  \u001b[97;49m  \u001b[0m\u001b[97;49mend_time\u001b[0m\u001b[97;49m \u001b[0m\u001b[91;49m=\u001b[0m\u001b[97;49m \u001b[0m\u001b[97;49mtime\u001b[0m\u001b[91;49m.\u001b[0m\u001b[97;49mtime\u001b[0m\u001b[97;49m(\u001b[0m\u001b[97;49m)\u001b[0m                           \n",
            "    \u001b[1;36m49\u001b[0m         \u001b[1;36m1\u001b[0m          \u001b[1;36m1.0\u001b[0m      \u001b[1;36m1.0\u001b[0m      \u001b[1;36m0.0\u001b[0m  \u001b[97;49m  \u001b[0m\u001b[97;49melapsed_time\u001b[0m\u001b[97;49m \u001b[0m\u001b[91;49m=\u001b[0m\u001b[97;49m \u001b[0m\u001b[97;49mend_time\u001b[0m\u001b[97;49m \u001b[0m\u001b[91;49m-\u001b[0m\u001b[97;49m \u001b[0m\u001b[97;49mstart_time\u001b[0m             \n",
            "    \u001b[1;36m50\u001b[0m         \u001b[1;36m1\u001b[0m         \u001b[1;36m29.2\u001b[0m     \u001b[1;36m29.2\u001b[0m      \u001b[1;36m0.0\u001b[0m  \u001b[97;49m  \u001b[0m\u001b[97;49mprint\u001b[0m\u001b[97;49m(\u001b[0m\u001b[93;49m\"\u001b[0m\u001b[93;49mThe program took: \u001b[0m\u001b[93;49m\"\u001b[0m\u001b[97;49m,\u001b[0m\u001b[97;49melapsed_time\u001b[0m\u001b[97;49m,\u001b[0m\u001b[93;49m\"\u001b[0m\u001b[93;49m second…\u001b[0m\n",
            "\n",
            "\n",
            " 15.85 seconds - partition_profile.py:20 - partition\n"
          ]
        }
      ]
    },
    {
      "cell_type": "code",
      "source": [
        "!kernprof -l partition_profile.py < test24.Text"
      ],
      "metadata": {
        "colab": {
          "base_uri": "https://localhost:8080/"
        },
        "id": "sa2mHiKodbWe",
        "outputId": "5d4c40b4-3586-4fde-fcbe-9a718e62396b"
      },
      "execution_count": 68,
      "outputs": [
        {
          "output_type": "stream",
          "name": "stdout",
          "text": [
            "Problem size:  24\n",
            "Problem instance:  [1, 1, 1, 1, 1, 1, 1, 1, 1, 1, 1, 1, 1, 1, 1, 1, 1, 1, 1, 1, 1, 1, 1, 23]\n",
            "Solution found!\n",
            "One partition contains:  (23,)\n",
            "The program took:  0.0003399848937988281  seconds.\n",
            "Wrote profile results to partition_profile.py.lprof\n",
            "Inspect results with:\n",
            "python3 -m line_profiler -rmt \"partition_profile.py.lprof\"\n"
          ]
        }
      ]
    },
    {
      "cell_type": "code",
      "source": [
        "!python3 -m line_profiler -rmt \"partition_profile.py.lprof\"\n"
      ],
      "metadata": {
        "colab": {
          "base_uri": "https://localhost:8080/"
        },
        "id": "Zris8FL6eCUq",
        "outputId": "c21ace02-1634-470c-d8b0-cc58df2dc0f3"
      },
      "execution_count": 69,
      "outputs": [
        {
          "output_type": "stream",
          "name": "stdout",
          "text": [
            "Timer unit: 1e-06 s\n",
            "\n",
            "Total time: 0.000293348 s\n",
            "File: partition_profile.py\n",
            "Function: partition at line 20\n",
            "\n",
            "Line #      Hits         Time  Per Hit   % Time  Line Contents\n",
            "==============================================================\n",
            "    \u001b[1;36m20\u001b[0m                                           \u001b[92;49m@profile\u001b[0m                                           \n",
            "    \u001b[1;36m21\u001b[0m                                           \u001b[96;49mdef\u001b[0m\u001b[97;49m \u001b[0m\u001b[92;49mpartition\u001b[0m\u001b[97;49m(\u001b[0m\u001b[97;49m)\u001b[0m\u001b[97;49m:\u001b[0m                                   \n",
            "    \u001b[1;36m22\u001b[0m         \u001b[1;36m1\u001b[0m          \u001b[1;36m3.8\u001b[0m      \u001b[1;36m3.8\u001b[0m      \u001b[1;36m1.3\u001b[0m  \u001b[97;49m  \u001b[0m\u001b[97;49mstart_time\u001b[0m\u001b[97;49m \u001b[0m\u001b[91;49m=\u001b[0m\u001b[97;49m \u001b[0m\u001b[97;49mtime\u001b[0m\u001b[91;49m.\u001b[0m\u001b[97;49mtime\u001b[0m\u001b[97;49m(\u001b[0m\u001b[97;49m)\u001b[0m                         \n",
            "    \u001b[1;36m23\u001b[0m                                           \u001b[97;49m  \u001b[0m\u001b[37;49m# Read the problem\u001b[0m                               \n",
            "    \u001b[1;36m24\u001b[0m         \u001b[1;36m1\u001b[0m         \u001b[1;36m54.0\u001b[0m     \u001b[1;36m54.0\u001b[0m     \u001b[1;36m18.4\u001b[0m  \u001b[97;49m  \u001b[0m\u001b[97;49mn\u001b[0m\u001b[97;49m \u001b[0m\u001b[91;49m=\u001b[0m\u001b[97;49m \u001b[0m\u001b[97;49mint\u001b[0m\u001b[97;49m(\u001b[0m\u001b[97;49minput\u001b[0m\u001b[97;49m(\u001b[0m\u001b[97;49m)\u001b[0m\u001b[97;49m)\u001b[0m                                 \n",
            "    \u001b[1;36m25\u001b[0m         \u001b[1;36m1\u001b[0m          \u001b[1;36m2.8\u001b[0m      \u001b[1;36m2.8\u001b[0m      \u001b[1;36m0.9\u001b[0m  \u001b[97;49m  \u001b[0m\u001b[97;49mvaluesString\u001b[0m\u001b[97;49m \u001b[0m\u001b[91;49m=\u001b[0m\u001b[97;49m \u001b[0m\u001b[97;49minput\u001b[0m\u001b[97;49m(\u001b[0m\u001b[97;49m)\u001b[0m                           \n",
            "    \u001b[1;36m26\u001b[0m         \u001b[1;36m1\u001b[0m          \u001b[1;36m3.7\u001b[0m      \u001b[1;36m3.7\u001b[0m      \u001b[1;36m1.3\u001b[0m  \u001b[97;49m  \u001b[0m\u001b[97;49mvalues\u001b[0m\u001b[97;49m \u001b[0m\u001b[91;49m=\u001b[0m\u001b[97;49m \u001b[0m\u001b[97;49mvaluesString\u001b[0m\u001b[91;49m.\u001b[0m\u001b[97;49msplit\u001b[0m\u001b[97;49m(\u001b[0m\u001b[97;49m)\u001b[0m                    \n",
            "    \u001b[1;36m27\u001b[0m        \u001b[1;36m25\u001b[0m         \u001b[1;36m13.7\u001b[0m      \u001b[1;36m0.5\u001b[0m      \u001b[1;36m4.7\u001b[0m  \u001b[97;49m  \u001b[0m\u001b[96;49mfor\u001b[0m\u001b[97;49m \u001b[0m\u001b[97;49mi\u001b[0m\u001b[97;49m \u001b[0m\u001b[91;49min\u001b[0m\u001b[97;49m \u001b[0m\u001b[97;49mrange\u001b[0m\u001b[97;49m(\u001b[0m\u001b[97;49mlen\u001b[0m\u001b[97;49m(\u001b[0m\u001b[97;49mvalues\u001b[0m\u001b[97;49m)\u001b[0m\u001b[97;49m)\u001b[0m\u001b[97;49m:\u001b[0m                     \n",
            "    \u001b[1;36m28\u001b[0m        \u001b[1;36m24\u001b[0m         \u001b[1;36m23.3\u001b[0m      \u001b[1;36m1.0\u001b[0m      \u001b[1;36m8.0\u001b[0m  \u001b[97;49m    \u001b[0m\u001b[97;49mvalues\u001b[0m\u001b[97;49m[\u001b[0m\u001b[97;49mi\u001b[0m\u001b[97;49m]\u001b[0m\u001b[97;49m \u001b[0m\u001b[91;49m=\u001b[0m\u001b[97;49m \u001b[0m\u001b[97;49mint\u001b[0m\u001b[97;49m(\u001b[0m\u001b[97;49mvalues\u001b[0m\u001b[97;49m[\u001b[0m\u001b[97;49mi\u001b[0m\u001b[97;49m]\u001b[0m\u001b[97;49m)\u001b[0m                     \n",
            "    \u001b[1;36m29\u001b[0m                                           \u001b[97;49m  \u001b[0m\u001b[37;49m# Print the instance of the problem\u001b[0m              \n",
            "    \u001b[1;36m30\u001b[0m         \u001b[1;36m1\u001b[0m         \u001b[1;36m44.6\u001b[0m     \u001b[1;36m44.6\u001b[0m     \u001b[1;36m15.2\u001b[0m  \u001b[97;49m  \u001b[0m\u001b[97;49mprint\u001b[0m\u001b[97;49m(\u001b[0m\u001b[93;49m\"\u001b[0m\u001b[93;49mProblem size: \u001b[0m\u001b[93;49m\"\u001b[0m\u001b[97;49m,\u001b[0m\u001b[97;49mn\u001b[0m\u001b[97;49m)\u001b[0m                        \n",
            "    \u001b[1;36m31\u001b[0m         \u001b[1;36m1\u001b[0m         \u001b[1;36m18.8\u001b[0m     \u001b[1;36m18.8\u001b[0m      \u001b[1;36m6.4\u001b[0m  \u001b[97;49m  \u001b[0m\u001b[97;49mprint\u001b[0m\u001b[97;49m(\u001b[0m\u001b[93;49m\"\u001b[0m\u001b[93;49mProblem instance: \u001b[0m\u001b[93;49m\"\u001b[0m\u001b[97;49m,\u001b[0m\u001b[97;49mvalues\u001b[0m\u001b[97;49m)\u001b[0m               \n",
            "    \u001b[1;36m32\u001b[0m                                                                                              \n",
            "    \u001b[1;36m33\u001b[0m         \u001b[1;36m1\u001b[0m          \u001b[1;36m2.3\u001b[0m      \u001b[1;36m2.3\u001b[0m      \u001b[1;36m0.8\u001b[0m  \u001b[97;49m  \u001b[0m\u001b[97;49msum_of_numbers\u001b[0m\u001b[97;49m \u001b[0m\u001b[91;49m=\u001b[0m\u001b[97;49m \u001b[0m\u001b[97;49msum\u001b[0m\u001b[97;49m(\u001b[0m\u001b[97;49mvalues\u001b[0m\u001b[97;49m)\u001b[0m                     \n",
            "    \u001b[1;36m34\u001b[0m         \u001b[1;36m1\u001b[0m          \u001b[1;36m1.0\u001b[0m      \u001b[1;36m1.0\u001b[0m      \u001b[1;36m0.3\u001b[0m  \u001b[97;49m  \u001b[0m\u001b[96;49mif\u001b[0m\u001b[97;49m \u001b[0m\u001b[97;49msum_of_numbers\u001b[0m\u001b[97;49m \u001b[0m\u001b[91;49m%\u001b[0m\u001b[97;49m \u001b[0m\u001b[37;49m2\u001b[0m\u001b[97;49m \u001b[0m\u001b[91;49m==\u001b[0m\u001b[97;49m \u001b[0m\u001b[37;49m1\u001b[0m\u001b[97;49m:\u001b[0m                      \n",
            "    \u001b[1;36m35\u001b[0m                                           \u001b[97;49m    \u001b[0m\u001b[97;49mprint\u001b[0m\u001b[97;49m(\u001b[0m\u001b[93;49m\"\u001b[0m\u001b[93;49mThis instance does not have a solution\u001b[0m\u001b[93;49m\"\u001b[0m\u001b[97;49m)\u001b[0m\n",
            "    \u001b[1;36m36\u001b[0m                                           \u001b[97;49m  \u001b[0m\u001b[96;49melse\u001b[0m\u001b[97;49m:\u001b[0m                                            \n",
            "    \u001b[1;36m37\u001b[0m         \u001b[1;36m1\u001b[0m         \u001b[1;36m11.2\u001b[0m     \u001b[1;36m11.2\u001b[0m      \u001b[1;36m3.8\u001b[0m  \u001b[97;49m    \u001b[0m\u001b[97;49mpower_set\u001b[0m\u001b[97;49m \u001b[0m\u001b[91;49m=\u001b[0m\u001b[97;49m \u001b[0m\u001b[97;49mpowerset\u001b[0m\u001b[97;49m(\u001b[0m\u001b[97;49mvalues\u001b[0m\u001b[97;49m)\u001b[0m                   \n",
            "    \u001b[1;36m38\u001b[0m         \u001b[1;36m1\u001b[0m          \u001b[1;36m0.3\u001b[0m      \u001b[1;36m0.3\u001b[0m      \u001b[1;36m0.1\u001b[0m  \u001b[97;49m    \u001b[0m\u001b[97;49msolution_found\u001b[0m\u001b[97;49m \u001b[0m\u001b[91;49m=\u001b[0m\u001b[97;49m \u001b[0m\u001b[96;49mFalse\u001b[0m                         \n",
            "    \u001b[1;36m39\u001b[0m        \u001b[1;36m25\u001b[0m         \u001b[1;36m41.4\u001b[0m      \u001b[1;36m1.7\u001b[0m     \u001b[1;36m14.1\u001b[0m  \u001b[97;49m    \u001b[0m\u001b[96;49mfor\u001b[0m\u001b[97;49m \u001b[0m\u001b[97;49mset\u001b[0m\u001b[97;49m \u001b[0m\u001b[91;49min\u001b[0m\u001b[97;49m \u001b[0m\u001b[97;49mpower_set\u001b[0m\u001b[97;49m:\u001b[0m                          \n",
            "    \u001b[1;36m40\u001b[0m        \u001b[1;36m25\u001b[0m         \u001b[1;36m23.1\u001b[0m      \u001b[1;36m0.9\u001b[0m      \u001b[1;36m7.9\u001b[0m  \u001b[97;49m      \u001b[0m\u001b[96;49mif\u001b[0m\u001b[97;49m \u001b[0m\u001b[97;49msum\u001b[0m\u001b[97;49m(\u001b[0m\u001b[97;49mset\u001b[0m\u001b[97;49m)\u001b[0m\u001b[97;49m \u001b[0m\u001b[91;49m==\u001b[0m\u001b[97;49m \u001b[0m\u001b[97;49m(\u001b[0m\u001b[97;49msum_of_numbers\u001b[0m\u001b[91;49m/\u001b[0m\u001b[91;49m/\u001b[0m\u001b[37;49m2\u001b[0m\u001b[97;49m)\u001b[0m\u001b[97;49m:\u001b[0m          \n",
            "    \u001b[1;36m41\u001b[0m         \u001b[1;36m1\u001b[0m          \u001b[1;36m9.6\u001b[0m      \u001b[1;36m9.6\u001b[0m      \u001b[1;36m3.3\u001b[0m  \u001b[97;49m        \u001b[0m\u001b[97;49mprint\u001b[0m\u001b[97;49m(\u001b[0m\u001b[93;49m\"\u001b[0m\u001b[93;49mSolution found!\u001b[0m\u001b[93;49m\"\u001b[0m\u001b[97;49m)\u001b[0m                   \n",
            "    \u001b[1;36m42\u001b[0m         \u001b[1;36m1\u001b[0m         \u001b[1;36m10.4\u001b[0m     \u001b[1;36m10.4\u001b[0m      \u001b[1;36m3.5\u001b[0m  \u001b[97;49m        \u001b[0m\u001b[97;49mprint\u001b[0m\u001b[97;49m(\u001b[0m\u001b[93;49m\"\u001b[0m\u001b[93;49mOne partition contains: \u001b[0m\u001b[93;49m\"\u001b[0m\u001b[97;49m,\u001b[0m\u001b[97;49mset\u001b[0m\u001b[97;49m)\u001b[0m      \n",
            "    \u001b[1;36m43\u001b[0m         \u001b[1;36m1\u001b[0m          \u001b[1;36m0.4\u001b[0m      \u001b[1;36m0.4\u001b[0m      \u001b[1;36m0.1\u001b[0m  \u001b[97;49m        \u001b[0m\u001b[97;49msolution_found\u001b[0m\u001b[97;49m \u001b[0m\u001b[91;49m=\u001b[0m\u001b[97;49m \u001b[0m\u001b[96;49mTrue\u001b[0m                      \n",
            "    \u001b[1;36m44\u001b[0m         \u001b[1;36m1\u001b[0m          \u001b[1;36m0.6\u001b[0m      \u001b[1;36m0.6\u001b[0m      \u001b[1;36m0.2\u001b[0m  \u001b[97;49m        \u001b[0m\u001b[96;49mbreak\u001b[0m                                      \n",
            "    \u001b[1;36m45\u001b[0m         \u001b[1;36m1\u001b[0m          \u001b[1;36m0.5\u001b[0m      \u001b[1;36m0.5\u001b[0m      \u001b[1;36m0.2\u001b[0m  \u001b[97;49m    \u001b[0m\u001b[96;49mif\u001b[0m\u001b[97;49m \u001b[0m\u001b[97;49msolution_found\u001b[0m\u001b[97;49m \u001b[0m\u001b[91;49m==\u001b[0m\u001b[97;49m \u001b[0m\u001b[96;49mFalse\u001b[0m\u001b[97;49m:\u001b[0m                    \n",
            "    \u001b[1;36m46\u001b[0m                                           \u001b[97;49m      \u001b[0m\u001b[97;49mprint\u001b[0m\u001b[97;49m(\u001b[0m\u001b[93;49m\"\u001b[0m\u001b[93;49mThis instance does not have a solutio…\u001b[0m\n",
            "    \u001b[1;36m47\u001b[0m                                                                                              \n",
            "    \u001b[1;36m48\u001b[0m         \u001b[1;36m1\u001b[0m          \u001b[1;36m1.0\u001b[0m      \u001b[1;36m1.0\u001b[0m      \u001b[1;36m0.4\u001b[0m  \u001b[97;49m  \u001b[0m\u001b[97;49mend_time\u001b[0m\u001b[97;49m \u001b[0m\u001b[91;49m=\u001b[0m\u001b[97;49m \u001b[0m\u001b[97;49mtime\u001b[0m\u001b[91;49m.\u001b[0m\u001b[97;49mtime\u001b[0m\u001b[97;49m(\u001b[0m\u001b[97;49m)\u001b[0m                           \n",
            "    \u001b[1;36m49\u001b[0m         \u001b[1;36m1\u001b[0m          \u001b[1;36m0.8\u001b[0m      \u001b[1;36m0.8\u001b[0m      \u001b[1;36m0.3\u001b[0m  \u001b[97;49m  \u001b[0m\u001b[97;49melapsed_time\u001b[0m\u001b[97;49m \u001b[0m\u001b[91;49m=\u001b[0m\u001b[97;49m \u001b[0m\u001b[97;49mend_time\u001b[0m\u001b[97;49m \u001b[0m\u001b[91;49m-\u001b[0m\u001b[97;49m \u001b[0m\u001b[97;49mstart_time\u001b[0m             \n",
            "    \u001b[1;36m50\u001b[0m         \u001b[1;36m1\u001b[0m         \u001b[1;36m25.8\u001b[0m     \u001b[1;36m25.8\u001b[0m      \u001b[1;36m8.8\u001b[0m  \u001b[97;49m  \u001b[0m\u001b[97;49mprint\u001b[0m\u001b[97;49m(\u001b[0m\u001b[93;49m\"\u001b[0m\u001b[93;49mThe program took: \u001b[0m\u001b[93;49m\"\u001b[0m\u001b[97;49m,\u001b[0m\u001b[97;49melapsed_time\u001b[0m\u001b[97;49m,\u001b[0m\u001b[93;49m\"\u001b[0m\u001b[93;49m second…\u001b[0m\n",
            "\n",
            "\n",
            "  0.00 seconds - partition_profile.py:20 - partition\n"
          ]
        }
      ]
    },
    {
      "cell_type": "code",
      "source": [
        "%%writefile instanceNoSolution20.Text\n",
        "20\n",
        "1 1 1 1 1 1 1 1 1 1 1 1 1 1 1 1 1 1 1 21"
      ],
      "metadata": {
        "colab": {
          "base_uri": "https://localhost:8080/"
        },
        "id": "7vose6WKfBeO",
        "outputId": "a89e8155-8525-479d-8f68-23b34920988a"
      },
      "execution_count": 57,
      "outputs": [
        {
          "output_type": "stream",
          "name": "stdout",
          "text": [
            "Overwriting instanceNoSolution20.Text\n"
          ]
        }
      ]
    },
    {
      "cell_type": "code",
      "source": [
        "%%writefile instanceNoSolution21.Text\n",
        "21\n",
        "1 1 1 1 1 1 1 1 1 1 1 1 1 1 1 1 1 1 1 1 22"
      ],
      "metadata": {
        "colab": {
          "base_uri": "https://localhost:8080/"
        },
        "id": "tV618rGdfJzO",
        "outputId": "c1e5b97b-414d-4aec-b811-4765b72e58d7"
      },
      "execution_count": 58,
      "outputs": [
        {
          "output_type": "stream",
          "name": "stdout",
          "text": [
            "Overwriting instanceNoSolution21.Text\n"
          ]
        }
      ]
    },
    {
      "cell_type": "code",
      "source": [
        "%%writefile instanceNoSolution22.Text\n",
        "22\n",
        "1 1 1 1 1 1 1 1 1 1 1 1 1 1 1 1 1 1 1 1 1 23"
      ],
      "metadata": {
        "colab": {
          "base_uri": "https://localhost:8080/"
        },
        "id": "8tsGIwfQfPvK",
        "outputId": "701a4a16-7de6-4967-c6d8-55de91c70d10"
      },
      "execution_count": 59,
      "outputs": [
        {
          "output_type": "stream",
          "name": "stdout",
          "text": [
            "Overwriting instanceNoSolution22.Text\n"
          ]
        }
      ]
    },
    {
      "cell_type": "code",
      "source": [
        "%%writefile instanceNoSolution23.Text\n",
        "23\n",
        "1 1 1 1 1 1 1 1 1 1 1 1 1 1 1 1 1 1 1 1 1 1 24"
      ],
      "metadata": {
        "colab": {
          "base_uri": "https://localhost:8080/"
        },
        "id": "fIU_oUmqfWni",
        "outputId": "3e1a28d5-b992-4d30-f5ca-1a0d0b83aaff"
      },
      "execution_count": 60,
      "outputs": [
        {
          "output_type": "stream",
          "name": "stdout",
          "text": [
            "Overwriting instanceNoSolution23.Text\n"
          ]
        }
      ]
    },
    {
      "cell_type": "code",
      "source": [
        "%%writefile instanceNoSolution24.Text\n",
        "24\n",
        "1 1 1 1 1 1 1 1 1 1 1 1 1 1 1 1 1 1 1 1 1 1 1 25"
      ],
      "metadata": {
        "colab": {
          "base_uri": "https://localhost:8080/"
        },
        "id": "7lKejrTNfdRp",
        "outputId": "d7dca21e-4e6d-4772-ff8f-a3bb5beea9cd"
      },
      "execution_count": 61,
      "outputs": [
        {
          "output_type": "stream",
          "name": "stdout",
          "text": [
            "Overwriting instanceNoSolution24.Text\n"
          ]
        }
      ]
    },
    {
      "cell_type": "code",
      "source": [
        "!kernprof -l partition_profile.py < instanceNoSolution24.Text"
      ],
      "metadata": {
        "colab": {
          "base_uri": "https://localhost:8080/"
        },
        "id": "1uB2sb6pfl42",
        "outputId": "2d9697fa-2e67-438d-ae70-c371ac91a0ae"
      },
      "execution_count": 62,
      "outputs": [
        {
          "output_type": "stream",
          "name": "stdout",
          "text": [
            "Problem size:  24\n",
            "Problem instance:  [1, 1, 1, 1, 1, 1, 1, 1, 1, 1, 1, 1, 1, 1, 1, 1, 1, 1, 1, 1, 1, 1, 1, 25]\n",
            "This instance does not have a solution\n",
            "The program took:  34.28238773345947  seconds.\n",
            "Wrote profile results to partition_profile.py.lprof\n",
            "Inspect results with:\n",
            "python3 -m line_profiler -rmt \"partition_profile.py.lprof\"\n"
          ]
        }
      ]
    },
    {
      "cell_type": "code",
      "source": [
        "!python3 -m line_profiler -rmt \"partition_profile.py.lprof\""
      ],
      "metadata": {
        "colab": {
          "base_uri": "https://localhost:8080/"
        },
        "id": "HTbhcOqUfwJc",
        "outputId": "d7541715-9238-4ad7-cae1-478b94cc736a"
      },
      "execution_count": 63,
      "outputs": [
        {
          "output_type": "stream",
          "name": "stdout",
          "text": [
            "Timer unit: 1e-06 s\n",
            "\n",
            "Total time: 19.598 s\n",
            "File: partition_profile.py\n",
            "Function: partition at line 20\n",
            "\n",
            "Line #      Hits         Time  Per Hit   % Time  Line Contents\n",
            "==============================================================\n",
            "    \u001b[1;36m20\u001b[0m                                           \u001b[92;49m@profile\u001b[0m                                           \n",
            "    \u001b[1;36m21\u001b[0m                                           \u001b[96;49mdef\u001b[0m\u001b[97;49m \u001b[0m\u001b[92;49mpartition\u001b[0m\u001b[97;49m(\u001b[0m\u001b[97;49m)\u001b[0m\u001b[97;49m:\u001b[0m                                   \n",
            "    \u001b[1;36m22\u001b[0m         \u001b[1;36m1\u001b[0m          \u001b[1;36m4.1\u001b[0m      \u001b[1;36m4.1\u001b[0m      \u001b[1;36m0.0\u001b[0m  \u001b[97;49m  \u001b[0m\u001b[97;49mstart_time\u001b[0m\u001b[97;49m \u001b[0m\u001b[91;49m=\u001b[0m\u001b[97;49m \u001b[0m\u001b[97;49mtime\u001b[0m\u001b[91;49m.\u001b[0m\u001b[97;49mtime\u001b[0m\u001b[97;49m(\u001b[0m\u001b[97;49m)\u001b[0m                         \n",
            "    \u001b[1;36m23\u001b[0m                                           \u001b[97;49m  \u001b[0m\u001b[37;49m# Read the problem\u001b[0m                               \n",
            "    \u001b[1;36m24\u001b[0m         \u001b[1;36m1\u001b[0m         \u001b[1;36m80.9\u001b[0m     \u001b[1;36m80.9\u001b[0m      \u001b[1;36m0.0\u001b[0m  \u001b[97;49m  \u001b[0m\u001b[97;49mn\u001b[0m\u001b[97;49m \u001b[0m\u001b[91;49m=\u001b[0m\u001b[97;49m \u001b[0m\u001b[97;49mint\u001b[0m\u001b[97;49m(\u001b[0m\u001b[97;49minput\u001b[0m\u001b[97;49m(\u001b[0m\u001b[97;49m)\u001b[0m\u001b[97;49m)\u001b[0m                                 \n",
            "    \u001b[1;36m25\u001b[0m         \u001b[1;36m1\u001b[0m          \u001b[1;36m2.8\u001b[0m      \u001b[1;36m2.8\u001b[0m      \u001b[1;36m0.0\u001b[0m  \u001b[97;49m  \u001b[0m\u001b[97;49mvaluesString\u001b[0m\u001b[97;49m \u001b[0m\u001b[91;49m=\u001b[0m\u001b[97;49m \u001b[0m\u001b[97;49minput\u001b[0m\u001b[97;49m(\u001b[0m\u001b[97;49m)\u001b[0m                           \n",
            "    \u001b[1;36m26\u001b[0m         \u001b[1;36m1\u001b[0m          \u001b[1;36m4.3\u001b[0m      \u001b[1;36m4.3\u001b[0m      \u001b[1;36m0.0\u001b[0m  \u001b[97;49m  \u001b[0m\u001b[97;49mvalues\u001b[0m\u001b[97;49m \u001b[0m\u001b[91;49m=\u001b[0m\u001b[97;49m \u001b[0m\u001b[97;49mvaluesString\u001b[0m\u001b[91;49m.\u001b[0m\u001b[97;49msplit\u001b[0m\u001b[97;49m(\u001b[0m\u001b[97;49m)\u001b[0m                    \n",
            "    \u001b[1;36m27\u001b[0m        \u001b[1;36m25\u001b[0m         \u001b[1;36m14.3\u001b[0m      \u001b[1;36m0.6\u001b[0m      \u001b[1;36m0.0\u001b[0m  \u001b[97;49m  \u001b[0m\u001b[96;49mfor\u001b[0m\u001b[97;49m \u001b[0m\u001b[97;49mi\u001b[0m\u001b[97;49m \u001b[0m\u001b[91;49min\u001b[0m\u001b[97;49m \u001b[0m\u001b[97;49mrange\u001b[0m\u001b[97;49m(\u001b[0m\u001b[97;49mlen\u001b[0m\u001b[97;49m(\u001b[0m\u001b[97;49mvalues\u001b[0m\u001b[97;49m)\u001b[0m\u001b[97;49m)\u001b[0m\u001b[97;49m:\u001b[0m                     \n",
            "    \u001b[1;36m28\u001b[0m        \u001b[1;36m24\u001b[0m         \u001b[1;36m24.3\u001b[0m      \u001b[1;36m1.0\u001b[0m      \u001b[1;36m0.0\u001b[0m  \u001b[97;49m    \u001b[0m\u001b[97;49mvalues\u001b[0m\u001b[97;49m[\u001b[0m\u001b[97;49mi\u001b[0m\u001b[97;49m]\u001b[0m\u001b[97;49m \u001b[0m\u001b[91;49m=\u001b[0m\u001b[97;49m \u001b[0m\u001b[97;49mint\u001b[0m\u001b[97;49m(\u001b[0m\u001b[97;49mvalues\u001b[0m\u001b[97;49m[\u001b[0m\u001b[97;49mi\u001b[0m\u001b[97;49m]\u001b[0m\u001b[97;49m)\u001b[0m                     \n",
            "    \u001b[1;36m29\u001b[0m                                           \u001b[97;49m  \u001b[0m\u001b[37;49m# Print the instance of the problem\u001b[0m              \n",
            "    \u001b[1;36m30\u001b[0m         \u001b[1;36m1\u001b[0m         \u001b[1;36m34.4\u001b[0m     \u001b[1;36m34.4\u001b[0m      \u001b[1;36m0.0\u001b[0m  \u001b[97;49m  \u001b[0m\u001b[97;49mprint\u001b[0m\u001b[97;49m(\u001b[0m\u001b[93;49m\"\u001b[0m\u001b[93;49mProblem size: \u001b[0m\u001b[93;49m\"\u001b[0m\u001b[97;49m,\u001b[0m\u001b[97;49mn\u001b[0m\u001b[97;49m)\u001b[0m                        \n",
            "    \u001b[1;36m31\u001b[0m         \u001b[1;36m1\u001b[0m         \u001b[1;36m15.0\u001b[0m     \u001b[1;36m15.0\u001b[0m      \u001b[1;36m0.0\u001b[0m  \u001b[97;49m  \u001b[0m\u001b[97;49mprint\u001b[0m\u001b[97;49m(\u001b[0m\u001b[93;49m\"\u001b[0m\u001b[93;49mProblem instance: \u001b[0m\u001b[93;49m\"\u001b[0m\u001b[97;49m,\u001b[0m\u001b[97;49mvalues\u001b[0m\u001b[97;49m)\u001b[0m               \n",
            "    \u001b[1;36m32\u001b[0m                                                                                              \n",
            "    \u001b[1;36m33\u001b[0m         \u001b[1;36m1\u001b[0m          \u001b[1;36m2.4\u001b[0m      \u001b[1;36m2.4\u001b[0m      \u001b[1;36m0.0\u001b[0m  \u001b[97;49m  \u001b[0m\u001b[97;49msum_of_numbers\u001b[0m\u001b[97;49m \u001b[0m\u001b[91;49m=\u001b[0m\u001b[97;49m \u001b[0m\u001b[97;49msum\u001b[0m\u001b[97;49m(\u001b[0m\u001b[97;49mvalues\u001b[0m\u001b[97;49m)\u001b[0m                     \n",
            "    \u001b[1;36m34\u001b[0m         \u001b[1;36m1\u001b[0m          \u001b[1;36m1.4\u001b[0m      \u001b[1;36m1.4\u001b[0m      \u001b[1;36m0.0\u001b[0m  \u001b[97;49m  \u001b[0m\u001b[96;49mif\u001b[0m\u001b[97;49m \u001b[0m\u001b[97;49msum_of_numbers\u001b[0m\u001b[97;49m \u001b[0m\u001b[91;49m%\u001b[0m\u001b[97;49m \u001b[0m\u001b[37;49m2\u001b[0m\u001b[97;49m \u001b[0m\u001b[91;49m==\u001b[0m\u001b[97;49m \u001b[0m\u001b[37;49m1\u001b[0m\u001b[97;49m:\u001b[0m                      \n",
            "    \u001b[1;36m35\u001b[0m                                           \u001b[97;49m    \u001b[0m\u001b[97;49mprint\u001b[0m\u001b[97;49m(\u001b[0m\u001b[93;49m\"\u001b[0m\u001b[93;49mThis instance does not have a solution\u001b[0m\u001b[93;49m\"\u001b[0m\u001b[97;49m)\u001b[0m\n",
            "    \u001b[1;36m36\u001b[0m                                           \u001b[97;49m  \u001b[0m\u001b[96;49melse\u001b[0m\u001b[97;49m:\u001b[0m                                            \n",
            "    \u001b[1;36m37\u001b[0m         \u001b[1;36m1\u001b[0m         \u001b[1;36m11.3\u001b[0m     \u001b[1;36m11.3\u001b[0m      \u001b[1;36m0.0\u001b[0m  \u001b[97;49m    \u001b[0m\u001b[97;49mpower_set\u001b[0m\u001b[97;49m \u001b[0m\u001b[91;49m=\u001b[0m\u001b[97;49m \u001b[0m\u001b[97;49mpowerset\u001b[0m\u001b[97;49m(\u001b[0m\u001b[97;49mvalues\u001b[0m\u001b[97;49m)\u001b[0m                   \n",
            "    \u001b[1;36m38\u001b[0m         \u001b[1;36m1\u001b[0m          \u001b[1;36m0.3\u001b[0m      \u001b[1;36m0.3\u001b[0m      \u001b[1;36m0.0\u001b[0m  \u001b[97;49m    \u001b[0m\u001b[97;49msolution_found\u001b[0m\u001b[97;49m \u001b[0m\u001b[91;49m=\u001b[0m\u001b[97;49m \u001b[0m\u001b[96;49mFalse\u001b[0m                         \n",
            "    \u001b[1;36m39\u001b[0m  \u001b[1;36m16777217\u001b[0m    \u001b[1;36m6923416.5\u001b[0m      \u001b[1;36m0.4\u001b[0m     \u001b[1;36m35.3\u001b[0m  \u001b[97;49m    \u001b[0m\u001b[96;49mfor\u001b[0m\u001b[97;49m \u001b[0m\u001b[97;49mset\u001b[0m\u001b[97;49m \u001b[0m\u001b[91;49min\u001b[0m\u001b[97;49m \u001b[0m\u001b[97;49mpower_set\u001b[0m\u001b[97;49m:\u001b[0m                          \n",
            "    \u001b[1;36m40\u001b[0m  \u001b[1;36m16777216\u001b[0m   \u001b[1;36m12674319.6\u001b[0m      \u001b[1;36m0.8\u001b[0m     \u001b[1;36m64.7\u001b[0m  \u001b[97;49m      \u001b[0m\u001b[96;49mif\u001b[0m\u001b[97;49m \u001b[0m\u001b[97;49msum\u001b[0m\u001b[97;49m(\u001b[0m\u001b[97;49mset\u001b[0m\u001b[97;49m)\u001b[0m\u001b[97;49m \u001b[0m\u001b[91;49m==\u001b[0m\u001b[97;49m \u001b[0m\u001b[97;49m(\u001b[0m\u001b[97;49msum_of_numbers\u001b[0m\u001b[91;49m/\u001b[0m\u001b[91;49m/\u001b[0m\u001b[37;49m2\u001b[0m\u001b[97;49m)\u001b[0m\u001b[97;49m:\u001b[0m          \n",
            "    \u001b[1;36m41\u001b[0m                                           \u001b[97;49m        \u001b[0m\u001b[97;49mprint\u001b[0m\u001b[97;49m(\u001b[0m\u001b[93;49m\"\u001b[0m\u001b[93;49mSolution found!\u001b[0m\u001b[93;49m\"\u001b[0m\u001b[97;49m)\u001b[0m                   \n",
            "    \u001b[1;36m42\u001b[0m                                           \u001b[97;49m        \u001b[0m\u001b[97;49mprint\u001b[0m\u001b[97;49m(\u001b[0m\u001b[93;49m\"\u001b[0m\u001b[93;49mOne partition contains: \u001b[0m\u001b[93;49m\"\u001b[0m\u001b[97;49m,\u001b[0m\u001b[97;49mset\u001b[0m\u001b[97;49m)\u001b[0m      \n",
            "    \u001b[1;36m43\u001b[0m                                           \u001b[97;49m        \u001b[0m\u001b[97;49msolution_found\u001b[0m\u001b[97;49m \u001b[0m\u001b[91;49m=\u001b[0m\u001b[97;49m \u001b[0m\u001b[96;49mTrue\u001b[0m                      \n",
            "    \u001b[1;36m44\u001b[0m                                           \u001b[97;49m        \u001b[0m\u001b[96;49mbreak\u001b[0m                                      \n",
            "    \u001b[1;36m45\u001b[0m         \u001b[1;36m1\u001b[0m          \u001b[1;36m0.7\u001b[0m      \u001b[1;36m0.7\u001b[0m      \u001b[1;36m0.0\u001b[0m  \u001b[97;49m    \u001b[0m\u001b[96;49mif\u001b[0m\u001b[97;49m \u001b[0m\u001b[97;49msolution_found\u001b[0m\u001b[97;49m \u001b[0m\u001b[91;49m==\u001b[0m\u001b[97;49m \u001b[0m\u001b[96;49mFalse\u001b[0m\u001b[97;49m:\u001b[0m                    \n",
            "    \u001b[1;36m46\u001b[0m         \u001b[1;36m1\u001b[0m         \u001b[1;36m64.0\u001b[0m     \u001b[1;36m64.0\u001b[0m      \u001b[1;36m0.0\u001b[0m  \u001b[97;49m      \u001b[0m\u001b[97;49mprint\u001b[0m\u001b[97;49m(\u001b[0m\u001b[93;49m\"\u001b[0m\u001b[93;49mThis instance does not have a solutio…\u001b[0m\n",
            "    \u001b[1;36m47\u001b[0m                                                                                              \n",
            "    \u001b[1;36m48\u001b[0m         \u001b[1;36m1\u001b[0m          \u001b[1;36m7.2\u001b[0m      \u001b[1;36m7.2\u001b[0m      \u001b[1;36m0.0\u001b[0m  \u001b[97;49m  \u001b[0m\u001b[97;49mend_time\u001b[0m\u001b[97;49m \u001b[0m\u001b[91;49m=\u001b[0m\u001b[97;49m \u001b[0m\u001b[97;49mtime\u001b[0m\u001b[91;49m.\u001b[0m\u001b[97;49mtime\u001b[0m\u001b[97;49m(\u001b[0m\u001b[97;49m)\u001b[0m                           \n",
            "    \u001b[1;36m49\u001b[0m         \u001b[1;36m1\u001b[0m          \u001b[1;36m0.9\u001b[0m      \u001b[1;36m0.9\u001b[0m      \u001b[1;36m0.0\u001b[0m  \u001b[97;49m  \u001b[0m\u001b[97;49melapsed_time\u001b[0m\u001b[97;49m \u001b[0m\u001b[91;49m=\u001b[0m\u001b[97;49m \u001b[0m\u001b[97;49mend_time\u001b[0m\u001b[97;49m \u001b[0m\u001b[91;49m-\u001b[0m\u001b[97;49m \u001b[0m\u001b[97;49mstart_time\u001b[0m             \n",
            "    \u001b[1;36m50\u001b[0m         \u001b[1;36m1\u001b[0m         \u001b[1;36m21.7\u001b[0m     \u001b[1;36m21.7\u001b[0m      \u001b[1;36m0.0\u001b[0m  \u001b[97;49m  \u001b[0m\u001b[97;49mprint\u001b[0m\u001b[97;49m(\u001b[0m\u001b[93;49m\"\u001b[0m\u001b[93;49mThe program took: \u001b[0m\u001b[93;49m\"\u001b[0m\u001b[97;49m,\u001b[0m\u001b[97;49melapsed_time\u001b[0m\u001b[97;49m,\u001b[0m\u001b[93;49m\"\u001b[0m\u001b[93;49m second…\u001b[0m\n",
            "\n",
            "\n",
            " 19.60 seconds - partition_profile.py:20 - partition\n"
          ]
        }
      ]
    }
  ]
}