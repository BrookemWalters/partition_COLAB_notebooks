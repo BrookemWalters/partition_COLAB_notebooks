{
  "nbformat": 4,
  "nbformat_minor": 0,
  "metadata": {
    "colab": {
      "provenance": [],
      "authorship_tag": "ABX9TyMz2Xpck7VqJnZa5JJERnlt",
      "include_colab_link": true
    },
    "kernelspec": {
      "name": "python3",
      "display_name": "Python 3"
    },
    "language_info": {
      "name": "python"
    }
  },
  "cells": [
    {
      "cell_type": "markdown",
      "metadata": {
        "id": "view-in-github",
        "colab_type": "text"
      },
      "source": [
        "<a href=\"https://colab.research.google.com/github/trefftzc/partition_COLAB_notebooks/blob/main/Partition_sequential_version_python_plus_profiling.ipynb\" target=\"_parent\"><img src=\"https://colab.research.google.com/assets/colab-badge.svg\" alt=\"Open In Colab\"/></a>"
      ]
    },
    {
      "cell_type": "code",
      "execution_count": 1,
      "metadata": {
        "id": "y0Pf6HUgpEZM"
      },
      "outputs": [],
      "source": []
    },
    {
      "cell_type": "markdown",
      "source": [
        "# The partition problem\n",
        "\n",
        "The partition problem is intuitive: Given a collection of n objects, can we place part of those objects in the left hand of a balance and the remaining objects in the right hand side of a balance so that they weigh the same? In other (more mathematical) words, if we have a multiset of integers s, can we partition that multiset into two separate multisets q and r so that the sum of the elements in q is the same as the sum of the elements in r. A more formal statement of the problem can be found on mathworld.wolfram [here](https://mathworld.wolfram.com/NumberPartitioningProblem.html).\n",
        "\n",
        "This simple problem belongs to a very unique kind of problems called NP-complete problems that are very hard to solve.\n",
        "Given an instance of the partition problem with n positive integer values, one way to find if there is a solution to that instance is to examine each and every one of the $2^n$ subsets and to check for every one of those subsets if that subset and its complement are a solution to this instance of the partition problem. One adds up the elements in the subset, adds up the elements in the complement and if the two sums are the same, this is a solution to this instance of the partition problem.\n",
        "\n",
        "The set of all the subsets of a set is called the power set.\n",
        "\n",
        "Consider the following example: {2,3,5}. In this case n, the number of elements in the instance of the partition problem, is 3. If one calculates all the possible subsets, there are $2^3$ = 8 possible distinct subsets. The following table shows the eight subsets, their complements and indicates which of those subsets are solutions for this instance of the partition problem.\n",
        "\n",
        "| Index | Binary Encoding | Elements | Elements in the Complement | Solution |\n",
        "|:-------|:-----------------|:----------|:------------------------|:--------------|\n",
        "| 0 |\t000\t| {}\t| {2,3,5}\t| No |\n",
        "|1 |\t001\t|{2}\t|{3,5}\t|No\n",
        "|2 |\t010\t|{3}\t|{2,5}\t|No\n",
        "|3 |\t011\t|{2,3}\t|{5}\t|Yes\n",
        "|4 |\t100\t|{5}\t|{2,3}\t|Yes\n",
        "|5 |\t101\t|{2,5}\t|{3}\t|No\n",
        "|6 |\t110\t|{3,5}\t|{2}\t|No\n",
        "|7 |\t111\t|{2,3,5}\t|{}\t|No\n",
        "\n",
        "Notice that the first half of the table is symmetrical to the second half of the table. Hence, one only needs to go through the first half of all the elements in the Power Set.\n",
        "\n"
      ],
      "metadata": {
        "id": "5Go73l1OUrdt"
      }
    },
    {
      "cell_type": "markdown",
      "source": [
        "# The Power Set\n",
        "The power set can be defined as:\n",
        "\"Given a set S, the power set of S, sometimes also called the powerset, is the set of all subsets of S. The order of a power set of a set of order n is 2^n. Power sets are larger than the sets associated with them. The power set of S is variously denoted 2^S or P(S).\"\n",
        "\n",
        "https://www.wolframalpha.com/input?i=POWER+SET\n",
        "\n",
        "The partition problem can be solved by\n",
        "calculating the power set of the multiset of integers\n",
        "and then checking each and every one of the\n",
        "possible subsets to see if it and its complement\n",
        "are a solution to the instance of the partition problem."
      ],
      "metadata": {
        "id": "h3rf8WSYpWrE"
      }
    },
    {
      "cell_type": "code",
      "source": [
        "#\n",
        "# I learned about these libraries from Ian Curtis, a student in one of the sections\n",
        "# of the HPC course during the fall of 2023\n",
        "#\n",
        "# Using itertools to calculate the PowerSet\n",
        "#\n",
        "\n",
        "from itertools import chain, combinations\n",
        "\n",
        "\n",
        "def powerset(iterable):\n",
        "    \"powerset([1,2,3]) --> () (1,) (2,) (3,) (1,2) (1,3) (2,3) (1,2,3)\"\n",
        "    s = list(iterable)\n",
        "    return chain.from_iterable(combinations(s, r) for r in range(len(s)+1))\n",
        "\n",
        "\n",
        "example_list = [0,1,2]\n",
        "powerset_of_example_list = powerset(example_list)\n",
        "print(\"This is the power set of the set of [0,1,2]\")\n",
        "for s in powerset_of_example_list:\n",
        "    print(s)"
      ],
      "metadata": {
        "colab": {
          "base_uri": "https://localhost:8080/"
        },
        "id": "gYlbUz1Up4qz",
        "outputId": "46c6dda5-da6d-484a-e97a-2abf7abb166a"
      },
      "execution_count": 2,
      "outputs": [
        {
          "output_type": "stream",
          "name": "stdout",
          "text": [
            "This is the power set of the set of [0,1,2]\n",
            "()\n",
            "(0,)\n",
            "(1,)\n",
            "(2,)\n",
            "(0, 1)\n",
            "(0, 2)\n",
            "(1, 2)\n",
            "(0, 1, 2)\n"
          ]
        }
      ]
    },
    {
      "cell_type": "code",
      "source": [],
      "metadata": {
        "id": "_Vw7uooxrdYR"
      },
      "execution_count": 2,
      "outputs": []
    },
    {
      "cell_type": "markdown",
      "source": [
        "Let's create a couple of test files to be used later."
      ],
      "metadata": {
        "id": "2JAadcWpraGM"
      }
    },
    {
      "cell_type": "code",
      "source": [
        "%%writefile test20.Text\n",
        "20\n",
        "1 1 1 1 1 1 1 1 1 1 1 1 1 1 1 1 1 1 1 19"
      ],
      "metadata": {
        "colab": {
          "base_uri": "https://localhost:8080/"
        },
        "id": "K66C2BX0reIs",
        "outputId": "3bea1f92-0c8d-441d-da0b-ec55c9d9b711"
      },
      "execution_count": 3,
      "outputs": [
        {
          "output_type": "stream",
          "name": "stdout",
          "text": [
            "Writing test20.Text\n"
          ]
        }
      ]
    },
    {
      "cell_type": "code",
      "source": [
        "%%writefile test21.Text\n",
        "21\n",
        "1 1 1 1 1 1 1 1 1 1 1 1 1 1 1 1 1 1 1 1 20"
      ],
      "metadata": {
        "colab": {
          "base_uri": "https://localhost:8080/"
        },
        "id": "2YpQKCkJrwz8",
        "outputId": "3e11fd7a-521f-4e5a-afe2-0eb69bc835c4"
      },
      "execution_count": 4,
      "outputs": [
        {
          "output_type": "stream",
          "name": "stdout",
          "text": [
            "Writing test21.Text\n"
          ]
        }
      ]
    },
    {
      "cell_type": "code",
      "source": [
        "%%writefile test22.Text\n",
        "22\n",
        "1 1 1 1 1 1 1 1 1 1 1 1 1 1 1 1 1 1 1 1 1 21"
      ],
      "metadata": {
        "colab": {
          "base_uri": "https://localhost:8080/"
        },
        "id": "RCHDxitur2yw",
        "outputId": "a4dd4b2f-ef22-4918-c740-f71aca7b6a0d"
      },
      "execution_count": 5,
      "outputs": [
        {
          "output_type": "stream",
          "name": "stdout",
          "text": [
            "Writing test22.Text\n"
          ]
        }
      ]
    },
    {
      "cell_type": "code",
      "source": [
        "%%writefile test23.Text\n",
        "23\n",
        "1 1 1 1 1 1 1 1 1 1 1 1 1 1 1 1 1 1 1 1 1 1 22"
      ],
      "metadata": {
        "colab": {
          "base_uri": "https://localhost:8080/"
        },
        "id": "sX8jkZulr7go",
        "outputId": "ad0c7f3a-d83b-46af-8c5b-e8a89bf4c2ed"
      },
      "execution_count": 6,
      "outputs": [
        {
          "output_type": "stream",
          "name": "stdout",
          "text": [
            "Writing test23.Text\n"
          ]
        }
      ]
    },
    {
      "cell_type": "markdown",
      "source": [
        "Now the actual program.\n",
        "We write the program to a file called partition.py\n",
        "so that it can later be executed using input\n",
        "redirection with the test files."
      ],
      "metadata": {
        "id": "I_V5RipPsbbk"
      }
    },
    {
      "cell_type": "code",
      "source": [
        "%%writefile partition.py\n",
        "#\n",
        "# Program to solve the partition problem\n",
        "# The program assumes that input redirection\n",
        "# can be used in COLAB\n",
        "from itertools import chain, combinations\n",
        "import time\n",
        "\n",
        "def powerset(iterable):\n",
        "    \"powerset([1,2,3]) --> () (1,) (2,) (3,) (1,2) (1,3) (2,3) (1,2,3)\"\n",
        "    s = list(iterable)\n",
        "    return chain.from_iterable(combinations(s, r) for r in range(len(s)+1))\n",
        "\n",
        "#\n",
        "# The assumed format of the test file is:\n",
        "# - one line with a positive integer that contains the number of positive integers\n",
        "# in the instance\n",
        "# - A line with the list of values\n",
        "#\n",
        "\n",
        "start = time.time()\n",
        "# Read the problem\n",
        "n = int(input())\n",
        "valuesString = input()\n",
        "values = valuesString.split()\n",
        "for i in range(len(values)):\n",
        "  values[i] = int(values[i])\n",
        "# Print the instance of the problem\n",
        "print(\"Problem size: \",n)\n",
        "print(\"Problem instance: \",values)\n",
        "\n",
        "sum_of_numbers = sum(values)\n",
        "if sum_of_numbers % 2 == 1:\n",
        "  print(\"This instance does not have a solution\")\n",
        "else:\n",
        "  power_set = powerset(values)\n",
        "  solution_found = False\n",
        "  for set in power_set:\n",
        "    if sum(set) == (sum_of_numbers//2):\n",
        "      print(\"Solution found!\")\n",
        "      print(\"One partition contains: \",set)\n",
        "      solution_found = True\n",
        "      break\n",
        "  if solution_found == False:\n",
        "    print(\"This instance does not have a solution\")\n",
        "\n",
        "end = time.time()\n",
        "elapsed = end - start\n",
        "print(\"The program took: \",elapsed,\" seconds.\")\n",
        "\n",
        "\n",
        "\n"
      ],
      "metadata": {
        "colab": {
          "base_uri": "https://localhost:8080/"
        },
        "id": "01HXmjXlsqJT",
        "outputId": "c629aac5-d309-4d15-e967-ea01da43c714"
      },
      "execution_count": 7,
      "outputs": [
        {
          "output_type": "stream",
          "name": "stdout",
          "text": [
            "Writing partition.py\n"
          ]
        }
      ]
    },
    {
      "cell_type": "markdown",
      "source": [
        "Now let's execute the program:"
      ],
      "metadata": {
        "id": "aoYMwgI_tkhe"
      }
    },
    {
      "cell_type": "code",
      "source": [
        "!python partition.py < test20.Text"
      ],
      "metadata": {
        "colab": {
          "base_uri": "https://localhost:8080/"
        },
        "id": "mn3odmFYtmj9",
        "outputId": "715ac32b-c5d6-4f2e-bce1-e5a3e761d306"
      },
      "execution_count": 8,
      "outputs": [
        {
          "output_type": "stream",
          "name": "stdout",
          "text": [
            "Problem size:  20\n",
            "Problem instance:  [1, 1, 1, 1, 1, 1, 1, 1, 1, 1, 1, 1, 1, 1, 1, 1, 1, 1, 1, 19]\n",
            "Solution found!\n",
            "One partition contains:  (19,)\n",
            "The program took:  0.00016927719116210938  seconds.\n"
          ]
        }
      ]
    },
    {
      "cell_type": "code",
      "source": [
        "!python partition.py < test21.Text"
      ],
      "metadata": {
        "colab": {
          "base_uri": "https://localhost:8080/"
        },
        "id": "quTiCB9gwLu1",
        "outputId": "b07f9a66-4a67-43a6-e334-12860baecc47"
      },
      "execution_count": 9,
      "outputs": [
        {
          "output_type": "stream",
          "name": "stdout",
          "text": [
            "Problem size:  21\n",
            "Problem instance:  [1, 1, 1, 1, 1, 1, 1, 1, 1, 1, 1, 1, 1, 1, 1, 1, 1, 1, 1, 1, 20]\n",
            "Solution found!\n",
            "One partition contains:  (20,)\n",
            "The program took:  0.00017380714416503906  seconds.\n"
          ]
        }
      ]
    },
    {
      "cell_type": "code",
      "source": [
        "!python partition.py < test22.Text"
      ],
      "metadata": {
        "colab": {
          "base_uri": "https://localhost:8080/"
        },
        "id": "-em0uWwXwP6F",
        "outputId": "1d893b0b-d127-4a7b-e365-6bfba06f2bfc"
      },
      "execution_count": 10,
      "outputs": [
        {
          "output_type": "stream",
          "name": "stdout",
          "text": [
            "Problem size:  22\n",
            "Problem instance:  [1, 1, 1, 1, 1, 1, 1, 1, 1, 1, 1, 1, 1, 1, 1, 1, 1, 1, 1, 1, 1, 21]\n",
            "Solution found!\n",
            "One partition contains:  (21,)\n",
            "The program took:  0.00019884109497070312  seconds.\n"
          ]
        }
      ]
    },
    {
      "cell_type": "code",
      "source": [
        "!python partition.py < test23.Text"
      ],
      "metadata": {
        "colab": {
          "base_uri": "https://localhost:8080/"
        },
        "id": "fucaaXWfwTSk",
        "outputId": "5474dba6-92fb-45d0-f8ef-79e38456a8bc"
      },
      "execution_count": 11,
      "outputs": [
        {
          "output_type": "stream",
          "name": "stdout",
          "text": [
            "Problem size:  23\n",
            "Problem instance:  [1, 1, 1, 1, 1, 1, 1, 1, 1, 1, 1, 1, 1, 1, 1, 1, 1, 1, 1, 1, 1, 1, 22]\n",
            "Solution found!\n",
            "One partition contains:  (22,)\n",
            "The program took:  0.0007393360137939453  seconds.\n"
          ]
        }
      ]
    },
    {
      "cell_type": "code",
      "source": [
        "%%writefile test24.Text\n",
        "24\n",
        "1 1 1 1 1 1 1 1 1 1 1 1 1 1 1 1 1 1 1 1 1 1 1 23"
      ],
      "metadata": {
        "colab": {
          "base_uri": "https://localhost:8080/"
        },
        "id": "w1f0z0iaw4Xd",
        "outputId": "54800917-20db-4bbd-f4e1-1c5da41b897e"
      },
      "execution_count": 12,
      "outputs": [
        {
          "output_type": "stream",
          "name": "stdout",
          "text": [
            "Writing test24.Text\n"
          ]
        }
      ]
    },
    {
      "cell_type": "code",
      "source": [
        "!python partition.py < test24.Text"
      ],
      "metadata": {
        "colab": {
          "base_uri": "https://localhost:8080/"
        },
        "id": "AHuF532-xALU",
        "outputId": "99e38433-2c23-4146-a650-bacc3b0ebc17"
      },
      "execution_count": 13,
      "outputs": [
        {
          "output_type": "stream",
          "name": "stdout",
          "text": [
            "Problem size:  24\n",
            "Problem instance:  [1, 1, 1, 1, 1, 1, 1, 1, 1, 1, 1, 1, 1, 1, 1, 1, 1, 1, 1, 1, 1, 1, 1, 23]\n",
            "Solution found!\n",
            "One partition contains:  (23,)\n",
            "The program took:  0.0001728534698486328  seconds.\n"
          ]
        }
      ]
    },
    {
      "cell_type": "code",
      "source": [
        "%%writefile instanceNoSolution24.Text\n",
        "24\n",
        "1 1 1 1 1 1 1 1 1 1 1 1 1 1 1 1 1 1 1 1 1 1 1 25"
      ],
      "metadata": {
        "colab": {
          "base_uri": "https://localhost:8080/"
        },
        "id": "a25G4T_Xx8-9",
        "outputId": "97f4613e-edaf-494c-988b-7d8f85c2f257"
      },
      "execution_count": 14,
      "outputs": [
        {
          "output_type": "stream",
          "name": "stdout",
          "text": [
            "Writing instanceNoSolution24.Text\n"
          ]
        }
      ]
    },
    {
      "cell_type": "code",
      "source": [
        "!python partition.py < instanceNoSolution24.Text"
      ],
      "metadata": {
        "colab": {
          "base_uri": "https://localhost:8080/"
        },
        "id": "zOvnanvfyGmM",
        "outputId": "3ca7a3f8-78e1-4c93-df71-8ed74d9625f3"
      },
      "execution_count": 15,
      "outputs": [
        {
          "output_type": "stream",
          "name": "stdout",
          "text": [
            "Problem size:  24\n",
            "Problem instance:  [1, 1, 1, 1, 1, 1, 1, 1, 1, 1, 1, 1, 1, 1, 1, 1, 1, 1, 1, 1, 1, 1, 1, 25]\n",
            "This instance does not have a solution\n",
            "The program took:  8.782666683197021  seconds.\n"
          ]
        }
      ]
    },
    {
      "cell_type": "markdown",
      "source": [
        "A larger test file..."
      ],
      "metadata": {
        "id": "iFb9wUfo0gFt"
      }
    },
    {
      "cell_type": "code",
      "source": [
        "%%writefile test30.Text\n",
        "30\n",
        "1 2 3 4 5 6 7 8 9 10 11 12 13 14 15 16 17 18 19 20 21 22 23 24 25 26 27 28 29 30"
      ],
      "metadata": {
        "colab": {
          "base_uri": "https://localhost:8080/"
        },
        "id": "oENdfJvO0iWm",
        "outputId": "ba629e0b-d9cf-4a1f-8785-2e4fbfde4600"
      },
      "execution_count": 16,
      "outputs": [
        {
          "output_type": "stream",
          "name": "stdout",
          "text": [
            "Writing test30.Text\n"
          ]
        }
      ]
    },
    {
      "cell_type": "code",
      "source": [
        "!python partition.py < test30.Text"
      ],
      "metadata": {
        "colab": {
          "base_uri": "https://localhost:8080/"
        },
        "id": "Xo8ZMaKD0qZN",
        "outputId": "044dcf8b-dd75-4a28-a20b-5130b92271fb"
      },
      "execution_count": 17,
      "outputs": [
        {
          "output_type": "stream",
          "name": "stdout",
          "text": [
            "Problem size:  30\n",
            "Problem instance:  [1, 2, 3, 4, 5, 6, 7, 8, 9, 10, 11, 12, 13, 14, 15, 16, 17, 18, 19, 20, 21, 22, 23, 24, 25, 26, 27, 28, 29, 30]\n",
            "This instance does not have a solution\n",
            "The program took:  0.00010895729064941406  seconds.\n"
          ]
        }
      ]
    },
    {
      "cell_type": "code",
      "source": [
        "%%writefile test31.Text\n",
        "31\n",
        "1 2 3 4 5 6 7 8 9 10 11 12 13 14 15 16 17 18 19 20 21 22 23 24 25 26 27 28 29 30 31"
      ],
      "metadata": {
        "colab": {
          "base_uri": "https://localhost:8080/"
        },
        "id": "zJNYNnvo00P8",
        "outputId": "70e15808-cae2-46be-db5e-144d94595596"
      },
      "execution_count": 18,
      "outputs": [
        {
          "output_type": "stream",
          "name": "stdout",
          "text": [
            "Writing test31.Text\n"
          ]
        }
      ]
    },
    {
      "cell_type": "code",
      "source": [
        "!python partition.py < test31.Text"
      ],
      "metadata": {
        "id": "BuJmXqre04mc",
        "outputId": "0c966354-a0cd-4fef-b0e0-defdbdd79307",
        "colab": {
          "base_uri": "https://localhost:8080/"
        }
      },
      "execution_count": 19,
      "outputs": [
        {
          "output_type": "stream",
          "name": "stdout",
          "text": [
            "Problem size:  31\n",
            "Problem instance:  [1, 2, 3, 4, 5, 6, 7, 8, 9, 10, 11, 12, 13, 14, 15, 16, 17, 18, 19, 20, 21, 22, 23, 24, 25, 26, 27, 28, 29, 30, 31]\n",
            "Solution found!\n",
            "One partition contains:  (5, 23, 24, 25, 26, 27, 28, 29, 30, 31)\n",
            "The program took:  27.91677737236023  seconds.\n"
          ]
        }
      ]
    },
    {
      "cell_type": "markdown",
      "source": [
        "# Profiling\n",
        "It is useful to profile the program to understand where most of the time is being spent during its execution."
      ],
      "metadata": {
        "id": "CMp8BoeM8v8K"
      }
    },
    {
      "cell_type": "code",
      "source": [
        "!python -m cProfile partition.py < instanceNoSolution24.Text"
      ],
      "metadata": {
        "id": "Vof91uMD82vS",
        "outputId": "4e277089-fe74-47b7-cfc6-cc8c1e583436",
        "colab": {
          "base_uri": "https://localhost:8080/"
        }
      },
      "execution_count": 20,
      "outputs": [
        {
          "output_type": "stream",
          "name": "stdout",
          "text": [
            "Problem size:  24\n",
            "Problem instance:  [1, 1, 1, 1, 1, 1, 1, 1, 1, 1, 1, 1, 1, 1, 1, 1, 1, 1, 1, 1, 1, 1, 1, 25]\n",
            "This instance does not have a solution\n",
            "The program took:  10.12958550453186  seconds.\n",
            "         16777262 function calls in 10.130 seconds\n",
            "\n",
            "   Ordered by: standard name\n",
            "\n",
            "   ncalls  tottime  percall  cumtime  percall filename:lineno(function)\n",
            "        1    0.000    0.000    0.000    0.000 codecs.py:319(decode)\n",
            "        1    0.000    0.000    0.000    0.000 codecs.py:331(getstate)\n",
            "        1    6.615    6.615   10.130   10.130 partition.py:1(<module>)\n",
            "       26    0.000    0.000    0.000    0.000 partition.py:11(<genexpr>)\n",
            "        1    0.000    0.000    0.000    0.000 partition.py:8(powerset)\n",
            "        1    0.000    0.000    0.000    0.000 {built-in method _codecs.utf_8_decode}\n",
            "        1    0.000    0.000   10.130   10.130 {built-in method builtins.exec}\n",
            "        2    0.000    0.000    0.000    0.000 {built-in method builtins.input}\n",
            "        2    0.000    0.000    0.000    0.000 {built-in method builtins.len}\n",
            "        4    0.000    0.000    0.000    0.000 {built-in method builtins.print}\n",
            " 16777217    3.515    0.000    3.515    0.000 {built-in method builtins.sum}\n",
            "        1    0.000    0.000    0.000    0.000 {built-in method from_iterable}\n",
            "        2    0.000    0.000    0.000    0.000 {built-in method time.time}\n",
            "        1    0.000    0.000    0.000    0.000 {method 'disable' of '_lsprof.Profiler' objects}\n",
            "        1    0.000    0.000    0.000    0.000 {method 'split' of 'str' objects}\n",
            "\n",
            "\n"
          ]
        }
      ]
    },
    {
      "cell_type": "markdown",
      "source": [
        "There is a line profiler called kernprof"
      ],
      "metadata": {
        "id": "ZtXOxJvZ-aJL"
      }
    },
    {
      "cell_type": "code",
      "source": [
        "!pip install line_profiler"
      ],
      "metadata": {
        "id": "_aLWv6hx-xlj",
        "outputId": "2ebfbe3e-23eb-451a-a1a7-ad01b5c1b614",
        "colab": {
          "base_uri": "https://localhost:8080/"
        }
      },
      "execution_count": 21,
      "outputs": [
        {
          "output_type": "stream",
          "name": "stdout",
          "text": [
            "Collecting line_profiler\n",
            "  Downloading line_profiler-4.1.2-cp310-cp310-manylinux_2_17_x86_64.manylinux2014_x86_64.whl (714 kB)\n",
            "\u001b[2K     \u001b[90m━━━━━━━━━━━━━━━━━━━━━━━━━━━━━━━━━━━━━━━━\u001b[0m \u001b[32m714.8/714.8 kB\u001b[0m \u001b[31m7.5 MB/s\u001b[0m eta \u001b[36m0:00:00\u001b[0m\n",
            "\u001b[?25hInstalling collected packages: line_profiler\n",
            "Successfully installed line_profiler-4.1.2\n"
          ]
        }
      ]
    },
    {
      "cell_type": "markdown",
      "source": [
        "We need to add a decorator to the source code:"
      ],
      "metadata": {
        "id": "Vwjzw2ty-9Qz"
      }
    },
    {
      "cell_type": "code",
      "source": [
        "%%writefile partition_profile.py\n",
        "#\n",
        "# Program to solve the partition problem\n",
        "# The program assumes that input redirection\n",
        "# can be used in COLAB\n",
        "from itertools import chain, combinations\n",
        "import time\n",
        "\n",
        "def powerset(iterable):\n",
        "    \"powerset([1,2,3]) --> () (1,) (2,) (3,) (1,2) (1,3) (2,3) (1,2,3)\"\n",
        "    s = list(iterable)\n",
        "    return chain.from_iterable(combinations(s, r) for r in range(len(s)+1))\n",
        "\n",
        "#\n",
        "# The assumed format of the test file is:\n",
        "# - one line with a positive integer that contains the number of positive integers\n",
        "# in the instance\n",
        "# - A line with the list of values\n",
        "#\n",
        "\n",
        "@profile\n",
        "def partition():\n",
        "  start_time = time.time()\n",
        "  # Read the problem\n",
        "  n = int(input())\n",
        "  valuesString = input()\n",
        "  values = valuesString.split()\n",
        "  for i in range(len(values)):\n",
        "    values[i] = int(values[i])\n",
        "  # Print the instance of the problem\n",
        "  print(\"Problem size: \",n)\n",
        "  print(\"Problem instance: \",values)\n",
        "\n",
        "  sum_of_numbers = sum(values)\n",
        "  if sum_of_numbers % 2 == 1:\n",
        "    print(\"This instance does not have a solution\")\n",
        "  else:\n",
        "    power_set = powerset(values)\n",
        "    solution_found = False\n",
        "    for set in power_set:\n",
        "      if sum(set) == (sum_of_numbers//2):\n",
        "        print(\"Solution found!\")\n",
        "        print(\"One partition contains: \",set)\n",
        "        solution_found = True\n",
        "        break\n",
        "    if solution_found == False:\n",
        "      print(\"This instance does not have a solution\")\n",
        "\n",
        "  end_time = time.time()\n",
        "  elapsed_time = end_time - start_time\n",
        "  print(\"The program took: \",elapsed_time,\" seconds.\")\n",
        "\n",
        "if __name__ == \"__main__\":\n",
        "  partition()"
      ],
      "metadata": {
        "id": "zYZGui_T_ANs",
        "outputId": "91a487b2-6f30-4da0-aa15-ae4e5d4f2c44",
        "colab": {
          "base_uri": "https://localhost:8080/"
        }
      },
      "execution_count": 22,
      "outputs": [
        {
          "output_type": "stream",
          "name": "stdout",
          "text": [
            "Writing partition_profile.py\n"
          ]
        }
      ]
    },
    {
      "cell_type": "markdown",
      "source": [
        "# Tests of instances with solutions\n",
        "The program is tested and profiled with five instances of sizes 20,21,22,23 and 24.\n",
        "The solutions for these instances are found early on, so the program finishes its execution rapidly.\n",
        "There is some variance in the execution time for these instances."
      ],
      "metadata": {
        "id": "igpCQC3ZAU2X"
      }
    },
    {
      "cell_type": "code",
      "source": [
        "!kernprof -l partition_profile.py < test20.Text"
      ],
      "metadata": {
        "id": "HQMwWjoq_S0c",
        "outputId": "cb444574-8994-4822-e064-05bc37aa2427",
        "colab": {
          "base_uri": "https://localhost:8080/"
        }
      },
      "execution_count": 43,
      "outputs": [
        {
          "output_type": "stream",
          "name": "stdout",
          "text": [
            "Problem size:  20\n",
            "Problem instance:  [1, 1, 1, 1, 1, 1, 1, 1, 1, 1, 1, 1, 1, 1, 1, 1, 1, 1, 1, 19]\n",
            "Solution found!\n",
            "One partition contains:  (19,)\n",
            "The program took:  0.000240325927734375  seconds.\n",
            "Wrote profile results to partition_profile.py.lprof\n",
            "Inspect results with:\n",
            "python3 -m line_profiler -rmt \"partition_profile.py.lprof\"\n"
          ]
        }
      ]
    },
    {
      "cell_type": "code",
      "source": [
        "!python3 -m line_profiler -rmt \"partition_profile.py.lprof\""
      ],
      "metadata": {
        "id": "i91shxJEJ3Be",
        "outputId": "95b92d54-ac05-4467-e92f-f49b306ff8f8",
        "colab": {
          "base_uri": "https://localhost:8080/"
        }
      },
      "execution_count": 44,
      "outputs": [
        {
          "output_type": "stream",
          "name": "stdout",
          "text": [
            "Timer unit: 1e-06 s\n",
            "\n",
            "Total time: 0.00021819 s\n",
            "File: partition_profile.py\n",
            "Function: partition at line 20\n",
            "\n",
            "Line #      Hits         Time  Per Hit   % Time  Line Contents\n",
            "==============================================================\n",
            "    \u001b[1;36m20\u001b[0m                                           \u001b[92;49m@profile\u001b[0m                                           \n",
            "    \u001b[1;36m21\u001b[0m                                           \u001b[96;49mdef\u001b[0m\u001b[97;49m \u001b[0m\u001b[92;49mpartition\u001b[0m\u001b[97;49m(\u001b[0m\u001b[97;49m)\u001b[0m\u001b[97;49m:\u001b[0m                                   \n",
            "    \u001b[1;36m22\u001b[0m         \u001b[1;36m1\u001b[0m          \u001b[1;36m3.2\u001b[0m      \u001b[1;36m3.2\u001b[0m      \u001b[1;36m1.5\u001b[0m  \u001b[97;49m  \u001b[0m\u001b[97;49mstart_time\u001b[0m\u001b[97;49m \u001b[0m\u001b[91;49m=\u001b[0m\u001b[97;49m \u001b[0m\u001b[97;49mtime\u001b[0m\u001b[91;49m.\u001b[0m\u001b[97;49mtime\u001b[0m\u001b[97;49m(\u001b[0m\u001b[97;49m)\u001b[0m                         \n",
            "    \u001b[1;36m23\u001b[0m                                           \u001b[97;49m  \u001b[0m\u001b[37;49m# Read the problem\u001b[0m                               \n",
            "    \u001b[1;36m24\u001b[0m         \u001b[1;36m1\u001b[0m         \u001b[1;36m46.0\u001b[0m     \u001b[1;36m46.0\u001b[0m     \u001b[1;36m21.1\u001b[0m  \u001b[97;49m  \u001b[0m\u001b[97;49mn\u001b[0m\u001b[97;49m \u001b[0m\u001b[91;49m=\u001b[0m\u001b[97;49m \u001b[0m\u001b[97;49mint\u001b[0m\u001b[97;49m(\u001b[0m\u001b[97;49minput\u001b[0m\u001b[97;49m(\u001b[0m\u001b[97;49m)\u001b[0m\u001b[97;49m)\u001b[0m                                 \n",
            "    \u001b[1;36m25\u001b[0m         \u001b[1;36m1\u001b[0m          \u001b[1;36m2.2\u001b[0m      \u001b[1;36m2.2\u001b[0m      \u001b[1;36m1.0\u001b[0m  \u001b[97;49m  \u001b[0m\u001b[97;49mvaluesString\u001b[0m\u001b[97;49m \u001b[0m\u001b[91;49m=\u001b[0m\u001b[97;49m \u001b[0m\u001b[97;49minput\u001b[0m\u001b[97;49m(\u001b[0m\u001b[97;49m)\u001b[0m                           \n",
            "    \u001b[1;36m26\u001b[0m         \u001b[1;36m1\u001b[0m          \u001b[1;36m2.5\u001b[0m      \u001b[1;36m2.5\u001b[0m      \u001b[1;36m1.1\u001b[0m  \u001b[97;49m  \u001b[0m\u001b[97;49mvalues\u001b[0m\u001b[97;49m \u001b[0m\u001b[91;49m=\u001b[0m\u001b[97;49m \u001b[0m\u001b[97;49mvaluesString\u001b[0m\u001b[91;49m.\u001b[0m\u001b[97;49msplit\u001b[0m\u001b[97;49m(\u001b[0m\u001b[97;49m)\u001b[0m                    \n",
            "    \u001b[1;36m27\u001b[0m        \u001b[1;36m21\u001b[0m          \u001b[1;36m6.9\u001b[0m      \u001b[1;36m0.3\u001b[0m      \u001b[1;36m3.2\u001b[0m  \u001b[97;49m  \u001b[0m\u001b[96;49mfor\u001b[0m\u001b[97;49m \u001b[0m\u001b[97;49mi\u001b[0m\u001b[97;49m \u001b[0m\u001b[91;49min\u001b[0m\u001b[97;49m \u001b[0m\u001b[97;49mrange\u001b[0m\u001b[97;49m(\u001b[0m\u001b[97;49mlen\u001b[0m\u001b[97;49m(\u001b[0m\u001b[97;49mvalues\u001b[0m\u001b[97;49m)\u001b[0m\u001b[97;49m)\u001b[0m\u001b[97;49m:\u001b[0m                     \n",
            "    \u001b[1;36m28\u001b[0m        \u001b[1;36m20\u001b[0m         \u001b[1;36m10.9\u001b[0m      \u001b[1;36m0.5\u001b[0m      \u001b[1;36m5.0\u001b[0m  \u001b[97;49m    \u001b[0m\u001b[97;49mvalues\u001b[0m\u001b[97;49m[\u001b[0m\u001b[97;49mi\u001b[0m\u001b[97;49m]\u001b[0m\u001b[97;49m \u001b[0m\u001b[91;49m=\u001b[0m\u001b[97;49m \u001b[0m\u001b[97;49mint\u001b[0m\u001b[97;49m(\u001b[0m\u001b[97;49mvalues\u001b[0m\u001b[97;49m[\u001b[0m\u001b[97;49mi\u001b[0m\u001b[97;49m]\u001b[0m\u001b[97;49m)\u001b[0m                     \n",
            "    \u001b[1;36m29\u001b[0m                                           \u001b[97;49m  \u001b[0m\u001b[37;49m# Print the instance of the problem\u001b[0m              \n",
            "    \u001b[1;36m30\u001b[0m         \u001b[1;36m1\u001b[0m         \u001b[1;36m33.0\u001b[0m     \u001b[1;36m33.0\u001b[0m     \u001b[1;36m15.1\u001b[0m  \u001b[97;49m  \u001b[0m\u001b[97;49mprint\u001b[0m\u001b[97;49m(\u001b[0m\u001b[93;49m\"\u001b[0m\u001b[93;49mProblem size: \u001b[0m\u001b[93;49m\"\u001b[0m\u001b[97;49m,\u001b[0m\u001b[97;49mn\u001b[0m\u001b[97;49m)\u001b[0m                        \n",
            "    \u001b[1;36m31\u001b[0m         \u001b[1;36m1\u001b[0m         \u001b[1;36m13.6\u001b[0m     \u001b[1;36m13.6\u001b[0m      \u001b[1;36m6.2\u001b[0m  \u001b[97;49m  \u001b[0m\u001b[97;49mprint\u001b[0m\u001b[97;49m(\u001b[0m\u001b[93;49m\"\u001b[0m\u001b[93;49mProblem instance: \u001b[0m\u001b[93;49m\"\u001b[0m\u001b[97;49m,\u001b[0m\u001b[97;49mvalues\u001b[0m\u001b[97;49m)\u001b[0m               \n",
            "    \u001b[1;36m32\u001b[0m                                                                                              \n",
            "    \u001b[1;36m33\u001b[0m         \u001b[1;36m1\u001b[0m          \u001b[1;36m1.9\u001b[0m      \u001b[1;36m1.9\u001b[0m      \u001b[1;36m0.9\u001b[0m  \u001b[97;49m  \u001b[0m\u001b[97;49msum_of_numbers\u001b[0m\u001b[97;49m \u001b[0m\u001b[91;49m=\u001b[0m\u001b[97;49m \u001b[0m\u001b[97;49msum\u001b[0m\u001b[97;49m(\u001b[0m\u001b[97;49mvalues\u001b[0m\u001b[97;49m)\u001b[0m                     \n",
            "    \u001b[1;36m34\u001b[0m         \u001b[1;36m1\u001b[0m          \u001b[1;36m0.9\u001b[0m      \u001b[1;36m0.9\u001b[0m      \u001b[1;36m0.4\u001b[0m  \u001b[97;49m  \u001b[0m\u001b[96;49mif\u001b[0m\u001b[97;49m \u001b[0m\u001b[97;49msum_of_numbers\u001b[0m\u001b[97;49m \u001b[0m\u001b[91;49m%\u001b[0m\u001b[97;49m \u001b[0m\u001b[37;49m2\u001b[0m\u001b[97;49m \u001b[0m\u001b[91;49m==\u001b[0m\u001b[97;49m \u001b[0m\u001b[37;49m1\u001b[0m\u001b[97;49m:\u001b[0m                      \n",
            "    \u001b[1;36m35\u001b[0m                                           \u001b[97;49m    \u001b[0m\u001b[97;49mprint\u001b[0m\u001b[97;49m(\u001b[0m\u001b[93;49m\"\u001b[0m\u001b[93;49mThis instance does not have a solution\u001b[0m\u001b[93;49m\"\u001b[0m\u001b[97;49m)\u001b[0m\n",
            "    \u001b[1;36m36\u001b[0m                                           \u001b[97;49m  \u001b[0m\u001b[96;49melse\u001b[0m\u001b[97;49m:\u001b[0m                                            \n",
            "    \u001b[1;36m37\u001b[0m         \u001b[1;36m1\u001b[0m          \u001b[1;36m9.9\u001b[0m      \u001b[1;36m9.9\u001b[0m      \u001b[1;36m4.5\u001b[0m  \u001b[97;49m    \u001b[0m\u001b[97;49mpower_set\u001b[0m\u001b[97;49m \u001b[0m\u001b[91;49m=\u001b[0m\u001b[97;49m \u001b[0m\u001b[97;49mpowerset\u001b[0m\u001b[97;49m(\u001b[0m\u001b[97;49mvalues\u001b[0m\u001b[97;49m)\u001b[0m                   \n",
            "    \u001b[1;36m38\u001b[0m         \u001b[1;36m1\u001b[0m          \u001b[1;36m0.3\u001b[0m      \u001b[1;36m0.3\u001b[0m      \u001b[1;36m0.2\u001b[0m  \u001b[97;49m    \u001b[0m\u001b[97;49msolution_found\u001b[0m\u001b[97;49m \u001b[0m\u001b[91;49m=\u001b[0m\u001b[97;49m \u001b[0m\u001b[96;49mFalse\u001b[0m                         \n",
            "    \u001b[1;36m39\u001b[0m        \u001b[1;36m21\u001b[0m         \u001b[1;36m20.4\u001b[0m      \u001b[1;36m1.0\u001b[0m      \u001b[1;36m9.3\u001b[0m  \u001b[97;49m    \u001b[0m\u001b[96;49mfor\u001b[0m\u001b[97;49m \u001b[0m\u001b[97;49mset\u001b[0m\u001b[97;49m \u001b[0m\u001b[91;49min\u001b[0m\u001b[97;49m \u001b[0m\u001b[97;49mpower_set\u001b[0m\u001b[97;49m:\u001b[0m                          \n",
            "    \u001b[1;36m40\u001b[0m        \u001b[1;36m21\u001b[0m         \u001b[1;36m14.8\u001b[0m      \u001b[1;36m0.7\u001b[0m      \u001b[1;36m6.8\u001b[0m  \u001b[97;49m      \u001b[0m\u001b[96;49mif\u001b[0m\u001b[97;49m \u001b[0m\u001b[97;49msum\u001b[0m\u001b[97;49m(\u001b[0m\u001b[97;49mset\u001b[0m\u001b[97;49m)\u001b[0m\u001b[97;49m \u001b[0m\u001b[91;49m==\u001b[0m\u001b[97;49m \u001b[0m\u001b[97;49m(\u001b[0m\u001b[97;49msum_of_numbers\u001b[0m\u001b[91;49m/\u001b[0m\u001b[91;49m/\u001b[0m\u001b[37;49m2\u001b[0m\u001b[97;49m)\u001b[0m\u001b[97;49m:\u001b[0m          \n",
            "    \u001b[1;36m41\u001b[0m         \u001b[1;36m1\u001b[0m         \u001b[1;36m11.4\u001b[0m     \u001b[1;36m11.4\u001b[0m      \u001b[1;36m5.2\u001b[0m  \u001b[97;49m        \u001b[0m\u001b[97;49mprint\u001b[0m\u001b[97;49m(\u001b[0m\u001b[93;49m\"\u001b[0m\u001b[93;49mSolution found!\u001b[0m\u001b[93;49m\"\u001b[0m\u001b[97;49m)\u001b[0m                   \n",
            "    \u001b[1;36m42\u001b[0m         \u001b[1;36m1\u001b[0m          \u001b[1;36m8.4\u001b[0m      \u001b[1;36m8.4\u001b[0m      \u001b[1;36m3.9\u001b[0m  \u001b[97;49m        \u001b[0m\u001b[97;49mprint\u001b[0m\u001b[97;49m(\u001b[0m\u001b[93;49m\"\u001b[0m\u001b[93;49mOne partition contains: \u001b[0m\u001b[93;49m\"\u001b[0m\u001b[97;49m,\u001b[0m\u001b[97;49mset\u001b[0m\u001b[97;49m)\u001b[0m      \n",
            "    \u001b[1;36m43\u001b[0m         \u001b[1;36m1\u001b[0m          \u001b[1;36m0.7\u001b[0m      \u001b[1;36m0.7\u001b[0m      \u001b[1;36m0.3\u001b[0m  \u001b[97;49m        \u001b[0m\u001b[97;49msolution_found\u001b[0m\u001b[97;49m \u001b[0m\u001b[91;49m=\u001b[0m\u001b[97;49m \u001b[0m\u001b[96;49mTrue\u001b[0m                      \n",
            "    \u001b[1;36m44\u001b[0m         \u001b[1;36m1\u001b[0m          \u001b[1;36m0.4\u001b[0m      \u001b[1;36m0.4\u001b[0m      \u001b[1;36m0.2\u001b[0m  \u001b[97;49m        \u001b[0m\u001b[96;49mbreak\u001b[0m                                      \n",
            "    \u001b[1;36m45\u001b[0m         \u001b[1;36m1\u001b[0m          \u001b[1;36m0.5\u001b[0m      \u001b[1;36m0.5\u001b[0m      \u001b[1;36m0.2\u001b[0m  \u001b[97;49m    \u001b[0m\u001b[96;49mif\u001b[0m\u001b[97;49m \u001b[0m\u001b[97;49msolution_found\u001b[0m\u001b[97;49m \u001b[0m\u001b[91;49m==\u001b[0m\u001b[97;49m \u001b[0m\u001b[96;49mFalse\u001b[0m\u001b[97;49m:\u001b[0m                    \n",
            "    \u001b[1;36m46\u001b[0m                                           \u001b[97;49m      \u001b[0m\u001b[97;49mprint\u001b[0m\u001b[97;49m(\u001b[0m\u001b[93;49m\"\u001b[0m\u001b[93;49mThis instance does not have a solutio…\u001b[0m\n",
            "    \u001b[1;36m47\u001b[0m                                                                                              \n",
            "    \u001b[1;36m48\u001b[0m         \u001b[1;36m1\u001b[0m          \u001b[1;36m1.0\u001b[0m      \u001b[1;36m1.0\u001b[0m      \u001b[1;36m0.5\u001b[0m  \u001b[97;49m  \u001b[0m\u001b[97;49mend_time\u001b[0m\u001b[97;49m \u001b[0m\u001b[91;49m=\u001b[0m\u001b[97;49m \u001b[0m\u001b[97;49mtime\u001b[0m\u001b[91;49m.\u001b[0m\u001b[97;49mtime\u001b[0m\u001b[97;49m(\u001b[0m\u001b[97;49m)\u001b[0m                           \n",
            "    \u001b[1;36m49\u001b[0m         \u001b[1;36m1\u001b[0m          \u001b[1;36m0.8\u001b[0m      \u001b[1;36m0.8\u001b[0m      \u001b[1;36m0.4\u001b[0m  \u001b[97;49m  \u001b[0m\u001b[97;49melapsed_time\u001b[0m\u001b[97;49m \u001b[0m\u001b[91;49m=\u001b[0m\u001b[97;49m \u001b[0m\u001b[97;49mend_time\u001b[0m\u001b[97;49m \u001b[0m\u001b[91;49m-\u001b[0m\u001b[97;49m \u001b[0m\u001b[97;49mstart_time\u001b[0m             \n",
            "    \u001b[1;36m50\u001b[0m         \u001b[1;36m1\u001b[0m         \u001b[1;36m28.4\u001b[0m     \u001b[1;36m28.4\u001b[0m     \u001b[1;36m13.0\u001b[0m  \u001b[97;49m  \u001b[0m\u001b[97;49mprint\u001b[0m\u001b[97;49m(\u001b[0m\u001b[93;49m\"\u001b[0m\u001b[93;49mThe program took: \u001b[0m\u001b[93;49m\"\u001b[0m\u001b[97;49m,\u001b[0m\u001b[97;49melapsed_time\u001b[0m\u001b[97;49m,\u001b[0m\u001b[93;49m\"\u001b[0m\u001b[93;49m second…\u001b[0m\n",
            "\n",
            "\n",
            "  0.00 seconds - partition_profile.py:20 - partition\n"
          ]
        }
      ]
    },
    {
      "cell_type": "code",
      "source": [
        "!kernprof -l partition_profile.py < test21.Text"
      ],
      "metadata": {
        "id": "UkFmR9zW_kYo",
        "outputId": "63a4544c-f576-451b-8783-1cd61d0094e3",
        "colab": {
          "base_uri": "https://localhost:8080/"
        }
      },
      "execution_count": 45,
      "outputs": [
        {
          "output_type": "stream",
          "name": "stdout",
          "text": [
            "Problem size:  21\n",
            "Problem instance:  [1, 1, 1, 1, 1, 1, 1, 1, 1, 1, 1, 1, 1, 1, 1, 1, 1, 1, 1, 1, 20]\n",
            "Solution found!\n",
            "One partition contains:  (20,)\n",
            "The program took:  0.00029468536376953125  seconds.\n",
            "Wrote profile results to partition_profile.py.lprof\n",
            "Inspect results with:\n",
            "python3 -m line_profiler -rmt \"partition_profile.py.lprof\"\n"
          ]
        }
      ]
    },
    {
      "cell_type": "code",
      "source": [
        "!python3 -m line_profiler -rmt \"partition_profile.py.lprof\""
      ],
      "metadata": {
        "id": "rqR_5V1-_pVZ",
        "outputId": "a4c0dbb0-d912-4bae-f8f1-56a275073af2",
        "colab": {
          "base_uri": "https://localhost:8080/"
        }
      },
      "execution_count": 46,
      "outputs": [
        {
          "output_type": "stream",
          "name": "stdout",
          "text": [
            "Timer unit: 1e-06 s\n",
            "\n",
            "Total time: 0.000250335 s\n",
            "File: partition_profile.py\n",
            "Function: partition at line 20\n",
            "\n",
            "Line #      Hits         Time  Per Hit   % Time  Line Contents\n",
            "==============================================================\n",
            "    \u001b[1;36m20\u001b[0m                                           \u001b[92;49m@profile\u001b[0m                                           \n",
            "    \u001b[1;36m21\u001b[0m                                           \u001b[96;49mdef\u001b[0m\u001b[97;49m \u001b[0m\u001b[92;49mpartition\u001b[0m\u001b[97;49m(\u001b[0m\u001b[97;49m)\u001b[0m\u001b[97;49m:\u001b[0m                                   \n",
            "    \u001b[1;36m22\u001b[0m         \u001b[1;36m1\u001b[0m          \u001b[1;36m3.4\u001b[0m      \u001b[1;36m3.4\u001b[0m      \u001b[1;36m1.4\u001b[0m  \u001b[97;49m  \u001b[0m\u001b[97;49mstart_time\u001b[0m\u001b[97;49m \u001b[0m\u001b[91;49m=\u001b[0m\u001b[97;49m \u001b[0m\u001b[97;49mtime\u001b[0m\u001b[91;49m.\u001b[0m\u001b[97;49mtime\u001b[0m\u001b[97;49m(\u001b[0m\u001b[97;49m)\u001b[0m                         \n",
            "    \u001b[1;36m23\u001b[0m                                           \u001b[97;49m  \u001b[0m\u001b[37;49m# Read the problem\u001b[0m                               \n",
            "    \u001b[1;36m24\u001b[0m         \u001b[1;36m1\u001b[0m         \u001b[1;36m50.6\u001b[0m     \u001b[1;36m50.6\u001b[0m     \u001b[1;36m20.2\u001b[0m  \u001b[97;49m  \u001b[0m\u001b[97;49mn\u001b[0m\u001b[97;49m \u001b[0m\u001b[91;49m=\u001b[0m\u001b[97;49m \u001b[0m\u001b[97;49mint\u001b[0m\u001b[97;49m(\u001b[0m\u001b[97;49minput\u001b[0m\u001b[97;49m(\u001b[0m\u001b[97;49m)\u001b[0m\u001b[97;49m)\u001b[0m                                 \n",
            "    \u001b[1;36m25\u001b[0m         \u001b[1;36m1\u001b[0m          \u001b[1;36m3.0\u001b[0m      \u001b[1;36m3.0\u001b[0m      \u001b[1;36m1.2\u001b[0m  \u001b[97;49m  \u001b[0m\u001b[97;49mvaluesString\u001b[0m\u001b[97;49m \u001b[0m\u001b[91;49m=\u001b[0m\u001b[97;49m \u001b[0m\u001b[97;49minput\u001b[0m\u001b[97;49m(\u001b[0m\u001b[97;49m)\u001b[0m                           \n",
            "    \u001b[1;36m26\u001b[0m         \u001b[1;36m1\u001b[0m          \u001b[1;36m3.9\u001b[0m      \u001b[1;36m3.9\u001b[0m      \u001b[1;36m1.6\u001b[0m  \u001b[97;49m  \u001b[0m\u001b[97;49mvalues\u001b[0m\u001b[97;49m \u001b[0m\u001b[91;49m=\u001b[0m\u001b[97;49m \u001b[0m\u001b[97;49mvaluesString\u001b[0m\u001b[91;49m.\u001b[0m\u001b[97;49msplit\u001b[0m\u001b[97;49m(\u001b[0m\u001b[97;49m)\u001b[0m                    \n",
            "    \u001b[1;36m27\u001b[0m        \u001b[1;36m22\u001b[0m         \u001b[1;36m10.8\u001b[0m      \u001b[1;36m0.5\u001b[0m      \u001b[1;36m4.3\u001b[0m  \u001b[97;49m  \u001b[0m\u001b[96;49mfor\u001b[0m\u001b[97;49m \u001b[0m\u001b[97;49mi\u001b[0m\u001b[97;49m \u001b[0m\u001b[91;49min\u001b[0m\u001b[97;49m \u001b[0m\u001b[97;49mrange\u001b[0m\u001b[97;49m(\u001b[0m\u001b[97;49mlen\u001b[0m\u001b[97;49m(\u001b[0m\u001b[97;49mvalues\u001b[0m\u001b[97;49m)\u001b[0m\u001b[97;49m)\u001b[0m\u001b[97;49m:\u001b[0m                     \n",
            "    \u001b[1;36m28\u001b[0m        \u001b[1;36m21\u001b[0m         \u001b[1;36m19.4\u001b[0m      \u001b[1;36m0.9\u001b[0m      \u001b[1;36m7.8\u001b[0m  \u001b[97;49m    \u001b[0m\u001b[97;49mvalues\u001b[0m\u001b[97;49m[\u001b[0m\u001b[97;49mi\u001b[0m\u001b[97;49m]\u001b[0m\u001b[97;49m \u001b[0m\u001b[91;49m=\u001b[0m\u001b[97;49m \u001b[0m\u001b[97;49mint\u001b[0m\u001b[97;49m(\u001b[0m\u001b[97;49mvalues\u001b[0m\u001b[97;49m[\u001b[0m\u001b[97;49mi\u001b[0m\u001b[97;49m]\u001b[0m\u001b[97;49m)\u001b[0m                     \n",
            "    \u001b[1;36m29\u001b[0m                                           \u001b[97;49m  \u001b[0m\u001b[37;49m# Print the instance of the problem\u001b[0m              \n",
            "    \u001b[1;36m30\u001b[0m         \u001b[1;36m1\u001b[0m         \u001b[1;36m32.2\u001b[0m     \u001b[1;36m32.2\u001b[0m     \u001b[1;36m12.9\u001b[0m  \u001b[97;49m  \u001b[0m\u001b[97;49mprint\u001b[0m\u001b[97;49m(\u001b[0m\u001b[93;49m\"\u001b[0m\u001b[93;49mProblem size: \u001b[0m\u001b[93;49m\"\u001b[0m\u001b[97;49m,\u001b[0m\u001b[97;49mn\u001b[0m\u001b[97;49m)\u001b[0m                        \n",
            "    \u001b[1;36m31\u001b[0m         \u001b[1;36m1\u001b[0m         \u001b[1;36m17.4\u001b[0m     \u001b[1;36m17.4\u001b[0m      \u001b[1;36m7.0\u001b[0m  \u001b[97;49m  \u001b[0m\u001b[97;49mprint\u001b[0m\u001b[97;49m(\u001b[0m\u001b[93;49m\"\u001b[0m\u001b[93;49mProblem instance: \u001b[0m\u001b[93;49m\"\u001b[0m\u001b[97;49m,\u001b[0m\u001b[97;49mvalues\u001b[0m\u001b[97;49m)\u001b[0m               \n",
            "    \u001b[1;36m32\u001b[0m                                                                                              \n",
            "    \u001b[1;36m33\u001b[0m         \u001b[1;36m1\u001b[0m          \u001b[1;36m1.9\u001b[0m      \u001b[1;36m1.9\u001b[0m      \u001b[1;36m0.7\u001b[0m  \u001b[97;49m  \u001b[0m\u001b[97;49msum_of_numbers\u001b[0m\u001b[97;49m \u001b[0m\u001b[91;49m=\u001b[0m\u001b[97;49m \u001b[0m\u001b[97;49msum\u001b[0m\u001b[97;49m(\u001b[0m\u001b[97;49mvalues\u001b[0m\u001b[97;49m)\u001b[0m                     \n",
            "    \u001b[1;36m34\u001b[0m         \u001b[1;36m1\u001b[0m          \u001b[1;36m1.3\u001b[0m      \u001b[1;36m1.3\u001b[0m      \u001b[1;36m0.5\u001b[0m  \u001b[97;49m  \u001b[0m\u001b[96;49mif\u001b[0m\u001b[97;49m \u001b[0m\u001b[97;49msum_of_numbers\u001b[0m\u001b[97;49m \u001b[0m\u001b[91;49m%\u001b[0m\u001b[97;49m \u001b[0m\u001b[37;49m2\u001b[0m\u001b[97;49m \u001b[0m\u001b[91;49m==\u001b[0m\u001b[97;49m \u001b[0m\u001b[37;49m1\u001b[0m\u001b[97;49m:\u001b[0m                      \n",
            "    \u001b[1;36m35\u001b[0m                                           \u001b[97;49m    \u001b[0m\u001b[97;49mprint\u001b[0m\u001b[97;49m(\u001b[0m\u001b[93;49m\"\u001b[0m\u001b[93;49mThis instance does not have a solution\u001b[0m\u001b[93;49m\"\u001b[0m\u001b[97;49m)\u001b[0m\n",
            "    \u001b[1;36m36\u001b[0m                                           \u001b[97;49m  \u001b[0m\u001b[96;49melse\u001b[0m\u001b[97;49m:\u001b[0m                                            \n",
            "    \u001b[1;36m37\u001b[0m         \u001b[1;36m1\u001b[0m         \u001b[1;36m10.1\u001b[0m     \u001b[1;36m10.1\u001b[0m      \u001b[1;36m4.0\u001b[0m  \u001b[97;49m    \u001b[0m\u001b[97;49mpower_set\u001b[0m\u001b[97;49m \u001b[0m\u001b[91;49m=\u001b[0m\u001b[97;49m \u001b[0m\u001b[97;49mpowerset\u001b[0m\u001b[97;49m(\u001b[0m\u001b[97;49mvalues\u001b[0m\u001b[97;49m)\u001b[0m                   \n",
            "    \u001b[1;36m38\u001b[0m         \u001b[1;36m1\u001b[0m          \u001b[1;36m0.3\u001b[0m      \u001b[1;36m0.3\u001b[0m      \u001b[1;36m0.1\u001b[0m  \u001b[97;49m    \u001b[0m\u001b[97;49msolution_found\u001b[0m\u001b[97;49m \u001b[0m\u001b[91;49m=\u001b[0m\u001b[97;49m \u001b[0m\u001b[96;49mFalse\u001b[0m                         \n",
            "    \u001b[1;36m39\u001b[0m        \u001b[1;36m22\u001b[0m         \u001b[1;36m34.4\u001b[0m      \u001b[1;36m1.6\u001b[0m     \u001b[1;36m13.8\u001b[0m  \u001b[97;49m    \u001b[0m\u001b[96;49mfor\u001b[0m\u001b[97;49m \u001b[0m\u001b[97;49mset\u001b[0m\u001b[97;49m \u001b[0m\u001b[91;49min\u001b[0m\u001b[97;49m \u001b[0m\u001b[97;49mpower_set\u001b[0m\u001b[97;49m:\u001b[0m                          \n",
            "    \u001b[1;36m40\u001b[0m        \u001b[1;36m22\u001b[0m         \u001b[1;36m17.7\u001b[0m      \u001b[1;36m0.8\u001b[0m      \u001b[1;36m7.1\u001b[0m  \u001b[97;49m      \u001b[0m\u001b[96;49mif\u001b[0m\u001b[97;49m \u001b[0m\u001b[97;49msum\u001b[0m\u001b[97;49m(\u001b[0m\u001b[97;49mset\u001b[0m\u001b[97;49m)\u001b[0m\u001b[97;49m \u001b[0m\u001b[91;49m==\u001b[0m\u001b[97;49m \u001b[0m\u001b[97;49m(\u001b[0m\u001b[97;49msum_of_numbers\u001b[0m\u001b[91;49m/\u001b[0m\u001b[91;49m/\u001b[0m\u001b[37;49m2\u001b[0m\u001b[97;49m)\u001b[0m\u001b[97;49m:\u001b[0m          \n",
            "    \u001b[1;36m41\u001b[0m         \u001b[1;36m1\u001b[0m         \u001b[1;36m11.8\u001b[0m     \u001b[1;36m11.8\u001b[0m      \u001b[1;36m4.7\u001b[0m  \u001b[97;49m        \u001b[0m\u001b[97;49mprint\u001b[0m\u001b[97;49m(\u001b[0m\u001b[93;49m\"\u001b[0m\u001b[93;49mSolution found!\u001b[0m\u001b[93;49m\"\u001b[0m\u001b[97;49m)\u001b[0m                   \n",
            "    \u001b[1;36m42\u001b[0m         \u001b[1;36m1\u001b[0m         \u001b[1;36m10.4\u001b[0m     \u001b[1;36m10.4\u001b[0m      \u001b[1;36m4.2\u001b[0m  \u001b[97;49m        \u001b[0m\u001b[97;49mprint\u001b[0m\u001b[97;49m(\u001b[0m\u001b[93;49m\"\u001b[0m\u001b[93;49mOne partition contains: \u001b[0m\u001b[93;49m\"\u001b[0m\u001b[97;49m,\u001b[0m\u001b[97;49mset\u001b[0m\u001b[97;49m)\u001b[0m      \n",
            "    \u001b[1;36m43\u001b[0m         \u001b[1;36m1\u001b[0m          \u001b[1;36m0.5\u001b[0m      \u001b[1;36m0.5\u001b[0m      \u001b[1;36m0.2\u001b[0m  \u001b[97;49m        \u001b[0m\u001b[97;49msolution_found\u001b[0m\u001b[97;49m \u001b[0m\u001b[91;49m=\u001b[0m\u001b[97;49m \u001b[0m\u001b[96;49mTrue\u001b[0m                      \n",
            "    \u001b[1;36m44\u001b[0m         \u001b[1;36m1\u001b[0m          \u001b[1;36m0.4\u001b[0m      \u001b[1;36m0.4\u001b[0m      \u001b[1;36m0.1\u001b[0m  \u001b[97;49m        \u001b[0m\u001b[96;49mbreak\u001b[0m                                      \n",
            "    \u001b[1;36m45\u001b[0m         \u001b[1;36m1\u001b[0m          \u001b[1;36m0.4\u001b[0m      \u001b[1;36m0.4\u001b[0m      \u001b[1;36m0.2\u001b[0m  \u001b[97;49m    \u001b[0m\u001b[96;49mif\u001b[0m\u001b[97;49m \u001b[0m\u001b[97;49msolution_found\u001b[0m\u001b[97;49m \u001b[0m\u001b[91;49m==\u001b[0m\u001b[97;49m \u001b[0m\u001b[96;49mFalse\u001b[0m\u001b[97;49m:\u001b[0m                    \n",
            "    \u001b[1;36m46\u001b[0m                                           \u001b[97;49m      \u001b[0m\u001b[97;49mprint\u001b[0m\u001b[97;49m(\u001b[0m\u001b[93;49m\"\u001b[0m\u001b[93;49mThis instance does not have a solutio…\u001b[0m\n",
            "    \u001b[1;36m47\u001b[0m                                                                                              \n",
            "    \u001b[1;36m48\u001b[0m         \u001b[1;36m1\u001b[0m          \u001b[1;36m1.6\u001b[0m      \u001b[1;36m1.6\u001b[0m      \u001b[1;36m0.7\u001b[0m  \u001b[97;49m  \u001b[0m\u001b[97;49mend_time\u001b[0m\u001b[97;49m \u001b[0m\u001b[91;49m=\u001b[0m\u001b[97;49m \u001b[0m\u001b[97;49mtime\u001b[0m\u001b[91;49m.\u001b[0m\u001b[97;49mtime\u001b[0m\u001b[97;49m(\u001b[0m\u001b[97;49m)\u001b[0m                           \n",
            "    \u001b[1;36m49\u001b[0m         \u001b[1;36m1\u001b[0m          \u001b[1;36m0.9\u001b[0m      \u001b[1;36m0.9\u001b[0m      \u001b[1;36m0.3\u001b[0m  \u001b[97;49m  \u001b[0m\u001b[97;49melapsed_time\u001b[0m\u001b[97;49m \u001b[0m\u001b[91;49m=\u001b[0m\u001b[97;49m \u001b[0m\u001b[97;49mend_time\u001b[0m\u001b[97;49m \u001b[0m\u001b[91;49m-\u001b[0m\u001b[97;49m \u001b[0m\u001b[97;49mstart_time\u001b[0m             \n",
            "    \u001b[1;36m50\u001b[0m         \u001b[1;36m1\u001b[0m         \u001b[1;36m18.1\u001b[0m     \u001b[1;36m18.1\u001b[0m      \u001b[1;36m7.2\u001b[0m  \u001b[97;49m  \u001b[0m\u001b[97;49mprint\u001b[0m\u001b[97;49m(\u001b[0m\u001b[93;49m\"\u001b[0m\u001b[93;49mThe program took: \u001b[0m\u001b[93;49m\"\u001b[0m\u001b[97;49m,\u001b[0m\u001b[97;49melapsed_time\u001b[0m\u001b[97;49m,\u001b[0m\u001b[93;49m\"\u001b[0m\u001b[93;49m second…\u001b[0m\n",
            "\n",
            "\n",
            "  0.00 seconds - partition_profile.py:20 - partition\n"
          ]
        }
      ]
    },
    {
      "cell_type": "code",
      "source": [
        "!kernprof -l partition_profile.py < test22.Text"
      ],
      "metadata": {
        "id": "kc3Nygh4_sTw",
        "outputId": "65f6330f-510b-4ef3-e2d0-f3813ba39553",
        "colab": {
          "base_uri": "https://localhost:8080/"
        }
      },
      "execution_count": 47,
      "outputs": [
        {
          "output_type": "stream",
          "name": "stdout",
          "text": [
            "Problem size:  22\n",
            "Problem instance:  [1, 1, 1, 1, 1, 1, 1, 1, 1, 1, 1, 1, 1, 1, 1, 1, 1, 1, 1, 1, 1, 21]\n",
            "Solution found!\n",
            "One partition contains:  (21,)\n",
            "The program took:  0.0002720355987548828  seconds.\n",
            "Wrote profile results to partition_profile.py.lprof\n",
            "Inspect results with:\n",
            "python3 -m line_profiler -rmt \"partition_profile.py.lprof\"\n"
          ]
        }
      ]
    },
    {
      "cell_type": "code",
      "source": [
        "!python3 -m line_profiler -rmt \"partition_profile.py.lprof\""
      ],
      "metadata": {
        "id": "914ycoqD_v_J",
        "outputId": "d8138984-15b9-451f-eb1a-780e09099c12",
        "colab": {
          "base_uri": "https://localhost:8080/"
        }
      },
      "execution_count": 48,
      "outputs": [
        {
          "output_type": "stream",
          "name": "stdout",
          "text": [
            "Timer unit: 1e-06 s\n",
            "\n",
            "Total time: 0.000230856 s\n",
            "File: partition_profile.py\n",
            "Function: partition at line 20\n",
            "\n",
            "Line #      Hits         Time  Per Hit   % Time  Line Contents\n",
            "==============================================================\n",
            "    \u001b[1;36m20\u001b[0m                                           \u001b[92;49m@profile\u001b[0m                                           \n",
            "    \u001b[1;36m21\u001b[0m                                           \u001b[96;49mdef\u001b[0m\u001b[97;49m \u001b[0m\u001b[92;49mpartition\u001b[0m\u001b[97;49m(\u001b[0m\u001b[97;49m)\u001b[0m\u001b[97;49m:\u001b[0m                                   \n",
            "    \u001b[1;36m22\u001b[0m         \u001b[1;36m1\u001b[0m          \u001b[1;36m2.9\u001b[0m      \u001b[1;36m2.9\u001b[0m      \u001b[1;36m1.3\u001b[0m  \u001b[97;49m  \u001b[0m\u001b[97;49mstart_time\u001b[0m\u001b[97;49m \u001b[0m\u001b[91;49m=\u001b[0m\u001b[97;49m \u001b[0m\u001b[97;49mtime\u001b[0m\u001b[91;49m.\u001b[0m\u001b[97;49mtime\u001b[0m\u001b[97;49m(\u001b[0m\u001b[97;49m)\u001b[0m                         \n",
            "    \u001b[1;36m23\u001b[0m                                           \u001b[97;49m  \u001b[0m\u001b[37;49m# Read the problem\u001b[0m                               \n",
            "    \u001b[1;36m24\u001b[0m         \u001b[1;36m1\u001b[0m         \u001b[1;36m42.5\u001b[0m     \u001b[1;36m42.5\u001b[0m     \u001b[1;36m18.4\u001b[0m  \u001b[97;49m  \u001b[0m\u001b[97;49mn\u001b[0m\u001b[97;49m \u001b[0m\u001b[91;49m=\u001b[0m\u001b[97;49m \u001b[0m\u001b[97;49mint\u001b[0m\u001b[97;49m(\u001b[0m\u001b[97;49minput\u001b[0m\u001b[97;49m(\u001b[0m\u001b[97;49m)\u001b[0m\u001b[97;49m)\u001b[0m                                 \n",
            "    \u001b[1;36m25\u001b[0m         \u001b[1;36m1\u001b[0m          \u001b[1;36m4.8\u001b[0m      \u001b[1;36m4.8\u001b[0m      \u001b[1;36m2.1\u001b[0m  \u001b[97;49m  \u001b[0m\u001b[97;49mvaluesString\u001b[0m\u001b[97;49m \u001b[0m\u001b[91;49m=\u001b[0m\u001b[97;49m \u001b[0m\u001b[97;49minput\u001b[0m\u001b[97;49m(\u001b[0m\u001b[97;49m)\u001b[0m                           \n",
            "    \u001b[1;36m26\u001b[0m         \u001b[1;36m1\u001b[0m          \u001b[1;36m3.5\u001b[0m      \u001b[1;36m3.5\u001b[0m      \u001b[1;36m1.5\u001b[0m  \u001b[97;49m  \u001b[0m\u001b[97;49mvalues\u001b[0m\u001b[97;49m \u001b[0m\u001b[91;49m=\u001b[0m\u001b[97;49m \u001b[0m\u001b[97;49mvaluesString\u001b[0m\u001b[91;49m.\u001b[0m\u001b[97;49msplit\u001b[0m\u001b[97;49m(\u001b[0m\u001b[97;49m)\u001b[0m                    \n",
            "    \u001b[1;36m27\u001b[0m        \u001b[1;36m23\u001b[0m          \u001b[1;36m9.3\u001b[0m      \u001b[1;36m0.4\u001b[0m      \u001b[1;36m4.0\u001b[0m  \u001b[97;49m  \u001b[0m\u001b[96;49mfor\u001b[0m\u001b[97;49m \u001b[0m\u001b[97;49mi\u001b[0m\u001b[97;49m \u001b[0m\u001b[91;49min\u001b[0m\u001b[97;49m \u001b[0m\u001b[97;49mrange\u001b[0m\u001b[97;49m(\u001b[0m\u001b[97;49mlen\u001b[0m\u001b[97;49m(\u001b[0m\u001b[97;49mvalues\u001b[0m\u001b[97;49m)\u001b[0m\u001b[97;49m)\u001b[0m\u001b[97;49m:\u001b[0m                     \n",
            "    \u001b[1;36m28\u001b[0m        \u001b[1;36m22\u001b[0m         \u001b[1;36m15.5\u001b[0m      \u001b[1;36m0.7\u001b[0m      \u001b[1;36m6.7\u001b[0m  \u001b[97;49m    \u001b[0m\u001b[97;49mvalues\u001b[0m\u001b[97;49m[\u001b[0m\u001b[97;49mi\u001b[0m\u001b[97;49m]\u001b[0m\u001b[97;49m \u001b[0m\u001b[91;49m=\u001b[0m\u001b[97;49m \u001b[0m\u001b[97;49mint\u001b[0m\u001b[97;49m(\u001b[0m\u001b[97;49mvalues\u001b[0m\u001b[97;49m[\u001b[0m\u001b[97;49mi\u001b[0m\u001b[97;49m]\u001b[0m\u001b[97;49m)\u001b[0m                     \n",
            "    \u001b[1;36m29\u001b[0m                                           \u001b[97;49m  \u001b[0m\u001b[37;49m# Print the instance of the problem\u001b[0m              \n",
            "    \u001b[1;36m30\u001b[0m         \u001b[1;36m1\u001b[0m         \u001b[1;36m25.5\u001b[0m     \u001b[1;36m25.5\u001b[0m     \u001b[1;36m11.1\u001b[0m  \u001b[97;49m  \u001b[0m\u001b[97;49mprint\u001b[0m\u001b[97;49m(\u001b[0m\u001b[93;49m\"\u001b[0m\u001b[93;49mProblem size: \u001b[0m\u001b[93;49m\"\u001b[0m\u001b[97;49m,\u001b[0m\u001b[97;49mn\u001b[0m\u001b[97;49m)\u001b[0m                        \n",
            "    \u001b[1;36m31\u001b[0m         \u001b[1;36m1\u001b[0m         \u001b[1;36m10.2\u001b[0m     \u001b[1;36m10.2\u001b[0m      \u001b[1;36m4.4\u001b[0m  \u001b[97;49m  \u001b[0m\u001b[97;49mprint\u001b[0m\u001b[97;49m(\u001b[0m\u001b[93;49m\"\u001b[0m\u001b[93;49mProblem instance: \u001b[0m\u001b[93;49m\"\u001b[0m\u001b[97;49m,\u001b[0m\u001b[97;49mvalues\u001b[0m\u001b[97;49m)\u001b[0m               \n",
            "    \u001b[1;36m32\u001b[0m                                                                                              \n",
            "    \u001b[1;36m33\u001b[0m         \u001b[1;36m1\u001b[0m          \u001b[1;36m1.9\u001b[0m      \u001b[1;36m1.9\u001b[0m      \u001b[1;36m0.8\u001b[0m  \u001b[97;49m  \u001b[0m\u001b[97;49msum_of_numbers\u001b[0m\u001b[97;49m \u001b[0m\u001b[91;49m=\u001b[0m\u001b[97;49m \u001b[0m\u001b[97;49msum\u001b[0m\u001b[97;49m(\u001b[0m\u001b[97;49mvalues\u001b[0m\u001b[97;49m)\u001b[0m                     \n",
            "    \u001b[1;36m34\u001b[0m         \u001b[1;36m1\u001b[0m          \u001b[1;36m0.9\u001b[0m      \u001b[1;36m0.9\u001b[0m      \u001b[1;36m0.4\u001b[0m  \u001b[97;49m  \u001b[0m\u001b[96;49mif\u001b[0m\u001b[97;49m \u001b[0m\u001b[97;49msum_of_numbers\u001b[0m\u001b[97;49m \u001b[0m\u001b[91;49m%\u001b[0m\u001b[97;49m \u001b[0m\u001b[37;49m2\u001b[0m\u001b[97;49m \u001b[0m\u001b[91;49m==\u001b[0m\u001b[97;49m \u001b[0m\u001b[37;49m1\u001b[0m\u001b[97;49m:\u001b[0m                      \n",
            "    \u001b[1;36m35\u001b[0m                                           \u001b[97;49m    \u001b[0m\u001b[97;49mprint\u001b[0m\u001b[97;49m(\u001b[0m\u001b[93;49m\"\u001b[0m\u001b[93;49mThis instance does not have a solution\u001b[0m\u001b[93;49m\"\u001b[0m\u001b[97;49m)\u001b[0m\n",
            "    \u001b[1;36m36\u001b[0m                                           \u001b[97;49m  \u001b[0m\u001b[96;49melse\u001b[0m\u001b[97;49m:\u001b[0m                                            \n",
            "    \u001b[1;36m37\u001b[0m         \u001b[1;36m1\u001b[0m         \u001b[1;36m10.1\u001b[0m     \u001b[1;36m10.1\u001b[0m      \u001b[1;36m4.4\u001b[0m  \u001b[97;49m    \u001b[0m\u001b[97;49mpower_set\u001b[0m\u001b[97;49m \u001b[0m\u001b[91;49m=\u001b[0m\u001b[97;49m \u001b[0m\u001b[97;49mpowerset\u001b[0m\u001b[97;49m(\u001b[0m\u001b[97;49mvalues\u001b[0m\u001b[97;49m)\u001b[0m                   \n",
            "    \u001b[1;36m38\u001b[0m         \u001b[1;36m1\u001b[0m          \u001b[1;36m0.2\u001b[0m      \u001b[1;36m0.2\u001b[0m      \u001b[1;36m0.1\u001b[0m  \u001b[97;49m    \u001b[0m\u001b[97;49msolution_found\u001b[0m\u001b[97;49m \u001b[0m\u001b[91;49m=\u001b[0m\u001b[97;49m \u001b[0m\u001b[96;49mFalse\u001b[0m                         \n",
            "    \u001b[1;36m39\u001b[0m        \u001b[1;36m23\u001b[0m         \u001b[1;36m42.6\u001b[0m      \u001b[1;36m1.9\u001b[0m     \u001b[1;36m18.5\u001b[0m  \u001b[97;49m    \u001b[0m\u001b[96;49mfor\u001b[0m\u001b[97;49m \u001b[0m\u001b[97;49mset\u001b[0m\u001b[97;49m \u001b[0m\u001b[91;49min\u001b[0m\u001b[97;49m \u001b[0m\u001b[97;49mpower_set\u001b[0m\u001b[97;49m:\u001b[0m                          \n",
            "    \u001b[1;36m40\u001b[0m        \u001b[1;36m23\u001b[0m         \u001b[1;36m16.0\u001b[0m      \u001b[1;36m0.7\u001b[0m      \u001b[1;36m6.9\u001b[0m  \u001b[97;49m      \u001b[0m\u001b[96;49mif\u001b[0m\u001b[97;49m \u001b[0m\u001b[97;49msum\u001b[0m\u001b[97;49m(\u001b[0m\u001b[97;49mset\u001b[0m\u001b[97;49m)\u001b[0m\u001b[97;49m \u001b[0m\u001b[91;49m==\u001b[0m\u001b[97;49m \u001b[0m\u001b[97;49m(\u001b[0m\u001b[97;49msum_of_numbers\u001b[0m\u001b[91;49m/\u001b[0m\u001b[91;49m/\u001b[0m\u001b[37;49m2\u001b[0m\u001b[97;49m)\u001b[0m\u001b[97;49m:\u001b[0m          \n",
            "    \u001b[1;36m41\u001b[0m         \u001b[1;36m1\u001b[0m         \u001b[1;36m13.4\u001b[0m     \u001b[1;36m13.4\u001b[0m      \u001b[1;36m5.8\u001b[0m  \u001b[97;49m        \u001b[0m\u001b[97;49mprint\u001b[0m\u001b[97;49m(\u001b[0m\u001b[93;49m\"\u001b[0m\u001b[93;49mSolution found!\u001b[0m\u001b[93;49m\"\u001b[0m\u001b[97;49m)\u001b[0m                   \n",
            "    \u001b[1;36m42\u001b[0m         \u001b[1;36m1\u001b[0m          \u001b[1;36m9.6\u001b[0m      \u001b[1;36m9.6\u001b[0m      \u001b[1;36m4.2\u001b[0m  \u001b[97;49m        \u001b[0m\u001b[97;49mprint\u001b[0m\u001b[97;49m(\u001b[0m\u001b[93;49m\"\u001b[0m\u001b[93;49mOne partition contains: \u001b[0m\u001b[93;49m\"\u001b[0m\u001b[97;49m,\u001b[0m\u001b[97;49mset\u001b[0m\u001b[97;49m)\u001b[0m      \n",
            "    \u001b[1;36m43\u001b[0m         \u001b[1;36m1\u001b[0m          \u001b[1;36m0.3\u001b[0m      \u001b[1;36m0.3\u001b[0m      \u001b[1;36m0.1\u001b[0m  \u001b[97;49m        \u001b[0m\u001b[97;49msolution_found\u001b[0m\u001b[97;49m \u001b[0m\u001b[91;49m=\u001b[0m\u001b[97;49m \u001b[0m\u001b[96;49mTrue\u001b[0m                      \n",
            "    \u001b[1;36m44\u001b[0m         \u001b[1;36m1\u001b[0m          \u001b[1;36m0.4\u001b[0m      \u001b[1;36m0.4\u001b[0m      \u001b[1;36m0.2\u001b[0m  \u001b[97;49m        \u001b[0m\u001b[96;49mbreak\u001b[0m                                      \n",
            "    \u001b[1;36m45\u001b[0m         \u001b[1;36m1\u001b[0m          \u001b[1;36m0.5\u001b[0m      \u001b[1;36m0.5\u001b[0m      \u001b[1;36m0.2\u001b[0m  \u001b[97;49m    \u001b[0m\u001b[96;49mif\u001b[0m\u001b[97;49m \u001b[0m\u001b[97;49msolution_found\u001b[0m\u001b[97;49m \u001b[0m\u001b[91;49m==\u001b[0m\u001b[97;49m \u001b[0m\u001b[96;49mFalse\u001b[0m\u001b[97;49m:\u001b[0m                    \n",
            "    \u001b[1;36m46\u001b[0m                                           \u001b[97;49m      \u001b[0m\u001b[97;49mprint\u001b[0m\u001b[97;49m(\u001b[0m\u001b[93;49m\"\u001b[0m\u001b[93;49mThis instance does not have a solutio…\u001b[0m\n",
            "    \u001b[1;36m47\u001b[0m                                                                                              \n",
            "    \u001b[1;36m48\u001b[0m         \u001b[1;36m1\u001b[0m          \u001b[1;36m2.0\u001b[0m      \u001b[1;36m2.0\u001b[0m      \u001b[1;36m0.8\u001b[0m  \u001b[97;49m  \u001b[0m\u001b[97;49mend_time\u001b[0m\u001b[97;49m \u001b[0m\u001b[91;49m=\u001b[0m\u001b[97;49m \u001b[0m\u001b[97;49mtime\u001b[0m\u001b[91;49m.\u001b[0m\u001b[97;49mtime\u001b[0m\u001b[97;49m(\u001b[0m\u001b[97;49m)\u001b[0m                           \n",
            "    \u001b[1;36m49\u001b[0m         \u001b[1;36m1\u001b[0m          \u001b[1;36m0.8\u001b[0m      \u001b[1;36m0.8\u001b[0m      \u001b[1;36m0.4\u001b[0m  \u001b[97;49m  \u001b[0m\u001b[97;49melapsed_time\u001b[0m\u001b[97;49m \u001b[0m\u001b[91;49m=\u001b[0m\u001b[97;49m \u001b[0m\u001b[97;49mend_time\u001b[0m\u001b[97;49m \u001b[0m\u001b[91;49m-\u001b[0m\u001b[97;49m \u001b[0m\u001b[97;49mstart_time\u001b[0m             \n",
            "    \u001b[1;36m50\u001b[0m         \u001b[1;36m1\u001b[0m         \u001b[1;36m17.8\u001b[0m     \u001b[1;36m17.8\u001b[0m      \u001b[1;36m7.7\u001b[0m  \u001b[97;49m  \u001b[0m\u001b[97;49mprint\u001b[0m\u001b[97;49m(\u001b[0m\u001b[93;49m\"\u001b[0m\u001b[93;49mThe program took: \u001b[0m\u001b[93;49m\"\u001b[0m\u001b[97;49m,\u001b[0m\u001b[97;49melapsed_time\u001b[0m\u001b[97;49m,\u001b[0m\u001b[93;49m\"\u001b[0m\u001b[93;49m second…\u001b[0m\n",
            "\n",
            "\n",
            "  0.00 seconds - partition_profile.py:20 - partition\n"
          ]
        }
      ]
    },
    {
      "cell_type": "code",
      "source": [
        "!kernprof -l partition_profile.py < test23.Text"
      ],
      "metadata": {
        "id": "0ljUivGH_4pY",
        "outputId": "a1f90168-3293-4539-8985-acccd70e1706",
        "colab": {
          "base_uri": "https://localhost:8080/"
        }
      },
      "execution_count": 49,
      "outputs": [
        {
          "output_type": "stream",
          "name": "stdout",
          "text": [
            "Problem size:  23\n",
            "Problem instance:  [1, 1, 1, 1, 1, 1, 1, 1, 1, 1, 1, 1, 1, 1, 1, 1, 1, 1, 1, 1, 1, 1, 22]\n",
            "Solution found!\n",
            "One partition contains:  (22,)\n",
            "The program took:  0.00024628639221191406  seconds.\n",
            "Wrote profile results to partition_profile.py.lprof\n",
            "Inspect results with:\n",
            "python3 -m line_profiler -rmt \"partition_profile.py.lprof\"\n"
          ]
        }
      ]
    },
    {
      "cell_type": "code",
      "source": [
        "!python3 -m line_profiler -rmt \"partition_profile.py.lprof\""
      ],
      "metadata": {
        "id": "bc6xHsNd_8nj",
        "outputId": "9706f7a7-814a-433c-883f-e0e1d0c0eb76",
        "colab": {
          "base_uri": "https://localhost:8080/"
        }
      },
      "execution_count": 50,
      "outputs": [
        {
          "output_type": "stream",
          "name": "stdout",
          "text": [
            "Timer unit: 1e-06 s\n",
            "\n",
            "Total time: 0.00022553 s\n",
            "File: partition_profile.py\n",
            "Function: partition at line 20\n",
            "\n",
            "Line #      Hits         Time  Per Hit   % Time  Line Contents\n",
            "==============================================================\n",
            "    \u001b[1;36m20\u001b[0m                                           \u001b[92;49m@profile\u001b[0m                                           \n",
            "    \u001b[1;36m21\u001b[0m                                           \u001b[96;49mdef\u001b[0m\u001b[97;49m \u001b[0m\u001b[92;49mpartition\u001b[0m\u001b[97;49m(\u001b[0m\u001b[97;49m)\u001b[0m\u001b[97;49m:\u001b[0m                                   \n",
            "    \u001b[1;36m22\u001b[0m         \u001b[1;36m1\u001b[0m          \u001b[1;36m2.3\u001b[0m      \u001b[1;36m2.3\u001b[0m      \u001b[1;36m1.0\u001b[0m  \u001b[97;49m  \u001b[0m\u001b[97;49mstart_time\u001b[0m\u001b[97;49m \u001b[0m\u001b[91;49m=\u001b[0m\u001b[97;49m \u001b[0m\u001b[97;49mtime\u001b[0m\u001b[91;49m.\u001b[0m\u001b[97;49mtime\u001b[0m\u001b[97;49m(\u001b[0m\u001b[97;49m)\u001b[0m                         \n",
            "    \u001b[1;36m23\u001b[0m                                           \u001b[97;49m  \u001b[0m\u001b[37;49m# Read the problem\u001b[0m                               \n",
            "    \u001b[1;36m24\u001b[0m         \u001b[1;36m1\u001b[0m         \u001b[1;36m43.5\u001b[0m     \u001b[1;36m43.5\u001b[0m     \u001b[1;36m19.3\u001b[0m  \u001b[97;49m  \u001b[0m\u001b[97;49mn\u001b[0m\u001b[97;49m \u001b[0m\u001b[91;49m=\u001b[0m\u001b[97;49m \u001b[0m\u001b[97;49mint\u001b[0m\u001b[97;49m(\u001b[0m\u001b[97;49minput\u001b[0m\u001b[97;49m(\u001b[0m\u001b[97;49m)\u001b[0m\u001b[97;49m)\u001b[0m                                 \n",
            "    \u001b[1;36m25\u001b[0m         \u001b[1;36m1\u001b[0m          \u001b[1;36m2.3\u001b[0m      \u001b[1;36m2.3\u001b[0m      \u001b[1;36m1.0\u001b[0m  \u001b[97;49m  \u001b[0m\u001b[97;49mvaluesString\u001b[0m\u001b[97;49m \u001b[0m\u001b[91;49m=\u001b[0m\u001b[97;49m \u001b[0m\u001b[97;49minput\u001b[0m\u001b[97;49m(\u001b[0m\u001b[97;49m)\u001b[0m                           \n",
            "    \u001b[1;36m26\u001b[0m         \u001b[1;36m1\u001b[0m          \u001b[1;36m2.5\u001b[0m      \u001b[1;36m2.5\u001b[0m      \u001b[1;36m1.1\u001b[0m  \u001b[97;49m  \u001b[0m\u001b[97;49mvalues\u001b[0m\u001b[97;49m \u001b[0m\u001b[91;49m=\u001b[0m\u001b[97;49m \u001b[0m\u001b[97;49mvaluesString\u001b[0m\u001b[91;49m.\u001b[0m\u001b[97;49msplit\u001b[0m\u001b[97;49m(\u001b[0m\u001b[97;49m)\u001b[0m                    \n",
            "    \u001b[1;36m27\u001b[0m        \u001b[1;36m24\u001b[0m          \u001b[1;36m7.4\u001b[0m      \u001b[1;36m0.3\u001b[0m      \u001b[1;36m3.3\u001b[0m  \u001b[97;49m  \u001b[0m\u001b[96;49mfor\u001b[0m\u001b[97;49m \u001b[0m\u001b[97;49mi\u001b[0m\u001b[97;49m \u001b[0m\u001b[91;49min\u001b[0m\u001b[97;49m \u001b[0m\u001b[97;49mrange\u001b[0m\u001b[97;49m(\u001b[0m\u001b[97;49mlen\u001b[0m\u001b[97;49m(\u001b[0m\u001b[97;49mvalues\u001b[0m\u001b[97;49m)\u001b[0m\u001b[97;49m)\u001b[0m\u001b[97;49m:\u001b[0m                     \n",
            "    \u001b[1;36m28\u001b[0m        \u001b[1;36m23\u001b[0m         \u001b[1;36m11.8\u001b[0m      \u001b[1;36m0.5\u001b[0m      \u001b[1;36m5.2\u001b[0m  \u001b[97;49m    \u001b[0m\u001b[97;49mvalues\u001b[0m\u001b[97;49m[\u001b[0m\u001b[97;49mi\u001b[0m\u001b[97;49m]\u001b[0m\u001b[97;49m \u001b[0m\u001b[91;49m=\u001b[0m\u001b[97;49m \u001b[0m\u001b[97;49mint\u001b[0m\u001b[97;49m(\u001b[0m\u001b[97;49mvalues\u001b[0m\u001b[97;49m[\u001b[0m\u001b[97;49mi\u001b[0m\u001b[97;49m]\u001b[0m\u001b[97;49m)\u001b[0m                     \n",
            "    \u001b[1;36m29\u001b[0m                                           \u001b[97;49m  \u001b[0m\u001b[37;49m# Print the instance of the problem\u001b[0m              \n",
            "    \u001b[1;36m30\u001b[0m         \u001b[1;36m1\u001b[0m         \u001b[1;36m34.5\u001b[0m     \u001b[1;36m34.5\u001b[0m     \u001b[1;36m15.3\u001b[0m  \u001b[97;49m  \u001b[0m\u001b[97;49mprint\u001b[0m\u001b[97;49m(\u001b[0m\u001b[93;49m\"\u001b[0m\u001b[93;49mProblem size: \u001b[0m\u001b[93;49m\"\u001b[0m\u001b[97;49m,\u001b[0m\u001b[97;49mn\u001b[0m\u001b[97;49m)\u001b[0m                        \n",
            "    \u001b[1;36m31\u001b[0m         \u001b[1;36m1\u001b[0m         \u001b[1;36m12.1\u001b[0m     \u001b[1;36m12.1\u001b[0m      \u001b[1;36m5.3\u001b[0m  \u001b[97;49m  \u001b[0m\u001b[97;49mprint\u001b[0m\u001b[97;49m(\u001b[0m\u001b[93;49m\"\u001b[0m\u001b[93;49mProblem instance: \u001b[0m\u001b[93;49m\"\u001b[0m\u001b[97;49m,\u001b[0m\u001b[97;49mvalues\u001b[0m\u001b[97;49m)\u001b[0m               \n",
            "    \u001b[1;36m32\u001b[0m                                                                                              \n",
            "    \u001b[1;36m33\u001b[0m         \u001b[1;36m1\u001b[0m          \u001b[1;36m1.3\u001b[0m      \u001b[1;36m1.3\u001b[0m      \u001b[1;36m0.6\u001b[0m  \u001b[97;49m  \u001b[0m\u001b[97;49msum_of_numbers\u001b[0m\u001b[97;49m \u001b[0m\u001b[91;49m=\u001b[0m\u001b[97;49m \u001b[0m\u001b[97;49msum\u001b[0m\u001b[97;49m(\u001b[0m\u001b[97;49mvalues\u001b[0m\u001b[97;49m)\u001b[0m                     \n",
            "    \u001b[1;36m34\u001b[0m         \u001b[1;36m1\u001b[0m          \u001b[1;36m0.8\u001b[0m      \u001b[1;36m0.8\u001b[0m      \u001b[1;36m0.3\u001b[0m  \u001b[97;49m  \u001b[0m\u001b[96;49mif\u001b[0m\u001b[97;49m \u001b[0m\u001b[97;49msum_of_numbers\u001b[0m\u001b[97;49m \u001b[0m\u001b[91;49m%\u001b[0m\u001b[97;49m \u001b[0m\u001b[37;49m2\u001b[0m\u001b[97;49m \u001b[0m\u001b[91;49m==\u001b[0m\u001b[97;49m \u001b[0m\u001b[37;49m1\u001b[0m\u001b[97;49m:\u001b[0m                      \n",
            "    \u001b[1;36m35\u001b[0m                                           \u001b[97;49m    \u001b[0m\u001b[97;49mprint\u001b[0m\u001b[97;49m(\u001b[0m\u001b[93;49m\"\u001b[0m\u001b[93;49mThis instance does not have a solution\u001b[0m\u001b[93;49m\"\u001b[0m\u001b[97;49m)\u001b[0m\n",
            "    \u001b[1;36m36\u001b[0m                                           \u001b[97;49m  \u001b[0m\u001b[96;49melse\u001b[0m\u001b[97;49m:\u001b[0m                                            \n",
            "    \u001b[1;36m37\u001b[0m         \u001b[1;36m1\u001b[0m          \u001b[1;36m7.7\u001b[0m      \u001b[1;36m7.7\u001b[0m      \u001b[1;36m3.4\u001b[0m  \u001b[97;49m    \u001b[0m\u001b[97;49mpower_set\u001b[0m\u001b[97;49m \u001b[0m\u001b[91;49m=\u001b[0m\u001b[97;49m \u001b[0m\u001b[97;49mpowerset\u001b[0m\u001b[97;49m(\u001b[0m\u001b[97;49mvalues\u001b[0m\u001b[97;49m)\u001b[0m                   \n",
            "    \u001b[1;36m38\u001b[0m         \u001b[1;36m1\u001b[0m          \u001b[1;36m0.4\u001b[0m      \u001b[1;36m0.4\u001b[0m      \u001b[1;36m0.2\u001b[0m  \u001b[97;49m    \u001b[0m\u001b[97;49msolution_found\u001b[0m\u001b[97;49m \u001b[0m\u001b[91;49m=\u001b[0m\u001b[97;49m \u001b[0m\u001b[96;49mFalse\u001b[0m                         \n",
            "    \u001b[1;36m39\u001b[0m        \u001b[1;36m24\u001b[0m         \u001b[1;36m14.9\u001b[0m      \u001b[1;36m0.6\u001b[0m      \u001b[1;36m6.6\u001b[0m  \u001b[97;49m    \u001b[0m\u001b[96;49mfor\u001b[0m\u001b[97;49m \u001b[0m\u001b[97;49mset\u001b[0m\u001b[97;49m \u001b[0m\u001b[91;49min\u001b[0m\u001b[97;49m \u001b[0m\u001b[97;49mpower_set\u001b[0m\u001b[97;49m:\u001b[0m                          \n",
            "    \u001b[1;36m40\u001b[0m        \u001b[1;36m24\u001b[0m         \u001b[1;36m11.6\u001b[0m      \u001b[1;36m0.5\u001b[0m      \u001b[1;36m5.1\u001b[0m  \u001b[97;49m      \u001b[0m\u001b[96;49mif\u001b[0m\u001b[97;49m \u001b[0m\u001b[97;49msum\u001b[0m\u001b[97;49m(\u001b[0m\u001b[97;49mset\u001b[0m\u001b[97;49m)\u001b[0m\u001b[97;49m \u001b[0m\u001b[91;49m==\u001b[0m\u001b[97;49m \u001b[0m\u001b[97;49m(\u001b[0m\u001b[97;49msum_of_numbers\u001b[0m\u001b[91;49m/\u001b[0m\u001b[91;49m/\u001b[0m\u001b[37;49m2\u001b[0m\u001b[97;49m)\u001b[0m\u001b[97;49m:\u001b[0m          \n",
            "    \u001b[1;36m41\u001b[0m         \u001b[1;36m1\u001b[0m          \u001b[1;36m5.9\u001b[0m      \u001b[1;36m5.9\u001b[0m      \u001b[1;36m2.6\u001b[0m  \u001b[97;49m        \u001b[0m\u001b[97;49mprint\u001b[0m\u001b[97;49m(\u001b[0m\u001b[93;49m\"\u001b[0m\u001b[93;49mSolution found!\u001b[0m\u001b[93;49m\"\u001b[0m\u001b[97;49m)\u001b[0m                   \n",
            "    \u001b[1;36m42\u001b[0m         \u001b[1;36m1\u001b[0m         \u001b[1;36m37.8\u001b[0m     \u001b[1;36m37.8\u001b[0m     \u001b[1;36m16.8\u001b[0m  \u001b[97;49m        \u001b[0m\u001b[97;49mprint\u001b[0m\u001b[97;49m(\u001b[0m\u001b[93;49m\"\u001b[0m\u001b[93;49mOne partition contains: \u001b[0m\u001b[93;49m\"\u001b[0m\u001b[97;49m,\u001b[0m\u001b[97;49mset\u001b[0m\u001b[97;49m)\u001b[0m      \n",
            "    \u001b[1;36m43\u001b[0m         \u001b[1;36m1\u001b[0m          \u001b[1;36m0.4\u001b[0m      \u001b[1;36m0.4\u001b[0m      \u001b[1;36m0.2\u001b[0m  \u001b[97;49m        \u001b[0m\u001b[97;49msolution_found\u001b[0m\u001b[97;49m \u001b[0m\u001b[91;49m=\u001b[0m\u001b[97;49m \u001b[0m\u001b[96;49mTrue\u001b[0m                      \n",
            "    \u001b[1;36m44\u001b[0m         \u001b[1;36m1\u001b[0m          \u001b[1;36m0.4\u001b[0m      \u001b[1;36m0.4\u001b[0m      \u001b[1;36m0.2\u001b[0m  \u001b[97;49m        \u001b[0m\u001b[96;49mbreak\u001b[0m                                      \n",
            "    \u001b[1;36m45\u001b[0m         \u001b[1;36m1\u001b[0m          \u001b[1;36m0.6\u001b[0m      \u001b[1;36m0.6\u001b[0m      \u001b[1;36m0.3\u001b[0m  \u001b[97;49m    \u001b[0m\u001b[96;49mif\u001b[0m\u001b[97;49m \u001b[0m\u001b[97;49msolution_found\u001b[0m\u001b[97;49m \u001b[0m\u001b[91;49m==\u001b[0m\u001b[97;49m \u001b[0m\u001b[96;49mFalse\u001b[0m\u001b[97;49m:\u001b[0m                    \n",
            "    \u001b[1;36m46\u001b[0m                                           \u001b[97;49m      \u001b[0m\u001b[97;49mprint\u001b[0m\u001b[97;49m(\u001b[0m\u001b[93;49m\"\u001b[0m\u001b[93;49mThis instance does not have a solutio…\u001b[0m\n",
            "    \u001b[1;36m47\u001b[0m                                                                                              \n",
            "    \u001b[1;36m48\u001b[0m         \u001b[1;36m1\u001b[0m          \u001b[1;36m1.7\u001b[0m      \u001b[1;36m1.7\u001b[0m      \u001b[1;36m0.8\u001b[0m  \u001b[97;49m  \u001b[0m\u001b[97;49mend_time\u001b[0m\u001b[97;49m \u001b[0m\u001b[91;49m=\u001b[0m\u001b[97;49m \u001b[0m\u001b[97;49mtime\u001b[0m\u001b[91;49m.\u001b[0m\u001b[97;49mtime\u001b[0m\u001b[97;49m(\u001b[0m\u001b[97;49m)\u001b[0m                           \n",
            "    \u001b[1;36m49\u001b[0m         \u001b[1;36m1\u001b[0m          \u001b[1;36m0.7\u001b[0m      \u001b[1;36m0.7\u001b[0m      \u001b[1;36m0.3\u001b[0m  \u001b[97;49m  \u001b[0m\u001b[97;49melapsed_time\u001b[0m\u001b[97;49m \u001b[0m\u001b[91;49m=\u001b[0m\u001b[97;49m \u001b[0m\u001b[97;49mend_time\u001b[0m\u001b[97;49m \u001b[0m\u001b[91;49m-\u001b[0m\u001b[97;49m \u001b[0m\u001b[97;49mstart_time\u001b[0m             \n",
            "    \u001b[1;36m50\u001b[0m         \u001b[1;36m1\u001b[0m         \u001b[1;36m25.0\u001b[0m     \u001b[1;36m25.0\u001b[0m     \u001b[1;36m11.1\u001b[0m  \u001b[97;49m  \u001b[0m\u001b[97;49mprint\u001b[0m\u001b[97;49m(\u001b[0m\u001b[93;49m\"\u001b[0m\u001b[93;49mThe program took: \u001b[0m\u001b[93;49m\"\u001b[0m\u001b[97;49m,\u001b[0m\u001b[97;49melapsed_time\u001b[0m\u001b[97;49m,\u001b[0m\u001b[93;49m\"\u001b[0m\u001b[93;49m second…\u001b[0m\n",
            "\n",
            "\n",
            "  0.00 seconds - partition_profile.py:20 - partition\n"
          ]
        }
      ]
    },
    {
      "cell_type": "code",
      "source": [
        "!kernprof -l partition_profile.py < test24.Text"
      ],
      "metadata": {
        "colab": {
          "base_uri": "https://localhost:8080/"
        },
        "id": "sa2mHiKodbWe",
        "outputId": "9b524033-07c1-4ed8-9b73-961586f22006"
      },
      "execution_count": 25,
      "outputs": [
        {
          "output_type": "stream",
          "name": "stdout",
          "text": [
            "Problem size:  24\n",
            "Problem instance:  [1, 1, 1, 1, 1, 1, 1, 1, 1, 1, 1, 1, 1, 1, 1, 1, 1, 1, 1, 1, 1, 1, 1, 23]\n",
            "Solution found!\n",
            "One partition contains:  (23,)\n",
            "The program took:  0.00030422210693359375  seconds.\n",
            "Wrote profile results to partition_profile.py.lprof\n",
            "Inspect results with:\n",
            "python3 -m line_profiler -rmt \"partition_profile.py.lprof\"\n"
          ]
        }
      ]
    },
    {
      "cell_type": "code",
      "source": [
        "!python3 -m line_profiler -rmt \"partition_profile.py.lprof\"\n"
      ],
      "metadata": {
        "colab": {
          "base_uri": "https://localhost:8080/"
        },
        "id": "Zris8FL6eCUq",
        "outputId": "9572fdfa-41cb-4b69-84ee-59c44474254d"
      },
      "execution_count": 26,
      "outputs": [
        {
          "output_type": "stream",
          "name": "stdout",
          "text": [
            "Timer unit: 1e-06 s\n",
            "\n",
            "Total time: 0.000233897 s\n",
            "File: partition_profile.py\n",
            "Function: partition at line 20\n",
            "\n",
            "Line #      Hits         Time  Per Hit   % Time  Line Contents\n",
            "==============================================================\n",
            "    \u001b[1;36m20\u001b[0m                                           \u001b[92;49m@profile\u001b[0m                                           \n",
            "    \u001b[1;36m21\u001b[0m                                           \u001b[96;49mdef\u001b[0m\u001b[97;49m \u001b[0m\u001b[92;49mpartition\u001b[0m\u001b[97;49m(\u001b[0m\u001b[97;49m)\u001b[0m\u001b[97;49m:\u001b[0m                                   \n",
            "    \u001b[1;36m22\u001b[0m         \u001b[1;36m1\u001b[0m          \u001b[1;36m3.1\u001b[0m      \u001b[1;36m3.1\u001b[0m      \u001b[1;36m1.3\u001b[0m  \u001b[97;49m  \u001b[0m\u001b[97;49mstart_time\u001b[0m\u001b[97;49m \u001b[0m\u001b[91;49m=\u001b[0m\u001b[97;49m \u001b[0m\u001b[97;49mtime\u001b[0m\u001b[91;49m.\u001b[0m\u001b[97;49mtime\u001b[0m\u001b[97;49m(\u001b[0m\u001b[97;49m)\u001b[0m                         \n",
            "    \u001b[1;36m23\u001b[0m                                           \u001b[97;49m  \u001b[0m\u001b[37;49m# Read the problem\u001b[0m                               \n",
            "    \u001b[1;36m24\u001b[0m         \u001b[1;36m1\u001b[0m         \u001b[1;36m45.8\u001b[0m     \u001b[1;36m45.8\u001b[0m     \u001b[1;36m19.6\u001b[0m  \u001b[97;49m  \u001b[0m\u001b[97;49mn\u001b[0m\u001b[97;49m \u001b[0m\u001b[91;49m=\u001b[0m\u001b[97;49m \u001b[0m\u001b[97;49mint\u001b[0m\u001b[97;49m(\u001b[0m\u001b[97;49minput\u001b[0m\u001b[97;49m(\u001b[0m\u001b[97;49m)\u001b[0m\u001b[97;49m)\u001b[0m                                 \n",
            "    \u001b[1;36m25\u001b[0m         \u001b[1;36m1\u001b[0m          \u001b[1;36m3.4\u001b[0m      \u001b[1;36m3.4\u001b[0m      \u001b[1;36m1.5\u001b[0m  \u001b[97;49m  \u001b[0m\u001b[97;49mvaluesString\u001b[0m\u001b[97;49m \u001b[0m\u001b[91;49m=\u001b[0m\u001b[97;49m \u001b[0m\u001b[97;49minput\u001b[0m\u001b[97;49m(\u001b[0m\u001b[97;49m)\u001b[0m                           \n",
            "    \u001b[1;36m26\u001b[0m         \u001b[1;36m1\u001b[0m          \u001b[1;36m3.8\u001b[0m      \u001b[1;36m3.8\u001b[0m      \u001b[1;36m1.6\u001b[0m  \u001b[97;49m  \u001b[0m\u001b[97;49mvalues\u001b[0m\u001b[97;49m \u001b[0m\u001b[91;49m=\u001b[0m\u001b[97;49m \u001b[0m\u001b[97;49mvaluesString\u001b[0m\u001b[91;49m.\u001b[0m\u001b[97;49msplit\u001b[0m\u001b[97;49m(\u001b[0m\u001b[97;49m)\u001b[0m                    \n",
            "    \u001b[1;36m27\u001b[0m        \u001b[1;36m25\u001b[0m         \u001b[1;36m11.1\u001b[0m      \u001b[1;36m0.4\u001b[0m      \u001b[1;36m4.8\u001b[0m  \u001b[97;49m  \u001b[0m\u001b[96;49mfor\u001b[0m\u001b[97;49m \u001b[0m\u001b[97;49mi\u001b[0m\u001b[97;49m \u001b[0m\u001b[91;49min\u001b[0m\u001b[97;49m \u001b[0m\u001b[97;49mrange\u001b[0m\u001b[97;49m(\u001b[0m\u001b[97;49mlen\u001b[0m\u001b[97;49m(\u001b[0m\u001b[97;49mvalues\u001b[0m\u001b[97;49m)\u001b[0m\u001b[97;49m)\u001b[0m\u001b[97;49m:\u001b[0m                     \n",
            "    \u001b[1;36m28\u001b[0m        \u001b[1;36m24\u001b[0m         \u001b[1;36m19.1\u001b[0m      \u001b[1;36m0.8\u001b[0m      \u001b[1;36m8.2\u001b[0m  \u001b[97;49m    \u001b[0m\u001b[97;49mvalues\u001b[0m\u001b[97;49m[\u001b[0m\u001b[97;49mi\u001b[0m\u001b[97;49m]\u001b[0m\u001b[97;49m \u001b[0m\u001b[91;49m=\u001b[0m\u001b[97;49m \u001b[0m\u001b[97;49mint\u001b[0m\u001b[97;49m(\u001b[0m\u001b[97;49mvalues\u001b[0m\u001b[97;49m[\u001b[0m\u001b[97;49mi\u001b[0m\u001b[97;49m]\u001b[0m\u001b[97;49m)\u001b[0m                     \n",
            "    \u001b[1;36m29\u001b[0m                                           \u001b[97;49m  \u001b[0m\u001b[37;49m# Print the instance of the problem\u001b[0m              \n",
            "    \u001b[1;36m30\u001b[0m         \u001b[1;36m1\u001b[0m         \u001b[1;36m30.1\u001b[0m     \u001b[1;36m30.1\u001b[0m     \u001b[1;36m12.9\u001b[0m  \u001b[97;49m  \u001b[0m\u001b[97;49mprint\u001b[0m\u001b[97;49m(\u001b[0m\u001b[93;49m\"\u001b[0m\u001b[93;49mProblem size: \u001b[0m\u001b[93;49m\"\u001b[0m\u001b[97;49m,\u001b[0m\u001b[97;49mn\u001b[0m\u001b[97;49m)\u001b[0m                        \n",
            "    \u001b[1;36m31\u001b[0m         \u001b[1;36m1\u001b[0m         \u001b[1;36m16.9\u001b[0m     \u001b[1;36m16.9\u001b[0m      \u001b[1;36m7.2\u001b[0m  \u001b[97;49m  \u001b[0m\u001b[97;49mprint\u001b[0m\u001b[97;49m(\u001b[0m\u001b[93;49m\"\u001b[0m\u001b[93;49mProblem instance: \u001b[0m\u001b[93;49m\"\u001b[0m\u001b[97;49m,\u001b[0m\u001b[97;49mvalues\u001b[0m\u001b[97;49m)\u001b[0m               \n",
            "    \u001b[1;36m32\u001b[0m                                                                                              \n",
            "    \u001b[1;36m33\u001b[0m         \u001b[1;36m1\u001b[0m          \u001b[1;36m2.8\u001b[0m      \u001b[1;36m2.8\u001b[0m      \u001b[1;36m1.2\u001b[0m  \u001b[97;49m  \u001b[0m\u001b[97;49msum_of_numbers\u001b[0m\u001b[97;49m \u001b[0m\u001b[91;49m=\u001b[0m\u001b[97;49m \u001b[0m\u001b[97;49msum\u001b[0m\u001b[97;49m(\u001b[0m\u001b[97;49mvalues\u001b[0m\u001b[97;49m)\u001b[0m                     \n",
            "    \u001b[1;36m34\u001b[0m         \u001b[1;36m1\u001b[0m          \u001b[1;36m1.2\u001b[0m      \u001b[1;36m1.2\u001b[0m      \u001b[1;36m0.5\u001b[0m  \u001b[97;49m  \u001b[0m\u001b[96;49mif\u001b[0m\u001b[97;49m \u001b[0m\u001b[97;49msum_of_numbers\u001b[0m\u001b[97;49m \u001b[0m\u001b[91;49m%\u001b[0m\u001b[97;49m \u001b[0m\u001b[37;49m2\u001b[0m\u001b[97;49m \u001b[0m\u001b[91;49m==\u001b[0m\u001b[97;49m \u001b[0m\u001b[37;49m1\u001b[0m\u001b[97;49m:\u001b[0m                      \n",
            "    \u001b[1;36m35\u001b[0m                                           \u001b[97;49m    \u001b[0m\u001b[97;49mprint\u001b[0m\u001b[97;49m(\u001b[0m\u001b[93;49m\"\u001b[0m\u001b[93;49mThis instance does not have a solution\u001b[0m\u001b[93;49m\"\u001b[0m\u001b[97;49m)\u001b[0m\n",
            "    \u001b[1;36m36\u001b[0m                                           \u001b[97;49m  \u001b[0m\u001b[96;49melse\u001b[0m\u001b[97;49m:\u001b[0m                                            \n",
            "    \u001b[1;36m37\u001b[0m         \u001b[1;36m1\u001b[0m         \u001b[1;36m11.4\u001b[0m     \u001b[1;36m11.4\u001b[0m      \u001b[1;36m4.9\u001b[0m  \u001b[97;49m    \u001b[0m\u001b[97;49mpower_set\u001b[0m\u001b[97;49m \u001b[0m\u001b[91;49m=\u001b[0m\u001b[97;49m \u001b[0m\u001b[97;49mpowerset\u001b[0m\u001b[97;49m(\u001b[0m\u001b[97;49mvalues\u001b[0m\u001b[97;49m)\u001b[0m                   \n",
            "    \u001b[1;36m38\u001b[0m         \u001b[1;36m1\u001b[0m          \u001b[1;36m0.3\u001b[0m      \u001b[1;36m0.3\u001b[0m      \u001b[1;36m0.1\u001b[0m  \u001b[97;49m    \u001b[0m\u001b[97;49msolution_found\u001b[0m\u001b[97;49m \u001b[0m\u001b[91;49m=\u001b[0m\u001b[97;49m \u001b[0m\u001b[96;49mFalse\u001b[0m                         \n",
            "    \u001b[1;36m39\u001b[0m        \u001b[1;36m25\u001b[0m         \u001b[1;36m21.3\u001b[0m      \u001b[1;36m0.9\u001b[0m      \u001b[1;36m9.1\u001b[0m  \u001b[97;49m    \u001b[0m\u001b[96;49mfor\u001b[0m\u001b[97;49m \u001b[0m\u001b[97;49mset\u001b[0m\u001b[97;49m \u001b[0m\u001b[91;49min\u001b[0m\u001b[97;49m \u001b[0m\u001b[97;49mpower_set\u001b[0m\u001b[97;49m:\u001b[0m                          \n",
            "    \u001b[1;36m40\u001b[0m        \u001b[1;36m25\u001b[0m         \u001b[1;36m20.7\u001b[0m      \u001b[1;36m0.8\u001b[0m      \u001b[1;36m8.9\u001b[0m  \u001b[97;49m      \u001b[0m\u001b[96;49mif\u001b[0m\u001b[97;49m \u001b[0m\u001b[97;49msum\u001b[0m\u001b[97;49m(\u001b[0m\u001b[97;49mset\u001b[0m\u001b[97;49m)\u001b[0m\u001b[97;49m \u001b[0m\u001b[91;49m==\u001b[0m\u001b[97;49m \u001b[0m\u001b[97;49m(\u001b[0m\u001b[97;49msum_of_numbers\u001b[0m\u001b[91;49m/\u001b[0m\u001b[91;49m/\u001b[0m\u001b[37;49m2\u001b[0m\u001b[97;49m)\u001b[0m\u001b[97;49m:\u001b[0m          \n",
            "    \u001b[1;36m41\u001b[0m         \u001b[1;36m1\u001b[0m         \u001b[1;36m11.3\u001b[0m     \u001b[1;36m11.3\u001b[0m      \u001b[1;36m4.8\u001b[0m  \u001b[97;49m        \u001b[0m\u001b[97;49mprint\u001b[0m\u001b[97;49m(\u001b[0m\u001b[93;49m\"\u001b[0m\u001b[93;49mSolution found!\u001b[0m\u001b[93;49m\"\u001b[0m\u001b[97;49m)\u001b[0m                   \n",
            "    \u001b[1;36m42\u001b[0m         \u001b[1;36m1\u001b[0m         \u001b[1;36m10.3\u001b[0m     \u001b[1;36m10.3\u001b[0m      \u001b[1;36m4.4\u001b[0m  \u001b[97;49m        \u001b[0m\u001b[97;49mprint\u001b[0m\u001b[97;49m(\u001b[0m\u001b[93;49m\"\u001b[0m\u001b[93;49mOne partition contains: \u001b[0m\u001b[93;49m\"\u001b[0m\u001b[97;49m,\u001b[0m\u001b[97;49mset\u001b[0m\u001b[97;49m)\u001b[0m      \n",
            "    \u001b[1;36m43\u001b[0m         \u001b[1;36m1\u001b[0m          \u001b[1;36m0.4\u001b[0m      \u001b[1;36m0.4\u001b[0m      \u001b[1;36m0.2\u001b[0m  \u001b[97;49m        \u001b[0m\u001b[97;49msolution_found\u001b[0m\u001b[97;49m \u001b[0m\u001b[91;49m=\u001b[0m\u001b[97;49m \u001b[0m\u001b[96;49mTrue\u001b[0m                      \n",
            "    \u001b[1;36m44\u001b[0m         \u001b[1;36m1\u001b[0m          \u001b[1;36m0.4\u001b[0m      \u001b[1;36m0.4\u001b[0m      \u001b[1;36m0.2\u001b[0m  \u001b[97;49m        \u001b[0m\u001b[96;49mbreak\u001b[0m                                      \n",
            "    \u001b[1;36m45\u001b[0m         \u001b[1;36m1\u001b[0m          \u001b[1;36m0.5\u001b[0m      \u001b[1;36m0.5\u001b[0m      \u001b[1;36m0.2\u001b[0m  \u001b[97;49m    \u001b[0m\u001b[96;49mif\u001b[0m\u001b[97;49m \u001b[0m\u001b[97;49msolution_found\u001b[0m\u001b[97;49m \u001b[0m\u001b[91;49m==\u001b[0m\u001b[97;49m \u001b[0m\u001b[96;49mFalse\u001b[0m\u001b[97;49m:\u001b[0m                    \n",
            "    \u001b[1;36m46\u001b[0m                                           \u001b[97;49m      \u001b[0m\u001b[97;49mprint\u001b[0m\u001b[97;49m(\u001b[0m\u001b[93;49m\"\u001b[0m\u001b[93;49mThis instance does not have a solutio…\u001b[0m\n",
            "    \u001b[1;36m47\u001b[0m                                                                                              \n",
            "    \u001b[1;36m48\u001b[0m         \u001b[1;36m1\u001b[0m          \u001b[1;36m1.2\u001b[0m      \u001b[1;36m1.2\u001b[0m      \u001b[1;36m0.5\u001b[0m  \u001b[97;49m  \u001b[0m\u001b[97;49mend_time\u001b[0m\u001b[97;49m \u001b[0m\u001b[91;49m=\u001b[0m\u001b[97;49m \u001b[0m\u001b[97;49mtime\u001b[0m\u001b[91;49m.\u001b[0m\u001b[97;49mtime\u001b[0m\u001b[97;49m(\u001b[0m\u001b[97;49m)\u001b[0m                           \n",
            "    \u001b[1;36m49\u001b[0m         \u001b[1;36m1\u001b[0m          \u001b[1;36m0.8\u001b[0m      \u001b[1;36m0.8\u001b[0m      \u001b[1;36m0.3\u001b[0m  \u001b[97;49m  \u001b[0m\u001b[97;49melapsed_time\u001b[0m\u001b[97;49m \u001b[0m\u001b[91;49m=\u001b[0m\u001b[97;49m \u001b[0m\u001b[97;49mend_time\u001b[0m\u001b[97;49m \u001b[0m\u001b[91;49m-\u001b[0m\u001b[97;49m \u001b[0m\u001b[97;49mstart_time\u001b[0m             \n",
            "    \u001b[1;36m50\u001b[0m         \u001b[1;36m1\u001b[0m         \u001b[1;36m17.7\u001b[0m     \u001b[1;36m17.7\u001b[0m      \u001b[1;36m7.6\u001b[0m  \u001b[97;49m  \u001b[0m\u001b[97;49mprint\u001b[0m\u001b[97;49m(\u001b[0m\u001b[93;49m\"\u001b[0m\u001b[93;49mThe program took: \u001b[0m\u001b[93;49m\"\u001b[0m\u001b[97;49m,\u001b[0m\u001b[97;49melapsed_time\u001b[0m\u001b[97;49m,\u001b[0m\u001b[93;49m\"\u001b[0m\u001b[93;49m second…\u001b[0m\n",
            "\n",
            "\n",
            "  0.00 seconds - partition_profile.py:20 - partition\n"
          ]
        }
      ]
    },
    {
      "cell_type": "markdown",
      "source": [
        "# Tests and profiles of instances of the problem with no solution.\n",
        "When an instance does not have a solution, one has to examine all the elements of the power set.\n",
        "This takes much longer.\n",
        "Only after all the elements in the power set have been examined, can we be sure that the instance does not have a solution.\n"
      ],
      "metadata": {
        "id": "XSPSpPwDABRn"
      }
    },
    {
      "cell_type": "code",
      "source": [
        "%%writefile instanceNoSolution20.Text\n",
        "20\n",
        "1 1 1 1 1 1 1 1 1 1 1 1 1 1 1 1 1 1 1 21"
      ],
      "metadata": {
        "colab": {
          "base_uri": "https://localhost:8080/"
        },
        "id": "7vose6WKfBeO",
        "outputId": "b1ced087-4629-45f9-a0af-37b7b5a3b4aa"
      },
      "execution_count": 27,
      "outputs": [
        {
          "output_type": "stream",
          "name": "stdout",
          "text": [
            "Writing instanceNoSolution20.Text\n"
          ]
        }
      ]
    },
    {
      "cell_type": "code",
      "source": [
        "%%writefile instanceNoSolution21.Text\n",
        "21\n",
        "1 1 1 1 1 1 1 1 1 1 1 1 1 1 1 1 1 1 1 1 22"
      ],
      "metadata": {
        "colab": {
          "base_uri": "https://localhost:8080/"
        },
        "id": "tV618rGdfJzO",
        "outputId": "3b1d7327-1a43-44d8-8736-8a9f0f05a72c"
      },
      "execution_count": 28,
      "outputs": [
        {
          "output_type": "stream",
          "name": "stdout",
          "text": [
            "Writing instanceNoSolution21.Text\n"
          ]
        }
      ]
    },
    {
      "cell_type": "code",
      "source": [
        "%%writefile instanceNoSolution22.Text\n",
        "22\n",
        "1 1 1 1 1 1 1 1 1 1 1 1 1 1 1 1 1 1 1 1 1 23"
      ],
      "metadata": {
        "colab": {
          "base_uri": "https://localhost:8080/"
        },
        "id": "8tsGIwfQfPvK",
        "outputId": "9be0d6a7-115b-4663-d496-1099fc9d1cd7"
      },
      "execution_count": 29,
      "outputs": [
        {
          "output_type": "stream",
          "name": "stdout",
          "text": [
            "Writing instanceNoSolution22.Text\n"
          ]
        }
      ]
    },
    {
      "cell_type": "code",
      "source": [
        "%%writefile instanceNoSolution23.Text\n",
        "23\n",
        "1 1 1 1 1 1 1 1 1 1 1 1 1 1 1 1 1 1 1 1 1 1 24"
      ],
      "metadata": {
        "colab": {
          "base_uri": "https://localhost:8080/"
        },
        "id": "fIU_oUmqfWni",
        "outputId": "f1952d27-56a5-43dd-f4bf-b6a6df1e20c8"
      },
      "execution_count": 30,
      "outputs": [
        {
          "output_type": "stream",
          "name": "stdout",
          "text": [
            "Writing instanceNoSolution23.Text\n"
          ]
        }
      ]
    },
    {
      "cell_type": "code",
      "source": [
        "%%writefile instanceNoSolution24.Text\n",
        "24\n",
        "1 1 1 1 1 1 1 1 1 1 1 1 1 1 1 1 1 1 1 1 1 1 1 25"
      ],
      "metadata": {
        "colab": {
          "base_uri": "https://localhost:8080/"
        },
        "id": "7lKejrTNfdRp",
        "outputId": "00b19554-0b51-4242-a073-faa449b9a8bc"
      },
      "execution_count": 31,
      "outputs": [
        {
          "output_type": "stream",
          "name": "stdout",
          "text": [
            "Overwriting instanceNoSolution24.Text\n"
          ]
        }
      ]
    },
    {
      "cell_type": "code",
      "source": [
        "!kernprof -l partition_profile.py < instanceNoSolution20.Text"
      ],
      "metadata": {
        "colab": {
          "base_uri": "https://localhost:8080/"
        },
        "id": "1uB2sb6pfl42",
        "outputId": "97da595e-46c6-49d0-e295-4930e27e8707"
      },
      "execution_count": 32,
      "outputs": [
        {
          "output_type": "stream",
          "name": "stdout",
          "text": [
            "Problem size:  20\n",
            "Problem instance:  [1, 1, 1, 1, 1, 1, 1, 1, 1, 1, 1, 1, 1, 1, 1, 1, 1, 1, 1, 21]\n",
            "This instance does not have a solution\n",
            "The program took:  3.679229974746704  seconds.\n",
            "Wrote profile results to partition_profile.py.lprof\n",
            "Inspect results with:\n",
            "python3 -m line_profiler -rmt \"partition_profile.py.lprof\"\n"
          ]
        }
      ]
    },
    {
      "cell_type": "code",
      "source": [
        "!python3 -m line_profiler -rmt \"partition_profile.py.lprof\""
      ],
      "metadata": {
        "colab": {
          "base_uri": "https://localhost:8080/"
        },
        "id": "HTbhcOqUfwJc",
        "outputId": "96bbe6e3-1597-4a20-aa67-09a515886190"
      },
      "execution_count": 33,
      "outputs": [
        {
          "output_type": "stream",
          "name": "stdout",
          "text": [
            "Timer unit: 1e-06 s\n",
            "\n",
            "Total time: 2.16248 s\n",
            "File: partition_profile.py\n",
            "Function: partition at line 20\n",
            "\n",
            "Line #      Hits         Time  Per Hit   % Time  Line Contents\n",
            "==============================================================\n",
            "    \u001b[1;36m20\u001b[0m                                           \u001b[92;49m@profile\u001b[0m                                           \n",
            "    \u001b[1;36m21\u001b[0m                                           \u001b[96;49mdef\u001b[0m\u001b[97;49m \u001b[0m\u001b[92;49mpartition\u001b[0m\u001b[97;49m(\u001b[0m\u001b[97;49m)\u001b[0m\u001b[97;49m:\u001b[0m                                   \n",
            "    \u001b[1;36m22\u001b[0m         \u001b[1;36m1\u001b[0m          \u001b[1;36m3.2\u001b[0m      \u001b[1;36m3.2\u001b[0m      \u001b[1;36m0.0\u001b[0m  \u001b[97;49m  \u001b[0m\u001b[97;49mstart_time\u001b[0m\u001b[97;49m \u001b[0m\u001b[91;49m=\u001b[0m\u001b[97;49m \u001b[0m\u001b[97;49mtime\u001b[0m\u001b[91;49m.\u001b[0m\u001b[97;49mtime\u001b[0m\u001b[97;49m(\u001b[0m\u001b[97;49m)\u001b[0m                         \n",
            "    \u001b[1;36m23\u001b[0m                                           \u001b[97;49m  \u001b[0m\u001b[37;49m# Read the problem\u001b[0m                               \n",
            "    \u001b[1;36m24\u001b[0m         \u001b[1;36m1\u001b[0m         \u001b[1;36m56.7\u001b[0m     \u001b[1;36m56.7\u001b[0m      \u001b[1;36m0.0\u001b[0m  \u001b[97;49m  \u001b[0m\u001b[97;49mn\u001b[0m\u001b[97;49m \u001b[0m\u001b[91;49m=\u001b[0m\u001b[97;49m \u001b[0m\u001b[97;49mint\u001b[0m\u001b[97;49m(\u001b[0m\u001b[97;49minput\u001b[0m\u001b[97;49m(\u001b[0m\u001b[97;49m)\u001b[0m\u001b[97;49m)\u001b[0m                                 \n",
            "    \u001b[1;36m25\u001b[0m         \u001b[1;36m1\u001b[0m          \u001b[1;36m2.8\u001b[0m      \u001b[1;36m2.8\u001b[0m      \u001b[1;36m0.0\u001b[0m  \u001b[97;49m  \u001b[0m\u001b[97;49mvaluesString\u001b[0m\u001b[97;49m \u001b[0m\u001b[91;49m=\u001b[0m\u001b[97;49m \u001b[0m\u001b[97;49minput\u001b[0m\u001b[97;49m(\u001b[0m\u001b[97;49m)\u001b[0m                           \n",
            "    \u001b[1;36m26\u001b[0m         \u001b[1;36m1\u001b[0m          \u001b[1;36m3.4\u001b[0m      \u001b[1;36m3.4\u001b[0m      \u001b[1;36m0.0\u001b[0m  \u001b[97;49m  \u001b[0m\u001b[97;49mvalues\u001b[0m\u001b[97;49m \u001b[0m\u001b[91;49m=\u001b[0m\u001b[97;49m \u001b[0m\u001b[97;49mvaluesString\u001b[0m\u001b[91;49m.\u001b[0m\u001b[97;49msplit\u001b[0m\u001b[97;49m(\u001b[0m\u001b[97;49m)\u001b[0m                    \n",
            "    \u001b[1;36m27\u001b[0m        \u001b[1;36m21\u001b[0m         \u001b[1;36m11.5\u001b[0m      \u001b[1;36m0.5\u001b[0m      \u001b[1;36m0.0\u001b[0m  \u001b[97;49m  \u001b[0m\u001b[96;49mfor\u001b[0m\u001b[97;49m \u001b[0m\u001b[97;49mi\u001b[0m\u001b[97;49m \u001b[0m\u001b[91;49min\u001b[0m\u001b[97;49m \u001b[0m\u001b[97;49mrange\u001b[0m\u001b[97;49m(\u001b[0m\u001b[97;49mlen\u001b[0m\u001b[97;49m(\u001b[0m\u001b[97;49mvalues\u001b[0m\u001b[97;49m)\u001b[0m\u001b[97;49m)\u001b[0m\u001b[97;49m:\u001b[0m                     \n",
            "    \u001b[1;36m28\u001b[0m        \u001b[1;36m20\u001b[0m         \u001b[1;36m18.7\u001b[0m      \u001b[1;36m0.9\u001b[0m      \u001b[1;36m0.0\u001b[0m  \u001b[97;49m    \u001b[0m\u001b[97;49mvalues\u001b[0m\u001b[97;49m[\u001b[0m\u001b[97;49mi\u001b[0m\u001b[97;49m]\u001b[0m\u001b[97;49m \u001b[0m\u001b[91;49m=\u001b[0m\u001b[97;49m \u001b[0m\u001b[97;49mint\u001b[0m\u001b[97;49m(\u001b[0m\u001b[97;49mvalues\u001b[0m\u001b[97;49m[\u001b[0m\u001b[97;49mi\u001b[0m\u001b[97;49m]\u001b[0m\u001b[97;49m)\u001b[0m                     \n",
            "    \u001b[1;36m29\u001b[0m                                           \u001b[97;49m  \u001b[0m\u001b[37;49m# Print the instance of the problem\u001b[0m              \n",
            "    \u001b[1;36m30\u001b[0m         \u001b[1;36m1\u001b[0m       \u001b[1;36m6716.3\u001b[0m   \u001b[1;36m6716.3\u001b[0m      \u001b[1;36m0.3\u001b[0m  \u001b[97;49m  \u001b[0m\u001b[97;49mprint\u001b[0m\u001b[97;49m(\u001b[0m\u001b[93;49m\"\u001b[0m\u001b[93;49mProblem size: \u001b[0m\u001b[93;49m\"\u001b[0m\u001b[97;49m,\u001b[0m\u001b[97;49mn\u001b[0m\u001b[97;49m)\u001b[0m                        \n",
            "    \u001b[1;36m31\u001b[0m         \u001b[1;36m1\u001b[0m         \u001b[1;36m48.0\u001b[0m     \u001b[1;36m48.0\u001b[0m      \u001b[1;36m0.0\u001b[0m  \u001b[97;49m  \u001b[0m\u001b[97;49mprint\u001b[0m\u001b[97;49m(\u001b[0m\u001b[93;49m\"\u001b[0m\u001b[93;49mProblem instance: \u001b[0m\u001b[93;49m\"\u001b[0m\u001b[97;49m,\u001b[0m\u001b[97;49mvalues\u001b[0m\u001b[97;49m)\u001b[0m               \n",
            "    \u001b[1;36m32\u001b[0m                                                                                              \n",
            "    \u001b[1;36m33\u001b[0m         \u001b[1;36m1\u001b[0m          \u001b[1;36m3.6\u001b[0m      \u001b[1;36m3.6\u001b[0m      \u001b[1;36m0.0\u001b[0m  \u001b[97;49m  \u001b[0m\u001b[97;49msum_of_numbers\u001b[0m\u001b[97;49m \u001b[0m\u001b[91;49m=\u001b[0m\u001b[97;49m \u001b[0m\u001b[97;49msum\u001b[0m\u001b[97;49m(\u001b[0m\u001b[97;49mvalues\u001b[0m\u001b[97;49m)\u001b[0m                     \n",
            "    \u001b[1;36m34\u001b[0m         \u001b[1;36m1\u001b[0m          \u001b[1;36m1.7\u001b[0m      \u001b[1;36m1.7\u001b[0m      \u001b[1;36m0.0\u001b[0m  \u001b[97;49m  \u001b[0m\u001b[96;49mif\u001b[0m\u001b[97;49m \u001b[0m\u001b[97;49msum_of_numbers\u001b[0m\u001b[97;49m \u001b[0m\u001b[91;49m%\u001b[0m\u001b[97;49m \u001b[0m\u001b[37;49m2\u001b[0m\u001b[97;49m \u001b[0m\u001b[91;49m==\u001b[0m\u001b[97;49m \u001b[0m\u001b[37;49m1\u001b[0m\u001b[97;49m:\u001b[0m                      \n",
            "    \u001b[1;36m35\u001b[0m                                           \u001b[97;49m    \u001b[0m\u001b[97;49mprint\u001b[0m\u001b[97;49m(\u001b[0m\u001b[93;49m\"\u001b[0m\u001b[93;49mThis instance does not have a solution\u001b[0m\u001b[93;49m\"\u001b[0m\u001b[97;49m)\u001b[0m\n",
            "    \u001b[1;36m36\u001b[0m                                           \u001b[97;49m  \u001b[0m\u001b[96;49melse\u001b[0m\u001b[97;49m:\u001b[0m                                            \n",
            "    \u001b[1;36m37\u001b[0m         \u001b[1;36m1\u001b[0m         \u001b[1;36m18.0\u001b[0m     \u001b[1;36m18.0\u001b[0m      \u001b[1;36m0.0\u001b[0m  \u001b[97;49m    \u001b[0m\u001b[97;49mpower_set\u001b[0m\u001b[97;49m \u001b[0m\u001b[91;49m=\u001b[0m\u001b[97;49m \u001b[0m\u001b[97;49mpowerset\u001b[0m\u001b[97;49m(\u001b[0m\u001b[97;49mvalues\u001b[0m\u001b[97;49m)\u001b[0m                   \n",
            "    \u001b[1;36m38\u001b[0m         \u001b[1;36m1\u001b[0m          \u001b[1;36m0.6\u001b[0m      \u001b[1;36m0.6\u001b[0m      \u001b[1;36m0.0\u001b[0m  \u001b[97;49m    \u001b[0m\u001b[97;49msolution_found\u001b[0m\u001b[97;49m \u001b[0m\u001b[91;49m=\u001b[0m\u001b[97;49m \u001b[0m\u001b[96;49mFalse\u001b[0m                         \n",
            "    \u001b[1;36m39\u001b[0m   \u001b[1;36m1048577\u001b[0m     \u001b[1;36m705900.5\u001b[0m      \u001b[1;36m0.7\u001b[0m     \u001b[1;36m32.6\u001b[0m  \u001b[97;49m    \u001b[0m\u001b[96;49mfor\u001b[0m\u001b[97;49m \u001b[0m\u001b[97;49mset\u001b[0m\u001b[97;49m \u001b[0m\u001b[91;49min\u001b[0m\u001b[97;49m \u001b[0m\u001b[97;49mpower_set\u001b[0m\u001b[97;49m:\u001b[0m                          \n",
            "    \u001b[1;36m40\u001b[0m   \u001b[1;36m1048576\u001b[0m    \u001b[1;36m1449609.7\u001b[0m      \u001b[1;36m1.4\u001b[0m     \u001b[1;36m67.0\u001b[0m  \u001b[97;49m      \u001b[0m\u001b[96;49mif\u001b[0m\u001b[97;49m \u001b[0m\u001b[97;49msum\u001b[0m\u001b[97;49m(\u001b[0m\u001b[97;49mset\u001b[0m\u001b[97;49m)\u001b[0m\u001b[97;49m \u001b[0m\u001b[91;49m==\u001b[0m\u001b[97;49m \u001b[0m\u001b[97;49m(\u001b[0m\u001b[97;49msum_of_numbers\u001b[0m\u001b[91;49m/\u001b[0m\u001b[91;49m/\u001b[0m\u001b[37;49m2\u001b[0m\u001b[97;49m)\u001b[0m\u001b[97;49m:\u001b[0m          \n",
            "    \u001b[1;36m41\u001b[0m                                           \u001b[97;49m        \u001b[0m\u001b[97;49mprint\u001b[0m\u001b[97;49m(\u001b[0m\u001b[93;49m\"\u001b[0m\u001b[93;49mSolution found!\u001b[0m\u001b[93;49m\"\u001b[0m\u001b[97;49m)\u001b[0m                   \n",
            "    \u001b[1;36m42\u001b[0m                                           \u001b[97;49m        \u001b[0m\u001b[97;49mprint\u001b[0m\u001b[97;49m(\u001b[0m\u001b[93;49m\"\u001b[0m\u001b[93;49mOne partition contains: \u001b[0m\u001b[93;49m\"\u001b[0m\u001b[97;49m,\u001b[0m\u001b[97;49mset\u001b[0m\u001b[97;49m)\u001b[0m      \n",
            "    \u001b[1;36m43\u001b[0m                                           \u001b[97;49m        \u001b[0m\u001b[97;49msolution_found\u001b[0m\u001b[97;49m \u001b[0m\u001b[91;49m=\u001b[0m\u001b[97;49m \u001b[0m\u001b[96;49mTrue\u001b[0m                      \n",
            "    \u001b[1;36m44\u001b[0m                                           \u001b[97;49m        \u001b[0m\u001b[96;49mbreak\u001b[0m                                      \n",
            "    \u001b[1;36m45\u001b[0m         \u001b[1;36m1\u001b[0m          \u001b[1;36m0.6\u001b[0m      \u001b[1;36m0.6\u001b[0m      \u001b[1;36m0.0\u001b[0m  \u001b[97;49m    \u001b[0m\u001b[96;49mif\u001b[0m\u001b[97;49m \u001b[0m\u001b[97;49msolution_found\u001b[0m\u001b[97;49m \u001b[0m\u001b[91;49m==\u001b[0m\u001b[97;49m \u001b[0m\u001b[96;49mFalse\u001b[0m\u001b[97;49m:\u001b[0m                    \n",
            "    \u001b[1;36m46\u001b[0m         \u001b[1;36m1\u001b[0m         \u001b[1;36m54.6\u001b[0m     \u001b[1;36m54.6\u001b[0m      \u001b[1;36m0.0\u001b[0m  \u001b[97;49m      \u001b[0m\u001b[97;49mprint\u001b[0m\u001b[97;49m(\u001b[0m\u001b[93;49m\"\u001b[0m\u001b[93;49mThis instance does not have a solutio…\u001b[0m\n",
            "    \u001b[1;36m47\u001b[0m                                                                                              \n",
            "    \u001b[1;36m48\u001b[0m         \u001b[1;36m1\u001b[0m          \u001b[1;36m3.7\u001b[0m      \u001b[1;36m3.7\u001b[0m      \u001b[1;36m0.0\u001b[0m  \u001b[97;49m  \u001b[0m\u001b[97;49mend_time\u001b[0m\u001b[97;49m \u001b[0m\u001b[91;49m=\u001b[0m\u001b[97;49m \u001b[0m\u001b[97;49mtime\u001b[0m\u001b[91;49m.\u001b[0m\u001b[97;49mtime\u001b[0m\u001b[97;49m(\u001b[0m\u001b[97;49m)\u001b[0m                           \n",
            "    \u001b[1;36m49\u001b[0m         \u001b[1;36m1\u001b[0m          \u001b[1;36m1.2\u001b[0m      \u001b[1;36m1.2\u001b[0m      \u001b[1;36m0.0\u001b[0m  \u001b[97;49m  \u001b[0m\u001b[97;49melapsed_time\u001b[0m\u001b[97;49m \u001b[0m\u001b[91;49m=\u001b[0m\u001b[97;49m \u001b[0m\u001b[97;49mend_time\u001b[0m\u001b[97;49m \u001b[0m\u001b[91;49m-\u001b[0m\u001b[97;49m \u001b[0m\u001b[97;49mstart_time\u001b[0m             \n",
            "    \u001b[1;36m50\u001b[0m         \u001b[1;36m1\u001b[0m         \u001b[1;36m22.5\u001b[0m     \u001b[1;36m22.5\u001b[0m      \u001b[1;36m0.0\u001b[0m  \u001b[97;49m  \u001b[0m\u001b[97;49mprint\u001b[0m\u001b[97;49m(\u001b[0m\u001b[93;49m\"\u001b[0m\u001b[93;49mThe program took: \u001b[0m\u001b[93;49m\"\u001b[0m\u001b[97;49m,\u001b[0m\u001b[97;49melapsed_time\u001b[0m\u001b[97;49m,\u001b[0m\u001b[93;49m\"\u001b[0m\u001b[93;49m second…\u001b[0m\n",
            "\n",
            "\n",
            "  2.16 seconds - partition_profile.py:20 - partition\n"
          ]
        }
      ]
    },
    {
      "cell_type": "code",
      "source": [
        "!kernprof -l partition_profile.py < instanceNoSolution21.Text"
      ],
      "metadata": {
        "id": "FW5ZC96E-iWn",
        "outputId": "93b62e39-5b77-42ea-ecc8-da2bd76dbb1d",
        "colab": {
          "base_uri": "https://localhost:8080/"
        }
      },
      "execution_count": 34,
      "outputs": [
        {
          "output_type": "stream",
          "name": "stdout",
          "text": [
            "Problem size:  21\n",
            "Problem instance:  [1, 1, 1, 1, 1, 1, 1, 1, 1, 1, 1, 1, 1, 1, 1, 1, 1, 1, 1, 1, 22]\n",
            "This instance does not have a solution\n",
            "The program took:  3.2430994510650635  seconds.\n",
            "Wrote profile results to partition_profile.py.lprof\n",
            "Inspect results with:\n",
            "python3 -m line_profiler -rmt \"partition_profile.py.lprof\"\n"
          ]
        }
      ]
    },
    {
      "cell_type": "code",
      "source": [
        "!python3 -m line_profiler -rmt \"partition_profile.py.lprof\""
      ],
      "metadata": {
        "id": "ITHHzzAp-p1Y",
        "outputId": "8043aba9-b91e-4b1a-864c-617b59ab8d95",
        "colab": {
          "base_uri": "https://localhost:8080/"
        }
      },
      "execution_count": 35,
      "outputs": [
        {
          "output_type": "stream",
          "name": "stdout",
          "text": [
            "Timer unit: 1e-06 s\n",
            "\n",
            "Total time: 1.79447 s\n",
            "File: partition_profile.py\n",
            "Function: partition at line 20\n",
            "\n",
            "Line #      Hits         Time  Per Hit   % Time  Line Contents\n",
            "==============================================================\n",
            "    \u001b[1;36m20\u001b[0m                                           \u001b[92;49m@profile\u001b[0m                                           \n",
            "    \u001b[1;36m21\u001b[0m                                           \u001b[96;49mdef\u001b[0m\u001b[97;49m \u001b[0m\u001b[92;49mpartition\u001b[0m\u001b[97;49m(\u001b[0m\u001b[97;49m)\u001b[0m\u001b[97;49m:\u001b[0m                                   \n",
            "    \u001b[1;36m22\u001b[0m         \u001b[1;36m1\u001b[0m          \u001b[1;36m2.8\u001b[0m      \u001b[1;36m2.8\u001b[0m      \u001b[1;36m0.0\u001b[0m  \u001b[97;49m  \u001b[0m\u001b[97;49mstart_time\u001b[0m\u001b[97;49m \u001b[0m\u001b[91;49m=\u001b[0m\u001b[97;49m \u001b[0m\u001b[97;49mtime\u001b[0m\u001b[91;49m.\u001b[0m\u001b[97;49mtime\u001b[0m\u001b[97;49m(\u001b[0m\u001b[97;49m)\u001b[0m                         \n",
            "    \u001b[1;36m23\u001b[0m                                           \u001b[97;49m  \u001b[0m\u001b[37;49m# Read the problem\u001b[0m                               \n",
            "    \u001b[1;36m24\u001b[0m         \u001b[1;36m1\u001b[0m         \u001b[1;36m55.7\u001b[0m     \u001b[1;36m55.7\u001b[0m      \u001b[1;36m0.0\u001b[0m  \u001b[97;49m  \u001b[0m\u001b[97;49mn\u001b[0m\u001b[97;49m \u001b[0m\u001b[91;49m=\u001b[0m\u001b[97;49m \u001b[0m\u001b[97;49mint\u001b[0m\u001b[97;49m(\u001b[0m\u001b[97;49minput\u001b[0m\u001b[97;49m(\u001b[0m\u001b[97;49m)\u001b[0m\u001b[97;49m)\u001b[0m                                 \n",
            "    \u001b[1;36m25\u001b[0m         \u001b[1;36m1\u001b[0m          \u001b[1;36m2.3\u001b[0m      \u001b[1;36m2.3\u001b[0m      \u001b[1;36m0.0\u001b[0m  \u001b[97;49m  \u001b[0m\u001b[97;49mvaluesString\u001b[0m\u001b[97;49m \u001b[0m\u001b[91;49m=\u001b[0m\u001b[97;49m \u001b[0m\u001b[97;49minput\u001b[0m\u001b[97;49m(\u001b[0m\u001b[97;49m)\u001b[0m                           \n",
            "    \u001b[1;36m26\u001b[0m         \u001b[1;36m1\u001b[0m          \u001b[1;36m2.4\u001b[0m      \u001b[1;36m2.4\u001b[0m      \u001b[1;36m0.0\u001b[0m  \u001b[97;49m  \u001b[0m\u001b[97;49mvalues\u001b[0m\u001b[97;49m \u001b[0m\u001b[91;49m=\u001b[0m\u001b[97;49m \u001b[0m\u001b[97;49mvaluesString\u001b[0m\u001b[91;49m.\u001b[0m\u001b[97;49msplit\u001b[0m\u001b[97;49m(\u001b[0m\u001b[97;49m)\u001b[0m                    \n",
            "    \u001b[1;36m27\u001b[0m        \u001b[1;36m22\u001b[0m          \u001b[1;36m7.1\u001b[0m      \u001b[1;36m0.3\u001b[0m      \u001b[1;36m0.0\u001b[0m  \u001b[97;49m  \u001b[0m\u001b[96;49mfor\u001b[0m\u001b[97;49m \u001b[0m\u001b[97;49mi\u001b[0m\u001b[97;49m \u001b[0m\u001b[91;49min\u001b[0m\u001b[97;49m \u001b[0m\u001b[97;49mrange\u001b[0m\u001b[97;49m(\u001b[0m\u001b[97;49mlen\u001b[0m\u001b[97;49m(\u001b[0m\u001b[97;49mvalues\u001b[0m\u001b[97;49m)\u001b[0m\u001b[97;49m)\u001b[0m\u001b[97;49m:\u001b[0m                     \n",
            "    \u001b[1;36m28\u001b[0m        \u001b[1;36m21\u001b[0m         \u001b[1;36m11.1\u001b[0m      \u001b[1;36m0.5\u001b[0m      \u001b[1;36m0.0\u001b[0m  \u001b[97;49m    \u001b[0m\u001b[97;49mvalues\u001b[0m\u001b[97;49m[\u001b[0m\u001b[97;49mi\u001b[0m\u001b[97;49m]\u001b[0m\u001b[97;49m \u001b[0m\u001b[91;49m=\u001b[0m\u001b[97;49m \u001b[0m\u001b[97;49mint\u001b[0m\u001b[97;49m(\u001b[0m\u001b[97;49mvalues\u001b[0m\u001b[97;49m[\u001b[0m\u001b[97;49mi\u001b[0m\u001b[97;49m]\u001b[0m\u001b[97;49m)\u001b[0m                     \n",
            "    \u001b[1;36m29\u001b[0m                                           \u001b[97;49m  \u001b[0m\u001b[37;49m# Print the instance of the problem\u001b[0m              \n",
            "    \u001b[1;36m30\u001b[0m         \u001b[1;36m1\u001b[0m         \u001b[1;36m30.9\u001b[0m     \u001b[1;36m30.9\u001b[0m      \u001b[1;36m0.0\u001b[0m  \u001b[97;49m  \u001b[0m\u001b[97;49mprint\u001b[0m\u001b[97;49m(\u001b[0m\u001b[93;49m\"\u001b[0m\u001b[93;49mProblem size: \u001b[0m\u001b[93;49m\"\u001b[0m\u001b[97;49m,\u001b[0m\u001b[97;49mn\u001b[0m\u001b[97;49m)\u001b[0m                        \n",
            "    \u001b[1;36m31\u001b[0m         \u001b[1;36m1\u001b[0m         \u001b[1;36m12.3\u001b[0m     \u001b[1;36m12.3\u001b[0m      \u001b[1;36m0.0\u001b[0m  \u001b[97;49m  \u001b[0m\u001b[97;49mprint\u001b[0m\u001b[97;49m(\u001b[0m\u001b[93;49m\"\u001b[0m\u001b[93;49mProblem instance: \u001b[0m\u001b[93;49m\"\u001b[0m\u001b[97;49m,\u001b[0m\u001b[97;49mvalues\u001b[0m\u001b[97;49m)\u001b[0m               \n",
            "    \u001b[1;36m32\u001b[0m                                                                                              \n",
            "    \u001b[1;36m33\u001b[0m         \u001b[1;36m1\u001b[0m          \u001b[1;36m1.2\u001b[0m      \u001b[1;36m1.2\u001b[0m      \u001b[1;36m0.0\u001b[0m  \u001b[97;49m  \u001b[0m\u001b[97;49msum_of_numbers\u001b[0m\u001b[97;49m \u001b[0m\u001b[91;49m=\u001b[0m\u001b[97;49m \u001b[0m\u001b[97;49msum\u001b[0m\u001b[97;49m(\u001b[0m\u001b[97;49mvalues\u001b[0m\u001b[97;49m)\u001b[0m                     \n",
            "    \u001b[1;36m34\u001b[0m         \u001b[1;36m1\u001b[0m          \u001b[1;36m0.8\u001b[0m      \u001b[1;36m0.8\u001b[0m      \u001b[1;36m0.0\u001b[0m  \u001b[97;49m  \u001b[0m\u001b[96;49mif\u001b[0m\u001b[97;49m \u001b[0m\u001b[97;49msum_of_numbers\u001b[0m\u001b[97;49m \u001b[0m\u001b[91;49m%\u001b[0m\u001b[97;49m \u001b[0m\u001b[37;49m2\u001b[0m\u001b[97;49m \u001b[0m\u001b[91;49m==\u001b[0m\u001b[97;49m \u001b[0m\u001b[37;49m1\u001b[0m\u001b[97;49m:\u001b[0m                      \n",
            "    \u001b[1;36m35\u001b[0m                                           \u001b[97;49m    \u001b[0m\u001b[97;49mprint\u001b[0m\u001b[97;49m(\u001b[0m\u001b[93;49m\"\u001b[0m\u001b[93;49mThis instance does not have a solution\u001b[0m\u001b[93;49m\"\u001b[0m\u001b[97;49m)\u001b[0m\n",
            "    \u001b[1;36m36\u001b[0m                                           \u001b[97;49m  \u001b[0m\u001b[96;49melse\u001b[0m\u001b[97;49m:\u001b[0m                                            \n",
            "    \u001b[1;36m37\u001b[0m         \u001b[1;36m1\u001b[0m          \u001b[1;36m7.7\u001b[0m      \u001b[1;36m7.7\u001b[0m      \u001b[1;36m0.0\u001b[0m  \u001b[97;49m    \u001b[0m\u001b[97;49mpower_set\u001b[0m\u001b[97;49m \u001b[0m\u001b[91;49m=\u001b[0m\u001b[97;49m \u001b[0m\u001b[97;49mpowerset\u001b[0m\u001b[97;49m(\u001b[0m\u001b[97;49mvalues\u001b[0m\u001b[97;49m)\u001b[0m                   \n",
            "    \u001b[1;36m38\u001b[0m         \u001b[1;36m1\u001b[0m          \u001b[1;36m0.2\u001b[0m      \u001b[1;36m0.2\u001b[0m      \u001b[1;36m0.0\u001b[0m  \u001b[97;49m    \u001b[0m\u001b[97;49msolution_found\u001b[0m\u001b[97;49m \u001b[0m\u001b[91;49m=\u001b[0m\u001b[97;49m \u001b[0m\u001b[96;49mFalse\u001b[0m                         \n",
            "    \u001b[1;36m39\u001b[0m   \u001b[1;36m2097153\u001b[0m     \u001b[1;36m654880.5\u001b[0m      \u001b[1;36m0.3\u001b[0m     \u001b[1;36m36.5\u001b[0m  \u001b[97;49m    \u001b[0m\u001b[96;49mfor\u001b[0m\u001b[97;49m \u001b[0m\u001b[97;49mset\u001b[0m\u001b[97;49m \u001b[0m\u001b[91;49min\u001b[0m\u001b[97;49m \u001b[0m\u001b[97;49mpower_set\u001b[0m\u001b[97;49m:\u001b[0m                          \n",
            "    \u001b[1;36m40\u001b[0m   \u001b[1;36m2097152\u001b[0m    \u001b[1;36m1139389.1\u001b[0m      \u001b[1;36m0.5\u001b[0m     \u001b[1;36m63.5\u001b[0m  \u001b[97;49m      \u001b[0m\u001b[96;49mif\u001b[0m\u001b[97;49m \u001b[0m\u001b[97;49msum\u001b[0m\u001b[97;49m(\u001b[0m\u001b[97;49mset\u001b[0m\u001b[97;49m)\u001b[0m\u001b[97;49m \u001b[0m\u001b[91;49m==\u001b[0m\u001b[97;49m \u001b[0m\u001b[97;49m(\u001b[0m\u001b[97;49msum_of_numbers\u001b[0m\u001b[91;49m/\u001b[0m\u001b[91;49m/\u001b[0m\u001b[37;49m2\u001b[0m\u001b[97;49m)\u001b[0m\u001b[97;49m:\u001b[0m          \n",
            "    \u001b[1;36m41\u001b[0m                                           \u001b[97;49m        \u001b[0m\u001b[97;49mprint\u001b[0m\u001b[97;49m(\u001b[0m\u001b[93;49m\"\u001b[0m\u001b[93;49mSolution found!\u001b[0m\u001b[93;49m\"\u001b[0m\u001b[97;49m)\u001b[0m                   \n",
            "    \u001b[1;36m42\u001b[0m                                           \u001b[97;49m        \u001b[0m\u001b[97;49mprint\u001b[0m\u001b[97;49m(\u001b[0m\u001b[93;49m\"\u001b[0m\u001b[93;49mOne partition contains: \u001b[0m\u001b[93;49m\"\u001b[0m\u001b[97;49m,\u001b[0m\u001b[97;49mset\u001b[0m\u001b[97;49m)\u001b[0m      \n",
            "    \u001b[1;36m43\u001b[0m                                           \u001b[97;49m        \u001b[0m\u001b[97;49msolution_found\u001b[0m\u001b[97;49m \u001b[0m\u001b[91;49m=\u001b[0m\u001b[97;49m \u001b[0m\u001b[96;49mTrue\u001b[0m                      \n",
            "    \u001b[1;36m44\u001b[0m                                           \u001b[97;49m        \u001b[0m\u001b[96;49mbreak\u001b[0m                                      \n",
            "    \u001b[1;36m45\u001b[0m         \u001b[1;36m1\u001b[0m          \u001b[1;36m0.4\u001b[0m      \u001b[1;36m0.4\u001b[0m      \u001b[1;36m0.0\u001b[0m  \u001b[97;49m    \u001b[0m\u001b[96;49mif\u001b[0m\u001b[97;49m \u001b[0m\u001b[97;49msolution_found\u001b[0m\u001b[97;49m \u001b[0m\u001b[91;49m==\u001b[0m\u001b[97;49m \u001b[0m\u001b[96;49mFalse\u001b[0m\u001b[97;49m:\u001b[0m                    \n",
            "    \u001b[1;36m46\u001b[0m         \u001b[1;36m1\u001b[0m         \u001b[1;36m41.7\u001b[0m     \u001b[1;36m41.7\u001b[0m      \u001b[1;36m0.0\u001b[0m  \u001b[97;49m      \u001b[0m\u001b[97;49mprint\u001b[0m\u001b[97;49m(\u001b[0m\u001b[93;49m\"\u001b[0m\u001b[93;49mThis instance does not have a solutio…\u001b[0m\n",
            "    \u001b[1;36m47\u001b[0m                                                                                              \n",
            "    \u001b[1;36m48\u001b[0m         \u001b[1;36m1\u001b[0m          \u001b[1;36m2.6\u001b[0m      \u001b[1;36m2.6\u001b[0m      \u001b[1;36m0.0\u001b[0m  \u001b[97;49m  \u001b[0m\u001b[97;49mend_time\u001b[0m\u001b[97;49m \u001b[0m\u001b[91;49m=\u001b[0m\u001b[97;49m \u001b[0m\u001b[97;49mtime\u001b[0m\u001b[91;49m.\u001b[0m\u001b[97;49mtime\u001b[0m\u001b[97;49m(\u001b[0m\u001b[97;49m)\u001b[0m                           \n",
            "    \u001b[1;36m49\u001b[0m         \u001b[1;36m1\u001b[0m          \u001b[1;36m0.6\u001b[0m      \u001b[1;36m0.6\u001b[0m      \u001b[1;36m0.0\u001b[0m  \u001b[97;49m  \u001b[0m\u001b[97;49melapsed_time\u001b[0m\u001b[97;49m \u001b[0m\u001b[91;49m=\u001b[0m\u001b[97;49m \u001b[0m\u001b[97;49mend_time\u001b[0m\u001b[97;49m \u001b[0m\u001b[91;49m-\u001b[0m\u001b[97;49m \u001b[0m\u001b[97;49mstart_time\u001b[0m             \n",
            "    \u001b[1;36m50\u001b[0m         \u001b[1;36m1\u001b[0m         \u001b[1;36m15.5\u001b[0m     \u001b[1;36m15.5\u001b[0m      \u001b[1;36m0.0\u001b[0m  \u001b[97;49m  \u001b[0m\u001b[97;49mprint\u001b[0m\u001b[97;49m(\u001b[0m\u001b[93;49m\"\u001b[0m\u001b[93;49mThe program took: \u001b[0m\u001b[93;49m\"\u001b[0m\u001b[97;49m,\u001b[0m\u001b[97;49melapsed_time\u001b[0m\u001b[97;49m,\u001b[0m\u001b[93;49m\"\u001b[0m\u001b[93;49m second…\u001b[0m\n",
            "\n",
            "\n",
            "  1.79 seconds - partition_profile.py:20 - partition\n"
          ]
        }
      ]
    },
    {
      "cell_type": "code",
      "source": [
        "!kernprof -l partition_profile.py < instanceNoSolution22.Text\n"
      ],
      "metadata": {
        "id": "8hUmfbtK-skI",
        "outputId": "a2b7e264-10ee-4496-9d79-73f279d58c5d",
        "colab": {
          "base_uri": "https://localhost:8080/"
        }
      },
      "execution_count": 36,
      "outputs": [
        {
          "output_type": "stream",
          "name": "stdout",
          "text": [
            "Problem size:  22\n",
            "Problem instance:  [1, 1, 1, 1, 1, 1, 1, 1, 1, 1, 1, 1, 1, 1, 1, 1, 1, 1, 1, 1, 1, 23]\n",
            "This instance does not have a solution\n",
            "The program took:  6.571919679641724  seconds.\n",
            "Wrote profile results to partition_profile.py.lprof\n",
            "Inspect results with:\n",
            "python3 -m line_profiler -rmt \"partition_profile.py.lprof\"\n"
          ]
        }
      ]
    },
    {
      "cell_type": "code",
      "source": [
        "!python3 -m line_profiler -rmt \"partition_profile.py.lprof\""
      ],
      "metadata": {
        "id": "B74kBEvY-z-C",
        "outputId": "955224a5-94c7-426e-b0c0-9544183df6fb",
        "colab": {
          "base_uri": "https://localhost:8080/"
        }
      },
      "execution_count": 37,
      "outputs": [
        {
          "output_type": "stream",
          "name": "stdout",
          "text": [
            "Timer unit: 1e-06 s\n",
            "\n",
            "Total time: 3.67657 s\n",
            "File: partition_profile.py\n",
            "Function: partition at line 20\n",
            "\n",
            "Line #      Hits         Time  Per Hit   % Time  Line Contents\n",
            "==============================================================\n",
            "    \u001b[1;36m20\u001b[0m                                           \u001b[92;49m@profile\u001b[0m                                           \n",
            "    \u001b[1;36m21\u001b[0m                                           \u001b[96;49mdef\u001b[0m\u001b[97;49m \u001b[0m\u001b[92;49mpartition\u001b[0m\u001b[97;49m(\u001b[0m\u001b[97;49m)\u001b[0m\u001b[97;49m:\u001b[0m                                   \n",
            "    \u001b[1;36m22\u001b[0m         \u001b[1;36m1\u001b[0m          \u001b[1;36m3.0\u001b[0m      \u001b[1;36m3.0\u001b[0m      \u001b[1;36m0.0\u001b[0m  \u001b[97;49m  \u001b[0m\u001b[97;49mstart_time\u001b[0m\u001b[97;49m \u001b[0m\u001b[91;49m=\u001b[0m\u001b[97;49m \u001b[0m\u001b[97;49mtime\u001b[0m\u001b[91;49m.\u001b[0m\u001b[97;49mtime\u001b[0m\u001b[97;49m(\u001b[0m\u001b[97;49m)\u001b[0m                         \n",
            "    \u001b[1;36m23\u001b[0m                                           \u001b[97;49m  \u001b[0m\u001b[37;49m# Read the problem\u001b[0m                               \n",
            "    \u001b[1;36m24\u001b[0m         \u001b[1;36m1\u001b[0m         \u001b[1;36m94.4\u001b[0m     \u001b[1;36m94.4\u001b[0m      \u001b[1;36m0.0\u001b[0m  \u001b[97;49m  \u001b[0m\u001b[97;49mn\u001b[0m\u001b[97;49m \u001b[0m\u001b[91;49m=\u001b[0m\u001b[97;49m \u001b[0m\u001b[97;49mint\u001b[0m\u001b[97;49m(\u001b[0m\u001b[97;49minput\u001b[0m\u001b[97;49m(\u001b[0m\u001b[97;49m)\u001b[0m\u001b[97;49m)\u001b[0m                                 \n",
            "    \u001b[1;36m25\u001b[0m         \u001b[1;36m1\u001b[0m          \u001b[1;36m2.4\u001b[0m      \u001b[1;36m2.4\u001b[0m      \u001b[1;36m0.0\u001b[0m  \u001b[97;49m  \u001b[0m\u001b[97;49mvaluesString\u001b[0m\u001b[97;49m \u001b[0m\u001b[91;49m=\u001b[0m\u001b[97;49m \u001b[0m\u001b[97;49minput\u001b[0m\u001b[97;49m(\u001b[0m\u001b[97;49m)\u001b[0m                           \n",
            "    \u001b[1;36m26\u001b[0m         \u001b[1;36m1\u001b[0m          \u001b[1;36m3.5\u001b[0m      \u001b[1;36m3.5\u001b[0m      \u001b[1;36m0.0\u001b[0m  \u001b[97;49m  \u001b[0m\u001b[97;49mvalues\u001b[0m\u001b[97;49m \u001b[0m\u001b[91;49m=\u001b[0m\u001b[97;49m \u001b[0m\u001b[97;49mvaluesString\u001b[0m\u001b[91;49m.\u001b[0m\u001b[97;49msplit\u001b[0m\u001b[97;49m(\u001b[0m\u001b[97;49m)\u001b[0m                    \n",
            "    \u001b[1;36m27\u001b[0m        \u001b[1;36m23\u001b[0m          \u001b[1;36m7.9\u001b[0m      \u001b[1;36m0.3\u001b[0m      \u001b[1;36m0.0\u001b[0m  \u001b[97;49m  \u001b[0m\u001b[96;49mfor\u001b[0m\u001b[97;49m \u001b[0m\u001b[97;49mi\u001b[0m\u001b[97;49m \u001b[0m\u001b[91;49min\u001b[0m\u001b[97;49m \u001b[0m\u001b[97;49mrange\u001b[0m\u001b[97;49m(\u001b[0m\u001b[97;49mlen\u001b[0m\u001b[97;49m(\u001b[0m\u001b[97;49mvalues\u001b[0m\u001b[97;49m)\u001b[0m\u001b[97;49m)\u001b[0m\u001b[97;49m:\u001b[0m                     \n",
            "    \u001b[1;36m28\u001b[0m        \u001b[1;36m22\u001b[0m         \u001b[1;36m11.6\u001b[0m      \u001b[1;36m0.5\u001b[0m      \u001b[1;36m0.0\u001b[0m  \u001b[97;49m    \u001b[0m\u001b[97;49mvalues\u001b[0m\u001b[97;49m[\u001b[0m\u001b[97;49mi\u001b[0m\u001b[97;49m]\u001b[0m\u001b[97;49m \u001b[0m\u001b[91;49m=\u001b[0m\u001b[97;49m \u001b[0m\u001b[97;49mint\u001b[0m\u001b[97;49m(\u001b[0m\u001b[97;49mvalues\u001b[0m\u001b[97;49m[\u001b[0m\u001b[97;49mi\u001b[0m\u001b[97;49m]\u001b[0m\u001b[97;49m)\u001b[0m                     \n",
            "    \u001b[1;36m29\u001b[0m                                           \u001b[97;49m  \u001b[0m\u001b[37;49m# Print the instance of the problem\u001b[0m              \n",
            "    \u001b[1;36m30\u001b[0m         \u001b[1;36m1\u001b[0m         \u001b[1;36m37.4\u001b[0m     \u001b[1;36m37.4\u001b[0m      \u001b[1;36m0.0\u001b[0m  \u001b[97;49m  \u001b[0m\u001b[97;49mprint\u001b[0m\u001b[97;49m(\u001b[0m\u001b[93;49m\"\u001b[0m\u001b[93;49mProblem size: \u001b[0m\u001b[93;49m\"\u001b[0m\u001b[97;49m,\u001b[0m\u001b[97;49mn\u001b[0m\u001b[97;49m)\u001b[0m                        \n",
            "    \u001b[1;36m31\u001b[0m         \u001b[1;36m1\u001b[0m         \u001b[1;36m13.7\u001b[0m     \u001b[1;36m13.7\u001b[0m      \u001b[1;36m0.0\u001b[0m  \u001b[97;49m  \u001b[0m\u001b[97;49mprint\u001b[0m\u001b[97;49m(\u001b[0m\u001b[93;49m\"\u001b[0m\u001b[93;49mProblem instance: \u001b[0m\u001b[93;49m\"\u001b[0m\u001b[97;49m,\u001b[0m\u001b[97;49mvalues\u001b[0m\u001b[97;49m)\u001b[0m               \n",
            "    \u001b[1;36m32\u001b[0m                                                                                              \n",
            "    \u001b[1;36m33\u001b[0m         \u001b[1;36m1\u001b[0m          \u001b[1;36m1.7\u001b[0m      \u001b[1;36m1.7\u001b[0m      \u001b[1;36m0.0\u001b[0m  \u001b[97;49m  \u001b[0m\u001b[97;49msum_of_numbers\u001b[0m\u001b[97;49m \u001b[0m\u001b[91;49m=\u001b[0m\u001b[97;49m \u001b[0m\u001b[97;49msum\u001b[0m\u001b[97;49m(\u001b[0m\u001b[97;49mvalues\u001b[0m\u001b[97;49m)\u001b[0m                     \n",
            "    \u001b[1;36m34\u001b[0m         \u001b[1;36m1\u001b[0m          \u001b[1;36m0.9\u001b[0m      \u001b[1;36m0.9\u001b[0m      \u001b[1;36m0.0\u001b[0m  \u001b[97;49m  \u001b[0m\u001b[96;49mif\u001b[0m\u001b[97;49m \u001b[0m\u001b[97;49msum_of_numbers\u001b[0m\u001b[97;49m \u001b[0m\u001b[91;49m%\u001b[0m\u001b[97;49m \u001b[0m\u001b[37;49m2\u001b[0m\u001b[97;49m \u001b[0m\u001b[91;49m==\u001b[0m\u001b[97;49m \u001b[0m\u001b[37;49m1\u001b[0m\u001b[97;49m:\u001b[0m                      \n",
            "    \u001b[1;36m35\u001b[0m                                           \u001b[97;49m    \u001b[0m\u001b[97;49mprint\u001b[0m\u001b[97;49m(\u001b[0m\u001b[93;49m\"\u001b[0m\u001b[93;49mThis instance does not have a solution\u001b[0m\u001b[93;49m\"\u001b[0m\u001b[97;49m)\u001b[0m\n",
            "    \u001b[1;36m36\u001b[0m                                           \u001b[97;49m  \u001b[0m\u001b[96;49melse\u001b[0m\u001b[97;49m:\u001b[0m                                            \n",
            "    \u001b[1;36m37\u001b[0m         \u001b[1;36m1\u001b[0m          \u001b[1;36m9.3\u001b[0m      \u001b[1;36m9.3\u001b[0m      \u001b[1;36m0.0\u001b[0m  \u001b[97;49m    \u001b[0m\u001b[97;49mpower_set\u001b[0m\u001b[97;49m \u001b[0m\u001b[91;49m=\u001b[0m\u001b[97;49m \u001b[0m\u001b[97;49mpowerset\u001b[0m\u001b[97;49m(\u001b[0m\u001b[97;49mvalues\u001b[0m\u001b[97;49m)\u001b[0m                   \n",
            "    \u001b[1;36m38\u001b[0m         \u001b[1;36m1\u001b[0m          \u001b[1;36m0.2\u001b[0m      \u001b[1;36m0.2\u001b[0m      \u001b[1;36m0.0\u001b[0m  \u001b[97;49m    \u001b[0m\u001b[97;49msolution_found\u001b[0m\u001b[97;49m \u001b[0m\u001b[91;49m=\u001b[0m\u001b[97;49m \u001b[0m\u001b[96;49mFalse\u001b[0m                         \n",
            "    \u001b[1;36m39\u001b[0m   \u001b[1;36m4194305\u001b[0m    \u001b[1;36m1357562.9\u001b[0m      \u001b[1;36m0.3\u001b[0m     \u001b[1;36m36.9\u001b[0m  \u001b[97;49m    \u001b[0m\u001b[96;49mfor\u001b[0m\u001b[97;49m \u001b[0m\u001b[97;49mset\u001b[0m\u001b[97;49m \u001b[0m\u001b[91;49min\u001b[0m\u001b[97;49m \u001b[0m\u001b[97;49mpower_set\u001b[0m\u001b[97;49m:\u001b[0m                          \n",
            "    \u001b[1;36m40\u001b[0m   \u001b[1;36m4194304\u001b[0m    \u001b[1;36m2318758.1\u001b[0m      \u001b[1;36m0.6\u001b[0m     \u001b[1;36m63.1\u001b[0m  \u001b[97;49m      \u001b[0m\u001b[96;49mif\u001b[0m\u001b[97;49m \u001b[0m\u001b[97;49msum\u001b[0m\u001b[97;49m(\u001b[0m\u001b[97;49mset\u001b[0m\u001b[97;49m)\u001b[0m\u001b[97;49m \u001b[0m\u001b[91;49m==\u001b[0m\u001b[97;49m \u001b[0m\u001b[97;49m(\u001b[0m\u001b[97;49msum_of_numbers\u001b[0m\u001b[91;49m/\u001b[0m\u001b[91;49m/\u001b[0m\u001b[37;49m2\u001b[0m\u001b[97;49m)\u001b[0m\u001b[97;49m:\u001b[0m          \n",
            "    \u001b[1;36m41\u001b[0m                                           \u001b[97;49m        \u001b[0m\u001b[97;49mprint\u001b[0m\u001b[97;49m(\u001b[0m\u001b[93;49m\"\u001b[0m\u001b[93;49mSolution found!\u001b[0m\u001b[93;49m\"\u001b[0m\u001b[97;49m)\u001b[0m                   \n",
            "    \u001b[1;36m42\u001b[0m                                           \u001b[97;49m        \u001b[0m\u001b[97;49mprint\u001b[0m\u001b[97;49m(\u001b[0m\u001b[93;49m\"\u001b[0m\u001b[93;49mOne partition contains: \u001b[0m\u001b[93;49m\"\u001b[0m\u001b[97;49m,\u001b[0m\u001b[97;49mset\u001b[0m\u001b[97;49m)\u001b[0m      \n",
            "    \u001b[1;36m43\u001b[0m                                           \u001b[97;49m        \u001b[0m\u001b[97;49msolution_found\u001b[0m\u001b[97;49m \u001b[0m\u001b[91;49m=\u001b[0m\u001b[97;49m \u001b[0m\u001b[96;49mTrue\u001b[0m                      \n",
            "    \u001b[1;36m44\u001b[0m                                           \u001b[97;49m        \u001b[0m\u001b[96;49mbreak\u001b[0m                                      \n",
            "    \u001b[1;36m45\u001b[0m         \u001b[1;36m1\u001b[0m          \u001b[1;36m0.6\u001b[0m      \u001b[1;36m0.6\u001b[0m      \u001b[1;36m0.0\u001b[0m  \u001b[97;49m    \u001b[0m\u001b[96;49mif\u001b[0m\u001b[97;49m \u001b[0m\u001b[97;49msolution_found\u001b[0m\u001b[97;49m \u001b[0m\u001b[91;49m==\u001b[0m\u001b[97;49m \u001b[0m\u001b[96;49mFalse\u001b[0m\u001b[97;49m:\u001b[0m                    \n",
            "    \u001b[1;36m46\u001b[0m         \u001b[1;36m1\u001b[0m         \u001b[1;36m45.4\u001b[0m     \u001b[1;36m45.4\u001b[0m      \u001b[1;36m0.0\u001b[0m  \u001b[97;49m      \u001b[0m\u001b[97;49mprint\u001b[0m\u001b[97;49m(\u001b[0m\u001b[93;49m\"\u001b[0m\u001b[93;49mThis instance does not have a solutio…\u001b[0m\n",
            "    \u001b[1;36m47\u001b[0m                                                                                              \n",
            "    \u001b[1;36m48\u001b[0m         \u001b[1;36m1\u001b[0m          \u001b[1;36m4.1\u001b[0m      \u001b[1;36m4.1\u001b[0m      \u001b[1;36m0.0\u001b[0m  \u001b[97;49m  \u001b[0m\u001b[97;49mend_time\u001b[0m\u001b[97;49m \u001b[0m\u001b[91;49m=\u001b[0m\u001b[97;49m \u001b[0m\u001b[97;49mtime\u001b[0m\u001b[91;49m.\u001b[0m\u001b[97;49mtime\u001b[0m\u001b[97;49m(\u001b[0m\u001b[97;49m)\u001b[0m                           \n",
            "    \u001b[1;36m49\u001b[0m         \u001b[1;36m1\u001b[0m          \u001b[1;36m0.9\u001b[0m      \u001b[1;36m0.9\u001b[0m      \u001b[1;36m0.0\u001b[0m  \u001b[97;49m  \u001b[0m\u001b[97;49melapsed_time\u001b[0m\u001b[97;49m \u001b[0m\u001b[91;49m=\u001b[0m\u001b[97;49m \u001b[0m\u001b[97;49mend_time\u001b[0m\u001b[97;49m \u001b[0m\u001b[91;49m-\u001b[0m\u001b[97;49m \u001b[0m\u001b[97;49mstart_time\u001b[0m             \n",
            "    \u001b[1;36m50\u001b[0m         \u001b[1;36m1\u001b[0m         \u001b[1;36m16.2\u001b[0m     \u001b[1;36m16.2\u001b[0m      \u001b[1;36m0.0\u001b[0m  \u001b[97;49m  \u001b[0m\u001b[97;49mprint\u001b[0m\u001b[97;49m(\u001b[0m\u001b[93;49m\"\u001b[0m\u001b[93;49mThe program took: \u001b[0m\u001b[93;49m\"\u001b[0m\u001b[97;49m,\u001b[0m\u001b[97;49melapsed_time\u001b[0m\u001b[97;49m,\u001b[0m\u001b[93;49m\"\u001b[0m\u001b[93;49m second…\u001b[0m\n",
            "\n",
            "\n",
            "  3.68 seconds - partition_profile.py:20 - partition\n"
          ]
        }
      ]
    },
    {
      "cell_type": "code",
      "source": [
        "!kernprof -l partition_profile.py < instanceNoSolution23.Text"
      ],
      "metadata": {
        "id": "rtinw6Ia-2a6",
        "outputId": "cc047cc2-3c6a-4409-de5d-614f2a996e96",
        "colab": {
          "base_uri": "https://localhost:8080/"
        }
      },
      "execution_count": 38,
      "outputs": [
        {
          "output_type": "stream",
          "name": "stdout",
          "text": [
            "Problem size:  23\n",
            "Problem instance:  [1, 1, 1, 1, 1, 1, 1, 1, 1, 1, 1, 1, 1, 1, 1, 1, 1, 1, 1, 1, 1, 1, 24]\n",
            "This instance does not have a solution\n",
            "The program took:  14.571056365966797  seconds.\n",
            "Wrote profile results to partition_profile.py.lprof\n",
            "Inspect results with:\n",
            "python3 -m line_profiler -rmt \"partition_profile.py.lprof\"\n"
          ]
        }
      ]
    },
    {
      "cell_type": "code",
      "source": [
        "!python3 -m line_profiler -rmt \"partition_profile.py.lprof\""
      ],
      "metadata": {
        "id": "h-zeTZ25-9Ii",
        "outputId": "8e259563-d605-4760-b031-8f51fb9415c0",
        "colab": {
          "base_uri": "https://localhost:8080/"
        }
      },
      "execution_count": 40,
      "outputs": [
        {
          "output_type": "stream",
          "name": "stdout",
          "text": [
            "Timer unit: 1e-06 s\n",
            "\n",
            "Total time: 8.28146 s\n",
            "File: partition_profile.py\n",
            "Function: partition at line 20\n",
            "\n",
            "Line #      Hits         Time  Per Hit   % Time  Line Contents\n",
            "==============================================================\n",
            "    \u001b[1;36m20\u001b[0m                                           \u001b[92;49m@profile\u001b[0m                                           \n",
            "    \u001b[1;36m21\u001b[0m                                           \u001b[96;49mdef\u001b[0m\u001b[97;49m \u001b[0m\u001b[92;49mpartition\u001b[0m\u001b[97;49m(\u001b[0m\u001b[97;49m)\u001b[0m\u001b[97;49m:\u001b[0m                                   \n",
            "    \u001b[1;36m22\u001b[0m         \u001b[1;36m1\u001b[0m          \u001b[1;36m2.8\u001b[0m      \u001b[1;36m2.8\u001b[0m      \u001b[1;36m0.0\u001b[0m  \u001b[97;49m  \u001b[0m\u001b[97;49mstart_time\u001b[0m\u001b[97;49m \u001b[0m\u001b[91;49m=\u001b[0m\u001b[97;49m \u001b[0m\u001b[97;49mtime\u001b[0m\u001b[91;49m.\u001b[0m\u001b[97;49mtime\u001b[0m\u001b[97;49m(\u001b[0m\u001b[97;49m)\u001b[0m                         \n",
            "    \u001b[1;36m23\u001b[0m                                           \u001b[97;49m  \u001b[0m\u001b[37;49m# Read the problem\u001b[0m                               \n",
            "    \u001b[1;36m24\u001b[0m         \u001b[1;36m1\u001b[0m         \u001b[1;36m57.6\u001b[0m     \u001b[1;36m57.6\u001b[0m      \u001b[1;36m0.0\u001b[0m  \u001b[97;49m  \u001b[0m\u001b[97;49mn\u001b[0m\u001b[97;49m \u001b[0m\u001b[91;49m=\u001b[0m\u001b[97;49m \u001b[0m\u001b[97;49mint\u001b[0m\u001b[97;49m(\u001b[0m\u001b[97;49minput\u001b[0m\u001b[97;49m(\u001b[0m\u001b[97;49m)\u001b[0m\u001b[97;49m)\u001b[0m                                 \n",
            "    \u001b[1;36m25\u001b[0m         \u001b[1;36m1\u001b[0m          \u001b[1;36m2.3\u001b[0m      \u001b[1;36m2.3\u001b[0m      \u001b[1;36m0.0\u001b[0m  \u001b[97;49m  \u001b[0m\u001b[97;49mvaluesString\u001b[0m\u001b[97;49m \u001b[0m\u001b[91;49m=\u001b[0m\u001b[97;49m \u001b[0m\u001b[97;49minput\u001b[0m\u001b[97;49m(\u001b[0m\u001b[97;49m)\u001b[0m                           \n",
            "    \u001b[1;36m26\u001b[0m         \u001b[1;36m1\u001b[0m          \u001b[1;36m2.4\u001b[0m      \u001b[1;36m2.4\u001b[0m      \u001b[1;36m0.0\u001b[0m  \u001b[97;49m  \u001b[0m\u001b[97;49mvalues\u001b[0m\u001b[97;49m \u001b[0m\u001b[91;49m=\u001b[0m\u001b[97;49m \u001b[0m\u001b[97;49mvaluesString\u001b[0m\u001b[91;49m.\u001b[0m\u001b[97;49msplit\u001b[0m\u001b[97;49m(\u001b[0m\u001b[97;49m)\u001b[0m                    \n",
            "    \u001b[1;36m27\u001b[0m        \u001b[1;36m24\u001b[0m          \u001b[1;36m7.6\u001b[0m      \u001b[1;36m0.3\u001b[0m      \u001b[1;36m0.0\u001b[0m  \u001b[97;49m  \u001b[0m\u001b[96;49mfor\u001b[0m\u001b[97;49m \u001b[0m\u001b[97;49mi\u001b[0m\u001b[97;49m \u001b[0m\u001b[91;49min\u001b[0m\u001b[97;49m \u001b[0m\u001b[97;49mrange\u001b[0m\u001b[97;49m(\u001b[0m\u001b[97;49mlen\u001b[0m\u001b[97;49m(\u001b[0m\u001b[97;49mvalues\u001b[0m\u001b[97;49m)\u001b[0m\u001b[97;49m)\u001b[0m\u001b[97;49m:\u001b[0m                     \n",
            "    \u001b[1;36m28\u001b[0m        \u001b[1;36m23\u001b[0m         \u001b[1;36m12.3\u001b[0m      \u001b[1;36m0.5\u001b[0m      \u001b[1;36m0.0\u001b[0m  \u001b[97;49m    \u001b[0m\u001b[97;49mvalues\u001b[0m\u001b[97;49m[\u001b[0m\u001b[97;49mi\u001b[0m\u001b[97;49m]\u001b[0m\u001b[97;49m \u001b[0m\u001b[91;49m=\u001b[0m\u001b[97;49m \u001b[0m\u001b[97;49mint\u001b[0m\u001b[97;49m(\u001b[0m\u001b[97;49mvalues\u001b[0m\u001b[97;49m[\u001b[0m\u001b[97;49mi\u001b[0m\u001b[97;49m]\u001b[0m\u001b[97;49m)\u001b[0m                     \n",
            "    \u001b[1;36m29\u001b[0m                                           \u001b[97;49m  \u001b[0m\u001b[37;49m# Print the instance of the problem\u001b[0m              \n",
            "    \u001b[1;36m30\u001b[0m         \u001b[1;36m1\u001b[0m         \u001b[1;36m33.4\u001b[0m     \u001b[1;36m33.4\u001b[0m      \u001b[1;36m0.0\u001b[0m  \u001b[97;49m  \u001b[0m\u001b[97;49mprint\u001b[0m\u001b[97;49m(\u001b[0m\u001b[93;49m\"\u001b[0m\u001b[93;49mProblem size: \u001b[0m\u001b[93;49m\"\u001b[0m\u001b[97;49m,\u001b[0m\u001b[97;49mn\u001b[0m\u001b[97;49m)\u001b[0m                        \n",
            "    \u001b[1;36m31\u001b[0m         \u001b[1;36m1\u001b[0m         \u001b[1;36m10.9\u001b[0m     \u001b[1;36m10.9\u001b[0m      \u001b[1;36m0.0\u001b[0m  \u001b[97;49m  \u001b[0m\u001b[97;49mprint\u001b[0m\u001b[97;49m(\u001b[0m\u001b[93;49m\"\u001b[0m\u001b[93;49mProblem instance: \u001b[0m\u001b[93;49m\"\u001b[0m\u001b[97;49m,\u001b[0m\u001b[97;49mvalues\u001b[0m\u001b[97;49m)\u001b[0m               \n",
            "    \u001b[1;36m32\u001b[0m                                                                                              \n",
            "    \u001b[1;36m33\u001b[0m         \u001b[1;36m1\u001b[0m          \u001b[1;36m1.7\u001b[0m      \u001b[1;36m1.7\u001b[0m      \u001b[1;36m0.0\u001b[0m  \u001b[97;49m  \u001b[0m\u001b[97;49msum_of_numbers\u001b[0m\u001b[97;49m \u001b[0m\u001b[91;49m=\u001b[0m\u001b[97;49m \u001b[0m\u001b[97;49msum\u001b[0m\u001b[97;49m(\u001b[0m\u001b[97;49mvalues\u001b[0m\u001b[97;49m)\u001b[0m                     \n",
            "    \u001b[1;36m34\u001b[0m         \u001b[1;36m1\u001b[0m          \u001b[1;36m1.0\u001b[0m      \u001b[1;36m1.0\u001b[0m      \u001b[1;36m0.0\u001b[0m  \u001b[97;49m  \u001b[0m\u001b[96;49mif\u001b[0m\u001b[97;49m \u001b[0m\u001b[97;49msum_of_numbers\u001b[0m\u001b[97;49m \u001b[0m\u001b[91;49m%\u001b[0m\u001b[97;49m \u001b[0m\u001b[37;49m2\u001b[0m\u001b[97;49m \u001b[0m\u001b[91;49m==\u001b[0m\u001b[97;49m \u001b[0m\u001b[37;49m1\u001b[0m\u001b[97;49m:\u001b[0m                      \n",
            "    \u001b[1;36m35\u001b[0m                                           \u001b[97;49m    \u001b[0m\u001b[97;49mprint\u001b[0m\u001b[97;49m(\u001b[0m\u001b[93;49m\"\u001b[0m\u001b[93;49mThis instance does not have a solution\u001b[0m\u001b[93;49m\"\u001b[0m\u001b[97;49m)\u001b[0m\n",
            "    \u001b[1;36m36\u001b[0m                                           \u001b[97;49m  \u001b[0m\u001b[96;49melse\u001b[0m\u001b[97;49m:\u001b[0m                                            \n",
            "    \u001b[1;36m37\u001b[0m         \u001b[1;36m1\u001b[0m          \u001b[1;36m8.4\u001b[0m      \u001b[1;36m8.4\u001b[0m      \u001b[1;36m0.0\u001b[0m  \u001b[97;49m    \u001b[0m\u001b[97;49mpower_set\u001b[0m\u001b[97;49m \u001b[0m\u001b[91;49m=\u001b[0m\u001b[97;49m \u001b[0m\u001b[97;49mpowerset\u001b[0m\u001b[97;49m(\u001b[0m\u001b[97;49mvalues\u001b[0m\u001b[97;49m)\u001b[0m                   \n",
            "    \u001b[1;36m38\u001b[0m         \u001b[1;36m1\u001b[0m          \u001b[1;36m0.3\u001b[0m      \u001b[1;36m0.3\u001b[0m      \u001b[1;36m0.0\u001b[0m  \u001b[97;49m    \u001b[0m\u001b[97;49msolution_found\u001b[0m\u001b[97;49m \u001b[0m\u001b[91;49m=\u001b[0m\u001b[97;49m \u001b[0m\u001b[96;49mFalse\u001b[0m                         \n",
            "    \u001b[1;36m39\u001b[0m   \u001b[1;36m8388609\u001b[0m    \u001b[1;36m2993688.8\u001b[0m      \u001b[1;36m0.4\u001b[0m     \u001b[1;36m36.1\u001b[0m  \u001b[97;49m    \u001b[0m\u001b[96;49mfor\u001b[0m\u001b[97;49m \u001b[0m\u001b[97;49mset\u001b[0m\u001b[97;49m \u001b[0m\u001b[91;49min\u001b[0m\u001b[97;49m \u001b[0m\u001b[97;49mpower_set\u001b[0m\u001b[97;49m:\u001b[0m                          \n",
            "    \u001b[1;36m40\u001b[0m   \u001b[1;36m8388608\u001b[0m    \u001b[1;36m5287555.8\u001b[0m      \u001b[1;36m0.6\u001b[0m     \u001b[1;36m63.8\u001b[0m  \u001b[97;49m      \u001b[0m\u001b[96;49mif\u001b[0m\u001b[97;49m \u001b[0m\u001b[97;49msum\u001b[0m\u001b[97;49m(\u001b[0m\u001b[97;49mset\u001b[0m\u001b[97;49m)\u001b[0m\u001b[97;49m \u001b[0m\u001b[91;49m==\u001b[0m\u001b[97;49m \u001b[0m\u001b[97;49m(\u001b[0m\u001b[97;49msum_of_numbers\u001b[0m\u001b[91;49m/\u001b[0m\u001b[91;49m/\u001b[0m\u001b[37;49m2\u001b[0m\u001b[97;49m)\u001b[0m\u001b[97;49m:\u001b[0m          \n",
            "    \u001b[1;36m41\u001b[0m                                           \u001b[97;49m        \u001b[0m\u001b[97;49mprint\u001b[0m\u001b[97;49m(\u001b[0m\u001b[93;49m\"\u001b[0m\u001b[93;49mSolution found!\u001b[0m\u001b[93;49m\"\u001b[0m\u001b[97;49m)\u001b[0m                   \n",
            "    \u001b[1;36m42\u001b[0m                                           \u001b[97;49m        \u001b[0m\u001b[97;49mprint\u001b[0m\u001b[97;49m(\u001b[0m\u001b[93;49m\"\u001b[0m\u001b[93;49mOne partition contains: \u001b[0m\u001b[93;49m\"\u001b[0m\u001b[97;49m,\u001b[0m\u001b[97;49mset\u001b[0m\u001b[97;49m)\u001b[0m      \n",
            "    \u001b[1;36m43\u001b[0m                                           \u001b[97;49m        \u001b[0m\u001b[97;49msolution_found\u001b[0m\u001b[97;49m \u001b[0m\u001b[91;49m=\u001b[0m\u001b[97;49m \u001b[0m\u001b[96;49mTrue\u001b[0m                      \n",
            "    \u001b[1;36m44\u001b[0m                                           \u001b[97;49m        \u001b[0m\u001b[96;49mbreak\u001b[0m                                      \n",
            "    \u001b[1;36m45\u001b[0m         \u001b[1;36m1\u001b[0m          \u001b[1;36m0.7\u001b[0m      \u001b[1;36m0.7\u001b[0m      \u001b[1;36m0.0\u001b[0m  \u001b[97;49m    \u001b[0m\u001b[96;49mif\u001b[0m\u001b[97;49m \u001b[0m\u001b[97;49msolution_found\u001b[0m\u001b[97;49m \u001b[0m\u001b[91;49m==\u001b[0m\u001b[97;49m \u001b[0m\u001b[96;49mFalse\u001b[0m\u001b[97;49m:\u001b[0m                    \n",
            "    \u001b[1;36m46\u001b[0m         \u001b[1;36m1\u001b[0m         \u001b[1;36m47.0\u001b[0m     \u001b[1;36m47.0\u001b[0m      \u001b[1;36m0.0\u001b[0m  \u001b[97;49m      \u001b[0m\u001b[97;49mprint\u001b[0m\u001b[97;49m(\u001b[0m\u001b[93;49m\"\u001b[0m\u001b[93;49mThis instance does not have a solutio…\u001b[0m\n",
            "    \u001b[1;36m47\u001b[0m                                                                                              \n",
            "    \u001b[1;36m48\u001b[0m         \u001b[1;36m1\u001b[0m          \u001b[1;36m4.0\u001b[0m      \u001b[1;36m4.0\u001b[0m      \u001b[1;36m0.0\u001b[0m  \u001b[97;49m  \u001b[0m\u001b[97;49mend_time\u001b[0m\u001b[97;49m \u001b[0m\u001b[91;49m=\u001b[0m\u001b[97;49m \u001b[0m\u001b[97;49mtime\u001b[0m\u001b[91;49m.\u001b[0m\u001b[97;49mtime\u001b[0m\u001b[97;49m(\u001b[0m\u001b[97;49m)\u001b[0m                           \n",
            "    \u001b[1;36m49\u001b[0m         \u001b[1;36m1\u001b[0m          \u001b[1;36m0.8\u001b[0m      \u001b[1;36m0.8\u001b[0m      \u001b[1;36m0.0\u001b[0m  \u001b[97;49m  \u001b[0m\u001b[97;49melapsed_time\u001b[0m\u001b[97;49m \u001b[0m\u001b[91;49m=\u001b[0m\u001b[97;49m \u001b[0m\u001b[97;49mend_time\u001b[0m\u001b[97;49m \u001b[0m\u001b[91;49m-\u001b[0m\u001b[97;49m \u001b[0m\u001b[97;49mstart_time\u001b[0m             \n",
            "    \u001b[1;36m50\u001b[0m         \u001b[1;36m1\u001b[0m         \u001b[1;36m23.5\u001b[0m     \u001b[1;36m23.5\u001b[0m      \u001b[1;36m0.0\u001b[0m  \u001b[97;49m  \u001b[0m\u001b[97;49mprint\u001b[0m\u001b[97;49m(\u001b[0m\u001b[93;49m\"\u001b[0m\u001b[93;49mThe program took: \u001b[0m\u001b[93;49m\"\u001b[0m\u001b[97;49m,\u001b[0m\u001b[97;49melapsed_time\u001b[0m\u001b[97;49m,\u001b[0m\u001b[93;49m\"\u001b[0m\u001b[93;49m second…\u001b[0m\n",
            "\n",
            "\n",
            "  8.28 seconds - partition_profile.py:20 - partition\n"
          ]
        }
      ]
    },
    {
      "cell_type": "code",
      "source": [
        "!kernprof -l partition_profile.py < instanceNoSolution24.Text"
      ],
      "metadata": {
        "id": "-ldUIPM5_CRu",
        "outputId": "7016b318-a5d7-4528-a6cd-58f89fe80e84",
        "colab": {
          "base_uri": "https://localhost:8080/"
        }
      },
      "execution_count": 41,
      "outputs": [
        {
          "output_type": "stream",
          "name": "stdout",
          "text": [
            "Problem size:  24\n",
            "Problem instance:  [1, 1, 1, 1, 1, 1, 1, 1, 1, 1, 1, 1, 1, 1, 1, 1, 1, 1, 1, 1, 1, 1, 1, 25]\n",
            "This instance does not have a solution\n",
            "The program took:  27.954240798950195  seconds.\n",
            "Wrote profile results to partition_profile.py.lprof\n",
            "Inspect results with:\n",
            "python3 -m line_profiler -rmt \"partition_profile.py.lprof\"\n"
          ]
        }
      ]
    },
    {
      "cell_type": "code",
      "source": [
        "!python3 -m line_profiler -rmt \"partition_profile.py.lprof\""
      ],
      "metadata": {
        "id": "fgLxqVt0_T3a",
        "outputId": "610b28dc-fde3-4846-d0fc-0a0e9a31a42f",
        "colab": {
          "base_uri": "https://localhost:8080/"
        }
      },
      "execution_count": 42,
      "outputs": [
        {
          "output_type": "stream",
          "name": "stdout",
          "text": [
            "Timer unit: 1e-06 s\n",
            "\n",
            "Total time: 15.7748 s\n",
            "File: partition_profile.py\n",
            "Function: partition at line 20\n",
            "\n",
            "Line #      Hits         Time  Per Hit   % Time  Line Contents\n",
            "==============================================================\n",
            "    \u001b[1;36m20\u001b[0m                                           \u001b[92;49m@profile\u001b[0m                                           \n",
            "    \u001b[1;36m21\u001b[0m                                           \u001b[96;49mdef\u001b[0m\u001b[97;49m \u001b[0m\u001b[92;49mpartition\u001b[0m\u001b[97;49m(\u001b[0m\u001b[97;49m)\u001b[0m\u001b[97;49m:\u001b[0m                                   \n",
            "    \u001b[1;36m22\u001b[0m         \u001b[1;36m1\u001b[0m          \u001b[1;36m3.2\u001b[0m      \u001b[1;36m3.2\u001b[0m      \u001b[1;36m0.0\u001b[0m  \u001b[97;49m  \u001b[0m\u001b[97;49mstart_time\u001b[0m\u001b[97;49m \u001b[0m\u001b[91;49m=\u001b[0m\u001b[97;49m \u001b[0m\u001b[97;49mtime\u001b[0m\u001b[91;49m.\u001b[0m\u001b[97;49mtime\u001b[0m\u001b[97;49m(\u001b[0m\u001b[97;49m)\u001b[0m                         \n",
            "    \u001b[1;36m23\u001b[0m                                           \u001b[97;49m  \u001b[0m\u001b[37;49m# Read the problem\u001b[0m                               \n",
            "    \u001b[1;36m24\u001b[0m         \u001b[1;36m1\u001b[0m         \u001b[1;36m77.2\u001b[0m     \u001b[1;36m77.2\u001b[0m      \u001b[1;36m0.0\u001b[0m  \u001b[97;49m  \u001b[0m\u001b[97;49mn\u001b[0m\u001b[97;49m \u001b[0m\u001b[91;49m=\u001b[0m\u001b[97;49m \u001b[0m\u001b[97;49mint\u001b[0m\u001b[97;49m(\u001b[0m\u001b[97;49minput\u001b[0m\u001b[97;49m(\u001b[0m\u001b[97;49m)\u001b[0m\u001b[97;49m)\u001b[0m                                 \n",
            "    \u001b[1;36m25\u001b[0m         \u001b[1;36m1\u001b[0m          \u001b[1;36m4.6\u001b[0m      \u001b[1;36m4.6\u001b[0m      \u001b[1;36m0.0\u001b[0m  \u001b[97;49m  \u001b[0m\u001b[97;49mvaluesString\u001b[0m\u001b[97;49m \u001b[0m\u001b[91;49m=\u001b[0m\u001b[97;49m \u001b[0m\u001b[97;49minput\u001b[0m\u001b[97;49m(\u001b[0m\u001b[97;49m)\u001b[0m                           \n",
            "    \u001b[1;36m26\u001b[0m         \u001b[1;36m1\u001b[0m          \u001b[1;36m3.5\u001b[0m      \u001b[1;36m3.5\u001b[0m      \u001b[1;36m0.0\u001b[0m  \u001b[97;49m  \u001b[0m\u001b[97;49mvalues\u001b[0m\u001b[97;49m \u001b[0m\u001b[91;49m=\u001b[0m\u001b[97;49m \u001b[0m\u001b[97;49mvaluesString\u001b[0m\u001b[91;49m.\u001b[0m\u001b[97;49msplit\u001b[0m\u001b[97;49m(\u001b[0m\u001b[97;49m)\u001b[0m                    \n",
            "    \u001b[1;36m27\u001b[0m        \u001b[1;36m25\u001b[0m         \u001b[1;36m12.0\u001b[0m      \u001b[1;36m0.5\u001b[0m      \u001b[1;36m0.0\u001b[0m  \u001b[97;49m  \u001b[0m\u001b[96;49mfor\u001b[0m\u001b[97;49m \u001b[0m\u001b[97;49mi\u001b[0m\u001b[97;49m \u001b[0m\u001b[91;49min\u001b[0m\u001b[97;49m \u001b[0m\u001b[97;49mrange\u001b[0m\u001b[97;49m(\u001b[0m\u001b[97;49mlen\u001b[0m\u001b[97;49m(\u001b[0m\u001b[97;49mvalues\u001b[0m\u001b[97;49m)\u001b[0m\u001b[97;49m)\u001b[0m\u001b[97;49m:\u001b[0m                     \n",
            "    \u001b[1;36m28\u001b[0m        \u001b[1;36m24\u001b[0m         \u001b[1;36m20.0\u001b[0m      \u001b[1;36m0.8\u001b[0m      \u001b[1;36m0.0\u001b[0m  \u001b[97;49m    \u001b[0m\u001b[97;49mvalues\u001b[0m\u001b[97;49m[\u001b[0m\u001b[97;49mi\u001b[0m\u001b[97;49m]\u001b[0m\u001b[97;49m \u001b[0m\u001b[91;49m=\u001b[0m\u001b[97;49m \u001b[0m\u001b[97;49mint\u001b[0m\u001b[97;49m(\u001b[0m\u001b[97;49mvalues\u001b[0m\u001b[97;49m[\u001b[0m\u001b[97;49mi\u001b[0m\u001b[97;49m]\u001b[0m\u001b[97;49m)\u001b[0m                     \n",
            "    \u001b[1;36m29\u001b[0m                                           \u001b[97;49m  \u001b[0m\u001b[37;49m# Print the instance of the problem\u001b[0m              \n",
            "    \u001b[1;36m30\u001b[0m         \u001b[1;36m1\u001b[0m         \u001b[1;36m37.9\u001b[0m     \u001b[1;36m37.9\u001b[0m      \u001b[1;36m0.0\u001b[0m  \u001b[97;49m  \u001b[0m\u001b[97;49mprint\u001b[0m\u001b[97;49m(\u001b[0m\u001b[93;49m\"\u001b[0m\u001b[93;49mProblem size: \u001b[0m\u001b[93;49m\"\u001b[0m\u001b[97;49m,\u001b[0m\u001b[97;49mn\u001b[0m\u001b[97;49m)\u001b[0m                        \n",
            "    \u001b[1;36m31\u001b[0m         \u001b[1;36m1\u001b[0m         \u001b[1;36m18.1\u001b[0m     \u001b[1;36m18.1\u001b[0m      \u001b[1;36m0.0\u001b[0m  \u001b[97;49m  \u001b[0m\u001b[97;49mprint\u001b[0m\u001b[97;49m(\u001b[0m\u001b[93;49m\"\u001b[0m\u001b[93;49mProblem instance: \u001b[0m\u001b[93;49m\"\u001b[0m\u001b[97;49m,\u001b[0m\u001b[97;49mvalues\u001b[0m\u001b[97;49m)\u001b[0m               \n",
            "    \u001b[1;36m32\u001b[0m                                                                                              \n",
            "    \u001b[1;36m33\u001b[0m         \u001b[1;36m1\u001b[0m          \u001b[1;36m2.2\u001b[0m      \u001b[1;36m2.2\u001b[0m      \u001b[1;36m0.0\u001b[0m  \u001b[97;49m  \u001b[0m\u001b[97;49msum_of_numbers\u001b[0m\u001b[97;49m \u001b[0m\u001b[91;49m=\u001b[0m\u001b[97;49m \u001b[0m\u001b[97;49msum\u001b[0m\u001b[97;49m(\u001b[0m\u001b[97;49mvalues\u001b[0m\u001b[97;49m)\u001b[0m                     \n",
            "    \u001b[1;36m34\u001b[0m         \u001b[1;36m1\u001b[0m          \u001b[1;36m1.0\u001b[0m      \u001b[1;36m1.0\u001b[0m      \u001b[1;36m0.0\u001b[0m  \u001b[97;49m  \u001b[0m\u001b[96;49mif\u001b[0m\u001b[97;49m \u001b[0m\u001b[97;49msum_of_numbers\u001b[0m\u001b[97;49m \u001b[0m\u001b[91;49m%\u001b[0m\u001b[97;49m \u001b[0m\u001b[37;49m2\u001b[0m\u001b[97;49m \u001b[0m\u001b[91;49m==\u001b[0m\u001b[97;49m \u001b[0m\u001b[37;49m1\u001b[0m\u001b[97;49m:\u001b[0m                      \n",
            "    \u001b[1;36m35\u001b[0m                                           \u001b[97;49m    \u001b[0m\u001b[97;49mprint\u001b[0m\u001b[97;49m(\u001b[0m\u001b[93;49m\"\u001b[0m\u001b[93;49mThis instance does not have a solution\u001b[0m\u001b[93;49m\"\u001b[0m\u001b[97;49m)\u001b[0m\n",
            "    \u001b[1;36m36\u001b[0m                                           \u001b[97;49m  \u001b[0m\u001b[96;49melse\u001b[0m\u001b[97;49m:\u001b[0m                                            \n",
            "    \u001b[1;36m37\u001b[0m         \u001b[1;36m1\u001b[0m         \u001b[1;36m10.3\u001b[0m     \u001b[1;36m10.3\u001b[0m      \u001b[1;36m0.0\u001b[0m  \u001b[97;49m    \u001b[0m\u001b[97;49mpower_set\u001b[0m\u001b[97;49m \u001b[0m\u001b[91;49m=\u001b[0m\u001b[97;49m \u001b[0m\u001b[97;49mpowerset\u001b[0m\u001b[97;49m(\u001b[0m\u001b[97;49mvalues\u001b[0m\u001b[97;49m)\u001b[0m                   \n",
            "    \u001b[1;36m38\u001b[0m         \u001b[1;36m1\u001b[0m          \u001b[1;36m0.3\u001b[0m      \u001b[1;36m0.3\u001b[0m      \u001b[1;36m0.0\u001b[0m  \u001b[97;49m    \u001b[0m\u001b[97;49msolution_found\u001b[0m\u001b[97;49m \u001b[0m\u001b[91;49m=\u001b[0m\u001b[97;49m \u001b[0m\u001b[96;49mFalse\u001b[0m                         \n",
            "    \u001b[1;36m39\u001b[0m  \u001b[1;36m16777217\u001b[0m    \u001b[1;36m5661440.1\u001b[0m      \u001b[1;36m0.3\u001b[0m     \u001b[1;36m35.9\u001b[0m  \u001b[97;49m    \u001b[0m\u001b[96;49mfor\u001b[0m\u001b[97;49m \u001b[0m\u001b[97;49mset\u001b[0m\u001b[97;49m \u001b[0m\u001b[91;49min\u001b[0m\u001b[97;49m \u001b[0m\u001b[97;49mpower_set\u001b[0m\u001b[97;49m:\u001b[0m                          \n",
            "    \u001b[1;36m40\u001b[0m  \u001b[1;36m16777216\u001b[0m   \u001b[1;36m10113074.3\u001b[0m      \u001b[1;36m0.6\u001b[0m     \u001b[1;36m64.1\u001b[0m  \u001b[97;49m      \u001b[0m\u001b[96;49mif\u001b[0m\u001b[97;49m \u001b[0m\u001b[97;49msum\u001b[0m\u001b[97;49m(\u001b[0m\u001b[97;49mset\u001b[0m\u001b[97;49m)\u001b[0m\u001b[97;49m \u001b[0m\u001b[91;49m==\u001b[0m\u001b[97;49m \u001b[0m\u001b[97;49m(\u001b[0m\u001b[97;49msum_of_numbers\u001b[0m\u001b[91;49m/\u001b[0m\u001b[91;49m/\u001b[0m\u001b[37;49m2\u001b[0m\u001b[97;49m)\u001b[0m\u001b[97;49m:\u001b[0m          \n",
            "    \u001b[1;36m41\u001b[0m                                           \u001b[97;49m        \u001b[0m\u001b[97;49mprint\u001b[0m\u001b[97;49m(\u001b[0m\u001b[93;49m\"\u001b[0m\u001b[93;49mSolution found!\u001b[0m\u001b[93;49m\"\u001b[0m\u001b[97;49m)\u001b[0m                   \n",
            "    \u001b[1;36m42\u001b[0m                                           \u001b[97;49m        \u001b[0m\u001b[97;49mprint\u001b[0m\u001b[97;49m(\u001b[0m\u001b[93;49m\"\u001b[0m\u001b[93;49mOne partition contains: \u001b[0m\u001b[93;49m\"\u001b[0m\u001b[97;49m,\u001b[0m\u001b[97;49mset\u001b[0m\u001b[97;49m)\u001b[0m      \n",
            "    \u001b[1;36m43\u001b[0m                                           \u001b[97;49m        \u001b[0m\u001b[97;49msolution_found\u001b[0m\u001b[97;49m \u001b[0m\u001b[91;49m=\u001b[0m\u001b[97;49m \u001b[0m\u001b[96;49mTrue\u001b[0m                      \n",
            "    \u001b[1;36m44\u001b[0m                                           \u001b[97;49m        \u001b[0m\u001b[96;49mbreak\u001b[0m                                      \n",
            "    \u001b[1;36m45\u001b[0m         \u001b[1;36m1\u001b[0m          \u001b[1;36m0.5\u001b[0m      \u001b[1;36m0.5\u001b[0m      \u001b[1;36m0.0\u001b[0m  \u001b[97;49m    \u001b[0m\u001b[96;49mif\u001b[0m\u001b[97;49m \u001b[0m\u001b[97;49msolution_found\u001b[0m\u001b[97;49m \u001b[0m\u001b[91;49m==\u001b[0m\u001b[97;49m \u001b[0m\u001b[96;49mFalse\u001b[0m\u001b[97;49m:\u001b[0m                    \n",
            "    \u001b[1;36m46\u001b[0m         \u001b[1;36m1\u001b[0m         \u001b[1;36m47.3\u001b[0m     \u001b[1;36m47.3\u001b[0m      \u001b[1;36m0.0\u001b[0m  \u001b[97;49m      \u001b[0m\u001b[97;49mprint\u001b[0m\u001b[97;49m(\u001b[0m\u001b[93;49m\"\u001b[0m\u001b[93;49mThis instance does not have a solutio…\u001b[0m\n",
            "    \u001b[1;36m47\u001b[0m                                                                                              \n",
            "    \u001b[1;36m48\u001b[0m         \u001b[1;36m1\u001b[0m          \u001b[1;36m2.9\u001b[0m      \u001b[1;36m2.9\u001b[0m      \u001b[1;36m0.0\u001b[0m  \u001b[97;49m  \u001b[0m\u001b[97;49mend_time\u001b[0m\u001b[97;49m \u001b[0m\u001b[91;49m=\u001b[0m\u001b[97;49m \u001b[0m\u001b[97;49mtime\u001b[0m\u001b[91;49m.\u001b[0m\u001b[97;49mtime\u001b[0m\u001b[97;49m(\u001b[0m\u001b[97;49m)\u001b[0m                           \n",
            "    \u001b[1;36m49\u001b[0m         \u001b[1;36m1\u001b[0m          \u001b[1;36m0.7\u001b[0m      \u001b[1;36m0.7\u001b[0m      \u001b[1;36m0.0\u001b[0m  \u001b[97;49m  \u001b[0m\u001b[97;49melapsed_time\u001b[0m\u001b[97;49m \u001b[0m\u001b[91;49m=\u001b[0m\u001b[97;49m \u001b[0m\u001b[97;49mend_time\u001b[0m\u001b[97;49m \u001b[0m\u001b[91;49m-\u001b[0m\u001b[97;49m \u001b[0m\u001b[97;49mstart_time\u001b[0m             \n",
            "    \u001b[1;36m50\u001b[0m         \u001b[1;36m1\u001b[0m         \u001b[1;36m16.1\u001b[0m     \u001b[1;36m16.1\u001b[0m      \u001b[1;36m0.0\u001b[0m  \u001b[97;49m  \u001b[0m\u001b[97;49mprint\u001b[0m\u001b[97;49m(\u001b[0m\u001b[93;49m\"\u001b[0m\u001b[93;49mThe program took: \u001b[0m\u001b[93;49m\"\u001b[0m\u001b[97;49m,\u001b[0m\u001b[97;49melapsed_time\u001b[0m\u001b[97;49m,\u001b[0m\u001b[93;49m\"\u001b[0m\u001b[93;49m second…\u001b[0m\n",
            "\n",
            "\n",
            " 15.77 seconds - partition_profile.py:20 - partition\n"
          ]
        }
      ]
    }
  ]
}